{
 "cells": [
  {
   "cell_type": "code",
   "execution_count": 1,
   "metadata": {
    "collapsed": true
   },
   "outputs": [],
   "source": [
    "import numpy as np\n",
    "\n",
    "class Vector:\n",
    "    def __init__(self, _x = 0.0, _y = 0.0, _z = 0.0):\n",
    "        self.x = _x\n",
    "        self.y = _y\n",
    "        self.z = _z\n",
    "\n",
    "    def __str__(self) -> str:\n",
    "        return f'x: {self.x}, y: {self.y}, z: {self.z}'\n",
    "\n",
    "    def __add__(self, other):\n",
    "        left = self\n",
    "        right = other\n",
    "        return Vector(left.x+right.x, left.y+right.y, left.z+right.z)\n",
    "\n",
    "    def length(self):\n",
    "        return (self.x**2 + self.y**2 + self.z**2) ** 0.5\n",
    "\n",
    "    def dir(self):\n",
    "        return self.x/self.length, self.y/self.length(), self.z/self.length()\n",
    "\n",
    "    def dot(self, other):\n",
    "        return self.x*other.x + self.y*other.y + self.z*other.z\n",
    "\n",
    "    def cross(self, other):\n",
    "        return Vector(self.y*other.z - self.z*other.y,\n",
    "                      self.z*other.x - self.x*other.z,\n",
    "                      self.x*other.y - self.y*other.x)\n",
    "\n",
    "    def cosdgree(self, other):"
   ]
  },
  {
   "cell_type": "code",
   "execution_count": 6,
   "outputs": [
    {
     "name": "stdout",
     "output_type": "stream",
     "text": [
      "3.7416573867739413 3.7416573867739413\n"
     ]
    }
   ],
   "source": [
    "vec1 = Vector(1,2,3)\n",
    "\n",
    "print(np.linalg.norm((1,2,3)), vec1.length())"
   ],
   "metadata": {
    "collapsed": false,
    "pycharm": {
     "name": "#%%\n"
    }
   }
  },
  {
   "cell_type": "code",
   "execution_count": null,
   "outputs": [],
   "source": [],
   "metadata": {
    "collapsed": false,
    "pycharm": {
     "name": "#%%\n"
    }
   }
  }
 ],
 "metadata": {
  "kernelspec": {
   "display_name": "Python 3",
   "language": "python",
   "name": "python3"
  },
  "language_info": {
   "codemirror_mode": {
    "name": "ipython",
    "version": 2
   },
   "file_extension": ".py",
   "mimetype": "text/x-python",
   "name": "python",
   "nbconvert_exporter": "python",
   "pygments_lexer": "ipython2",
   "version": "2.7.6"
  }
 },
 "nbformat": 4,
 "nbformat_minor": 0
}