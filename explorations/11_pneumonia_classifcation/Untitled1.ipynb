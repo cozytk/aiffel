{
 "cells": [
  {
   "cell_type": "markdown",
   "id": "personal-anaheim",
   "metadata": {},
   "source": [
    "### 과정\n",
    "\n",
    "1. 데이터 전처리\n",
    "2. 모델 학습\n",
    "3. 모델 평가\n",
    "4. 데이터 시각화"
   ]
  },
  {
   "cell_type": "code",
   "execution_count": 51,
   "id": "located-amplifier",
   "metadata": {},
   "outputs": [],
   "source": [
    "import os, re\n",
    "import random, math\n",
    "import tensorflow as tf\n",
    "import matplotlib.pyplot as plt\n",
    "import numpy as np\n",
    "import warnings\n",
    "warnings.filterwarnings(action='ignore')"
   ]
  },
  {
   "cell_type": "code",
   "execution_count": 52,
   "id": "fewer-satellite",
   "metadata": {},
   "outputs": [
    {
     "data": {
      "text/plain": [
       "'/aiffel/aiffel/chest_xray/data/train/*/*'"
      ]
     },
     "execution_count": 52,
     "metadata": {},
     "output_type": "execute_result"
    }
   ],
   "source": [
    "PATH = os.path.join(os.getenv('HOME'), 'aiffel')\n",
    "PATH\n",
    "\n",
    "TRAIN_PATH = os.path.join(PATH, 'chest_xray/data/train/*/*')\n",
    "TRAIN_PATH"
   ]
  },
  {
   "cell_type": "code",
   "execution_count": 53,
   "id": "dying-chapter",
   "metadata": {},
   "outputs": [],
   "source": [
    "VAL_PATH = os.path.join(PATH, 'chest_xray/data/val/*/*')\n",
    "TEST_PATH = os.path.join(PATH, 'chest_xray/data/test/*/*')"
   ]
  },
  {
   "cell_type": "code",
   "execution_count": 54,
   "id": "minus-holly",
   "metadata": {},
   "outputs": [],
   "source": [
    "BATCH_SIZE = 16\n",
    "EPOCHS = 10"
   ]
  },
  {
   "cell_type": "code",
   "execution_count": 55,
   "id": "unlikely-christmas",
   "metadata": {},
   "outputs": [
    {
     "data": {
      "text/plain": [
       "['/aiffel/aiffel/chest_xray/data/train/NORMAL/IM-0704-0001.jpeg',\n",
       " '/aiffel/aiffel/chest_xray/data/train/NORMAL/IM-0721-0001.jpeg',\n",
       " '/aiffel/aiffel/chest_xray/data/train/NORMAL/IM-0371-0001.jpeg',\n",
       " '/aiffel/aiffel/chest_xray/data/train/NORMAL/NORMAL2-IM-0552-0001.jpeg',\n",
       " '/aiffel/aiffel/chest_xray/data/train/NORMAL/NORMAL2-IM-1250-0001.jpeg']"
      ]
     },
     "execution_count": 55,
     "metadata": {},
     "output_type": "execute_result"
    }
   ],
   "source": [
    "train_filenames = tf.io.gfile.glob(TRAIN_PATH)\n",
    "train_filenames[:5]"
   ]
  },
  {
   "cell_type": "code",
   "execution_count": 56,
   "id": "forward-loading",
   "metadata": {},
   "outputs": [],
   "source": [
    "val_filenames = tf.io.gfile.glob(VAL_PATH)\n",
    "test_filenames = tf.io.gfile.glob(TEST_PATH)"
   ]
  },
  {
   "cell_type": "code",
   "execution_count": 57,
   "id": "civic-involvement",
   "metadata": {},
   "outputs": [
    {
     "name": "stdout",
     "output_type": "stream",
     "text": [
      "5216\n",
      "624\n",
      "16\n"
     ]
    }
   ],
   "source": [
    "print(len(train_filenames))\n",
    "print(len(test_filenames))\n",
    "print(len(val_filenames))"
   ]
  },
  {
   "cell_type": "code",
   "execution_count": 58,
   "id": "developed-roulette",
   "metadata": {},
   "outputs": [],
   "source": [
    "temp_filenames = train_filenames + test_filenames"
   ]
  },
  {
   "cell_type": "code",
   "execution_count": 59,
   "id": "accessory-management",
   "metadata": {},
   "outputs": [
    {
     "data": {
      "text/plain": [
       "['/aiffel/aiffel/chest_xray/data/train/NORMAL/IM-0704-0001.jpeg',\n",
       " '/aiffel/aiffel/chest_xray/data/train/NORMAL/IM-0721-0001.jpeg',\n",
       " '/aiffel/aiffel/chest_xray/data/train/NORMAL/IM-0371-0001.jpeg',\n",
       " '/aiffel/aiffel/chest_xray/data/train/NORMAL/NORMAL2-IM-0552-0001.jpeg',\n",
       " '/aiffel/aiffel/chest_xray/data/train/NORMAL/NORMAL2-IM-1250-0001.jpeg']"
      ]
     },
     "execution_count": 59,
     "metadata": {},
     "output_type": "execute_result"
    }
   ],
   "source": [
    "temp_filenames[:5]"
   ]
  },
  {
   "cell_type": "code",
   "execution_count": 23,
   "id": "quality-relaxation",
   "metadata": {},
   "outputs": [
    {
     "data": {
      "text/plain": [
       "['/aiffel/aiffel/chest_xray/data/test/PNEUMONIA/person126_bacteria_598.jpeg',\n",
       " '/aiffel/aiffel/chest_xray/data/test/PNEUMONIA/person120_bacteria_573.jpeg',\n",
       " '/aiffel/aiffel/chest_xray/data/test/PNEUMONIA/person1679_virus_2896.jpeg',\n",
       " '/aiffel/aiffel/chest_xray/data/test/PNEUMONIA/person94_bacteria_456.jpeg',\n",
       " '/aiffel/aiffel/chest_xray/data/test/PNEUMONIA/person1622_virus_2810.jpeg']"
      ]
     },
     "execution_count": 23,
     "metadata": {},
     "output_type": "execute_result"
    }
   ],
   "source": [
    "test_filenames[-5:]"
   ]
  },
  {
   "cell_type": "code",
   "execution_count": 24,
   "id": "overhead-flooring",
   "metadata": {},
   "outputs": [
    {
     "data": {
      "text/plain": [
       "5840"
      ]
     },
     "execution_count": 24,
     "metadata": {},
     "output_type": "execute_result"
    }
   ],
   "source": [
    "len(temp_filenames)"
   ]
  },
  {
   "cell_type": "code",
   "execution_count": 38,
   "id": "conventional-intermediate",
   "metadata": {},
   "outputs": [
    {
     "data": {
      "text/plain": [
       "4672"
      ]
     },
     "execution_count": 38,
     "metadata": {},
     "output_type": "execute_result"
    }
   ],
   "source": [
    "train_size = math.floor(len(temp_filenames) * 0.8)\n",
    "train_size\n",
    "# round 함수 등을 써도 좋다"
   ]
  },
  {
   "cell_type": "code",
   "execution_count": 39,
   "id": "focal-snapshot",
   "metadata": {},
   "outputs": [],
   "source": [
    "random.seed(42)"
   ]
  },
  {
   "cell_type": "code",
   "execution_count": 40,
   "id": "northern-cookie",
   "metadata": {},
   "outputs": [],
   "source": [
    "random.shuffle(temp_filenames)"
   ]
  },
  {
   "cell_type": "code",
   "execution_count": 41,
   "id": "patent-subcommittee",
   "metadata": {},
   "outputs": [
    {
     "name": "stdout",
     "output_type": "stream",
     "text": [
      "5840\n"
     ]
    }
   ],
   "source": [
    "train_filenames = temp_filenames[:train_size]\n",
    "test_filenames = temp_filenames[train_size:]\n",
    "\n",
    "print(len(train_filenames) + len(test_filenames)) "
   ]
  },
  {
   "cell_type": "code",
   "execution_count": 42,
   "id": "corresponding-christmas",
   "metadata": {},
   "outputs": [
    {
     "data": {
      "text/plain": [
       "<TensorSliceDataset shapes: (), types: tf.string>"
      ]
     },
     "execution_count": 42,
     "metadata": {},
     "output_type": "execute_result"
    }
   ],
   "source": [
    "train_list_ds = tf.data.Dataset.from_tensor_slices(train_filenames)\n",
    "train_list_ds"
   ]
  },
  {
   "cell_type": "code",
   "execution_count": 43,
   "id": "adaptive-hormone",
   "metadata": {},
   "outputs": [
    {
     "data": {
      "text/plain": [
       "4672"
      ]
     },
     "execution_count": 43,
     "metadata": {},
     "output_type": "execute_result"
    }
   ],
   "source": [
    "TRAIN_IMG_COUNT = tf.data.experimental.cardinality(train_list_ds)\n",
    "TRAIN_IMG_COUNT.numpy()"
   ]
  },
  {
   "cell_type": "code",
   "execution_count": null,
   "id": "protecting-passing",
   "metadata": {},
   "outputs": [],
   "source": []
  }
 ],
 "metadata": {
  "kernelspec": {
   "display_name": "Python 3",
   "language": "python",
   "name": "python3"
  },
  "language_info": {
   "codemirror_mode": {
    "name": "ipython",
    "version": 3
   },
   "file_extension": ".py",
   "mimetype": "text/x-python",
   "name": "python",
   "nbconvert_exporter": "python",
   "pygments_lexer": "ipython3",
   "version": "3.7.9"
  }
 },
 "nbformat": 4,
 "nbformat_minor": 5
}
