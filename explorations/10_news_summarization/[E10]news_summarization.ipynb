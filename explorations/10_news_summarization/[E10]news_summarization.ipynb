{
 "cells": [
  {
   "cell_type": "code",
   "execution_count": 1,
   "id": "progressive-mexico",
   "metadata": {},
   "outputs": [
    {
     "name": "stdout",
     "output_type": "stream",
     "text": [
      "hello\n"
     ]
    }
   ],
   "source": [
    "print('hello')"
   ]
  },
  {
   "cell_type": "code",
   "execution_count": 2,
   "id": "great-norwegian",
   "metadata": {},
   "outputs": [],
   "source": [
    "import urllib.request"
   ]
  },
  {
   "cell_type": "code",
   "execution_count": 3,
   "id": "handed-circuit",
   "metadata": {},
   "outputs": [
    {
     "name": "stderr",
     "output_type": "stream",
     "text": [
      "[nltk_data] Downloading package stopwords to /aiffel/nltk_data...\n",
      "[nltk_data]   Unzipping corpora/stopwords.zip.\n"
     ]
    }
   ],
   "source": [
    "import nltk\n",
    "nltk.download('stopwords')\n",
    "\n",
    "import numpy as np\n",
    "import pandas as pd\n",
    "import os\n",
    "import re\n",
    "import matplotlib.pyplot as plt\n",
    "from nltk.corpus import stopwords\n",
    "from bs4 import BeautifulSoup \n",
    "from tensorflow.keras.preprocessing.text import Tokenizer \n",
    "from tensorflow.keras.preprocessing.sequence import pad_sequences\n",
    "import urllib.request\n"
   ]
  },
  {
   "cell_type": "markdown",
   "id": "sufficient-listening",
   "metadata": {},
   "source": [
    "### 데이터 준비하기"
   ]
  },
  {
   "cell_type": "code",
   "execution_count": 4,
   "id": "lightweight-ability",
   "metadata": {},
   "outputs": [
    {
     "name": "stdout",
     "output_type": "stream",
     "text": [
      "전체 샘플수 : 98401\n"
     ]
    }
   ],
   "source": [
    "urllib.request.urlretrieve(\"https://raw.githubusercontent.com/sunnysai12345/News_Summary/master/news_summary_more.csv\", filename=\"news_summary_more.csv\")\n",
    "data = pd.read_csv('news_summary_more.csv', encoding='iso-8859-1')\n",
    "print('전체 샘플수 :', (len(data)))"
   ]
  },
  {
   "cell_type": "code",
   "execution_count": 5,
   "id": "renewable-fiber",
   "metadata": {},
   "outputs": [
    {
     "data": {
      "text/html": [
       "<div>\n",
       "<style scoped>\n",
       "    .dataframe tbody tr th:only-of-type {\n",
       "        vertical-align: middle;\n",
       "    }\n",
       "\n",
       "    .dataframe tbody tr th {\n",
       "        vertical-align: top;\n",
       "    }\n",
       "\n",
       "    .dataframe thead th {\n",
       "        text-align: right;\n",
       "    }\n",
       "</style>\n",
       "<table border=\"1\" class=\"dataframe\">\n",
       "  <thead>\n",
       "    <tr style=\"text-align: right;\">\n",
       "      <th></th>\n",
       "      <th>headlines</th>\n",
       "      <th>text</th>\n",
       "    </tr>\n",
       "  </thead>\n",
       "  <tbody>\n",
       "    <tr>\n",
       "      <th>0</th>\n",
       "      <td>upGrad learner switches to career in ML &amp; Al w...</td>\n",
       "      <td>Saurav Kant, an alumnus of upGrad and IIIT-B's...</td>\n",
       "    </tr>\n",
       "    <tr>\n",
       "      <th>1</th>\n",
       "      <td>Delhi techie wins free food from Swiggy for on...</td>\n",
       "      <td>Kunal Shah's credit card bill payment platform...</td>\n",
       "    </tr>\n",
       "    <tr>\n",
       "      <th>2</th>\n",
       "      <td>New Zealand end Rohit Sharma-led India's 12-ma...</td>\n",
       "      <td>New Zealand defeated India by 8 wickets in the...</td>\n",
       "    </tr>\n",
       "    <tr>\n",
       "      <th>3</th>\n",
       "      <td>Aegon life iTerm insurance plan helps customer...</td>\n",
       "      <td>With Aegon Life iTerm Insurance plan, customer...</td>\n",
       "    </tr>\n",
       "    <tr>\n",
       "      <th>4</th>\n",
       "      <td>Have known Hirani for yrs, what if MeToo claim...</td>\n",
       "      <td>Speaking about the sexual harassment allegatio...</td>\n",
       "    </tr>\n",
       "  </tbody>\n",
       "</table>\n",
       "</div>"
      ],
      "text/plain": [
       "                                           headlines  \\\n",
       "0  upGrad learner switches to career in ML & Al w...   \n",
       "1  Delhi techie wins free food from Swiggy for on...   \n",
       "2  New Zealand end Rohit Sharma-led India's 12-ma...   \n",
       "3  Aegon life iTerm insurance plan helps customer...   \n",
       "4  Have known Hirani for yrs, what if MeToo claim...   \n",
       "\n",
       "                                                text  \n",
       "0  Saurav Kant, an alumnus of upGrad and IIIT-B's...  \n",
       "1  Kunal Shah's credit card bill payment platform...  \n",
       "2  New Zealand defeated India by 8 wickets in the...  \n",
       "3  With Aegon Life iTerm Insurance plan, customer...  \n",
       "4  Speaking about the sexual harassment allegatio...  "
      ]
     },
     "execution_count": 5,
     "metadata": {},
     "output_type": "execute_result"
    }
   ],
   "source": [
    "data.head()"
   ]
  },
  {
   "cell_type": "code",
   "execution_count": 6,
   "id": "verbal-wayne",
   "metadata": {},
   "outputs": [
    {
     "data": {
      "text/html": [
       "<div>\n",
       "<style scoped>\n",
       "    .dataframe tbody tr th:only-of-type {\n",
       "        vertical-align: middle;\n",
       "    }\n",
       "\n",
       "    .dataframe tbody tr th {\n",
       "        vertical-align: top;\n",
       "    }\n",
       "\n",
       "    .dataframe thead th {\n",
       "        text-align: right;\n",
       "    }\n",
       "</style>\n",
       "<table border=\"1\" class=\"dataframe\">\n",
       "  <thead>\n",
       "    <tr style=\"text-align: right;\">\n",
       "      <th></th>\n",
       "      <th>headlines</th>\n",
       "      <th>text</th>\n",
       "    </tr>\n",
       "  </thead>\n",
       "  <tbody>\n",
       "    <tr>\n",
       "      <th>68917</th>\n",
       "      <td>Scared as con woman got my signature absolutel...</td>\n",
       "      <td>Singer Lata Mangeshkar, while responding to re...</td>\n",
       "    </tr>\n",
       "    <tr>\n",
       "      <th>7684</th>\n",
       "      <td>J&amp;K Police traces 5 boys who bunked school to ...</td>\n",
       "      <td>Five teenage boys were traced and handed over ...</td>\n",
       "    </tr>\n",
       "    <tr>\n",
       "      <th>31524</th>\n",
       "      <td>Collegium to again name judge for SC post Cent...</td>\n",
       "      <td>The Supreme Court Collegium has decided to aga...</td>\n",
       "    </tr>\n",
       "    <tr>\n",
       "      <th>73700</th>\n",
       "      <td>Oldest ever known ice sample found in 2.7-mn-y...</td>\n",
       "      <td>US researchers have retrieved a 2.7-million-ye...</td>\n",
       "    </tr>\n",
       "    <tr>\n",
       "      <th>67144</th>\n",
       "      <td>Former Equifax CEO blames breach on one employee</td>\n",
       "      <td>Richard Smith, former Equifax CEO has said the...</td>\n",
       "    </tr>\n",
       "    <tr>\n",
       "      <th>4233</th>\n",
       "      <td>Hurts but it's beyond our control: Bharat Arun...</td>\n",
       "      <td>Reacting to Australian commentator Kerry O'Kee...</td>\n",
       "    </tr>\n",
       "    <tr>\n",
       "      <th>52780</th>\n",
       "      <td>Salman is the best thing to happen to anybody:...</td>\n",
       "      <td>Speaking about Salman Khan starring in 'Race 3...</td>\n",
       "    </tr>\n",
       "    <tr>\n",
       "      <th>16182</th>\n",
       "      <td>US woman steals ambulance as medics perform CP...</td>\n",
       "      <td>A woman in Oregon, US fled away with an ambula...</td>\n",
       "    </tr>\n",
       "    <tr>\n",
       "      <th>91070</th>\n",
       "      <td>Triple talaq has no sanction in Shariat: Venka...</td>\n",
       "      <td>Union Minister M Venkaiah Naidu on Sunday said...</td>\n",
       "    </tr>\n",
       "    <tr>\n",
       "      <th>60688</th>\n",
       "      <td>Lakmal first in 16 years to bowl 7 straight ma...</td>\n",
       "      <td>Sri Lankan pacer Suranga Lakmal became the fir...</td>\n",
       "    </tr>\n",
       "    <tr>\n",
       "      <th>14708</th>\n",
       "      <td>Robotic limb that can be attached to phones de...</td>\n",
       "      <td>A new robotic device that looks like a limb ha...</td>\n",
       "    </tr>\n",
       "    <tr>\n",
       "      <th>1206</th>\n",
       "      <td>Krunal hands blank cheque to family of hospita...</td>\n",
       "      <td>All-rounder Krunal Pandya has handed a blank c...</td>\n",
       "    </tr>\n",
       "    <tr>\n",
       "      <th>68774</th>\n",
       "      <td>Tesla to stop production of its least expensiv...</td>\n",
       "      <td>Elon-Musk led electric car-maker Tesla has con...</td>\n",
       "    </tr>\n",
       "    <tr>\n",
       "      <th>71755</th>\n",
       "      <td>Over 2 lakh directors to be barred from board ...</td>\n",
       "      <td>Over 2 lakh directors on boards of companies w...</td>\n",
       "    </tr>\n",
       "    <tr>\n",
       "      <th>28313</th>\n",
       "      <td>Delhi Metro may be shut from Jun 30 as staff t...</td>\n",
       "      <td>The Delhi Metro may be shut from June 30 as De...</td>\n",
       "    </tr>\n",
       "  </tbody>\n",
       "</table>\n",
       "</div>"
      ],
      "text/plain": [
       "                                               headlines  \\\n",
       "68917  Scared as con woman got my signature absolutel...   \n",
       "7684   J&K Police traces 5 boys who bunked school to ...   \n",
       "31524  Collegium to again name judge for SC post Cent...   \n",
       "73700  Oldest ever known ice sample found in 2.7-mn-y...   \n",
       "67144   Former Equifax CEO blames breach on one employee   \n",
       "4233   Hurts but it's beyond our control: Bharat Arun...   \n",
       "52780  Salman is the best thing to happen to anybody:...   \n",
       "16182  US woman steals ambulance as medics perform CP...   \n",
       "91070  Triple talaq has no sanction in Shariat: Venka...   \n",
       "60688  Lakmal first in 16 years to bowl 7 straight ma...   \n",
       "14708  Robotic limb that can be attached to phones de...   \n",
       "1206   Krunal hands blank cheque to family of hospita...   \n",
       "68774  Tesla to stop production of its least expensiv...   \n",
       "71755  Over 2 lakh directors to be barred from board ...   \n",
       "28313  Delhi Metro may be shut from Jun 30 as staff t...   \n",
       "\n",
       "                                                    text  \n",
       "68917  Singer Lata Mangeshkar, while responding to re...  \n",
       "7684   Five teenage boys were traced and handed over ...  \n",
       "31524  The Supreme Court Collegium has decided to aga...  \n",
       "73700  US researchers have retrieved a 2.7-million-ye...  \n",
       "67144  Richard Smith, former Equifax CEO has said the...  \n",
       "4233   Reacting to Australian commentator Kerry O'Kee...  \n",
       "52780  Speaking about Salman Khan starring in 'Race 3...  \n",
       "16182  A woman in Oregon, US fled away with an ambula...  \n",
       "91070  Union Minister M Venkaiah Naidu on Sunday said...  \n",
       "60688  Sri Lankan pacer Suranga Lakmal became the fir...  \n",
       "14708  A new robotic device that looks like a limb ha...  \n",
       "1206   All-rounder Krunal Pandya has handed a blank c...  \n",
       "68774  Elon-Musk led electric car-maker Tesla has con...  \n",
       "71755  Over 2 lakh directors on boards of companies w...  \n",
       "28313  The Delhi Metro may be shut from June 30 as De...  "
      ]
     },
     "execution_count": 6,
     "metadata": {},
     "output_type": "execute_result"
    }
   ],
   "source": [
    "data.head()\n",
    "\n",
    "#랜덤한 15개 샘플 출력\n",
    "data.sample(15)"
   ]
  },
  {
   "cell_type": "markdown",
   "id": "general-edgar",
   "metadata": {},
   "source": [
    "### 중복 샘플과 NULL 값이 존재하는 샘플 제거"
   ]
  },
  {
   "cell_type": "code",
   "execution_count": 7,
   "id": "valued-sellers",
   "metadata": {},
   "outputs": [
    {
     "name": "stdout",
     "output_type": "stream",
     "text": [
      "Text 열에서 중복을 배제한 유일한 샘플의 수 : 98360\n",
      "Summary 열에서 중복을 배제한 유일한 샘플의 수 : 98280\n"
     ]
    }
   ],
   "source": [
    "print('Text 열에서 중복을 배제한 유일한 샘플의 수 :', data['text'].nunique())\n",
    "print('Summary 열에서 중복을 배제한 유일한 샘플의 수 :', data['headlines'].nunique())"
   ]
  },
  {
   "cell_type": "code",
   "execution_count": 8,
   "id": "tough-contract",
   "metadata": {},
   "outputs": [
    {
     "name": "stdout",
     "output_type": "stream",
     "text": [
      "전체 샘플수 : 98360\n"
     ]
    }
   ],
   "source": [
    "# inplace=True 를 설정하면 DataFrame 타입 값을 return 하지 않고 data 내부를 직접적으로 바꿉니다\n",
    "data.drop_duplicates(subset = ['text'], inplace=True)\n",
    "print('전체 샘플수 :', (len(data)))"
   ]
  },
  {
   "cell_type": "code",
   "execution_count": 9,
   "id": "formed-adobe",
   "metadata": {},
   "outputs": [
    {
     "name": "stdout",
     "output_type": "stream",
     "text": [
      "headlines    0\n",
      "text         0\n",
      "dtype: int64\n"
     ]
    }
   ],
   "source": [
    "print(data.isnull().sum())"
   ]
  },
  {
   "cell_type": "code",
   "execution_count": 10,
   "id": "contrary-dating",
   "metadata": {},
   "outputs": [
    {
     "data": {
      "text/html": [
       "<div>\n",
       "<style scoped>\n",
       "    .dataframe tbody tr th:only-of-type {\n",
       "        vertical-align: middle;\n",
       "    }\n",
       "\n",
       "    .dataframe tbody tr th {\n",
       "        vertical-align: top;\n",
       "    }\n",
       "\n",
       "    .dataframe thead th {\n",
       "        text-align: right;\n",
       "    }\n",
       "</style>\n",
       "<table border=\"1\" class=\"dataframe\">\n",
       "  <thead>\n",
       "    <tr style=\"text-align: right;\">\n",
       "      <th></th>\n",
       "      <th>headlines</th>\n",
       "      <th>text</th>\n",
       "    </tr>\n",
       "  </thead>\n",
       "  <tbody>\n",
       "    <tr>\n",
       "      <th>98396</th>\n",
       "      <td>CRPF jawan axed to death by Maoists in Chhatti...</td>\n",
       "      <td>A CRPF jawan was on Tuesday axed to death with...</td>\n",
       "    </tr>\n",
       "    <tr>\n",
       "      <th>98397</th>\n",
       "      <td>First song from Sonakshi Sinha's 'Noor' titled...</td>\n",
       "      <td>'Uff Yeh', the first song from the Sonakshi Si...</td>\n",
       "    </tr>\n",
       "    <tr>\n",
       "      <th>98398</th>\n",
       "      <td>'The Matrix' film to get a reboot: Reports</td>\n",
       "      <td>According to reports, a new version of the 199...</td>\n",
       "    </tr>\n",
       "    <tr>\n",
       "      <th>98399</th>\n",
       "      <td>Snoop Dogg aims gun at clown dressed as Trump ...</td>\n",
       "      <td>A new music video shows rapper Snoop Dogg aimi...</td>\n",
       "    </tr>\n",
       "    <tr>\n",
       "      <th>98400</th>\n",
       "      <td>Madhesi Morcha withdraws support to Nepalese g...</td>\n",
       "      <td>Madhesi Morcha, an alliance of seven political...</td>\n",
       "    </tr>\n",
       "  </tbody>\n",
       "</table>\n",
       "</div>"
      ],
      "text/plain": [
       "                                               headlines  \\\n",
       "98396  CRPF jawan axed to death by Maoists in Chhatti...   \n",
       "98397  First song from Sonakshi Sinha's 'Noor' titled...   \n",
       "98398         'The Matrix' film to get a reboot: Reports   \n",
       "98399  Snoop Dogg aims gun at clown dressed as Trump ...   \n",
       "98400  Madhesi Morcha withdraws support to Nepalese g...   \n",
       "\n",
       "                                                    text  \n",
       "98396  A CRPF jawan was on Tuesday axed to death with...  \n",
       "98397  'Uff Yeh', the first song from the Sonakshi Si...  \n",
       "98398  According to reports, a new version of the 199...  \n",
       "98399  A new music video shows rapper Snoop Dogg aimi...  \n",
       "98400  Madhesi Morcha, an alliance of seven political...  "
      ]
     },
     "execution_count": 10,
     "metadata": {},
     "output_type": "execute_result"
    }
   ],
   "source": [
    "data.tail(5)"
   ]
  },
  {
   "cell_type": "code",
   "execution_count": 11,
   "id": "paperback-childhood",
   "metadata": {},
   "outputs": [
    {
     "name": "stdout",
     "output_type": "stream",
     "text": [
      "전체 샘플수 : 98360\n"
     ]
    },
    {
     "data": {
      "text/html": [
       "<div>\n",
       "<style scoped>\n",
       "    .dataframe tbody tr th:only-of-type {\n",
       "        vertical-align: middle;\n",
       "    }\n",
       "\n",
       "    .dataframe tbody tr th {\n",
       "        vertical-align: top;\n",
       "    }\n",
       "\n",
       "    .dataframe thead th {\n",
       "        text-align: right;\n",
       "    }\n",
       "</style>\n",
       "<table border=\"1\" class=\"dataframe\">\n",
       "  <thead>\n",
       "    <tr style=\"text-align: right;\">\n",
       "      <th></th>\n",
       "      <th>headlines</th>\n",
       "      <th>text</th>\n",
       "    </tr>\n",
       "  </thead>\n",
       "  <tbody>\n",
       "    <tr>\n",
       "      <th>98396</th>\n",
       "      <td>CRPF jawan axed to death by Maoists in Chhatti...</td>\n",
       "      <td>A CRPF jawan was on Tuesday axed to death with...</td>\n",
       "    </tr>\n",
       "    <tr>\n",
       "      <th>98397</th>\n",
       "      <td>First song from Sonakshi Sinha's 'Noor' titled...</td>\n",
       "      <td>'Uff Yeh', the first song from the Sonakshi Si...</td>\n",
       "    </tr>\n",
       "    <tr>\n",
       "      <th>98398</th>\n",
       "      <td>'The Matrix' film to get a reboot: Reports</td>\n",
       "      <td>According to reports, a new version of the 199...</td>\n",
       "    </tr>\n",
       "    <tr>\n",
       "      <th>98399</th>\n",
       "      <td>Snoop Dogg aims gun at clown dressed as Trump ...</td>\n",
       "      <td>A new music video shows rapper Snoop Dogg aimi...</td>\n",
       "    </tr>\n",
       "    <tr>\n",
       "      <th>98400</th>\n",
       "      <td>Madhesi Morcha withdraws support to Nepalese g...</td>\n",
       "      <td>Madhesi Morcha, an alliance of seven political...</td>\n",
       "    </tr>\n",
       "  </tbody>\n",
       "</table>\n",
       "</div>"
      ],
      "text/plain": [
       "                                               headlines  \\\n",
       "98396  CRPF jawan axed to death by Maoists in Chhatti...   \n",
       "98397  First song from Sonakshi Sinha's 'Noor' titled...   \n",
       "98398         'The Matrix' film to get a reboot: Reports   \n",
       "98399  Snoop Dogg aims gun at clown dressed as Trump ...   \n",
       "98400  Madhesi Morcha withdraws support to Nepalese g...   \n",
       "\n",
       "                                                    text  \n",
       "98396  A CRPF jawan was on Tuesday axed to death with...  \n",
       "98397  'Uff Yeh', the first song from the Sonakshi Si...  \n",
       "98398  According to reports, a new version of the 199...  \n",
       "98399  A new music video shows rapper Snoop Dogg aimi...  \n",
       "98400  Madhesi Morcha, an alliance of seven political...  "
      ]
     },
     "execution_count": 11,
     "metadata": {},
     "output_type": "execute_result"
    }
   ],
   "source": [
    "data.dropna(axis=0, inplace=True)\n",
    "print('전체 샘플수 :', (len(data)))\n",
    "data.tail(5)"
   ]
  },
  {
   "cell_type": "markdown",
   "id": "conditional-phrase",
   "metadata": {},
   "source": [
    "### 텍스트 정규화와 불용어 제거"
   ]
  },
  {
   "cell_type": "code",
   "execution_count": 12,
   "id": "foreign-chase",
   "metadata": {},
   "outputs": [
    {
     "name": "stdout",
     "output_type": "stream",
     "text": [
      "정규화 사전의 수:  120\n"
     ]
    }
   ],
   "source": [
    "contractions = {\"ain't\": \"is not\", \"aren't\": \"are not\",\"can't\": \"cannot\", \"'cause\": \"because\", \"could've\": \"could have\", \"couldn't\": \"could not\",\n",
    "                           \"didn't\": \"did not\",  \"doesn't\": \"does not\", \"don't\": \"do not\", \"hadn't\": \"had not\", \"hasn't\": \"has not\", \"haven't\": \"have not\",\n",
    "                           \"he'd\": \"he would\",\"he'll\": \"he will\", \"he's\": \"he is\", \"how'd\": \"how did\", \"how'd'y\": \"how do you\", \"how'll\": \"how will\", \"how's\": \"how is\",\n",
    "                           \"I'd\": \"I would\", \"I'd've\": \"I would have\", \"I'll\": \"I will\", \"I'll've\": \"I will have\",\"I'm\": \"I am\", \"I've\": \"I have\", \"i'd\": \"i would\",\n",
    "                           \"i'd've\": \"i would have\", \"i'll\": \"i will\",  \"i'll've\": \"i will have\",\"i'm\": \"i am\", \"i've\": \"i have\", \"isn't\": \"is not\", \"it'd\": \"it would\",\n",
    "                           \"it'd've\": \"it would have\", \"it'll\": \"it will\", \"it'll've\": \"it will have\",\"it's\": \"it is\", \"let's\": \"let us\", \"ma'am\": \"madam\",\n",
    "                           \"mayn't\": \"may not\", \"might've\": \"might have\",\"mightn't\": \"might not\",\"mightn't've\": \"might not have\", \"must've\": \"must have\",\n",
    "                           \"mustn't\": \"must not\", \"mustn't've\": \"must not have\", \"needn't\": \"need not\", \"needn't've\": \"need not have\",\"o'clock\": \"of the clock\",\n",
    "                           \"oughtn't\": \"ought not\", \"oughtn't've\": \"ought not have\", \"shan't\": \"shall not\", \"sha'n't\": \"shall not\", \"shan't've\": \"shall not have\",\n",
    "                           \"she'd\": \"she would\", \"she'd've\": \"she would have\", \"she'll\": \"she will\", \"she'll've\": \"she will have\", \"she's\": \"she is\",\n",
    "                           \"should've\": \"should have\", \"shouldn't\": \"should not\", \"shouldn't've\": \"should not have\", \"so've\": \"so have\",\"so's\": \"so as\",\n",
    "                           \"this's\": \"this is\",\"that'd\": \"that would\", \"that'd've\": \"that would have\", \"that's\": \"that is\", \"there'd\": \"there would\",\n",
    "                           \"there'd've\": \"there would have\", \"there's\": \"there is\", \"here's\": \"here is\",\"they'd\": \"they would\", \"they'd've\": \"they would have\",\n",
    "                           \"they'll\": \"they will\", \"they'll've\": \"they will have\", \"they're\": \"they are\", \"they've\": \"they have\", \"to've\": \"to have\",\n",
    "                           \"wasn't\": \"was not\", \"we'd\": \"we would\", \"we'd've\": \"we would have\", \"we'll\": \"we will\", \"we'll've\": \"we will have\", \"we're\": \"we are\",\n",
    "                           \"we've\": \"we have\", \"weren't\": \"were not\", \"what'll\": \"what will\", \"what'll've\": \"what will have\", \"what're\": \"what are\",\n",
    "                           \"what's\": \"what is\", \"what've\": \"what have\", \"when's\": \"when is\", \"when've\": \"when have\", \"where'd\": \"where did\", \"where's\": \"where is\",\n",
    "                           \"where've\": \"where have\", \"who'll\": \"who will\", \"who'll've\": \"who will have\", \"who's\": \"who is\", \"who've\": \"who have\",\n",
    "                           \"why's\": \"why is\", \"why've\": \"why have\", \"will've\": \"will have\", \"won't\": \"will not\", \"won't've\": \"will not have\",\n",
    "                           \"would've\": \"would have\", \"wouldn't\": \"would not\", \"wouldn't've\": \"would not have\", \"y'all\": \"you all\",\n",
    "                           \"y'all'd\": \"you all would\",\"y'all'd've\": \"you all would have\",\"y'all're\": \"you all are\",\"y'all've\": \"you all have\",\n",
    "                           \"you'd\": \"you would\", \"you'd've\": \"you would have\", \"you'll\": \"you will\", \"you'll've\": \"you will have\",\n",
    "                           \"you're\": \"you are\", \"you've\": \"you have\"}\n",
    "\n",
    "print(\"정규화 사전의 수: \", len(contractions))"
   ]
  },
  {
   "cell_type": "code",
   "execution_count": 13,
   "id": "coordinate-minute",
   "metadata": {},
   "outputs": [
    {
     "name": "stdout",
     "output_type": "stream",
     "text": [
      "불용어 개수 : 179\n",
      "['i', 'me', 'my', 'myself', 'we', 'our', 'ours', 'ourselves', 'you', \"you're\", \"you've\", \"you'll\", \"you'd\", 'your', 'yours', 'yourself', 'yourselves', 'he', 'him', 'his', 'himself', 'she', \"she's\", 'her', 'hers', 'herself', 'it', \"it's\", 'its', 'itself', 'they', 'them', 'their', 'theirs', 'themselves', 'what', 'which', 'who', 'whom', 'this', 'that', \"that'll\", 'these', 'those', 'am', 'is', 'are', 'was', 'were', 'be', 'been', 'being', 'have', 'has', 'had', 'having', 'do', 'does', 'did', 'doing', 'a', 'an', 'the', 'and', 'but', 'if', 'or', 'because', 'as', 'until', 'while', 'of', 'at', 'by', 'for', 'with', 'about', 'against', 'between', 'into', 'through', 'during', 'before', 'after', 'above', 'below', 'to', 'from', 'up', 'down', 'in', 'out', 'on', 'off', 'over', 'under', 'again', 'further', 'then', 'once', 'here', 'there', 'when', 'where', 'why', 'how', 'all', 'any', 'both', 'each', 'few', 'more', 'most', 'other', 'some', 'such', 'no', 'nor', 'not', 'only', 'own', 'same', 'so', 'than', 'too', 'very', 's', 't', 'can', 'will', 'just', 'don', \"don't\", 'should', \"should've\", 'now', 'd', 'll', 'm', 'o', 're', 've', 'y', 'ain', 'aren', \"aren't\", 'couldn', \"couldn't\", 'didn', \"didn't\", 'doesn', \"doesn't\", 'hadn', \"hadn't\", 'hasn', \"hasn't\", 'haven', \"haven't\", 'isn', \"isn't\", 'ma', 'mightn', \"mightn't\", 'mustn', \"mustn't\", 'needn', \"needn't\", 'shan', \"shan't\", 'shouldn', \"shouldn't\", 'wasn', \"wasn't\", 'weren', \"weren't\", 'won', \"won't\", 'wouldn', \"wouldn't\"]\n"
     ]
    }
   ],
   "source": [
    "print('불용어 개수 :', len(stopwords.words('english') ))\n",
    "print(stopwords.words('english'))"
   ]
  },
  {
   "cell_type": "markdown",
   "id": "advanced-configuration",
   "metadata": {},
   "source": [
    "#### 데이터 전처리 함수\n",
    "- 불용어 제거\n",
    "    - Summary와 같은 경우는 제외\n",
    "- 모든 영어 소문자\n",
    "- 섞여있는 html 태그 제거\n",
    "- 정규 표현식을 통해 각종 특수문자 제거"
   ]
  },
  {
   "cell_type": "code",
   "execution_count": 14,
   "id": "hairy-spanish",
   "metadata": {},
   "outputs": [],
   "source": [
    "# 데이터 전처리 함수\n",
    "def preprocess_sentence(sentence, remove_stopwords=True):\n",
    "    sentence = sentence.lower() # 텍스트 소문자화\n",
    "    sentence = BeautifulSoup(sentence, \"lxml\").text # <br />, <a href = ...> 등의 html 태그 제거\n",
    "    sentence = re.sub(r'\\([^)]*\\)', '', sentence) # 괄호로 닫힌 문자열 (...) 제거 Ex) my husband (and myself!) for => my husband for\n",
    "    sentence = re.sub('\"','', sentence) # 쌍따옴표 \" 제거\n",
    "    sentence = ' '.join([contractions[t] if t in contractions else t for t in sentence.split(\" \")]) # 약어 정규화\n",
    "    sentence = re.sub(r\"'s\\b\",\"\", sentence) # 소유격 제거. Ex) roland's -> roland\n",
    "    sentence = re.sub(\"[^a-zA-Z]\", \" \", sentence) # 영어 외 문자(숫자, 특수문자 등) 공백으로 변환=\n",
    "    sentence = re.sub('[m]{2,}', 'mm', sentence) # m이 3개 이상이면 2개로 변경. Ex) ummmmmmm yeah -> umm yeah\n",
    "    \n",
    "    # 불용어 제거 (Text)\n",
    "    if remove_stopwords:\n",
    "        tokens = ' '.join(word for word in sentence.split() if not word in stopwords.words('english') if len(word) > 1)\n",
    "    # 불용어 미제거 (Summary)\n",
    "    else:\n",
    "        tokens = ' '.join(word for word in sentence.split() if len(word) > 1)\n",
    "    return tokens"
   ]
  },
  {
   "cell_type": "code",
   "execution_count": 15,
   "id": "celtic-alexander",
   "metadata": {},
   "outputs": [
    {
     "name": "stdout",
     "output_type": "stream",
     "text": [
      "everything bought great infact ordered twice third ordered wasfor mother father\n",
      "great way to start the day\n"
     ]
    }
   ],
   "source": [
    "temp_text = 'Everything I bought was great, infact I ordered twice and the third ordered was<br />for my mother and father.'\n",
    "temp_summary = 'Great way to start (or finish) the day!!!'\n",
    "\n",
    "print(preprocess_sentence(temp_text))\n",
    "print(preprocess_sentence(temp_summary, False))  # 불용어를 제거하지 않습니다."
   ]
  },
  {
   "cell_type": "markdown",
   "id": "tracked-testament",
   "metadata": {},
   "source": [
    "+ 생각해볼것\n",
    "wasfor이 한 단어로 합쳐지는 것이 의도된 것인가? 아니라면 수정하는 전처리 구문을 놓으면 좋겠다"
   ]
  },
  {
   "cell_type": "markdown",
   "id": "multiple-desire",
   "metadata": {},
   "source": [
    "### 멀티프로세싱 사용"
   ]
  },
  {
   "cell_type": "code",
   "execution_count": 16,
   "id": "raised-breach",
   "metadata": {},
   "outputs": [
    {
     "name": "stdout",
     "output_type": "stream",
     "text": [
      "429.1567454338074  seconds\n",
      "['saurav kant alumnus upgrad iiit pg program machine learning artificial intelligence sr systems engineer infosys almost years work experience program upgrad degree career support helped transition data scientist tech mahindra salary hike upgrad online power learning powered lakh careers'\n",
      " 'kunal shah credit card bill payment platform cred gave users chance win free food swiggy one year pranav kaushik delhi techie bagged reward spending cred coins users get one cred coin per rupee bill paid used avail rewards brands like ixigo bookmyshow ubereats cult fit'\n",
      " 'new zealand defeated india wickets fourth odi hamilton thursday win first match five match odi series india lost international match rohit sharma captaincy consecutive victories dating back march match witnessed india getting seventh lowest total odi cricket history'\n",
      " ...\n",
      " 'according reports new version science fiction film matrix development michael jordan reportedly play lead role film screenwriter zak penn talks write script film reports added actor keanu reeves starred original film followed two sequels'\n",
      " 'new music video shows rapper snoop dogg aiming toy gun clown character parodying us president donald trump video also shows tv airing news conference headline ronald klump wants deport doggs airing live clown house video remixed version song lavender'\n",
      " 'madhesi morcha alliance seven political parties withdrawn support pm pushpa kamal dahal led nepal government failed meet seven day ultimatum fulfil demands including endorsement revised constitution amendment bill morcha seats parliament despite withdrawal support immediate threat government']\n",
      "13.233437538146973  seconds\n",
      "['upgrad learner switches to career in ml al with salary hike'\n",
      " 'delhi techie wins free food from swiggy for one year on cred'\n",
      " 'new zealand end rohit sharma led india match winning streak' ...\n",
      " 'the matrix film to get reboot reports'\n",
      " 'snoop dogg aims gun at clown dressed as trump in new video'\n",
      " 'madhesi morcha withdraws support to nepalese government']\n"
     ]
    }
   ],
   "source": [
    "import multiprocessing as mp   # 멀티 프로세싱으로 전처리 속도를 획기적으로 줄여봅시다\n",
    "from multiprocessing import Pool\n",
    "import numpy as np\n",
    "import time\n",
    "from functools import partial  # map을 할 때 함수에 여러 인자를 넣어줄 수 있도록 합니다\n",
    "\n",
    "start = time.time()\n",
    "\n",
    "# num_cores 만큼 쪼개진 데이터를 전처리하여 반환합니다\n",
    "def appendTexts(sentences, remove_stopwords):\n",
    "  texts = []\n",
    "  for s in sentences:\n",
    "    texts += preprocess_sentence(s, remove_stopwords),\n",
    "  return texts\n",
    "\n",
    "def preprocess_data(data, remove_stopwords=True):\n",
    "  start_time = time.time()\n",
    "  num_cores = mp.cpu_count()  # 컴퓨터의 코어 수를 구합니다\n",
    "\n",
    "  text_data_split = np.array_split(data, num_cores)  # 코어 수만큼 데이터를 배분하여 병렬적으로 처리할 수 있게 합니다\n",
    "  pool = Pool(num_cores)\n",
    "\n",
    "  processed_data = np.concatenate(pool.map(partial(appendTexts, remove_stopwords=remove_stopwords), text_data_split))  # 각자 작업한 데이터를 하나로 합쳐줍니다\n",
    "  pool.close()\n",
    "  pool.join()\n",
    "  print(time.time() - start_time, \" seconds\")\n",
    "  return processed_data\n",
    "\n",
    "clean_text = preprocess_data(data['text'])  # 클라우드 기준으로 3~4분 정도 소요 됩니다\n",
    "print(clean_text)\n",
    "\n",
    "clean_summary = preprocess_data(data['headlines'], remove_stopwords=False) # 클라우드 기준 1분정도 소요됩니다.\n",
    "print(clean_summary)"
   ]
  },
  {
   "cell_type": "markdown",
   "id": "single-newspaper",
   "metadata": {},
   "source": [
    "시간이 남으면 멀티프로세싱 코드를 꼼꼼히 봐보자"
   ]
  },
  {
   "cell_type": "code",
   "execution_count": 17,
   "id": "promising-replication",
   "metadata": {},
   "outputs": [],
   "source": [
    "data['text'] = clean_text\n",
    "data['headlines'] = clean_summary\n",
    "\n",
    "# 빈 값을 Null 값으로 변환\n",
    "data.replace('', np.nan, inplace=True)"
   ]
  },
  {
   "cell_type": "code",
   "execution_count": 18,
   "id": "internal-stocks",
   "metadata": {},
   "outputs": [
    {
     "data": {
      "text/plain": [
       "headlines    0\n",
       "text         0\n",
       "dtype: int64"
      ]
     },
     "execution_count": 18,
     "metadata": {},
     "output_type": "execute_result"
    }
   ],
   "source": [
    "data.isnull().sum()"
   ]
  },
  {
   "cell_type": "code",
   "execution_count": 19,
   "id": "diverse-tattoo",
   "metadata": {},
   "outputs": [
    {
     "name": "stdout",
     "output_type": "stream",
     "text": [
      "전체 샘플수 : 98360\n"
     ]
    }
   ],
   "source": [
    "data.dropna(axis=0, inplace=True)\n",
    "print('전체 샘플수 :', (len(data)))"
   ]
  },
  {
   "cell_type": "markdown",
   "id": "formal-cleanup",
   "metadata": {},
   "source": [
    "### 샘플 최대 길이 정하기"
   ]
  },
  {
   "cell_type": "code",
   "execution_count": 20,
   "id": "mysterious-delaware",
   "metadata": {},
   "outputs": [
    {
     "name": "stdout",
     "output_type": "stream",
     "text": [
      "텍스트의 최소 길이 : 1\n",
      "텍스트의 최대 길이 : 60\n",
      "텍스트의 평균 길이 : 35.09968483123221\n",
      "요약의 최소 길이 : 1\n",
      "요약의 최대 길이 : 16\n",
      "요약의 평균 길이 : 9.299532330215534\n"
     ]
    },
    {
     "data": {
      "image/png": "[encoded data removed]",
      "text/plain": [
       "<Figure size 432x288 with 2 Axes>"
      ]
     },
     "metadata": {
      "needs_background": "light"
     },
     "output_type": "display_data"
    },
    {
     "data": {
      "image/png": "[encoded data removed]",
      "text/plain": [
       "<Figure size 432x288 with 1 Axes>"
      ]
     },
     "metadata": {
      "needs_background": "light"
     },
     "output_type": "display_data"
    },
    {
     "data": {
      "image/png": "[encoded data removed]",
      "text/plain": [
       "<Figure size 432x288 with 1 Axes>"
      ]
     },
     "metadata": {
      "needs_background": "light"
     },
     "output_type": "display_data"
    }
   ],
   "source": [
    "# 길이 분포 출력\n",
    "import matplotlib.pyplot as plt\n",
    "\n",
    "text_len = [len(s.split()) for s in data['text']]\n",
    "headlines_len = [len(s.split()) for s in data['headlines']]\n",
    "\n",
    "print('텍스트의 최소 길이 : {}'.format(np.min(text_len)))\n",
    "print('텍스트의 최대 길이 : {}'.format(np.max(text_len)))\n",
    "print('텍스트의 평균 길이 : {}'.format(np.mean(text_len)))\n",
    "print('요약의 최소 길이 : {}'.format(np.min(headlines_len)))\n",
    "print('요약의 최대 길이 : {}'.format(np.max(headlines_len)))\n",
    "print('요약의 평균 길이 : {}'.format(np.mean(headlines_len)))\n",
    "\n",
    "plt.subplot(1,2,1)\n",
    "plt.boxplot(headlines_len)\n",
    "plt.title('headlines')\n",
    "plt.subplot(1,2,2)\n",
    "plt.boxplot(text_len)\n",
    "plt.title('text')\n",
    "plt.tight_layout()\n",
    "plt.show()\n",
    "\n",
    "plt.title('headlines')\n",
    "plt.hist(headlines_len, bins = 40)\n",
    "plt.xlabel('length of samples')\n",
    "plt.ylabel('number of samples')\n",
    "plt.show()\n",
    "\n",
    "plt.title('text')\n",
    "plt.hist(text_len, bins = 40)\n",
    "plt.xlabel('length of samples')\n",
    "plt.ylabel('number of samples')\n",
    "plt.show()"
   ]
  },
  {
   "cell_type": "code",
   "execution_count": 21,
   "id": "separate-stanford",
   "metadata": {},
   "outputs": [],
   "source": [
    "text_max_len = 40\n",
    "headlines_max_len = 11"
   ]
  },
  {
   "cell_type": "code",
   "execution_count": 22,
   "id": "wicked-accused",
   "metadata": {},
   "outputs": [],
   "source": [
    "def below_threshold_len(max_len, nested_list):\n",
    "  cnt = 0\n",
    "  for s in nested_list:\n",
    "    if(len(s.split()) <= max_len):\n",
    "        cnt = cnt + 1\n",
    "  print('전체 샘플 중 길이가 %s 이하인 샘플의 비율: %s'%(max_len, (cnt / len(nested_list))))"
   ]
  },
  {
   "cell_type": "code",
   "execution_count": 23,
   "id": "premium-sleeve",
   "metadata": {},
   "outputs": [
    {
     "name": "stdout",
     "output_type": "stream",
     "text": [
      "전체 샘플 중 길이가 40 이하인 샘플의 비율: 0.9238714924766165\n",
      "전체 샘플 중 길이가 11 이하인 샘플의 비율: 0.9449877999186661\n"
     ]
    }
   ],
   "source": [
    "below_threshold_len(text_max_len, data['text'])\n",
    "below_threshold_len(headlines_max_len,  data['headlines'])"
   ]
  },
  {
   "cell_type": "markdown",
   "id": "future-greene",
   "metadata": {},
   "source": [
    "정해진 길이보다 길면 제외"
   ]
  },
  {
   "cell_type": "code",
   "execution_count": 24,
   "id": "coupled-animal",
   "metadata": {},
   "outputs": [
    {
     "name": "stdout",
     "output_type": "stream",
     "text": [
      "전체 샘플수 : 85843\n"
     ]
    }
   ],
   "source": [
    "data = data[data['text'].apply(lambda x: len(x.split()) <= text_max_len)]\n",
    "data = data[data['headlines'].apply(lambda x: len(x.split()) <= headlines_max_len)]\n",
    "print('전체 샘플수 :', (len(data)))"
   ]
  },
  {
   "cell_type": "markdown",
   "id": "unlike-scoop",
   "metadata": {},
   "source": [
    "### 시작 토큰과 종료 토큰 추가"
   ]
  },
  {
   "cell_type": "code",
   "execution_count": 25,
   "id": "requested-poland",
   "metadata": {},
   "outputs": [
    {
     "data": {
      "text/html": [
       "<div>\n",
       "<style scoped>\n",
       "    .dataframe tbody tr th:only-of-type {\n",
       "        vertical-align: middle;\n",
       "    }\n",
       "\n",
       "    .dataframe tbody tr th {\n",
       "        vertical-align: top;\n",
       "    }\n",
       "\n",
       "    .dataframe thead th {\n",
       "        text-align: right;\n",
       "    }\n",
       "</style>\n",
       "<table border=\"1\" class=\"dataframe\">\n",
       "  <thead>\n",
       "    <tr style=\"text-align: right;\">\n",
       "      <th></th>\n",
       "      <th>headlines</th>\n",
       "      <th>text</th>\n",
       "      <th>decoder_input</th>\n",
       "      <th>decoder_target</th>\n",
       "    </tr>\n",
       "  </thead>\n",
       "  <tbody>\n",
       "    <tr>\n",
       "      <th>0</th>\n",
       "      <td>upgrad learner switches to career in ml al wit...</td>\n",
       "      <td>saurav kant alumnus upgrad iiit pg program mac...</td>\n",
       "      <td>sostoken upgrad learner switches to career in ...</td>\n",
       "      <td>upgrad learner switches to career in ml al wit...</td>\n",
       "    </tr>\n",
       "    <tr>\n",
       "      <th>2</th>\n",
       "      <td>new zealand end rohit sharma led india match w...</td>\n",
       "      <td>new zealand defeated india wickets fourth odi ...</td>\n",
       "      <td>sostoken new zealand end rohit sharma led indi...</td>\n",
       "      <td>new zealand end rohit sharma led india match w...</td>\n",
       "    </tr>\n",
       "    <tr>\n",
       "      <th>3</th>\n",
       "      <td>aegon life iterm insurance plan helps customer...</td>\n",
       "      <td>aegon life iterm insurance plan customers enjo...</td>\n",
       "      <td>sostoken aegon life iterm insurance plan helps...</td>\n",
       "      <td>aegon life iterm insurance plan helps customer...</td>\n",
       "    </tr>\n",
       "    <tr>\n",
       "      <th>5</th>\n",
       "      <td>rahat fateh ali khan denies getting notice for...</td>\n",
       "      <td>pakistani singer rahat fateh ali khan denied r...</td>\n",
       "      <td>sostoken rahat fateh ali khan denies getting n...</td>\n",
       "      <td>rahat fateh ali khan denies getting notice for...</td>\n",
       "    </tr>\n",
       "    <tr>\n",
       "      <th>7</th>\n",
       "      <td>govt directs alok verma to join work day befor...</td>\n",
       "      <td>weeks ex cbi director alok verma told departme...</td>\n",
       "      <td>sostoken govt directs alok verma to join work ...</td>\n",
       "      <td>govt directs alok verma to join work day befor...</td>\n",
       "    </tr>\n",
       "  </tbody>\n",
       "</table>\n",
       "</div>"
      ],
      "text/plain": [
       "                                           headlines  \\\n",
       "0  upgrad learner switches to career in ml al wit...   \n",
       "2  new zealand end rohit sharma led india match w...   \n",
       "3  aegon life iterm insurance plan helps customer...   \n",
       "5  rahat fateh ali khan denies getting notice for...   \n",
       "7  govt directs alok verma to join work day befor...   \n",
       "\n",
       "                                                text  \\\n",
       "0  saurav kant alumnus upgrad iiit pg program mac...   \n",
       "2  new zealand defeated india wickets fourth odi ...   \n",
       "3  aegon life iterm insurance plan customers enjo...   \n",
       "5  pakistani singer rahat fateh ali khan denied r...   \n",
       "7  weeks ex cbi director alok verma told departme...   \n",
       "\n",
       "                                       decoder_input  \\\n",
       "0  sostoken upgrad learner switches to career in ...   \n",
       "2  sostoken new zealand end rohit sharma led indi...   \n",
       "3  sostoken aegon life iterm insurance plan helps...   \n",
       "5  sostoken rahat fateh ali khan denies getting n...   \n",
       "7  sostoken govt directs alok verma to join work ...   \n",
       "\n",
       "                                      decoder_target  \n",
       "0  upgrad learner switches to career in ml al wit...  \n",
       "2  new zealand end rohit sharma led india match w...  \n",
       "3  aegon life iterm insurance plan helps customer...  \n",
       "5  rahat fateh ali khan denies getting notice for...  \n",
       "7  govt directs alok verma to join work day befor...  "
      ]
     },
     "execution_count": 25,
     "metadata": {},
     "output_type": "execute_result"
    }
   ],
   "source": [
    "# 요약 데이터에는 시작 토큰과 종료 토큰을 추가한다.\n",
    "data['decoder_input'] = data['headlines'].apply(lambda x : 'sostoken '+ x)\n",
    "data['decoder_target'] = data['headlines'].apply(lambda x : x + ' eostoken')\n",
    "data.head()"
   ]
  },
  {
   "cell_type": "code",
   "execution_count": 26,
   "id": "worldwide-telescope",
   "metadata": {},
   "outputs": [],
   "source": [
    "encoder_input = np.array(data['text']) # 인코더의 입력\n",
    "decoder_input = np.array(data['decoder_input']) # 디코더의 입력\n",
    "decoder_target = np.array(data['decoder_target']) # 디코더의 레이블"
   ]
  },
  {
   "cell_type": "markdown",
   "id": "enhanced-machine",
   "metadata": {},
   "source": [
    "### 훈련 데이터와 테스트 데이터 분리\n",
    "\n",
    "직접 분리하자!! (분리 패키지 써도 됨)"
   ]
  },
  {
   "cell_type": "code",
   "execution_count": 27,
   "id": "guided-execution",
   "metadata": {},
   "outputs": [
    {
     "name": "stdout",
     "output_type": "stream",
     "text": [
      "[21252 68185 33812 ...  9321 12143 28155]\n"
     ]
    }
   ],
   "source": [
    "# shape 길이만큼의 array를 만들고 순서 무작위로 섞기\n",
    "indices = np.arange(encoder_input.shape[0])\n",
    "np.random.shuffle(indices)\n",
    "print(indices)"
   ]
  },
  {
   "cell_type": "code",
   "execution_count": 28,
   "id": "accomplished-drive",
   "metadata": {},
   "outputs": [],
   "source": [
    "encoder_input = encoder_input[indices]\n",
    "decoder_input = decoder_input[indices]\n",
    "decoder_target = decoder_target[indices]"
   ]
  },
  {
   "cell_type": "code",
   "execution_count": 29,
   "id": "attended-input",
   "metadata": {},
   "outputs": [
    {
     "name": "stdout",
     "output_type": "stream",
     "text": [
      "테스트 데이터의 수 : 17168\n"
     ]
    }
   ],
   "source": [
    "n_of_val = int(len(encoder_input)*0.2)\n",
    "print('테스트 데이터의 수 :', n_of_val)"
   ]
  },
  {
   "cell_type": "code",
   "execution_count": 30,
   "id": "weird-picture",
   "metadata": {},
   "outputs": [
    {
     "name": "stdout",
     "output_type": "stream",
     "text": [
      "훈련 데이터의 개수 : 68675\n",
      "훈련 레이블의 개수 : 68675\n",
      "테스트 데이터의 개수 : 17168\n",
      "테스트 레이블의 개수 : 17168\n"
     ]
    }
   ],
   "source": [
    "encoder_input_train = encoder_input[:-n_of_val]\n",
    "decoder_input_train = decoder_input[:-n_of_val]\n",
    "decoder_target_train = decoder_target[:-n_of_val]\n",
    "\n",
    "encoder_input_test = encoder_input[-n_of_val:]\n",
    "decoder_input_test = decoder_input[-n_of_val:]\n",
    "decoder_target_test = decoder_target[-n_of_val:]\n",
    "\n",
    "print('훈련 데이터의 개수 :', len(encoder_input_train))\n",
    "print('훈련 레이블의 개수 :', len(decoder_input_train))\n",
    "print('테스트 데이터의 개수 :', len(encoder_input_test))\n",
    "print('테스트 레이블의 개수 :', len(decoder_input_test))"
   ]
  },
  {
   "cell_type": "markdown",
   "id": "equipped-velvet",
   "metadata": {},
   "source": [
    "### 단어 집합 만들기 및 정수 인코딩"
   ]
  },
  {
   "cell_type": "code",
   "execution_count": 31,
   "id": "rapid-parcel",
   "metadata": {},
   "outputs": [],
   "source": [
    "src_tokenizer = Tokenizer() # 토크나이저 정의\n",
    "src_tokenizer.fit_on_texts(encoder_input_train) # 입력된 데이터로부터 단어 집합 생성"
   ]
  },
  {
   "cell_type": "code",
   "execution_count": 32,
   "id": "owned-michigan",
   "metadata": {},
   "outputs": [
    {
     "name": "stdout",
     "output_type": "stream",
     "text": [
      "단어 집합(vocabulary)의 크기 : 64675\n",
      "등장 빈도가 9번 이하인 희귀 단어의 수: 47648\n",
      "단어 집합에서 희귀 단어를 제외시킬 경우의 단어 집합의 크기 17027\n",
      "단어 집합에서 희귀 단어의 비율: 73.67298028604561\n",
      "전체 등장 빈도에서 희귀 단어 등장 빈도 비율: 4.960554792178503\n"
     ]
    }
   ],
   "source": [
    "threshold = 10\n",
    "total_cnt = len(src_tokenizer.word_index) # 단어의 수\n",
    "rare_cnt = 0 # 등장 빈도수가 threshold보다 작은 단어의 개수를 카운트\n",
    "total_freq = 0 # 훈련 데이터의 전체 단어 빈도수 총 합\n",
    "rare_freq = 0 # 등장 빈도수가 threshold보다 작은 단어의 등장 빈도수의 총 합\n",
    "\n",
    "# 단어와 빈도수의 쌍(pair)을 key와 value로 받는다.\n",
    "for key, value in src_tokenizer.word_counts.items():\n",
    "    total_freq = total_freq + value\n",
    "\n",
    "    # 단어의 등장 빈도수가 threshold보다 작으면\n",
    "    if(value < threshold):\n",
    "        rare_cnt = rare_cnt + 1\n",
    "        rare_freq = rare_freq + value\n",
    "\n",
    "print('단어 집합(vocabulary)의 크기 :', total_cnt)\n",
    "print('등장 빈도가 %s번 이하인 희귀 단어의 수: %s'%(threshold - 1, rare_cnt))\n",
    "print('단어 집합에서 희귀 단어를 제외시킬 경우의 단어 집합의 크기 %s'%(total_cnt - rare_cnt))\n",
    "print(\"단어 집합에서 희귀 단어의 비율:\", (rare_cnt / total_cnt)*100)\n",
    "print(\"전체 등장 빈도에서 희귀 단어 등장 빈도 비율:\", (rare_freq / total_freq)*100)"
   ]
  },
  {
   "cell_type": "code",
   "execution_count": 33,
   "id": "thorough-ensemble",
   "metadata": {},
   "outputs": [],
   "source": [
    "src_vocab = 17000\n",
    "src_tokenizer = Tokenizer(num_words=src_vocab) # 단어 집합의 크기를 8,000으로 제한\n",
    "src_tokenizer.fit_on_texts(encoder_input_train) # 단어 집합 재생성."
   ]
  },
  {
   "cell_type": "code",
   "execution_count": 34,
   "id": "civilian-sydney",
   "metadata": {},
   "outputs": [
    {
     "name": "stdout",
     "output_type": "stream",
     "text": [
      "[[13, 1118, 481, 191, 21, 200, 292, 2730, 208, 1794, 775, 585, 462, 1600, 5545, 1, 1, 334, 117, 397, 704, 334, 139, 3303, 1118, 1118, 1085, 106, 686, 1088, 3882, 93, 5545, 4], [1923, 698, 16, 385, 1461, 1766, 10, 175, 63, 1088, 35, 305, 187, 578, 5856, 1439, 2217, 7936, 1043, 16, 1559, 5189, 15414, 2086, 16, 1559, 16170, 9836, 3177, 6740, 9837, 5856], [42, 5944, 693, 133, 2, 1379, 462, 12675, 9176, 1, 8, 237, 1625, 626, 118, 8, 5857, 7499, 266, 29, 815, 9176, 1, 2336, 16171, 1009, 1608, 2336, 673, 1608, 116, 116]]\n"
     ]
    }
   ],
   "source": [
    "# 텍스트 시퀀스를 정수 시퀀스로 변환\n",
    "encoder_input_train = src_tokenizer.texts_to_sequences(encoder_input_train) \n",
    "encoder_input_test = src_tokenizer.texts_to_sequences(encoder_input_test)\n",
    "\n",
    "# 잘 진행되었는지 샘플 출력\n",
    "print(encoder_input_train[:3])"
   ]
  },
  {
   "cell_type": "code",
   "execution_count": 35,
   "id": "speaking-sample",
   "metadata": {},
   "outputs": [],
   "source": [
    "tar_tokenizer = Tokenizer()\n",
    "tar_tokenizer.fit_on_texts(decoder_input_train)"
   ]
  },
  {
   "cell_type": "code",
   "execution_count": 36,
   "id": "separated-magnet",
   "metadata": {},
   "outputs": [
    {
     "name": "stdout",
     "output_type": "stream",
     "text": [
      "단어 집합(vocabulary)의 크기 : 28512\n",
      "등장 빈도가 5번 이하인 희귀 단어의 수: 18753\n",
      "단어 집합에서 희귀 단어를 제외시킬 경우의 단어 집합의 크기 9759\n",
      "단어 집합에서 희귀 단어의 비율: 65.77230639730641\n",
      "전체 등장 빈도에서 희귀 단어 등장 빈도 비율: 5.159425040470871\n"
     ]
    }
   ],
   "source": [
    "threshold = 6\n",
    "total_cnt = len(tar_tokenizer.word_index) # 단어의 수\n",
    "rare_cnt = 0 # 등장 빈도수가 threshold보다 작은 단어의 개수를 카운트\n",
    "total_freq = 0 # 훈련 데이터의 전체 단어 빈도수 총 합\n",
    "rare_freq = 0 # 등장 빈도수가 threshold보다 작은 단어의 등장 빈도수의 총 합\n",
    "\n",
    "# 단어와 빈도수의 쌍(pair)을 key와 value로 받는다.\n",
    "for key, value in tar_tokenizer.word_counts.items():\n",
    "    total_freq = total_freq + value\n",
    "\n",
    "    # 단어의 등장 빈도수가 threshold보다 작으면\n",
    "    if(value < threshold):\n",
    "        rare_cnt = rare_cnt + 1\n",
    "        rare_freq = rare_freq + value\n",
    "\n",
    "print('단어 집합(vocabulary)의 크기 :', total_cnt)\n",
    "print('등장 빈도가 %s번 이하인 희귀 단어의 수: %s'%(threshold - 1, rare_cnt))\n",
    "print('단어 집합에서 희귀 단어를 제외시킬 경우의 단어 집합의 크기 %s'%(total_cnt - rare_cnt))\n",
    "print(\"단어 집합에서 희귀 단어의 비율:\", (rare_cnt / total_cnt)*100)\n",
    "print(\"전체 등장 빈도에서 희귀 단어 등장 빈도 비율:\", (rare_freq / total_freq)*100)"
   ]
  },
  {
   "cell_type": "markdown",
   "id": "caroline-behalf",
   "metadata": {},
   "source": [
    "### 문자열 시퀀스에서 정수 시퀀스로 변환"
   ]
  },
  {
   "cell_type": "code",
   "execution_count": 37,
   "id": "thermal-closing",
   "metadata": {},
   "outputs": [
    {
     "name": "stdout",
     "output_type": "stream",
     "text": [
      "input\n",
      "input  [[1, 9, 343, 21, 452, 329, 1084, 11, 356, 16], [1, 1125, 19, 18, 40, 29, 165, 13, 1300, 408], [1, 46, 12, 2108, 755, 4752, 5, 101, 9, 22, 152, 1615], [1, 623, 438, 1722, 1315, 1074, 338, 4425, 112], [1, 1781, 4930, 265, 1698, 1040, 406, 4, 847]]\n",
      "target\n",
      "decoder  [[9, 343, 21, 452, 329, 1084, 11, 356, 16, 2], [1125, 19, 18, 40, 29, 165, 13, 1300, 408, 2], [46, 12, 2108, 755, 4752, 5, 101, 9, 22, 152, 1615, 2], [623, 438, 1722, 1315, 1074, 338, 4425, 112, 2], [1781, 4930, 265, 1698, 1040, 406, 4, 847, 2]]\n"
     ]
    }
   ],
   "source": [
    "tar_vocab = 10000\n",
    "tar_tokenizer = Tokenizer(num_words=tar_vocab) \n",
    "tar_tokenizer.fit_on_texts(decoder_input_train)\n",
    "tar_tokenizer.fit_on_texts(decoder_target_train)\n",
    "\n",
    "# 텍스트 시퀀스를 정수 시퀀스로 변환\n",
    "decoder_input_train = tar_tokenizer.texts_to_sequences(decoder_input_train) \n",
    "decoder_target_train = tar_tokenizer.texts_to_sequences(decoder_target_train)\n",
    "decoder_input_test = tar_tokenizer.texts_to_sequences(decoder_input_test)\n",
    "decoder_target_test = tar_tokenizer.texts_to_sequences(decoder_target_test)\n",
    "\n",
    "# 잘 변환되었는지 확인\n",
    "print('input')\n",
    "print('input ',decoder_input_train[:5])\n",
    "print('target')\n",
    "print('decoder ',decoder_target_train[:5])"
   ]
  },
  {
   "cell_type": "code",
   "execution_count": 38,
   "id": "smaller-feelings",
   "metadata": {},
   "outputs": [
    {
     "name": "stdout",
     "output_type": "stream",
     "text": [
      "삭제할 훈련 데이터의 개수 : 1\n",
      "삭제할 테스트 데이터의 개수 : 0\n"
     ]
    },
    {
     "name": "stderr",
     "output_type": "stream",
     "text": [
      "/opt/conda/lib/python3.7/site-packages/numpy/core/_asarray.py:83: VisibleDeprecationWarning: Creating an ndarray from ragged nested sequences (which is a list-or-tuple of lists-or-tuples-or ndarrays with different lengths or shapes) is deprecated. If you meant to do this, you must specify 'dtype=object' when creating the ndarray\n",
      "  return array(a, dtype, copy=False, order=order)\n"
     ]
    },
    {
     "name": "stdout",
     "output_type": "stream",
     "text": [
      "훈련 데이터의 개수 : 68674\n",
      "훈련 레이블의 개수 : 68674\n",
      "테스트 데이터의 개수 : 17168\n",
      "테스트 레이블의 개수 : 17168\n"
     ]
    }
   ],
   "source": [
    "drop_train = [index for index, sentence in enumerate(decoder_input_train) if len(sentence) == 1]\n",
    "drop_test = [index for index, sentence in enumerate(decoder_input_test) if len(sentence) == 1]\n",
    "\n",
    "print('삭제할 훈련 데이터의 개수 :', len(drop_train))\n",
    "print('삭제할 테스트 데이터의 개수 :', len(drop_test))\n",
    "\n",
    "encoder_input_train = np.delete(encoder_input_train, drop_train, axis=0)\n",
    "decoder_input_train = np.delete(decoder_input_train, drop_train, axis=0)\n",
    "decoder_target_train = np.delete(decoder_target_train, drop_train, axis=0)\n",
    "\n",
    "encoder_input_test = np.delete(encoder_input_test, drop_test, axis=0)\n",
    "decoder_input_test = np.delete(decoder_input_test, drop_test, axis=0)\n",
    "decoder_target_test = np.delete(decoder_target_test, drop_test, axis=0)\n",
    "\n",
    "print('훈련 데이터의 개수 :', len(encoder_input_train))\n",
    "print('훈련 레이블의 개수 :', len(decoder_input_train))\n",
    "print('테스트 데이터의 개수 :', len(encoder_input_test))\n",
    "print('테스트 레이블의 개수 :', len(decoder_input_test))"
   ]
  },
  {
   "cell_type": "markdown",
   "id": "engaged-robin",
   "metadata": {},
   "source": [
    "### 패딩하기"
   ]
  },
  {
   "cell_type": "code",
   "execution_count": 39,
   "id": "affiliated-dragon",
   "metadata": {},
   "outputs": [],
   "source": [
    "encoder_input_train = pad_sequences(encoder_input_train, maxlen=text_max_len, padding='pre')\n",
    "encoder_input_test = pad_sequences(encoder_input_test, maxlen=text_max_len, padding='pre')\n",
    "decoder_input_train = pad_sequences(decoder_input_train, maxlen=headlines_max_len, padding='pre')\n",
    "decoder_target_train = pad_sequences(decoder_target_train, maxlen=headlines_max_len, padding='pre')\n",
    "decoder_input_test = pad_sequences(decoder_input_test, maxlen=headlines_max_len, padding='pre')\n",
    "decoder_target_test = pad_sequences(decoder_target_test, maxlen=headlines_max_len, padding='pre')"
   ]
  },
  {
   "cell_type": "markdown",
   "id": "changing-drive",
   "metadata": {},
   "source": [
    "+ 더 나아가기\n",
    "\n",
    "padding post to pre"
   ]
  },
  {
   "cell_type": "markdown",
   "id": "emotional-blowing",
   "metadata": {},
   "source": [
    "### 모델 설계하기"
   ]
  },
  {
   "cell_type": "code",
   "execution_count": 40,
   "id": "deluxe-uzbekistan",
   "metadata": {},
   "outputs": [],
   "source": [
    "from tensorflow.keras.layers import Input, LSTM, Embedding, Dense, Concatenate\n",
    "from tensorflow.keras.models import Model\n",
    "from tensorflow.keras.callbacks import EarlyStopping, ModelCheckpoint\n",
    "\n",
    "\n",
    "# 인코더 설계 시작\n",
    "embedding_dim = 128\n",
    "hidden_size = 256\n",
    "\n",
    "# 인코더\n",
    "encoder_inputs = Input(shape=(text_max_len,))\n",
    "\n",
    "# 인코더의 임베딩 층\n",
    "enc_emb = Embedding(src_vocab, embedding_dim)(encoder_inputs)\n",
    "\n",
    "# 인코더의 LSTM 1\n",
    "encoder_lstm1 = LSTM(hidden_size, return_sequences=True, return_state=True ,dropout = 0.4)\n",
    "encoder_output1, state_h1, state_c1 = encoder_lstm1(enc_emb)\n",
    "\n",
    "# 인코더의 LSTM 2\n",
    "encoder_lstm2 = LSTM(hidden_size, return_sequences=True, return_state=True, dropout=0.4)\n",
    "encoder_output2, state_h2, state_c2 = encoder_lstm2(encoder_output1)\n",
    "\n",
    "# 인코더의 LSTM 3\n",
    "encoder_lstm3 = LSTM(hidden_size, return_state=True, return_sequences=True, dropout=0.4)\n",
    "encoder_outputs, state_h, state_c= encoder_lstm3(encoder_output2)"
   ]
  },
  {
   "cell_type": "code",
   "execution_count": 41,
   "id": "amazing-mystery",
   "metadata": {},
   "outputs": [],
   "source": [
    "# 디코더 설계\n",
    "decoder_inputs = Input(shape=(None,))\n",
    "\n",
    "# 디코더의 임베딩 층\n",
    "dec_emb_layer = Embedding(tar_vocab, embedding_dim)\n",
    "dec_emb = dec_emb_layer(decoder_inputs)\n",
    "\n",
    "# 디코더의 LSTM\n",
    "decoder_lstm = LSTM(hidden_size, return_sequences=True, return_state=True, dropout=0.4)\n",
    "decoder_outputs, _, _ = decoder_lstm(dec_emb, initial_state=[state_h, state_c])"
   ]
  },
  {
   "cell_type": "code",
   "execution_count": 42,
   "id": "separated-ready",
   "metadata": {},
   "outputs": [
    {
     "name": "stdout",
     "output_type": "stream",
     "text": [
      "Model: \"model\"\n",
      "__________________________________________________________________________________________________\n",
      "Layer (type)                    Output Shape         Param #     Connected to                     \n",
      "==================================================================================================\n",
      "input_1 (InputLayer)            [(None, 40)]         0                                            \n",
      "__________________________________________________________________________________________________\n",
      "embedding (Embedding)           (None, 40, 128)      2176000     input_1[0][0]                    \n",
      "__________________________________________________________________________________________________\n",
      "lstm (LSTM)                     [(None, 40, 256), (N 394240      embedding[0][0]                  \n",
      "__________________________________________________________________________________________________\n",
      "input_2 (InputLayer)            [(None, None)]       0                                            \n",
      "__________________________________________________________________________________________________\n",
      "lstm_1 (LSTM)                   [(None, 40, 256), (N 525312      lstm[0][0]                       \n",
      "__________________________________________________________________________________________________\n",
      "embedding_1 (Embedding)         (None, None, 128)    1280000     input_2[0][0]                    \n",
      "__________________________________________________________________________________________________\n",
      "lstm_2 (LSTM)                   [(None, 40, 256), (N 525312      lstm_1[0][0]                     \n",
      "__________________________________________________________________________________________________\n",
      "lstm_3 (LSTM)                   [(None, None, 256),  394240      embedding_1[0][0]                \n",
      "                                                                 lstm_2[0][1]                     \n",
      "                                                                 lstm_2[0][2]                     \n",
      "__________________________________________________________________________________________________\n",
      "dense (Dense)                   (None, None, 10000)  2570000     lstm_3[0][0]                     \n",
      "==================================================================================================\n",
      "Total params: 7,865,104\n",
      "Trainable params: 7,865,104\n",
      "Non-trainable params: 0\n",
      "__________________________________________________________________________________________________\n"
     ]
    }
   ],
   "source": [
    "# 디코더의 출력층\n",
    "# 단어장의 개수 tar_vocab 만큰 Dense의 인자로줌\n",
    "decoder_softmax_layer = Dense(tar_vocab, activation='softmax')\n",
    "decoder_softmax_outputs = decoder_softmax_layer(decoder_outputs) \n",
    "\n",
    "# 모델 정의\n",
    "model = Model([encoder_inputs, decoder_inputs], decoder_softmax_outputs)\n",
    "model.summary()"
   ]
  },
  {
   "cell_type": "code",
   "execution_count": 43,
   "id": "opposed-slave",
   "metadata": {},
   "outputs": [],
   "source": [
    "urllib.request.urlretrieve(\"https://raw.githubusercontent.com/thushv89/attention_keras/master/src/layers/attention.py\", filename=\"attention.py\")\n",
    "from attention import AttentionLayer"
   ]
  },
  {
   "cell_type": "markdown",
   "id": "backed-vampire",
   "metadata": {},
   "source": [
    "### 디코더의 출력층 수정"
   ]
  },
  {
   "cell_type": "code",
   "execution_count": 44,
   "id": "bacterial-genome",
   "metadata": {},
   "outputs": [
    {
     "name": "stdout",
     "output_type": "stream",
     "text": [
      "Model: \"model_1\"\n",
      "__________________________________________________________________________________________________\n",
      "Layer (type)                    Output Shape         Param #     Connected to                     \n",
      "==================================================================================================\n",
      "input_1 (InputLayer)            [(None, 40)]         0                                            \n",
      "__________________________________________________________________________________________________\n",
      "embedding (Embedding)           (None, 40, 128)      2176000     input_1[0][0]                    \n",
      "__________________________________________________________________________________________________\n",
      "lstm (LSTM)                     [(None, 40, 256), (N 394240      embedding[0][0]                  \n",
      "__________________________________________________________________________________________________\n",
      "input_2 (InputLayer)            [(None, None)]       0                                            \n",
      "__________________________________________________________________________________________________\n",
      "lstm_1 (LSTM)                   [(None, 40, 256), (N 525312      lstm[0][0]                       \n",
      "__________________________________________________________________________________________________\n",
      "embedding_1 (Embedding)         (None, None, 128)    1280000     input_2[0][0]                    \n",
      "__________________________________________________________________________________________________\n",
      "lstm_2 (LSTM)                   [(None, 40, 256), (N 525312      lstm_1[0][0]                     \n",
      "__________________________________________________________________________________________________\n",
      "lstm_3 (LSTM)                   [(None, None, 256),  394240      embedding_1[0][0]                \n",
      "                                                                 lstm_2[0][1]                     \n",
      "                                                                 lstm_2[0][2]                     \n",
      "__________________________________________________________________________________________________\n",
      "attention_layer (AttentionLayer ((None, None, 256),  131328      lstm_2[0][0]                     \n",
      "                                                                 lstm_3[0][0]                     \n",
      "__________________________________________________________________________________________________\n",
      "concat_layer (Concatenate)      (None, None, 512)    0           lstm_3[0][0]                     \n",
      "                                                                 attention_layer[0][0]            \n",
      "__________________________________________________________________________________________________\n",
      "dense_1 (Dense)                 (None, None, 10000)  5130000     concat_layer[0][0]               \n",
      "==================================================================================================\n",
      "Total params: 10,556,432\n",
      "Trainable params: 10,556,432\n",
      "Non-trainable params: 0\n",
      "__________________________________________________________________________________________________\n"
     ]
    }
   ],
   "source": [
    "# 어텐션 층(어텐션 함수)\n",
    "attn_layer = AttentionLayer(name='attention_layer')\n",
    "# 인코더와 디코더의 모든 time step의 hidden state를 어텐션 층에 전달하고 결과를 리턴\n",
    "attn_out, attn_states = attn_layer([encoder_outputs, decoder_outputs])\n",
    "\n",
    "# 어텐션의 결과와 디코더의 hidden state들을 연결\n",
    "decoder_concat_input = Concatenate(axis=-1, name='concat_layer')([decoder_outputs, attn_out])\n",
    "\n",
    "# 디코더의 출력층\n",
    "decoder_softmax_layer = Dense(tar_vocab, activation='softmax')\n",
    "decoder_softmax_outputs = decoder_softmax_layer(decoder_concat_input)\n",
    "\n",
    "# 모델 정의\n",
    "model = Model([encoder_inputs, decoder_inputs], decoder_softmax_outputs)\n",
    "model.summary()"
   ]
  },
  {
   "cell_type": "markdown",
   "id": "bridal-tragedy",
   "metadata": {},
   "source": [
    "+ 더 나아가기\n",
    "\n",
    "encoder_outpus와 decoder_outputs가 정확히 어떻게 생겼는지 잘 모르겠다."
   ]
  },
  {
   "cell_type": "code",
   "execution_count": 45,
   "id": "proof-nicaragua",
   "metadata": {},
   "outputs": [
    {
     "data": {
      "text/plain": [
       "TensorShape([None, None, 256])"
      ]
     },
     "execution_count": 45,
     "metadata": {},
     "output_type": "execute_result"
    }
   ],
   "source": [
    "decoder_outputs.shape"
   ]
  },
  {
   "cell_type": "code",
   "execution_count": 46,
   "id": "informed-costa",
   "metadata": {},
   "outputs": [
    {
     "name": "stdout",
     "output_type": "stream",
     "text": [
      "Epoch 1/50\n",
      "269/269 [==============================] - 78s 256ms/step - loss: 6.6085 - val_loss: 5.6052\n",
      "Epoch 2/50\n",
      "269/269 [==============================] - 68s 251ms/step - loss: 5.6104 - val_loss: 5.4524\n",
      "Epoch 3/50\n",
      "269/269 [==============================] - 68s 254ms/step - loss: 5.4415 - val_loss: 5.2939\n",
      "Epoch 4/50\n",
      "269/269 [==============================] - 70s 259ms/step - loss: 5.2636 - val_loss: 5.1636\n",
      "Epoch 5/50\n",
      "269/269 [==============================] - 71s 263ms/step - loss: 5.0974 - val_loss: 5.0467\n",
      "Epoch 6/50\n",
      "269/269 [==============================] - 71s 264ms/step - loss: 4.9655 - val_loss: 4.9539\n",
      "Epoch 7/50\n",
      "269/269 [==============================] - 71s 263ms/step - loss: 4.8287 - val_loss: 4.8634\n",
      "Epoch 8/50\n",
      "269/269 [==============================] - 71s 264ms/step - loss: 4.6947 - val_loss: 4.7278\n",
      "Epoch 9/50\n",
      "269/269 [==============================] - 72s 268ms/step - loss: 4.5294 - val_loss: 4.6157\n",
      "Epoch 10/50\n",
      "269/269 [==============================] - 72s 267ms/step - loss: 4.3658 - val_loss: 4.4462\n",
      "Epoch 11/50\n",
      "269/269 [==============================] - 72s 269ms/step - loss: 4.1357 - val_loss: 4.2626\n",
      "Epoch 12/50\n",
      "269/269 [==============================] - 71s 266ms/step - loss: 3.8838 - val_loss: 4.1215\n",
      "Epoch 13/50\n",
      "269/269 [==============================] - 71s 263ms/step - loss: 3.6681 - val_loss: 4.0167\n",
      "Epoch 14/50\n",
      "269/269 [==============================] - 72s 267ms/step - loss: 3.4726 - val_loss: 3.9429\n",
      "Epoch 15/50\n",
      "269/269 [==============================] - 71s 264ms/step - loss: 3.3172 - val_loss: 3.8900\n",
      "Epoch 16/50\n",
      "269/269 [==============================] - 71s 263ms/step - loss: 3.1717 - val_loss: 3.8549\n",
      "Epoch 17/50\n",
      "269/269 [==============================] - 71s 264ms/step - loss: 3.0449 - val_loss: 3.8296\n",
      "Epoch 18/50\n",
      "269/269 [==============================] - 70s 262ms/step - loss: 2.9374 - val_loss: 3.8085\n",
      "Epoch 19/50\n",
      "269/269 [==============================] - 71s 263ms/step - loss: 2.8404 - val_loss: 3.8007\n",
      "Epoch 20/50\n",
      "269/269 [==============================] - 70s 262ms/step - loss: 2.7527 - val_loss: 3.7957\n",
      "Epoch 21/50\n",
      "269/269 [==============================] - 70s 260ms/step - loss: 2.6676 - val_loss: 3.7906\n",
      "Epoch 22/50\n",
      "269/269 [==============================] - 70s 262ms/step - loss: 2.5753 - val_loss: 3.7904\n",
      "Epoch 23/50\n",
      "269/269 [==============================] - 71s 263ms/step - loss: 2.5139 - val_loss: 3.7970\n",
      "Epoch 24/50\n",
      "269/269 [==============================] - 69s 257ms/step - loss: 2.4391 - val_loss: 3.8004\n",
      "Epoch 00024: early stopping\n"
     ]
    }
   ],
   "source": [
    "model.compile(optimizer='adam', loss='sparse_categorical_crossentropy')\n",
    "es = EarlyStopping(monitor='val_loss', patience=2, verbose=1)\n",
    "history = model.fit(x=[encoder_input_train, decoder_input_train], y=decoder_target_train, \\\n",
    "          validation_data=([encoder_input_test, decoder_input_test], decoder_target_test), \\\n",
    "          batch_size=256, callbacks=[es], epochs=50)"
   ]
  },
  {
   "cell_type": "code",
   "execution_count": 47,
   "id": "registered-destruction",
   "metadata": {},
   "outputs": [
    {
     "data": {
      "image/png": "[encoded data removed]",
      "text/plain": [
       "<Figure size 432x288 with 1 Axes>"
      ]
     },
     "metadata": {
      "needs_background": "light"
     },
     "output_type": "display_data"
    }
   ],
   "source": [
    "plt.plot(history.history['loss'], label='train')\n",
    "plt.plot(history.history['val_loss'], label='test')\n",
    "plt.legend()\n",
    "plt.show()"
   ]
  },
  {
   "cell_type": "code",
   "execution_count": 48,
   "id": "superb-version",
   "metadata": {},
   "outputs": [],
   "source": [
    "src_index_to_word = src_tokenizer.index_word # 원문 단어 집합에서 정수 -> 단어를 얻음\n",
    "tar_word_to_index = tar_tokenizer.word_index # 요약 단어 집합에서 단어 -> 정수를 얻음\n",
    "tar_index_to_word = tar_tokenizer.index_word # 요약 단어 집합에서 정수 -> 단어를 얻음"
   ]
  },
  {
   "cell_type": "code",
   "execution_count": 49,
   "id": "copyrighted-style",
   "metadata": {},
   "outputs": [],
   "source": [
    "# 인코더 설계\n",
    "encoder_model = Model(inputs=encoder_inputs, outputs=[encoder_outputs, state_h, state_c])\n",
    "\n",
    "# 이전 시점의 상태들을 저장하는 텐서\n",
    "decoder_state_input_h = Input(shape=(hidden_size,))\n",
    "decoder_state_input_c = Input(shape=(hidden_size,))\n",
    "\n",
    "dec_emb2 = dec_emb_layer(decoder_inputs)\n",
    "\n",
    "# 문장의 다음 단어를 예측하기 위해서 초기 상태(initial_state)를 이전 시점의 상태로 사용. 이는 뒤의 함수 decode_sequence()에 구현\n",
    "# 훈련 과정에서와 달리 LSTM의 리턴하는 은닉 상태와 셀 상태인 state_h와 state_c를 버리지 않음.\n",
    "decoder_outputs2, state_h2, state_c2 = decoder_lstm(dec_emb2, initial_state=[decoder_state_input_h, decoder_state_input_c])"
   ]
  },
  {
   "cell_type": "code",
   "execution_count": 50,
   "id": "capable-christianity",
   "metadata": {},
   "outputs": [],
   "source": [
    "# 인코더 설계\n",
    "encoder_model = Model(inputs=encoder_inputs, outputs=[encoder_outputs, state_h, state_c])\n",
    "\n",
    "# 이전 시점의 상태들을 저장하는 텐서\n",
    "decoder_state_input_h = Input(shape=(hidden_size,))\n",
    "decoder_state_input_c = Input(shape=(hidden_size,))\n",
    "\n",
    "dec_emb2 = dec_emb_layer(decoder_inputs)\n",
    "\n",
    "# 문장의 다음 단어를 예측하기 위해서 초기 상태(initial_state)를 이전 시점의 상태로 사용. 이는 뒤의 함수 decode_sequence()에 구현\n",
    "# 훈련 과정에서와 달리 LSTM의 리턴하는 은닉 상태와 셀 상태인 state_h와 state_c를 버리지 않음.\n",
    "decoder_outputs2, state_h2, state_c2 = decoder_lstm(dec_emb2, initial_state=[decoder_state_input_h, decoder_state_input_c])"
   ]
  },
  {
   "cell_type": "code",
   "execution_count": 51,
   "id": "integral-region",
   "metadata": {},
   "outputs": [],
   "source": [
    "# 어텐션 함수\n",
    "decoder_hidden_state_input = Input(shape=(text_max_len, hidden_size))\n",
    "attn_out_inf, attn_states_inf = attn_layer([decoder_hidden_state_input, decoder_outputs2])\n",
    "decoder_inf_concat = Concatenate(axis=-1, name='concat')([decoder_outputs2, attn_out_inf])\n",
    "\n",
    "# 디코더의 출력층\n",
    "decoder_outputs2 = decoder_softmax_layer(decoder_inf_concat) \n",
    "\n",
    "# 최종 디코더 모델\n",
    "decoder_model = Model(\n",
    "    [decoder_inputs] + [decoder_hidden_state_input,decoder_state_input_h, decoder_state_input_c],\n",
    "    [decoder_outputs2] + [state_h2, state_c2])"
   ]
  },
  {
   "cell_type": "code",
   "execution_count": 55,
   "id": "aerial-floating",
   "metadata": {},
   "outputs": [],
   "source": [
    "def decode_sequence(input_seq):\n",
    "    # 입력으로부터 인코더의 상태를 얻음\n",
    "    e_out, e_h, e_c = encoder_model.predict(input_seq)\n",
    "\n",
    "     # <SOS>에 해당하는 토큰 생성\n",
    "    target_seq = np.zeros((1,1))\n",
    "    target_seq[0, 0] = tar_word_to_index['sostoken']\n",
    "\n",
    "    stop_condition = False\n",
    "    decoded_sentence = ''\n",
    "    while not stop_condition: # stop_condition이 True가 될 때까지 루프 반복\n",
    "\n",
    "        output_tokens, h, c = decoder_model.predict([target_seq] + [e_out, e_h, e_c])\n",
    "        sampled_token_index = np.argmax(output_tokens[0, -1, :])\n",
    "        sampled_token = tar_index_to_word[sampled_token_index]\n",
    "\n",
    "        if (sampled_token!='eostoken'):\n",
    "            decoded_sentence += ' '+sampled_token\n",
    "\n",
    "        #  <eos>에 도달하거나 최대 길이를 넘으면 중단.\n",
    "        if (sampled_token == 'eostoken'  or len(decoded_sentence.split()) >= (headlines_max_len-1)):\n",
    "            stop_condition = True\n",
    "\n",
    "        # 길이가 1인 타겟 시퀀스를 업데이트\n",
    "        target_seq = np.zeros((1,1))\n",
    "        target_seq[0, 0] = sampled_token_index\n",
    "\n",
    "        # 상태를 업데이트 합니다.\n",
    "        e_h, e_c = h, c\n",
    "\n",
    "    return decoded_sentence"
   ]
  },
  {
   "cell_type": "code",
   "execution_count": 56,
   "id": "balanced-assessment",
   "metadata": {},
   "outputs": [],
   "source": [
    "# 원문의 정수 시퀀스를 텍스트 시퀀스로 변환\n",
    "def seq2text(input_seq):\n",
    "    temp=''\n",
    "    for i in input_seq:\n",
    "        if (i!=0):\n",
    "            temp = temp + src_index_to_word[i]+' '\n",
    "    return temp\n",
    "\n",
    "# 요약문의 정수 시퀀스를 텍스트 시퀀스로 변환\n",
    "def seq2summary(input_seq):\n",
    "    temp=''\n",
    "    for i in input_seq:\n",
    "        if ((i!=0 and i!=tar_word_to_index['sostoken']) and i!=tar_word_to_index['eostoken']):\n",
    "            temp = temp + tar_index_to_word[i] + ' '\n",
    "    return temp"
   ]
  },
  {
   "cell_type": "code",
   "execution_count": 57,
   "id": "mature-gallery",
   "metadata": {},
   "outputs": [
    {
     "name": "stdout",
     "output_type": "stream",
     "text": [
      "원문 : pooja bhatt asked half sister alia bhatt relationship ranbir kapoor said let young girl enjoy life think job entertaining india world really well added pooja said alia personal life problem \n",
      "실제 요약 : we should let her enjoy pooja on sister alia dating ranbir \n",
      "예측 요약 :  alia bhatt is my son alia on alia bhatt wedding\n",
      "\n",
      "\n",
      "원문 : bat papua new guinea supposedly holds resemblance star wars character officially recognised new species first discovered scientists tube fruit bat word happy expression smile like nn \n",
      "실제 요약 : bat star wars recognised as new species \n",
      "예측 요약 :  video shows how did the fault in the world title\n",
      "\n",
      "\n",
      "원문 : cow halted play club cricket match england recently cricket club posted video incident shows fast moving cow charging players umpire match english club spectators heard laughing lady shouted oh god animal picked pace avoided official \n",
      "실제 요약 : cow halts play during club cricket match in england \n",
      "예측 요약 :  ball tampering aimed at lord shiva throws him in cricket\n",
      "\n",
      "\n",
      "원문 : rajkummar rao starrer newton named best hindi feature film th national film awards announced friday actor pankaj tripathi got special mention performance film revolves around government clerk election duty naxal controlled town meanwhile baahubali got award best action film \n",
      "실제 요약 : newton wins national award for best hindi feature film \n",
      "예측 요약 :  rajkummar rao to star in tamil film in tamil film\n",
      "\n",
      "\n",
      "원문 : karnataka cm siddaramaiah thursday accepted nine member committee design proposed official state flag committee set last year examine legal feasibility official state flag demands pro kannada activists centre proposal karnataka second state separate flag jammu kashmir \n",
      "실제 요약 : karnataka government unveils official state flag \n",
      "예측 요약 :  taka cm urges to pay to name english flag bearer\n",
      "\n",
      "\n",
      "원문 : international association ranked indian pm narendra modi number three world leader annual survey highest ever rank bagged indian pm global polls us president donald trump russian counterpart vladimir putin ranked eleventh sixth position respectively survey \n",
      "실제 요약 : pm modi named no world leader ahead of trump putin \n",
      "예측 요약 :  india pm modi to step down as iran pm modi\n",
      "\n",
      "\n",
      "원문 : union health ministry friday revealed maharashtra generates highest amount waste india state produced kilograms waste used amputated body parts daily officials said advanced medical treatment facilities better reporting network state contributed high figures \n",
      "실제 요약 : maharashtra produces most waste in india \n",
      "예측 요약 :  govt proposes plastic to give plastic to plastic in ganga\n",
      "\n",
      "\n",
      "원문 : five army jawans gone missing avalanche hit post along line control jammu kashmir district heavy snowfall reported around feet snow accumulated area notably three soldiers died april avalanche hit post sector state \n",
      "실제 요약 : jawans missing after avalanche hits army post in \n",
      "예측 요약 :  army major jawans in jammu and kashmir army in jammu\n",
      "\n",
      "\n",
      "원문 : women child development ministry proposed compulsory boys girls study home science physical education school order promote gender sensitivity ministry reportedly made several recommendations aimed gender roles starting young age creating new employment opportunities women \n",
      "실제 요약 : home science may become mandatory for boys in school \n",
      "예측 요약 :  girls can be taught gita on girls in school doctors\n",
      "\n",
      "\n",
      "원문 : state owned oil firms tuesday reduced price jet fuel record making cheaper petrol diesel second straight monthly reduction comes amid decline international crude oil prices delhi jet fuel costs per per litre petrol diesel cost per litre respectively \n",
      "실제 요약 : jet fuel price cut by costs less than petrol diesel \n",
      "예측 요약 :  petrol price cut by litre diesel in straight year high\n",
      "\n",
      "\n",
      "원문 : indian test opener murali vijay slammed twitter users mentioning dinesh karthik name congratulatory tweet following india tri series victory bro like set aside mention real hero user wrote notably murali vijay married dinesh karthik ex wife \n",
      "실제 요약 : vijay slammed for ignoring karthik in tweet \n",
      "예측 요약 :  paine wife slams me for not knowing about his bat\n",
      "\n",
      "\n",
      "원문 : man monday tried commit suicide slitting throat visakhapatnam court convicted sentenced years jail ganja smuggling case man seven others caught kg ganja bail might expecting conviction police said \n",
      "실제 요약 : man given yr jail in ganja case attempts suicide in court \n",
      "예측 요약 :  man stabs wife for killing man who chopped off them\n",
      "\n",
      "\n",
      "원문 : central bureau investigation monday raided headquarters new delhi find evidence alleged bribery case involving rakesh asthana second top ranked official cbi also arrested deputy superintendent police kumar case asthana accused taking crore bribes meat exporter qureshi corruption case \n",
      "실제 요약 : cbi raids cbi headquarters in case involving cbi nd top officer \n",
      "예측 요약 :  cbi raids probe on corruption cases in delhi till jan\n",
      "\n",
      "\n",
      "원문 : mahindra mahindra used vehicles selling subsidiary mahindra first choice wheels raised million funding existing investors funding round mumbai based company valued million company said friday founded mahindra first choice wheels also multi brand car \n",
      "실제 요약 : mahindra used vehicle raises million \n",
      "예측 요약 :  mahindra mahindra raises cr in pre funding round of crore\n",
      "\n",
      "\n",
      "원문 : bombay high court wednesday declared arrest pnb scam accused kavita cbi illegal taken custody law says woman shall arrested nirav modi executive assistant authorised three group firms \n",
      "실제 요약 : pnb scam accused arrest after illegal bombay hc \n",
      "예측 요약 :  hc orders cbi probe into arrest of nirav modi case\n",
      "\n",
      "\n",
      "원문 : man john martin river one seater accidentally entered sea crossing russia region us embassy moscow said working local authorities assist detained american citizen countries divided kilometres wide point \n",
      "실제 요약 : alaska man accidentally crosses sea lands in russia \n",
      "예측 요약 :  man jumps into nuclear attack on us nuclear plant found\n",
      "\n",
      "\n",
      "원문 : mars could harbour life scientists believe finding bacteria chile desert lie dormant without rain decade gets less rainfall annually considered earth place left soil year two microbes began dormant state \n",
      "실제 요약 : bacteria survive for years in world desert study \n",
      "예측 요약 :  scientists find how to find how to find the moon\n",
      "\n",
      "\n",
      "원문 : reddit user shared picture breakup letter wrote gym end membership letter wrote moved onto new facility adding still love like friend point notably gym requires members write certified letters end \n",
      "실제 요약 : man writes breakup letter to gym to end membership \n",
      "예측 요약 :  am not say what is not on twitter hailey challenge\n",
      "\n",
      "\n",
      "원문 : talking banking frauds reserve bank india governor urjit patel said need face consuming poison duty added banking frauds amount looting country future business community conspiring lenders \n",
      "실제 요약 : will be and drink this poison rbi guv on frauds \n",
      "예측 요약 :  no action against rbi guv to rbi to bank frauds\n",
      "\n",
      "\n",
      "원문 : indian jewellery designer nirav modi booked cbi cheating punjab national bank crore modi founder billion firestar diamond jewellery across world including london new york las vegas notably modi also raided income tax officials january \n",
      "실제 요약 : celeb jeweller nirav modi booked in crore cheating case \n",
      "예측 요약 :  nirav modi firm arrested for defrauding india of crore fraud\n",
      "\n",
      "\n",
      "원문 : nasa parker solar probe completed flyby around planet venus journey towards sun launched august spacecraft make six venus gravity take within million kilometres sun seven year mission named astrophysicist parker first predicted existence solar wind \n",
      "실제 요약 : nasa mission to touch the sun completes first venus \n",
      "예측 요약 :  nasa rover to touch closest to touch in space station\n",
      "\n",
      "\n",
      "원문 : indian spinner ravichandran ashwin broken record wickets single test season taking th season dharamsala test australia saturday ashwin went past south african pacer dale steyn claimed wickets tests ashwin taken seven five wicket hauls season matches \n",
      "실제 요약 : ashwin breaks record for most wickets in test season \n",
      "예측 요약 :  ashwin overtakes ashwin to score in nd highest test in\n",
      "\n",
      "\n",
      "원문 : communications minister manoj sinha wednesday announced call charges per minute reduced per minute soldiers diwali gift monthly charge paid soldiers officers using digital satellite phone terminal service also removed soldiers speak families longer sinha said \n",
      "실제 요약 : government reduces call charges for soldiers as diwali gift \n"
     ]
    },
    {
     "name": "stdout",
     "output_type": "stream",
     "text": [
      "예측 요약 :  govt to set up petrol pumps in petrol pump unit\n",
      "\n",
      "\n",
      "원문 : delhi high court upheld indian air force order cancelling man appointment post permanent tattoo sported outside forearm man iaf guidelines allowed tattoos certain body parts submit required photograph tattoo job application \n",
      "실제 요약 : hc upholds iaf order man appointment over tattoo \n",
      "예측 요약 :  hc orders delhi hc to probe new york for years\n",
      "\n",
      "\n",
      "원문 : winner billionaire elon musk spacex hyperloop pod design competition monday achieved top speed kmph pod team technical university munich beat two finalists switzerland northeastern university memorial university winning pod weighed kg powered motor \n",
      "실제 요약 : winner of musk hyperloop challenge tops speed of kmph \n",
      "예측 요약 :  elon musk spacex first gen to launch first ever city\n",
      "\n",
      "\n",
      "원문 : filmmaker christopher nolan revealed watched oscar winning film la la land thrice added think almost went back see good thought notably emma stone ryan gosling starrer la la land six oscar awards received record fourteen oscar nominations \n",
      "실제 요약 : christopher nolan reveals he watched la la land thrice \n",
      "예측 요약 :  tom cruise to be in the last jedi hits theatres\n",
      "\n",
      "\n",
      "원문 : delhi government issued legal notice director producers actors recently released film ho seeking removal smoking scenes official said sunday also scenes displaying brands tobacco products official added brand promotion tobacco products direct indirect banned statement said \n",
      "실제 요약 : delhi govt asks ho makers to remove smoking scenes \n",
      "예측 요약 :  delhi hc denies notice to raveena on film on film\n",
      "\n",
      "\n",
      "원문 : elon musk founder aerospace startup spacex co founder tesla launched artificial intelligence startup wall street journal reports create devices implanted human brains help keep machines february musk launched boring company startup tunnels avoid traffic \n",
      "실제 요약 : elon musk launches artificial intelligence startup \n",
      "예측 요약 :  elon musk shares video of ai ai chips for ai\n",
      "\n",
      "\n",
      "원문 : mercedes parent company daimler introduced car lights warn driver dangers project warning symbols road instance pedestrian detected danger zone near road arrow pointing towards appears road surface called digital light also controlled distribute light particular way \n",
      "실제 요약 : mercedes launches car light warning signs on road \n",
      "예측 요약 :  mercedes benz cars to be installed in the road cars\n",
      "\n",
      "\n",
      "원문 : nine crpf personnel tuesday lost lives ied blast naxals chhattisgarh sukma district reports said naxals carried ambush attack crpf personnel mine protected vehicle blown personnel operation area reports added \n",
      "실제 요약 : crpf personnel martyred in naxal attack in chhattisgarh \n",
      "예측 요약 :  crpf jawans die after being hit by naxals in chhattisgarh\n",
      "\n",
      "\n",
      "원문 : india set test fire supersonic cruise missile brahmos sukhoi fighter jet bid improve ability carry deep surgical strikes firing supersonic cruise missile fighter jet would first india reportedly sukhoi fighter jets armed missiles tests successful \n",
      "실제 요약 : india to arm fighters with brahmos cruise missiles \n",
      "예측 요약 :  brahmos missile capable agni ii missile fired after brahmos missile\n",
      "\n",
      "\n",
      "원문 : personal safety dignity migrants national security pope francis said point action plan calling governments welcome protect promote integrate refugees migrants adding world facing largest movement displaced people recent memory pope urged countries contribute solving migration crisis \n",
      "실제 요약 : prioritise migrants dignity over national security pope \n",
      "예측 요약 :  pope francis urges eu to legalise migrants in europe war\n",
      "\n",
      "\n",
      "원문 : sachin tendulkar made international debut november played last innings international cricket date years later sachin debuted pakistan karachi aged years days becoming youngest indian play test last test innings sachin slammed windies wankhede stadium mumbai \n",
      "실제 요약 : sachin debut last innings were on same day years apart \n",
      "예측 요약 :  sachin scored his first int century in int cricket match\n",
      "\n",
      "\n",
      "원문 : speaking indian captain virat kohli spinner harbhajan singh said easy virat kohli one guy takes load shoulder salute guy way goes business every time walks field expectations unbelievable harbhajan added \n",
      "실제 요약 : it is not easy being virat kohli harbhajan singh \n",
      "예측 요약 :  virat kohli is the sport virat kohli on virat kohli\n",
      "\n",
      "\n",
      "원문 : sachin tendulkar made international debut november played last innings international cricket date years later sachin debuted pakistan karachi aged years days becoming youngest indian play test last test innings sachin slammed windies mumbai wankhede stadium \n",
      "실제 요약 : sachin debut last int innings were on same day years apart \n",
      "예측 요약 :  sachin scored his first int ton in int cricket match\n",
      "\n",
      "\n",
      "원문 : dell gaming laptop priced offers users great gaming great price said pc advisor called performance hours battery life jaw dell giving users option pay laptop exciting emi schemes instalments starting per month \n",
      "실제 요약 : dell laptop offers great gaming at great price review \n",
      "예측 요약 :  phone to be shut down after kkr trip unsold report\n",
      "\n",
      "\n",
      "원문 : power minister rk singh asked major air manufacturers maintain default temperature setting degree celsius aim promote energy efficiency every degree increase air temperature setting results saving electricity consumed singh said said countries like japan regulated temperature degree \n",
      "실제 요약 : govt asks ac makers to maintain default temperature at \n",
      "예측 요약 :  air india to be made in the year high min\n",
      "\n",
      "\n",
      "원문 : many children fell ill due food poisoning consuming roadside eatery district bihar saturday police said taken primary health centre complained nausea police added children danger \n",
      "실제 요약 : children fall ill after eating roadside food in bihar \n",
      "예측 요약 :  dead fall sick after fall sick on food in up\n",
      "\n",
      "\n",
      "원문 : election campaigning uk june election suspended wake twin terrorist attacks london saturday second time last month manchester attack people killed uk pm theresa may convened emergency committee discuss response uk third terrorist attack three months \n",
      "실제 요약 : uk election campaigning suspended again after london attack \n",
      "예측 요약 :  uk army unit hacked to fight terror terror attack report\n",
      "\n",
      "\n",
      "원문 : portuguese navigation company gps added us president donald trump voice navigation software approaching fixed radar fake news says one instructions reached destination let us make navigation great okay says another instruction \n",
      "실제 요약 : gps software that donald trump voice made \n",
      "예측 요약 :  trump to be renamed as us spy on fake news\n",
      "\n",
      "\n",
      "원문 : year old bjp worker found hanging tree west bengal wednesday bjp politics age trying kill since election failed today dead killer wrote shirt note similar warning found feet \n",
      "실제 요약 : bjp worker found hanging from tree with killer note on shirt \n",
      "예측 요약 :  bjp leader dies after being beaten up to bjp leader\n",
      "\n",
      "\n",
      "원문 : asserting centre encouraging states set fast track courts union minister ravi shankar prasad said courts functional across india notably th finance commission recommended setting fast track courts strengthen judicial system added uttar pradesh highest number courts \n",
      "실제 요약 : fast track courts across india govt \n",
      "예측 요약 :  up to hear up to hear up to discuss policy\n",
      "\n",
      "\n",
      "원문 : supreme court tuesday ruled members parliament members legislative assemblies cannot barred practising law apex court said mps mlas practise law full time salaried employees judgment delivered petition filed bjp ashwini kumar upadhyay sought ban lawmakers practising law \n",
      "실제 요약 : mps mlas cannot be barred from practising law supreme court \n",
      "예측 요약 :  sc allows mps to mps mps mps to mps mps\n",
      "\n",
      "\n",
      "원문 : gunman killed people injured others las vegas music festival sunday night killed police arrived according reports year old attacker stephen paddock guns believed associated militant group police said \n",
      "실제 요약 : las vegas shooter killed himself had over guns reports \n",
      "예측 요약 :  dead injured in shooting at las vegas shooting in london\n",
      "\n",
      "\n",
      "원문 : actor ranveer singh talking fashion choices interview said would never cross dress bit extreme reminded time worn skirt award show said yeah like man skirt added always unique sense style \n",
      "실제 요약 : would never cross dress ranveer singh on his fashion choices \n",
      "예측 요약 :  am not slave to be called me in my ranveer\n",
      "\n",
      "\n",
      "원문 : least people killed others injured monday car bomb exploded afghanistan capital kabul official said taliban fighting western backed government nato led coalition control afghanistan claimed responsibility attack notably third terror attack afghanistan last two months \n",
      "실제 요약 : killed injured in kabul car bomb blast by taliban \n"
     ]
    },
    {
     "name": "stdout",
     "output_type": "stream",
     "text": [
      "예측 요약 :  killed injured in suicide attack on afghan air base attack\n",
      "\n",
      "\n",
      "원문 : ms dhoni filed case real estate firm amrapali group alleging paid dues worth crore firm brand ambassador per reports dhoni quit ambassador slammed twitter association firm defaulted delivery several housing projects \n",
      "실제 요약 : ms dhoni sues amrapali group over crore dues reports \n",
      "예측 요약 :  ex bigg boss contestant accused of cr ponzi scam reports\n",
      "\n",
      "\n",
      "원문 : us president donald trump said trade measures china working far better anyone ever anticipated adding china first time poorly us tariffs make country much richer today added recently china threatened impose import tariffs billion worth us goods \n",
      "실제 요약 : tariffs on china working far better than trump \n",
      "예측 요약 :  china trade to be totally in china trade programme trump\n",
      "\n",
      "\n",
      "원문 : congress leader shashi tharoor sunday defended comment referring pm narendra modi scorpion sitting saying comment made rss leader public domain six years media bjp desire controversy profession develop self respect added \n",
      "실제 요약 : scorpion comment in public domain for years tharoor \n",
      "예측 요약 :  tharoor retweets shashi tharoor on his name of his jibe\n",
      "\n",
      "\n",
      "원문 : fmcg major industries monday reported rise net profit second quarter ended september current fiscal crore company posted net profit crore july september period year ago total income operations crore \n",
      "실제 요약 : industries net profit rises by to crore \n",
      "예측 요약 :  tcs profit rises to crore in september quarter in sept\n",
      "\n",
      "\n"
     ]
    }
   ],
   "source": [
    "for i in range(50, 100):\n",
    "    print(\"원문 :\", seq2text(encoder_input_test[i]))\n",
    "    print(\"실제 요약 :\", seq2summary(decoder_input_test[i]))\n",
    "    print(\"예측 요약 :\", decode_sequence(encoder_input_test[i].reshape(1, text_max_len)))\n",
    "    print(\"\\n\")"
   ]
  },
  {
   "cell_type": "markdown",
   "id": "temporal-patch",
   "metadata": {},
   "source": [
    "### 성능 개선법\n",
    "\n",
    "- seq2seq와 어텐션의 자체 조합을 더 좋게 수정\n",
    "- 빔 서치(beam search), 사전 훈련된 워드 임베딩 (pre-trained word embedding)\n",
    "- 인코더 - 디코더 자체의 구조를 새로이 변경한 하는 트랜스포머(Transformer)와 같은 여러 개선 방안들이 존재"
   ]
  },
  {
   "cell_type": "markdown",
   "id": "contemporary-hughes",
   "metadata": {},
   "source": [
    "# 추출적 요약"
   ]
  },
  {
   "cell_type": "code",
   "execution_count": 58,
   "id": "front-binding",
   "metadata": {},
   "outputs": [],
   "source": [
    "import requests\n",
    "from summa.summarizer import summarize"
   ]
  },
  {
   "cell_type": "code",
   "execution_count": 62,
   "id": "fixed-registration",
   "metadata": {},
   "outputs": [
    {
     "name": "stdout",
     "output_type": "stream",
     "text": [
      "전체 샘플수 : 98401\n"
     ]
    }
   ],
   "source": [
    "urllib.request.urlretrieve(\"https://raw.githubusercontent.com/sunnysai12345/News_Summary/master/news_summary_more.csv\", filename=\"news_summary_more.csv\")\n",
    "data = pd.read_csv('news_summary_more.csv', encoding='iso-8859-1')\n",
    "print('전체 샘플수 :', (len(data)))"
   ]
  },
  {
   "cell_type": "code",
   "execution_count": 63,
   "id": "excess-syria",
   "metadata": {},
   "outputs": [
    {
     "data": {
      "text/html": [
       "<div>\n",
       "<style scoped>\n",
       "    .dataframe tbody tr th:only-of-type {\n",
       "        vertical-align: middle;\n",
       "    }\n",
       "\n",
       "    .dataframe tbody tr th {\n",
       "        vertical-align: top;\n",
       "    }\n",
       "\n",
       "    .dataframe thead th {\n",
       "        text-align: right;\n",
       "    }\n",
       "</style>\n",
       "<table border=\"1\" class=\"dataframe\">\n",
       "  <thead>\n",
       "    <tr style=\"text-align: right;\">\n",
       "      <th></th>\n",
       "      <th>headlines</th>\n",
       "      <th>text</th>\n",
       "    </tr>\n",
       "  </thead>\n",
       "  <tbody>\n",
       "    <tr>\n",
       "      <th>0</th>\n",
       "      <td>upGrad learner switches to career in ML &amp; Al w...</td>\n",
       "      <td>Saurav Kant, an alumnus of upGrad and IIIT-B's...</td>\n",
       "    </tr>\n",
       "    <tr>\n",
       "      <th>1</th>\n",
       "      <td>Delhi techie wins free food from Swiggy for on...</td>\n",
       "      <td>Kunal Shah's credit card bill payment platform...</td>\n",
       "    </tr>\n",
       "    <tr>\n",
       "      <th>2</th>\n",
       "      <td>New Zealand end Rohit Sharma-led India's 12-ma...</td>\n",
       "      <td>New Zealand defeated India by 8 wickets in the...</td>\n",
       "    </tr>\n",
       "    <tr>\n",
       "      <th>3</th>\n",
       "      <td>Aegon life iTerm insurance plan helps customer...</td>\n",
       "      <td>With Aegon Life iTerm Insurance plan, customer...</td>\n",
       "    </tr>\n",
       "    <tr>\n",
       "      <th>4</th>\n",
       "      <td>Have known Hirani for yrs, what if MeToo claim...</td>\n",
       "      <td>Speaking about the sexual harassment allegatio...</td>\n",
       "    </tr>\n",
       "  </tbody>\n",
       "</table>\n",
       "</div>"
      ],
      "text/plain": [
       "                                           headlines  \\\n",
       "0  upGrad learner switches to career in ML & Al w...   \n",
       "1  Delhi techie wins free food from Swiggy for on...   \n",
       "2  New Zealand end Rohit Sharma-led India's 12-ma...   \n",
       "3  Aegon life iTerm insurance plan helps customer...   \n",
       "4  Have known Hirani for yrs, what if MeToo claim...   \n",
       "\n",
       "                                                text  \n",
       "0  Saurav Kant, an alumnus of upGrad and IIIT-B's...  \n",
       "1  Kunal Shah's credit card bill payment platform...  \n",
       "2  New Zealand defeated India by 8 wickets in the...  \n",
       "3  With Aegon Life iTerm Insurance plan, customer...  \n",
       "4  Speaking about the sexual harassment allegatio...  "
      ]
     },
     "execution_count": 63,
     "metadata": {},
     "output_type": "execute_result"
    }
   ],
   "source": [
    "data.head()"
   ]
  },
  {
   "cell_type": "code",
   "execution_count": 98,
   "id": "retired-wednesday",
   "metadata": {},
   "outputs": [
    {
     "data": {
      "text/plain": [
       "array(['Shiv Sena chief Uddhav Thackeray has slammed Prime Minister Narendra Modi for \\'centralising power\\' and taking away the independence of the states. \"Do we have true democracy in the country if all affairs are going to be run according to the wishes of the Prime Minister?\" Thackeray questioned in an interview to the party\\'s mouthpiece Saamana.'],\n",
       "      dtype=object)"
      ]
     },
     "execution_count": 98,
     "metadata": {},
     "output_type": "execute_result"
    }
   ],
   "source": [
    "data.sample(1)['text'].values"
   ]
  },
  {
   "cell_type": "code",
   "execution_count": 103,
   "id": "israeli-victory",
   "metadata": {},
   "outputs": [
    {
     "data": {
      "text/html": [
       "<div>\n",
       "<style scoped>\n",
       "    .dataframe tbody tr th:only-of-type {\n",
       "        vertical-align: middle;\n",
       "    }\n",
       "\n",
       "    .dataframe tbody tr th {\n",
       "        vertical-align: top;\n",
       "    }\n",
       "\n",
       "    .dataframe thead th {\n",
       "        text-align: right;\n",
       "    }\n",
       "</style>\n",
       "<table border=\"1\" class=\"dataframe\">\n",
       "  <thead>\n",
       "    <tr style=\"text-align: right;\">\n",
       "      <th></th>\n",
       "      <th>headlines</th>\n",
       "      <th>text</th>\n",
       "    </tr>\n",
       "  </thead>\n",
       "  <tbody>\n",
       "    <tr>\n",
       "      <th>25082</th>\n",
       "      <td>Nine from one family died in US boat accident ...</td>\n",
       "      <td>Nine members of the same family were among the...</td>\n",
       "    </tr>\n",
       "    <tr>\n",
       "      <th>42116</th>\n",
       "      <td>WhatsApp tests QR code payments, GIF search fe...</td>\n",
       "      <td>WhatsApp has started testing payments through ...</td>\n",
       "    </tr>\n",
       "    <tr>\n",
       "      <th>27070</th>\n",
       "      <td>Singer Elvis Costello reveals cancer diagnosis...</td>\n",
       "      <td>Singer Elvis Costello has revealed he underwen...</td>\n",
       "    </tr>\n",
       "    <tr>\n",
       "      <th>58174</th>\n",
       "      <td>Will face Ã¢ÂÂ¹20-crore defamation suit with ...</td>\n",
       "      <td>After being sued in a Ã¢ÂÂ¹20-crore defamatio...</td>\n",
       "    </tr>\n",
       "    <tr>\n",
       "      <th>68435</th>\n",
       "      <td>Nurse beaten, gang-raped by two men in Ghaziabad</td>\n",
       "      <td>A 25-year-old nurse was allegedly beaten and g...</td>\n",
       "    </tr>\n",
       "  </tbody>\n",
       "</table>\n",
       "</div>"
      ],
      "text/plain": [
       "                                               headlines  \\\n",
       "25082  Nine from one family died in US boat accident ...   \n",
       "42116  WhatsApp tests QR code payments, GIF search fe...   \n",
       "27070  Singer Elvis Costello reveals cancer diagnosis...   \n",
       "58174  Will face Ã¢ÂÂ¹20-crore defamation suit with ...   \n",
       "68435   Nurse beaten, gang-raped by two men in Ghaziabad   \n",
       "\n",
       "                                                    text  \n",
       "25082  Nine members of the same family were among the...  \n",
       "42116  WhatsApp has started testing payments through ...  \n",
       "27070  Singer Elvis Costello has revealed he underwen...  \n",
       "58174  After being sued in a Ã¢ÂÂ¹20-crore defamatio...  \n",
       "68435  A 25-year-old nurse was allegedly beaten and g...  "
      ]
     },
     "execution_count": 103,
     "metadata": {},
     "output_type": "execute_result"
    }
   ],
   "source": [
    "test = data.sample(5)\n",
    "test"
   ]
  },
  {
   "cell_type": "code",
   "execution_count": 115,
   "id": "cultural-external",
   "metadata": {},
   "outputs": [
    {
     "name": "stdout",
     "output_type": "stream",
     "text": [
      "Original Sentence: Nine members of the same family were among the 17 people killed when a boat capsized during a storm on Thursday in a Missouri lake. \"I lost all my children, I lost my husband,\" said Tia Coleman who survived with her nephew. Coleman claimed the captain told passengers to not put on life jackets during the boat tour.\n",
      "\n",
      "\n",
      "Summrized by summarizer: Coleman claimed the captain told passengers to not put on life jackets during the boat tour.\n",
      "\n",
      "\n",
      "Headline: Nine from one family died in US boat accident that killed 17\n",
      "\n",
      "\n",
      "Original Sentence: WhatsApp has started testing payments through QR codes for selected users in its latest beta update. Users can scan the code, enter the amount payable and UPI PIN for verification to send money. It has also rolled out a GIF search feature in beta which gives users access to GIFs supported in categories including Trending, Love, Sad, and Happy.\n",
      "\n",
      "\n",
      "Summrized by summarizer: WhatsApp has started testing payments through QR codes for selected users in its latest beta update.\n",
      "\n",
      "\n",
      "Headline: WhatsApp tests QR code payments, GIF search features\n",
      "\n",
      "\n",
      "Original Sentence: Singer Elvis Costello has revealed he underwent a surgery for a \"small but..aggressive cancerous malignancy\" and cancelled the final six dates of his ongoing European tour. \"I've to now accept that it's going to take longer than I'd have wished for me to recover my full strength,\" said Costello. He also apologised to fans who bought tickets for the concert.\n",
      "\n",
      "\n",
      "Summrized by summarizer: Singer Elvis Costello has revealed he underwent a surgery for a \"small but..aggressive cancerous malignancy\" and cancelled the final six dates of his ongoing European tour.\n",
      "\n",
      "\n",
      "Headline: Singer Elvis Costello reveals cancer diagnosis, cancels tour\n",
      "\n",
      "\n",
      "Original Sentence: After being sued in a Ã¢ÂÂ¹20-crore defamation case, Karnataka's ex-Deputy Inspector General (Prisons) D Roopa Moudgil on Saturday tweeted that she will face the suit with a 'confident smile'. She was sued by former Director General of Police (Prisons) HN Sathyanarayana Rao, after she alleged that Rao had received Ã¢ÂÂ¹2-crore bribe to provide preferential treatment to jailed AIADMK leader Sasikala.\n",
      "\n",
      "\n",
      "Summrized by summarizer: After being sued in a Ã¢ÂÂ¹20-crore defamation case, Karnataka's ex-Deputy Inspector General (Prisons) D Roopa Moudgil on Saturday tweeted that she will face the suit with a 'confident smile'.\n",
      "\n",
      "\n",
      "Headline: Will face Ã¢ÂÂ¹20-crore defamation suit with smile: Ex-DIG Roopa\n",
      "\n",
      "\n",
      "Original Sentence: A 25-year-old nurse was allegedly beaten and gang-raped by two men on Friday near Raj Nagar Extension in Ghaziabad. The woman was returning home from a hospital when the allegedly drunk men dragged her to nearby fields. Officials said the accused, who took turns to rape the woman, slapped and punched her a number of times besides filming the assault.\n",
      "\n",
      "\n",
      "Summrized by summarizer: The woman was returning home from a hospital when the allegedly drunk men dragged her to nearby fields.\n",
      "\n",
      "\n",
      "Headline: Nurse beaten, gang-raped by two men in Ghaziabad\n",
      "\n",
      "\n"
     ]
    }
   ],
   "source": [
    "for text, headlines in zip(test['text'], test['headlines']):\n",
    "    print('Original Sentence:', text)\n",
    "    print('\\n')\n",
    "    print('Summrized by summarizer:', summarize(text, ratio=0.5))\n",
    "    print('\\n')\n",
    "    print('Headline:', headlines)\n",
    "    print('\\n')\n",
    "    "
   ]
  },
  {
   "cell_type": "markdown",
   "id": "premier-distribution",
   "metadata": {},
   "source": [
    "### 회고\n",
    "\n",
    "- 분석단계, 정제단계, 정규화와 불용어 제거, 데이터셋 분리, 인코딩 과정을 모두 거쳤습니다.\n",
    "- 모델학습의 loss가 좀 아쉽습니다. optimizer로 adam 을 사용하여 개선을 시도해보았는데 val_loss가 최종적으로 컸다.\n",
    "- Extractive 요약 보다 Absractive 요약이 더 내용을 잘 담은 것 같다. Abstractive는 기존 모델이 가지고 있는 언어들을 사용하여 더 요약을 한 느낌이고,\n",
    "Extractive는 본문에는 나와있지 않지만 새로운 단어로 요약을 하는 것이 인상적이었다."
   ]
  }
 ],
 "metadata": {
  "kernelspec": {
   "display_name": "Python 3",
   "language": "python",
   "name": "python3"
  },
  "language_info": {
   "codemirror_mode": {
    "name": "ipython",
    "version": 3
   },
   "file_extension": ".py",
   "mimetype": "text/x-python",
   "name": "python",
   "nbconvert_exporter": "python",
   "pygments_lexer": "ipython3",
   "version": "3.7.9"
  }
 },
 "nbformat": 4,
 "nbformat_minor": 5
}
