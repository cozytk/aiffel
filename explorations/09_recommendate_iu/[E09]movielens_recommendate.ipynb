{
 "cells": [
  {
   "cell_type": "markdown",
   "source": [
    "## 회고\n",
    "\n",
    "### Data manuplating skills\n",
    "\n",
    "- 딕셔너리 컴프리핸션 활용하여 idx:name 사전 만들기\n",
    "    \n",
    "    `user_to_idx = {v:k for k,v in enumerate(user_unique)}`\n",
    "    \n",
    "- groupby 활용하여 특정 칼럼에서 동일한 요소들에 대해서 일괄 함수를 적용하는 구문 만들기\n",
    "    \n",
    "    `artist_count = data.groupby('artist')['user_id'].count()`\n",
    "    \n",
    "- tsv파일을 받을때는 read_csv에서 sep만 '\\t'로 설정하면 됨\n",
    "- dataframe의 str요소들에 대해 str메서드를 쓰는법\n",
    "    \n",
    "    `data['artist'] = data['artist'].str.lower()`\n",
    "    \n",
    "- data.loc[] 활용하여 특정 값인 행만 바꾸기\n",
    "    \n",
    "    `condition = (data['user_id']== data.loc[0, 'user_id'])`\n",
    "    \n",
    "- pd.unique() == len(pd.unique())\n",
    "- pd.append()함수 활용하여 데이터 프레임에 바로 append\n",
    "    \n",
    "    `data = data.append(my_playlist, ignore_index=True) # 위에 임의로 만든 my_favorite 데이터를 추가해 줍니다.`\n",
    "    \n",
    "- pandas의 map메소드 사용해서 특정 열 전체 딕셔너리 value로 바꾸기\n",
    "    \n",
    "    `temp_user_data = data['user_id'].map(user_to_idx.get).dropna()`\n",
    "    \n",
    "\n",
    "### 루브릭\n",
    "\n",
    "- CSR Matrix를 정상적으로 만들었습니다.\n",
    "- MF 모델이 정상적으로 훈련이 되었고, 백터의 내적을 통해 제 선호도를 구하였습니다.\n",
    "- 저의 영화 선호도, 영화간 유사도, 사전 입력된 영화를 제외한 추천도를 구하였습니다.\n",
    "\n",
    "### 후기\n",
    "\n",
    "- 추천시스템에서 굉장히 기본적인 모델을 배운 것 같습니다.\n",
    "    - CNN을 공부하면서 k-nn을 배운느낌?"
   ],
   "metadata": {
    "collapsed": false
   }
  },
  {
   "cell_type": "markdown",
   "source": [
    "## 데이터 준비와 전처리"
   ],
   "metadata": {
    "collapsed": false,
    "pycharm": {
     "name": "#%% md\n"
    }
   }
  },
  {
   "cell_type": "code",
   "execution_count": 137,
   "outputs": [
    {
     "data": {
      "text/plain": "   user_id  movie_id  rating  timestamp\n0        1      1193       5  978300760\n1        1       661       3  978302109\n2        1       914       3  978301968\n3        1      3408       4  978300275\n4        1      2355       5  978824291",
      "text/html": "<div>\n<style scoped>\n    .dataframe tbody tr th:only-of-type {\n        vertical-align: middle;\n    }\n\n    .dataframe tbody tr th {\n        vertical-align: top;\n    }\n\n    .dataframe thead th {\n        text-align: right;\n    }\n</style>\n<table border=\"1\" class=\"dataframe\">\n  <thead>\n    <tr style=\"text-align: right;\">\n      <th></th>\n      <th>user_id</th>\n      <th>movie_id</th>\n      <th>rating</th>\n      <th>timestamp</th>\n    </tr>\n  </thead>\n  <tbody>\n    <tr>\n      <th>0</th>\n      <td>1</td>\n      <td>1193</td>\n      <td>5</td>\n      <td>978300760</td>\n    </tr>\n    <tr>\n      <th>1</th>\n      <td>1</td>\n      <td>661</td>\n      <td>3</td>\n      <td>978302109</td>\n    </tr>\n    <tr>\n      <th>2</th>\n      <td>1</td>\n      <td>914</td>\n      <td>3</td>\n      <td>978301968</td>\n    </tr>\n    <tr>\n      <th>3</th>\n      <td>1</td>\n      <td>3408</td>\n      <td>4</td>\n      <td>978300275</td>\n    </tr>\n    <tr>\n      <th>4</th>\n      <td>1</td>\n      <td>2355</td>\n      <td>5</td>\n      <td>978824291</td>\n    </tr>\n  </tbody>\n</table>\n</div>"
     },
     "execution_count": 137,
     "metadata": {},
     "output_type": "execute_result"
    }
   ],
   "source": [
    "import pandas as pd\n",
    "import os\n",
    "rating_file_path=os.getenv('HOME') + '/aiffel/recommendata_iu/data/ml-1m/ratings.dat'\n",
    "ratings_cols = ['user_id', 'movie_id', 'rating', 'timestamp']\n",
    "ratings = pd.read_csv(rating_file_path, sep='::', names=ratings_cols, engine='python', encoding = \"ISO-8859-1\")\n",
    "orginal_data_size = len(ratings)\n",
    "ratings.head()"
   ],
   "metadata": {
    "collapsed": false,
    "pycharm": {
     "name": "#%%\n"
    }
   }
  },
  {
   "cell_type": "code",
   "execution_count": 138,
   "outputs": [
    {
     "name": "stdout",
     "output_type": "stream",
     "text": [
      "orginal_data_size: 1000209, filtered_data_size: 836478\n",
      "Ratio of Remaining Data is 83.63%\n"
     ]
    }
   ],
   "source": [
    "# 3점 이상만 남깁니다.\n",
    "ratings = ratings[ratings['rating']>=3]\n",
    "filtered_data_size = len(ratings)\n",
    "\n",
    "print(f'orginal_data_size: {orginal_data_size}, filtered_data_size: {filtered_data_size}')\n",
    "print(f'Ratio of Remaining Data is {filtered_data_size / orginal_data_size:.2%}')"
   ],
   "metadata": {
    "collapsed": false,
    "pycharm": {
     "name": "#%%\n"
    }
   }
  },
  {
   "cell_type": "code",
   "execution_count": 139,
   "outputs": [],
   "source": [
    "# rating 컬럼의 이름을 count로 바꿉니다.\n",
    "ratings.rename(columns={'rating':'count'}, inplace=True)"
   ],
   "metadata": {
    "collapsed": false,
    "pycharm": {
     "name": "#%%\n"
    }
   }
  },
  {
   "cell_type": "code",
   "execution_count": 140,
   "outputs": [
    {
     "data": {
      "text/plain": "0          5\n1          3\n2          3\n3          4\n4          5\n          ..\n1000203    3\n1000205    5\n1000206    5\n1000207    4\n1000208    4\nName: count, Length: 836478, dtype: int64"
     },
     "execution_count": 140,
     "metadata": {},
     "output_type": "execute_result"
    }
   ],
   "source": [
    "ratings['count']"
   ],
   "metadata": {
    "collapsed": false,
    "pycharm": {
     "name": "#%%\n"
    }
   }
  },
  {
   "cell_type": "code",
   "execution_count": 141,
   "outputs": [
    {
     "data": {
      "text/plain": "   movie_id                               title                         genre\n0         1                    Toy Story (1995)   Animation|Children's|Comedy\n1         2                      Jumanji (1995)  Adventure|Children's|Fantasy\n2         3             Grumpier Old Men (1995)                Comedy|Romance\n3         4            Waiting to Exhale (1995)                  Comedy|Drama\n4         5  Father of the Bride Part II (1995)                        Comedy",
      "text/html": "<div>\n<style scoped>\n    .dataframe tbody tr th:only-of-type {\n        vertical-align: middle;\n    }\n\n    .dataframe tbody tr th {\n        vertical-align: top;\n    }\n\n    .dataframe thead th {\n        text-align: right;\n    }\n</style>\n<table border=\"1\" class=\"dataframe\">\n  <thead>\n    <tr style=\"text-align: right;\">\n      <th></th>\n      <th>movie_id</th>\n      <th>title</th>\n      <th>genre</th>\n    </tr>\n  </thead>\n  <tbody>\n    <tr>\n      <th>0</th>\n      <td>1</td>\n      <td>Toy Story (1995)</td>\n      <td>Animation|Children's|Comedy</td>\n    </tr>\n    <tr>\n      <th>1</th>\n      <td>2</td>\n      <td>Jumanji (1995)</td>\n      <td>Adventure|Children's|Fantasy</td>\n    </tr>\n    <tr>\n      <th>2</th>\n      <td>3</td>\n      <td>Grumpier Old Men (1995)</td>\n      <td>Comedy|Romance</td>\n    </tr>\n    <tr>\n      <th>3</th>\n      <td>4</td>\n      <td>Waiting to Exhale (1995)</td>\n      <td>Comedy|Drama</td>\n    </tr>\n    <tr>\n      <th>4</th>\n      <td>5</td>\n      <td>Father of the Bride Part II (1995)</td>\n      <td>Comedy</td>\n    </tr>\n  </tbody>\n</table>\n</div>"
     },
     "execution_count": 141,
     "metadata": {},
     "output_type": "execute_result"
    }
   ],
   "source": [
    "# 영화 제목을 보기 위해 메타 데이터를 읽어옵니다.\n",
    "movie_file_path=os.getenv('HOME') + '/aiffel/recommendata_iu/data/ml-1m/movies.dat'\n",
    "cols = ['movie_id', 'title', 'genre']\n",
    "movies = pd.read_csv(movie_file_path, sep='::', names=cols, engine='python', encoding='ISO-8859-1')\n",
    "movies.head()"
   ],
   "metadata": {
    "collapsed": false,
    "pycharm": {
     "name": "#%%\n"
    }
   }
  },
  {
   "cell_type": "code",
   "execution_count": 142,
   "outputs": [
    {
     "data": {
      "text/plain": "Index(['movie_id', 'title', 'genre'], dtype='object')"
     },
     "execution_count": 142,
     "metadata": {},
     "output_type": "execute_result"
    }
   ],
   "source": [
    "movies.columns"
   ],
   "metadata": {
    "collapsed": false,
    "pycharm": {
     "name": "#%%\n"
    }
   }
  },
  {
   "cell_type": "code",
   "execution_count": 143,
   "outputs": [],
   "source": [
    "from scipy.sparse import csr_matrix"
   ],
   "metadata": {
    "collapsed": false,
    "pycharm": {
     "name": "#%%\n"
    }
   }
  },
  {
   "cell_type": "code",
   "execution_count": 144,
   "outputs": [
    {
     "data": {
      "text/plain": "Index(['user_id', 'movie_id', 'count', 'timestamp'], dtype='object')"
     },
     "execution_count": 144,
     "metadata": {},
     "output_type": "execute_result"
    }
   ],
   "source": [
    "ratings.columns"
   ],
   "metadata": {
    "collapsed": false,
    "pycharm": {
     "name": "#%%\n"
    }
   }
  },
  {
   "cell_type": "markdown",
   "source": [
    "## 데이터 분석"
   ],
   "metadata": {
    "collapsed": false,
    "pycharm": {
     "name": "#%% md\n"
    }
   }
  },
  {
   "cell_type": "code",
   "execution_count": 145,
   "outputs": [
    {
     "name": "stdout",
     "output_type": "stream",
     "text": [
      "3628 6039\n"
     ]
    }
   ],
   "source": [
    "# Unique movie and user number\n",
    "\n",
    "num_user = ratings['user_id'].nunique()\n",
    "num_movie = ratings['movie_id'].nunique()\n",
    "print(num_movie, num_user)"
   ],
   "metadata": {
    "collapsed": false,
    "pycharm": {
     "name": "#%%\n"
    }
   }
  },
  {
   "cell_type": "code",
   "execution_count": 146,
   "outputs": [
    {
     "data": {
      "text/plain": "        user_id  movie_id  count  timestamp  \\\n0             1      1193      5  978300760   \n1             1       661      3  978302109   \n2             1       914      3  978301968   \n3             1      3408      4  978300275   \n4             1      2355      5  978824291   \n...         ...       ...    ...        ...   \n836473     6040      1090      3  956715518   \n836474     6040      1094      5  956704887   \n836475     6040       562      5  956704746   \n836476     6040      1096      4  956715648   \n836477     6040      1097      4  956715569   \n\n                                         title  \\\n0       One Flew Over the Cuckoo's Nest (1975)   \n1             James and the Giant Peach (1996)   \n2                          My Fair Lady (1964)   \n3                       Erin Brockovich (2000)   \n4                         Bug's Life, A (1998)   \n...                                        ...   \n836473                          Platoon (1986)   \n836474                 Crying Game, The (1992)   \n836475         Welcome to the Dollhouse (1995)   \n836476                  Sophie's Choice (1982)   \n836477       E.T. the Extra-Terrestrial (1982)   \n\n                                  genre  \n0                                 Drama  \n1          Animation|Children's|Musical  \n2                       Musical|Romance  \n3                                 Drama  \n4           Animation|Children's|Comedy  \n...                                 ...  \n836473                        Drama|War  \n836474                Drama|Romance|War  \n836475                     Comedy|Drama  \n836476                            Drama  \n836477  Children's|Drama|Fantasy|Sci-Fi  \n\n[836478 rows x 6 columns]",
      "text/html": "<div>\n<style scoped>\n    .dataframe tbody tr th:only-of-type {\n        vertical-align: middle;\n    }\n\n    .dataframe tbody tr th {\n        vertical-align: top;\n    }\n\n    .dataframe thead th {\n        text-align: right;\n    }\n</style>\n<table border=\"1\" class=\"dataframe\">\n  <thead>\n    <tr style=\"text-align: right;\">\n      <th></th>\n      <th>user_id</th>\n      <th>movie_id</th>\n      <th>count</th>\n      <th>timestamp</th>\n      <th>title</th>\n      <th>genre</th>\n    </tr>\n  </thead>\n  <tbody>\n    <tr>\n      <th>0</th>\n      <td>1</td>\n      <td>1193</td>\n      <td>5</td>\n      <td>978300760</td>\n      <td>One Flew Over the Cuckoo's Nest (1975)</td>\n      <td>Drama</td>\n    </tr>\n    <tr>\n      <th>1</th>\n      <td>1</td>\n      <td>661</td>\n      <td>3</td>\n      <td>978302109</td>\n      <td>James and the Giant Peach (1996)</td>\n      <td>Animation|Children's|Musical</td>\n    </tr>\n    <tr>\n      <th>2</th>\n      <td>1</td>\n      <td>914</td>\n      <td>3</td>\n      <td>978301968</td>\n      <td>My Fair Lady (1964)</td>\n      <td>Musical|Romance</td>\n    </tr>\n    <tr>\n      <th>3</th>\n      <td>1</td>\n      <td>3408</td>\n      <td>4</td>\n      <td>978300275</td>\n      <td>Erin Brockovich (2000)</td>\n      <td>Drama</td>\n    </tr>\n    <tr>\n      <th>4</th>\n      <td>1</td>\n      <td>2355</td>\n      <td>5</td>\n      <td>978824291</td>\n      <td>Bug's Life, A (1998)</td>\n      <td>Animation|Children's|Comedy</td>\n    </tr>\n    <tr>\n      <th>...</th>\n      <td>...</td>\n      <td>...</td>\n      <td>...</td>\n      <td>...</td>\n      <td>...</td>\n      <td>...</td>\n    </tr>\n    <tr>\n      <th>836473</th>\n      <td>6040</td>\n      <td>1090</td>\n      <td>3</td>\n      <td>956715518</td>\n      <td>Platoon (1986)</td>\n      <td>Drama|War</td>\n    </tr>\n    <tr>\n      <th>836474</th>\n      <td>6040</td>\n      <td>1094</td>\n      <td>5</td>\n      <td>956704887</td>\n      <td>Crying Game, The (1992)</td>\n      <td>Drama|Romance|War</td>\n    </tr>\n    <tr>\n      <th>836475</th>\n      <td>6040</td>\n      <td>562</td>\n      <td>5</td>\n      <td>956704746</td>\n      <td>Welcome to the Dollhouse (1995)</td>\n      <td>Comedy|Drama</td>\n    </tr>\n    <tr>\n      <th>836476</th>\n      <td>6040</td>\n      <td>1096</td>\n      <td>4</td>\n      <td>956715648</td>\n      <td>Sophie's Choice (1982)</td>\n      <td>Drama</td>\n    </tr>\n    <tr>\n      <th>836477</th>\n      <td>6040</td>\n      <td>1097</td>\n      <td>4</td>\n      <td>956715569</td>\n      <td>E.T. the Extra-Terrestrial (1982)</td>\n      <td>Children's|Drama|Fantasy|Sci-Fi</td>\n    </tr>\n  </tbody>\n</table>\n<p>836478 rows × 6 columns</p>\n</div>"
     },
     "execution_count": 146,
     "metadata": {},
     "output_type": "execute_result"
    }
   ],
   "source": [
    "data = ratings.copy().merge(movies, how='left', on='movie_id')\n",
    "data"
   ],
   "metadata": {
    "collapsed": false,
    "pycharm": {
     "name": "#%%\n"
    }
   }
  },
  {
   "cell_type": "code",
   "execution_count": 147,
   "outputs": [
    {
     "data": {
      "text/plain": "'James and the Giant Peach (1996)'"
     },
     "execution_count": 147,
     "metadata": {},
     "output_type": "execute_result"
    }
   ],
   "source": [
    "idx_to_title = {i:val for val,i in title_to_idx.items()}\n",
    "idx_to_title[1]"
   ],
   "metadata": {
    "collapsed": false,
    "pycharm": {
     "name": "#%%\n"
    }
   }
  },
  {
   "cell_type": "code",
   "execution_count": 148,
   "outputs": [
    {
     "name": "stdout",
     "output_type": "stream",
     "text": [
      "3211\n",
      "Dancemaker (1998)\n",
      "2910\n",
      "New Jersey Drive (1995)\n",
      "2885\n",
      "Nina Takes a Lover (1994)\n",
      "2716\n",
      "My Giant (1998)\n",
      "2561\n",
      "City, The (1998)\n",
      "2509\n",
      "Matewan (1987)\n",
      "2498\n",
      "Two Family House (2000)\n",
      "2473\n",
      "Sum of Us, The (1994)\n",
      "2460\n",
      "Blackbeard's Ghost (1968)\n",
      "2434\n",
      "Girl 6 (1996)\n",
      "2413\n",
      "Duets (2000)\n",
      "2385\n",
      "Wonderful, Horrible Life of Leni Riefenstahl, The (Die Macht der Bilder) (1993)\n",
      "2371\n",
      "Gate of Heavenly Peace, The (1995)\n",
      "2314\n",
      "I Saw What You Did (1965)\n",
      "2297\n",
      "Robert A. Heinlein's The Puppet Masters (1994)\n",
      "2257\n",
      "Where Eagles Dare (1969)\n",
      "2252\n",
      "Night Falls on Manhattan (1997)\n",
      "2213\n",
      "Morning After, The (1986)\n",
      "2210\n",
      "Brighton Beach Memoirs (1986)\n",
      "2194\n",
      "Violets Are Blue... (1986)\n",
      "2167\n",
      "Quatermass II (1957)\n",
      "2121\n",
      "All the King's Men (1949)\n",
      "2102\n",
      "Gulliver's Travels (1939)\n",
      "2066\n",
      "Don't Be a Menace to South Central While Drinking Your Juice in the Hood (1996)\n",
      "2051\n",
      "Tumbleweeds (1999)\n",
      "2030\n",
      "Different for Girls (1996)\n",
      "2022\n",
      "Oliver & Company (1988)\n",
      "2019\n",
      "Blank Check (1994)\n",
      "2000\n",
      "Baby Geniuses (1999)\n",
      "1941\n",
      "Sudden Death (1995)\n"
     ]
    }
   ],
   "source": [
    "# Top popular 30\n",
    "\n",
    "for i in data.groupby('title')['user_id'].count().sort_values(ascending=False)[:30]:\n",
    "    print(i)\n",
    "    print(idx_to_title[i])"
   ],
   "metadata": {
    "collapsed": false,
    "pycharm": {
     "name": "#%%\n"
    }
   }
  },
  {
   "cell_type": "markdown",
   "source": [
    "## 선호하는 5가지 영화 추가"
   ],
   "metadata": {
    "collapsed": false,
    "pycharm": {
     "name": "#%% md\n"
    }
   }
  },
  {
   "cell_type": "code",
   "execution_count": 149,
   "outputs": [],
   "source": [
    "my_favorite = ['Toy Story (1995)', 'Shawshank Redemption, The (1994)',\n",
    "          'Forrest Gump (1994)', 'Fargo (1996)', 'American Beauty (1999)']\n",
    "\n",
    "# 'taekyun'이라는 user_id가 위 아티스트의 노래를 30회씩 들었다고 가정하겠습니다.\n",
    "my_playlist = pd.DataFrame({'user_id': [6041]*5, 'title': my_favorite, 'count':[5]*5})\n",
    "\n",
    "if not data.isin({'user_id':[6041]})['user_id'].any():  # user_id에 'taekyun'이라는 데이터가 없다면\n",
    "    data = data.append(my_playlist)                           # 위에 임의로 만든 my_favorite 데이터를 추가해 줍니다."
   ],
   "metadata": {
    "collapsed": false,
    "pycharm": {
     "name": "#%%\n"
    }
   }
  },
  {
   "cell_type": "code",
   "execution_count": 150,
   "outputs": [
    {
     "data": {
      "text/plain": "6040"
     },
     "execution_count": 150,
     "metadata": {},
     "output_type": "execute_result"
    }
   ],
   "source": [
    "unique_user = data['user_id'].unique()\n",
    "len(unique_user)"
   ],
   "metadata": {
    "collapsed": false,
    "pycharm": {
     "name": "#%%\n"
    }
   }
  },
  {
   "cell_type": "code",
   "execution_count": 151,
   "outputs": [
    {
     "data": {
      "text/plain": "3628"
     },
     "execution_count": 151,
     "metadata": {},
     "output_type": "execute_result"
    }
   ],
   "source": [
    "unique_movie = data['title'].unique()\n",
    "len(unique_movie)"
   ],
   "metadata": {
    "collapsed": false,
    "pycharm": {
     "name": "#%%\n"
    }
   }
  },
  {
   "cell_type": "code",
   "execution_count": 152,
   "outputs": [
    {
     "data": {
      "text/plain": "40"
     },
     "execution_count": 152,
     "metadata": {},
     "output_type": "execute_result"
    }
   ],
   "source": [
    "title_to_idx = {val:idx for idx,val in enumerate(unique_movie)}\n",
    "title_to_idx['Toy Story (1995)']"
   ],
   "metadata": {
    "collapsed": false,
    "pycharm": {
     "name": "#%%\n"
    }
   }
  },
  {
   "cell_type": "code",
   "execution_count": 153,
   "outputs": [
    {
     "data": {
      "text/plain": "836483"
     },
     "execution_count": 153,
     "metadata": {},
     "output_type": "execute_result"
    }
   ],
   "source": [
    "temp_title_data = data['title'].map(title_to_idx.get).dropna()\n",
    "len(temp_title_data)"
   ],
   "metadata": {
    "collapsed": false,
    "pycharm": {
     "name": "#%%\n"
    }
   }
  },
  {
   "cell_type": "code",
   "execution_count": 154,
   "outputs": [
    {
     "data": {
      "text/plain": "True"
     },
     "execution_count": 154,
     "metadata": {},
     "output_type": "execute_result"
    }
   ],
   "source": [
    "len(data) == len(temp_title_data)"
   ],
   "metadata": {
    "collapsed": false,
    "pycharm": {
     "name": "#%%\n"
    }
   }
  },
  {
   "cell_type": "code",
   "execution_count": 155,
   "outputs": [
    {
     "data": {
      "text/plain": "0    0\n1    1\n2    2\n3    3\n4    4\nName: title, dtype: int64"
     },
     "execution_count": 155,
     "metadata": {},
     "output_type": "execute_result"
    }
   ],
   "source": [
    "data['title'] = temp_title_data\n",
    "data['title'].head()"
   ],
   "metadata": {
    "collapsed": false,
    "pycharm": {
     "name": "#%%\n"
    }
   }
  },
  {
   "cell_type": "code",
   "execution_count": 156,
   "outputs": [
    {
     "data": {
      "text/plain": "   user_id  title  count\n0        1      0      5\n1        1      1      3\n2        1      2      3\n3        1      3      4\n4        1      4      5",
      "text/html": "<div>\n<style scoped>\n    .dataframe tbody tr th:only-of-type {\n        vertical-align: middle;\n    }\n\n    .dataframe tbody tr th {\n        vertical-align: top;\n    }\n\n    .dataframe thead th {\n        text-align: right;\n    }\n</style>\n<table border=\"1\" class=\"dataframe\">\n  <thead>\n    <tr style=\"text-align: right;\">\n      <th></th>\n      <th>user_id</th>\n      <th>title</th>\n      <th>count</th>\n    </tr>\n  </thead>\n  <tbody>\n    <tr>\n      <th>0</th>\n      <td>1</td>\n      <td>0</td>\n      <td>5</td>\n    </tr>\n    <tr>\n      <th>1</th>\n      <td>1</td>\n      <td>1</td>\n      <td>3</td>\n    </tr>\n    <tr>\n      <th>2</th>\n      <td>1</td>\n      <td>2</td>\n      <td>3</td>\n    </tr>\n    <tr>\n      <th>3</th>\n      <td>1</td>\n      <td>3</td>\n      <td>4</td>\n    </tr>\n    <tr>\n      <th>4</th>\n      <td>1</td>\n      <td>4</td>\n      <td>5</td>\n    </tr>\n  </tbody>\n</table>\n</div>"
     },
     "execution_count": 156,
     "metadata": {},
     "output_type": "execute_result"
    }
   ],
   "source": [
    "temp = data[['user_id','title','count']]\n",
    "temp.head()"
   ],
   "metadata": {
    "collapsed": false,
    "pycharm": {
     "name": "#%%\n"
    }
   }
  },
  {
   "cell_type": "code",
   "execution_count": 157,
   "outputs": [],
   "source": [
    "data = temp"
   ],
   "metadata": {
    "collapsed": false,
    "pycharm": {
     "name": "#%%\n"
    }
   }
  },
  {
   "cell_type": "code",
   "execution_count": 158,
   "outputs": [
    {
     "name": "stdout",
     "output_type": "stream",
     "text": [
      "6042 3628\n"
     ]
    }
   ],
   "source": [
    "num_user = data['user_id'].nunique() + 2\n",
    "num_movie = data['title'].nunique()\n",
    "print(num_user, num_movie)"
   ],
   "metadata": {
    "collapsed": false,
    "pycharm": {
     "name": "#%%\n"
    }
   }
  },
  {
   "cell_type": "code",
   "execution_count": 159,
   "outputs": [],
   "source": [
    "data.reset_index(drop=True, inplace=True)"
   ],
   "metadata": {
    "collapsed": false,
    "pycharm": {
     "name": "#%%\n"
    }
   }
  },
  {
   "cell_type": "markdown",
   "source": [
    "## CSX matrix 직접 만들어보기"
   ],
   "metadata": {
    "collapsed": false,
    "pycharm": {
     "name": "#%% md\n"
    }
   }
  },
  {
   "cell_type": "code",
   "execution_count": 160,
   "outputs": [
    {
     "data": {
      "text/plain": "<6042x3630 sparse matrix of type '<class 'numpy.longlong'>'\n\twith 836483 stored elements in Compressed Sparse Row format>"
     },
     "execution_count": 160,
     "metadata": {},
     "output_type": "execute_result"
    }
   ],
   "source": [
    "csr_data = csr_matrix((data['count'], (data.user_id, data['title'])), shape= (num_user, num_movie + 2))\n",
    "csr_data"
   ],
   "metadata": {
    "collapsed": false,
    "pycharm": {
     "name": "#%%\n"
    }
   }
  },
  {
   "cell_type": "code",
   "execution_count": 161,
   "outputs": [
    {
     "data": {
      "text/plain": "6041"
     },
     "execution_count": 161,
     "metadata": {},
     "output_type": "execute_result"
    }
   ],
   "source": [
    "max(data.user_id)"
   ],
   "metadata": {
    "collapsed": false,
    "pycharm": {
     "name": "#%%\n"
    }
   }
  },
  {
   "cell_type": "code",
   "execution_count": 162,
   "outputs": [
    {
     "data": {
      "text/plain": "3627"
     },
     "execution_count": 162,
     "metadata": {},
     "output_type": "execute_result"
    }
   ],
   "source": [
    "max(data['title'])"
   ],
   "metadata": {
    "collapsed": false,
    "pycharm": {
     "name": "#%%\n"
    }
   }
  },
  {
   "cell_type": "code",
   "execution_count": 163,
   "outputs": [],
   "source": [
    "from implicit.als import AlternatingLeastSquares\n",
    "import os\n",
    "import numpy as np"
   ],
   "metadata": {
    "collapsed": false,
    "pycharm": {
     "name": "#%%\n"
    }
   }
  },
  {
   "cell_type": "code",
   "execution_count": 164,
   "outputs": [],
   "source": [
    "# implicit 라이브러리에서 권장하고 있는 부분입니다. 학습 내용과는 무관합니다.\n",
    "os.environ['OPENBLAS_NUM_THREADS']='1'\n",
    "os.environ['KMP_DUPLICATE_LIB_OK']='True'\n",
    "os.environ['MKL_NUM_THREADS']='1'"
   ],
   "metadata": {
    "collapsed": false,
    "pycharm": {
     "name": "#%%\n"
    }
   }
  },
  {
   "cell_type": "markdown",
   "source": [
    "## als_model = AlternatingLeastSquares 모델 직접 구성"
   ],
   "metadata": {
    "collapsed": false,
    "pycharm": {
     "name": "#%% md\n"
    }
   }
  },
  {
   "cell_type": "code",
   "execution_count": 165,
   "outputs": [],
   "source": [
    "# Implicit AlternatingLeastSquares 모델의 선언\n",
    "# use_gpu True로 하면 안되나? 설정이 많아지나\n",
    "# factors 와 iterations(epoch)를 늘릴 수록 학습데이터는 잘 학습 but 과적ㅎ합\n",
    "als_model = AlternatingLeastSquares(factors=128, regularization=0.01, use_gpu=False, iterations=15, dtype=np.float32)"
   ],
   "metadata": {
    "collapsed": false,
    "pycharm": {
     "name": "#%%\n"
    }
   }
  },
  {
   "cell_type": "code",
   "execution_count": 166,
   "outputs": [
    {
     "data": {
      "text/plain": "<3630x6042 sparse matrix of type '<class 'numpy.longlong'>'\n\twith 836483 stored elements in Compressed Sparse Column format>"
     },
     "execution_count": 166,
     "metadata": {},
     "output_type": "execute_result"
    }
   ],
   "source": [
    "# als 모델은 input으로 (item X user 꼴의 matrix를 받기 때문에 Transpose해줍니다.)\n",
    "csr_data_transpose = csr_data.T\n",
    "csr_data_transpose"
   ],
   "metadata": {
    "collapsed": false,
    "pycharm": {
     "name": "#%%\n"
    }
   }
  },
  {
   "cell_type": "code",
   "execution_count": 167,
   "outputs": [
    {
     "data": {
      "text/plain": "  0%|          | 0/15 [00:00<?, ?it/s]",
      "application/vnd.jupyter.widget-view+json": {
       "version_major": 2,
       "version_minor": 0,
       "model_id": "8b2b046edea24938836258b56608d16a"
      }
     },
     "metadata": {},
     "output_type": "display_data"
    }
   ],
   "source": [
    "# 모델 훈련\n",
    "als_model.fit(csr_data_transpose)"
   ],
   "metadata": {
    "collapsed": false,
    "pycharm": {
     "name": "#%%\n"
    }
   }
  },
  {
   "cell_type": "markdown",
   "source": [
    "## 내가 선호하는 5가지 영화 중 하나와 그 이외 영화 하나"
   ],
   "metadata": {
    "collapsed": false,
    "pycharm": {
     "name": "#%% md\n"
    }
   }
  },
  {
   "cell_type": "code",
   "execution_count": 168,
   "outputs": [
    {
     "name": "stdout",
     "output_type": "stream",
     "text": [
      "슝=3\n"
     ]
    }
   ],
   "source": [
    "taekyun, toy_story_peas = 6041, title_to_idx['Toy Story (1995)']\n",
    "taekyun_vector, toy_story_vector = als_model.user_factors[taekyun], als_model.item_factors[toy_story_peas]\n",
    "\n",
    "print('슝=3')"
   ],
   "metadata": {
    "collapsed": false,
    "pycharm": {
     "name": "#%%\n"
    }
   }
  },
  {
   "cell_type": "code",
   "execution_count": 169,
   "outputs": [
    {
     "data": {
      "text/plain": "array([-2.28445772e-02, -3.55581731e-01, -1.51362821e-01,  4.48059440e-01,\n       -2.77255833e-01,  1.04844965e-01,  2.10265726e-01,  3.11535746e-01,\n       -5.06369352e-01, -5.42475991e-02,  5.55406868e-01, -8.17392766e-02,\n       -4.77685750e-01, -3.84262210e-04, -3.58845800e-01,  7.21139237e-02,\n        2.43006110e-01, -1.89841509e-01,  2.32996836e-01,  6.00283593e-02,\n        7.24924430e-02,  3.06546301e-01,  2.77443141e-01, -8.36717486e-01,\n        3.37124407e-01,  5.56117631e-02, -1.85433820e-01, -1.16437769e+00,\n        2.17059165e-01,  2.41147950e-01, -6.39786124e-01,  2.89922327e-01,\n       -3.35196525e-01,  1.41557634e-01,  4.35516238e-02, -6.58139408e-01,\n       -5.53304434e-01,  1.67163000e-01, -6.29599988e-01,  5.09103954e-01,\n        3.95877182e-01,  7.29851604e-01,  5.41852772e-01,  1.60975233e-02,\n       -2.76753634e-01, -1.50116265e+00,  3.09041858e-01,  3.15028638e-01,\n       -3.80887926e-01, -4.72187102e-01, -8.85699213e-01, -7.26929009e-01,\n        5.74395135e-02,  5.71221888e-01,  5.29852986e-01,  7.34286234e-02,\n        1.09689228e-01,  1.12310970e+00,  3.77515517e-02,  4.83569115e-01,\n       -1.99391812e-01,  1.71089992e-01, -3.40834230e-01,  8.32620025e-01,\n       -1.05032158e+00,  8.06297958e-01, -4.05304730e-01,  3.07027102e-01,\n       -5.17415583e-01,  1.54443443e-01,  6.69909358e-01, -1.98254749e-01,\n        2.87775517e-01,  1.12235928e+00, -2.71781664e-02, -9.39077735e-01,\n       -6.08475149e-01, -2.83253670e-01, -4.06715065e-01, -7.61599004e-01,\n        1.77098498e-01, -7.23469496e-01,  2.95856684e-01,  8.37366223e-01,\n       -4.30199921e-01,  8.92041922e-01, -5.60524523e-01,  5.93795419e-01,\n        1.61619172e-01, -1.23302601e-01,  8.87416482e-01, -5.29275835e-01,\n       -5.84551454e-01,  9.35925394e-02, -3.05369705e-01,  8.45365286e-01,\n        3.91539872e-01,  1.93550020e-01,  1.89752933e-02,  7.88105190e-01,\n       -9.38247263e-01,  5.39619088e-01,  1.10660411e-01, -7.76032329e-01,\n       -3.92369300e-01,  6.30562425e-01,  1.05078258e-01,  8.08811128e-01,\n       -7.42325336e-02,  3.01907778e-01,  9.91932929e-01,  3.82908136e-01,\n       -5.96256673e-01,  8.63103196e-02,  2.95128018e-01,  4.92618382e-02,\n       -2.93549657e-01,  1.20565504e-01, -2.47840762e-01, -6.56479597e-01,\n        2.29079813e-01, -3.46936695e-02,  8.25777128e-02,  1.84117451e-01,\n        7.54461706e-01,  6.49666339e-02, -7.30708361e-01,  3.77837479e-01],\n      dtype=float32)"
     },
     "execution_count": 169,
     "metadata": {},
     "output_type": "execute_result"
    }
   ],
   "source": [
    "taekyun_vector"
   ],
   "metadata": {
    "collapsed": false,
    "pycharm": {
     "name": "#%%\n"
    }
   }
  },
  {
   "cell_type": "code",
   "execution_count": 170,
   "outputs": [
    {
     "data": {
      "text/plain": "array([ 6.32811990e-03, -1.50140878e-02,  1.43374354e-02,  1.66987758e-02,\n        2.09714677e-02, -9.11675952e-03,  1.69126783e-02,  2.88944747e-02,\n       -1.06902197e-02, -1.61132514e-02, -3.97491641e-03, -3.46483453e-03,\n        1.89545110e-03,  2.44080760e-02,  1.36322118e-02,  1.64025296e-02,\n        6.64420286e-03,  5.61199337e-03,  1.48632834e-02,  3.85277555e-03,\n       -2.30608229e-02, -1.04189413e-02,  1.07208723e-02, -4.17488907e-03,\n        1.79513581e-02,  3.03279106e-02, -1.34938834e-02,  1.14382281e-04,\n        5.85799571e-03, -1.67566650e-02, -8.03175662e-03, -5.95282577e-03,\n       -2.35268322e-04,  2.03536935e-02, -2.22514533e-02, -2.30560414e-02,\n        5.07773645e-03,  2.59428006e-02, -1.94527451e-02,  2.56992131e-02,\n        6.04494824e-04, -3.57811514e-04,  1.92835908e-02, -6.85752602e-03,\n       -1.88824686e-03, -2.11925544e-02,  1.36912521e-02, -1.89087391e-02,\n       -1.25825126e-02,  7.67756160e-03,  1.59497559e-02, -3.95723917e-02,\n       -1.13532937e-03,  2.13082805e-02, -1.71322678e-03,  8.61614663e-03,\n        4.33617923e-03,  6.20666072e-02,  4.53646295e-03,  1.64421729e-03,\n       -3.56484117e-04, -8.16959701e-03, -1.21705059e-03,  2.25898623e-02,\n       -4.13831919e-02,  2.76599023e-02, -1.86419682e-04,  2.79240943e-02,\n       -1.25991553e-03, -2.69734371e-03,  2.79660914e-02, -1.42911188e-02,\n        3.02492213e-02,  1.50324125e-02,  5.58495848e-03, -1.66933164e-02,\n       -6.82164915e-03,  1.77169330e-02, -2.99748732e-04, -1.52221238e-02,\n       -1.04220416e-02,  1.58097409e-02,  1.87843274e-02,  6.35122601e-03,\n        9.22764957e-06,  4.11907732e-02,  5.04953973e-03,  3.14496015e-03,\n        4.22466919e-03, -1.01463357e-03,  3.32833407e-03, -3.44061106e-02,\n       -2.22960021e-02,  1.20612867e-02, -2.07911991e-02,  1.86158530e-02,\n        1.46271633e-02,  2.07977220e-02, -9.31814592e-03, -4.33514779e-03,\n        1.48596372e-02,  1.58786103e-02,  2.33332757e-02,  1.88210476e-02,\n        6.37682946e-03,  2.98491400e-02,  2.63845455e-02,  1.92599148e-02,\n        1.93997771e-02, -1.39751518e-02,  4.21573929e-02,  2.59332731e-02,\n        4.62743454e-03,  2.59351509e-04,  5.04273083e-03, -4.39926796e-03,\n       -3.13289836e-02,  1.49996681e-02,  4.75538801e-03,  7.54432054e-03,\n       -2.06224266e-02, -2.14581061e-02, -3.04934895e-03,  2.00247411e-02,\n        2.46811863e-02,  8.13140534e-03, -2.85279322e-02,  2.79891845e-02],\n      dtype=float32)"
     },
     "execution_count": 170,
     "metadata": {},
     "output_type": "execute_result"
    }
   ],
   "source": [
    "toy_story_vector"
   ],
   "metadata": {
    "collapsed": false,
    "pycharm": {
     "name": "#%%\n"
    }
   }
  },
  {
   "cell_type": "code",
   "execution_count": 171,
   "outputs": [
    {
     "data": {
      "text/plain": "0.5969763"
     },
     "execution_count": 171,
     "metadata": {},
     "output_type": "execute_result"
    }
   ],
   "source": [
    "# zimin과 black_eyed_peas를 내적하는 코드\n",
    "np.dot(taekyun_vector, toy_story_vector)"
   ],
   "metadata": {
    "collapsed": false,
    "pycharm": {
     "name": "#%%\n"
    }
   }
  },
  {
   "cell_type": "markdown",
   "source": [
    "0.57.. 조금은 아쉽다"
   ],
   "metadata": {
    "collapsed": false
   }
  },
  {
   "cell_type": "code",
   "execution_count": 172,
   "outputs": [
    {
     "data": {
      "text/plain": "-0.030773023"
     },
     "execution_count": 172,
     "metadata": {},
     "output_type": "execute_result"
    }
   ],
   "source": [
    "duet = title_to_idx['Duets (2000)']\n",
    "duet_vector = als_model.item_factors[duet]\n",
    "np.dot(taekyun_vector, duet_vector)"
   ],
   "metadata": {
    "collapsed": false,
    "pycharm": {
     "name": "#%%\n"
    }
   }
  },
  {
   "cell_type": "markdown",
   "source": [
    "0 이하의 선호도가 나왔다."
   ],
   "metadata": {
    "collapsed": false,
    "pycharm": {
     "name": "#%% md\n"
    }
   }
  },
  {
   "cell_type": "markdown",
   "source": [
    "## 내가 좋아하는 영화와 비슷한 영화 추천"
   ],
   "metadata": {
    "collapsed": false,
    "pycharm": {
     "name": "#%% md\n"
    }
   }
  },
  {
   "cell_type": "code",
   "execution_count": 173,
   "outputs": [
    {
     "data": {
      "text/plain": "[(40, 0.99999994),\n (50, 0.7670828),\n (4, 0.51179916),\n (33, 0.50434),\n (322, 0.48507348),\n (110, 0.4196053),\n (330, 0.39828762),\n (255, 0.3485177),\n (10, 0.32601625),\n (160, 0.32142982),\n (277, 0.31840315),\n (20, 0.3108548),\n (32, 0.30998418),\n (126, 0.29190722),\n (478, 0.2827667)]"
     },
     "execution_count": 173,
     "metadata": {},
     "output_type": "execute_result"
    }
   ],
   "source": [
    "favorite_movie = 'Toy Story (1995)'\n",
    "movie_id = title_to_idx[favorite_movie]\n",
    "similar_movie = als_model.similar_items(movie_id, N=15)\n",
    "similar_movie"
   ],
   "metadata": {
    "collapsed": false,
    "pycharm": {
     "name": "#%%\n"
    }
   }
  },
  {
   "cell_type": "code",
   "execution_count": 174,
   "outputs": [
    {
     "data": {
      "text/plain": "['Toy Story (1995)',\n 'Toy Story 2 (1999)',\n \"Bug's Life, A (1998)\",\n 'Aladdin (1992)',\n 'Babe (1995)',\n 'Groundhog Day (1993)',\n 'Lion King, The (1994)',\n \"There's Something About Mary (1998)\",\n 'Beauty and the Beast (1991)',\n 'Forrest Gump (1994)',\n 'Babe: Pig in the City (1998)',\n 'Pleasantville (1998)',\n 'Hercules (1997)',\n 'Shakespeare in Love (1998)',\n \"Wayne's World (1992)\"]"
     },
     "execution_count": 174,
     "metadata": {},
     "output_type": "execute_result"
    }
   ],
   "source": [
    "#artist_to_idx 를 뒤집어, index로부터 artist 이름을 얻는 dict를 생성합니다.\n",
    "idx_to_title = {v:k for k,v in title_to_idx.items()}\n",
    "[idx_to_title[i[0]] for i in similar_movie]"
   ],
   "metadata": {
    "collapsed": false,
    "pycharm": {
     "name": "#%%\n"
    }
   }
  },
  {
   "cell_type": "markdown",
   "source": [
    "와우 애니매이션 영화들이 가득 나왔다 잘 돌아가는 것 같다"
   ],
   "metadata": {
    "collapsed": false,
    "pycharm": {
     "name": "#%% md\n"
    }
   }
  },
  {
   "cell_type": "markdown",
   "source": [
    "## 내가 가장 좋아할 만한 영화들을 추천"
   ],
   "metadata": {
    "collapsed": false,
    "pycharm": {
     "name": "#%% md\n"
    }
   }
  },
  {
   "cell_type": "code",
   "execution_count": 175,
   "outputs": [],
   "source": [
    "movie_recommended = als_model.recommend(taekyun, csr_data, N=10, filter_already_liked_items=True)"
   ],
   "metadata": {
    "collapsed": false,
    "pycharm": {
     "name": "#%%\n"
    }
   }
  },
  {
   "cell_type": "code",
   "execution_count": 176,
   "outputs": [
    {
     "data": {
      "text/plain": "[['Silence of the Lambs, The (1991)',\n  \"Schindler's List (1993)\",\n  'Toy Story 2 (1999)',\n  'Pulp Fiction (1994)',\n  'Saving Private Ryan (1998)',\n  'Groundhog Day (1993)',\n  'Being John Malkovich (1999)',\n  \"Bug's Life, A (1998)\",\n  'GoodFellas (1990)',\n  'Babe (1995)']]"
     },
     "execution_count": 176,
     "metadata": {},
     "output_type": "execute_result"
    }
   ],
   "source": [
    "[[idx_to_title[movie[0]] for movie in movie_recommended]]"
   ],
   "metadata": {
    "collapsed": false,
    "pycharm": {
     "name": "#%%\n"
    }
   }
  },
  {
   "cell_type": "markdown",
   "source": [
    "추천 영화 10개를 얻었다!"
   ],
   "metadata": {
    "collapsed": false,
    "pycharm": {
     "name": "#%% md\n"
    }
   }
  }
 ],
 "metadata": {
  "kernelspec": {
   "display_name": "Python 3",
   "language": "python",
   "name": "python3"
  },
  "language_info": {
   "codemirror_mode": {
    "name": "ipython",
    "version": 2
   },
   "file_extension": ".py",
   "mimetype": "text/x-python",
   "name": "python",
   "nbconvert_exporter": "python",
   "pygments_lexer": "ipython2",
   "version": "2.7.6"
  }
 },
 "nbformat": 4,
 "nbformat_minor": 0
}