{
 "cells": [
  {
   "cell_type": "code",
   "execution_count": 24,
   "metadata": {
    "collapsed": true
   },
   "outputs": [
    {
     "data": {
      "text/plain": "                                    user_id  \\\n0  00000c289a1829a808ac09c00daf10bc3c4e223b   \n1  00000c289a1829a808ac09c00daf10bc3c4e223b   \n2  00000c289a1829a808ac09c00daf10bc3c4e223b   \n3  00000c289a1829a808ac09c00daf10bc3c4e223b   \n4  00000c289a1829a808ac09c00daf10bc3c4e223b   \n5  00000c289a1829a808ac09c00daf10bc3c4e223b   \n6  00000c289a1829a808ac09c00daf10bc3c4e223b   \n7  00000c289a1829a808ac09c00daf10bc3c4e223b   \n8  00000c289a1829a808ac09c00daf10bc3c4e223b   \n9  00000c289a1829a808ac09c00daf10bc3c4e223b   \n\n                            artist_MBID                   artist  play  \n0  3bd73256-3905-4f3a-97e2-8b341527f805          betty blowtorch  2137  \n1  f2fb0ff0-5679-42ec-a55c-15109ce6e320                die Ärzte  1099  \n2  b3ae82c2-e60b-4551-a76d-6620f1b456aa        melissa etheridge   897  \n3  3d6bbeb7-f90e-4d10-b440-e153c0d10b53                elvenking   717  \n4  bbd2ffd7-17f4-4506-8572-c1ea58c3f9a8     juliette & the licks   706  \n5  8bfac288-ccc5-448d-9573-c33ea2aa5c30    red hot chili peppers   691  \n6  6531c8b1-76ea-4141-b270-eb1ac5b41375                   magica   545  \n7  21f3573f-10cf-44b3-aeaa-26cccd8448b5  the black dahlia murder   507  \n8  c5db90c4-580d-4f33-b364-fbaa5a3a58b5              the murmurs   424  \n9  0639533a-0402-40ba-b6e0-18b067198b73               lunachicks   403  ",
      "text/html": "<div>\n<style scoped>\n    .dataframe tbody tr th:only-of-type {\n        vertical-align: middle;\n    }\n\n    .dataframe tbody tr th {\n        vertical-align: top;\n    }\n\n    .dataframe thead th {\n        text-align: right;\n    }\n</style>\n<table border=\"1\" class=\"dataframe\">\n  <thead>\n    <tr style=\"text-align: right;\">\n      <th></th>\n      <th>user_id</th>\n      <th>artist_MBID</th>\n      <th>artist</th>\n      <th>play</th>\n    </tr>\n  </thead>\n  <tbody>\n    <tr>\n      <th>0</th>\n      <td>00000c289a1829a808ac09c00daf10bc3c4e223b</td>\n      <td>3bd73256-3905-4f3a-97e2-8b341527f805</td>\n      <td>betty blowtorch</td>\n      <td>2137</td>\n    </tr>\n    <tr>\n      <th>1</th>\n      <td>00000c289a1829a808ac09c00daf10bc3c4e223b</td>\n      <td>f2fb0ff0-5679-42ec-a55c-15109ce6e320</td>\n      <td>die Ärzte</td>\n      <td>1099</td>\n    </tr>\n    <tr>\n      <th>2</th>\n      <td>00000c289a1829a808ac09c00daf10bc3c4e223b</td>\n      <td>b3ae82c2-e60b-4551-a76d-6620f1b456aa</td>\n      <td>melissa etheridge</td>\n      <td>897</td>\n    </tr>\n    <tr>\n      <th>3</th>\n      <td>00000c289a1829a808ac09c00daf10bc3c4e223b</td>\n      <td>3d6bbeb7-f90e-4d10-b440-e153c0d10b53</td>\n      <td>elvenking</td>\n      <td>717</td>\n    </tr>\n    <tr>\n      <th>4</th>\n      <td>00000c289a1829a808ac09c00daf10bc3c4e223b</td>\n      <td>bbd2ffd7-17f4-4506-8572-c1ea58c3f9a8</td>\n      <td>juliette &amp; the licks</td>\n      <td>706</td>\n    </tr>\n    <tr>\n      <th>5</th>\n      <td>00000c289a1829a808ac09c00daf10bc3c4e223b</td>\n      <td>8bfac288-ccc5-448d-9573-c33ea2aa5c30</td>\n      <td>red hot chili peppers</td>\n      <td>691</td>\n    </tr>\n    <tr>\n      <th>6</th>\n      <td>00000c289a1829a808ac09c00daf10bc3c4e223b</td>\n      <td>6531c8b1-76ea-4141-b270-eb1ac5b41375</td>\n      <td>magica</td>\n      <td>545</td>\n    </tr>\n    <tr>\n      <th>7</th>\n      <td>00000c289a1829a808ac09c00daf10bc3c4e223b</td>\n      <td>21f3573f-10cf-44b3-aeaa-26cccd8448b5</td>\n      <td>the black dahlia murder</td>\n      <td>507</td>\n    </tr>\n    <tr>\n      <th>8</th>\n      <td>00000c289a1829a808ac09c00daf10bc3c4e223b</td>\n      <td>c5db90c4-580d-4f33-b364-fbaa5a3a58b5</td>\n      <td>the murmurs</td>\n      <td>424</td>\n    </tr>\n    <tr>\n      <th>9</th>\n      <td>00000c289a1829a808ac09c00daf10bc3c4e223b</td>\n      <td>0639533a-0402-40ba-b6e0-18b067198b73</td>\n      <td>lunachicks</td>\n      <td>403</td>\n    </tr>\n  </tbody>\n</table>\n</div>"
     },
     "execution_count": 24,
     "metadata": {},
     "output_type": "execute_result"
    }
   ],
   "source": [
    "import pandas as pd\n",
    "import os\n",
    "\n",
    "fname = os.getenv('HOME') + '/aiffel/recommendata_iu/data/lastfm-dataset-360K/usersha1-artmbid-artname-plays.tsv'\n",
    "col_names = ['user_id', 'artist_MBID', 'artist', 'play']   # 임의로 지정한 컬럼명\n",
    "data = pd.read_csv(fname, sep='\\t', names= col_names)      # sep='\\t'로 주어야 tsv를 열 수 있습니다.\n",
    "data.head(10)"
   ]
  },
  {
   "cell_type": "code",
   "execution_count": 25,
   "outputs": [
    {
     "data": {
      "text/plain": "                                    user_id                   artist  play\n0  00000c289a1829a808ac09c00daf10bc3c4e223b          betty blowtorch  2137\n1  00000c289a1829a808ac09c00daf10bc3c4e223b                die Ärzte  1099\n2  00000c289a1829a808ac09c00daf10bc3c4e223b        melissa etheridge   897\n3  00000c289a1829a808ac09c00daf10bc3c4e223b                elvenking   717\n4  00000c289a1829a808ac09c00daf10bc3c4e223b     juliette & the licks   706\n5  00000c289a1829a808ac09c00daf10bc3c4e223b    red hot chili peppers   691\n6  00000c289a1829a808ac09c00daf10bc3c4e223b                   magica   545\n7  00000c289a1829a808ac09c00daf10bc3c4e223b  the black dahlia murder   507\n8  00000c289a1829a808ac09c00daf10bc3c4e223b              the murmurs   424\n9  00000c289a1829a808ac09c00daf10bc3c4e223b               lunachicks   403",
      "text/html": "<div>\n<style scoped>\n    .dataframe tbody tr th:only-of-type {\n        vertical-align: middle;\n    }\n\n    .dataframe tbody tr th {\n        vertical-align: top;\n    }\n\n    .dataframe thead th {\n        text-align: right;\n    }\n</style>\n<table border=\"1\" class=\"dataframe\">\n  <thead>\n    <tr style=\"text-align: right;\">\n      <th></th>\n      <th>user_id</th>\n      <th>artist</th>\n      <th>play</th>\n    </tr>\n  </thead>\n  <tbody>\n    <tr>\n      <th>0</th>\n      <td>00000c289a1829a808ac09c00daf10bc3c4e223b</td>\n      <td>betty blowtorch</td>\n      <td>2137</td>\n    </tr>\n    <tr>\n      <th>1</th>\n      <td>00000c289a1829a808ac09c00daf10bc3c4e223b</td>\n      <td>die Ärzte</td>\n      <td>1099</td>\n    </tr>\n    <tr>\n      <th>2</th>\n      <td>00000c289a1829a808ac09c00daf10bc3c4e223b</td>\n      <td>melissa etheridge</td>\n      <td>897</td>\n    </tr>\n    <tr>\n      <th>3</th>\n      <td>00000c289a1829a808ac09c00daf10bc3c4e223b</td>\n      <td>elvenking</td>\n      <td>717</td>\n    </tr>\n    <tr>\n      <th>4</th>\n      <td>00000c289a1829a808ac09c00daf10bc3c4e223b</td>\n      <td>juliette &amp; the licks</td>\n      <td>706</td>\n    </tr>\n    <tr>\n      <th>5</th>\n      <td>00000c289a1829a808ac09c00daf10bc3c4e223b</td>\n      <td>red hot chili peppers</td>\n      <td>691</td>\n    </tr>\n    <tr>\n      <th>6</th>\n      <td>00000c289a1829a808ac09c00daf10bc3c4e223b</td>\n      <td>magica</td>\n      <td>545</td>\n    </tr>\n    <tr>\n      <th>7</th>\n      <td>00000c289a1829a808ac09c00daf10bc3c4e223b</td>\n      <td>the black dahlia murder</td>\n      <td>507</td>\n    </tr>\n    <tr>\n      <th>8</th>\n      <td>00000c289a1829a808ac09c00daf10bc3c4e223b</td>\n      <td>the murmurs</td>\n      <td>424</td>\n    </tr>\n    <tr>\n      <th>9</th>\n      <td>00000c289a1829a808ac09c00daf10bc3c4e223b</td>\n      <td>lunachicks</td>\n      <td>403</td>\n    </tr>\n  </tbody>\n</table>\n</div>"
     },
     "execution_count": 25,
     "metadata": {},
     "output_type": "execute_result"
    }
   ],
   "source": [
    "using_cols = ['user_id', 'artist', 'play']\n",
    "data = data[using_cols]\n",
    "data.head(10)"
   ],
   "metadata": {
    "collapsed": false,
    "pycharm": {
     "name": "#%%\n"
    }
   }
  },
  {
   "cell_type": "code",
   "execution_count": 29,
   "outputs": [
    {
     "data": {
      "text/plain": "13963910         0\n16212213         1\n14401391         1\n14401392         1\n14401393         1\n             ...  \n12784050    242328\n5155710     270122\n12624418    272359\n1435231     288375\n9654928     419157\nName: play, Length: 17535655, dtype: int64"
     },
     "execution_count": 29,
     "metadata": {},
     "output_type": "execute_result"
    }
   ],
   "source": [
    "data['play'].sort_values()"
   ],
   "metadata": {
    "collapsed": false,
    "pycharm": {
     "name": "#%%\n"
    }
   }
  },
  {
   "cell_type": "code",
   "execution_count": 23,
   "outputs": [
    {
     "data": {
      "text/plain": "   user_id  artist  play\n0        0       0  2137\n1        0       1  1099\n2        0       2   897\n3        0       3   717\n4        0       4   706",
      "text/html": "<div>\n<style scoped>\n    .dataframe tbody tr th:only-of-type {\n        vertical-align: middle;\n    }\n\n    .dataframe tbody tr th {\n        vertical-align: top;\n    }\n\n    .dataframe thead th {\n        text-align: right;\n    }\n</style>\n<table border=\"1\" class=\"dataframe\">\n  <thead>\n    <tr style=\"text-align: right;\">\n      <th></th>\n      <th>user_id</th>\n      <th>artist</th>\n      <th>play</th>\n    </tr>\n  </thead>\n  <tbody>\n    <tr>\n      <th>0</th>\n      <td>0</td>\n      <td>0</td>\n      <td>2137</td>\n    </tr>\n    <tr>\n      <th>1</th>\n      <td>0</td>\n      <td>1</td>\n      <td>1099</td>\n    </tr>\n    <tr>\n      <th>2</th>\n      <td>0</td>\n      <td>2</td>\n      <td>897</td>\n    </tr>\n    <tr>\n      <th>3</th>\n      <td>0</td>\n      <td>3</td>\n      <td>717</td>\n    </tr>\n    <tr>\n      <th>4</th>\n      <td>0</td>\n      <td>4</td>\n      <td>706</td>\n    </tr>\n  </tbody>\n</table>\n</div>"
     },
     "execution_count": 23,
     "metadata": {},
     "output_type": "execute_result"
    }
   ],
   "source": [
    "data.value_counts"
   ],
   "metadata": {
    "collapsed": false,
    "pycharm": {
     "name": "#%%\n"
    }
   }
  },
  {
   "cell_type": "code",
   "execution_count": 31,
   "outputs": [
    {
     "data": {
      "text/plain": "                                    user_id                   artist  play\n0  00000c289a1829a808ac09c00daf10bc3c4e223b          betty blowtorch  2137\n1  00000c289a1829a808ac09c00daf10bc3c4e223b                die ärzte  1099\n2  00000c289a1829a808ac09c00daf10bc3c4e223b        melissa etheridge   897\n3  00000c289a1829a808ac09c00daf10bc3c4e223b                elvenking   717\n4  00000c289a1829a808ac09c00daf10bc3c4e223b     juliette & the licks   706\n5  00000c289a1829a808ac09c00daf10bc3c4e223b    red hot chili peppers   691\n6  00000c289a1829a808ac09c00daf10bc3c4e223b                   magica   545\n7  00000c289a1829a808ac09c00daf10bc3c4e223b  the black dahlia murder   507\n8  00000c289a1829a808ac09c00daf10bc3c4e223b              the murmurs   424\n9  00000c289a1829a808ac09c00daf10bc3c4e223b               lunachicks   403",
      "text/html": "<div>\n<style scoped>\n    .dataframe tbody tr th:only-of-type {\n        vertical-align: middle;\n    }\n\n    .dataframe tbody tr th {\n        vertical-align: top;\n    }\n\n    .dataframe thead th {\n        text-align: right;\n    }\n</style>\n<table border=\"1\" class=\"dataframe\">\n  <thead>\n    <tr style=\"text-align: right;\">\n      <th></th>\n      <th>user_id</th>\n      <th>artist</th>\n      <th>play</th>\n    </tr>\n  </thead>\n  <tbody>\n    <tr>\n      <th>0</th>\n      <td>00000c289a1829a808ac09c00daf10bc3c4e223b</td>\n      <td>betty blowtorch</td>\n      <td>2137</td>\n    </tr>\n    <tr>\n      <th>1</th>\n      <td>00000c289a1829a808ac09c00daf10bc3c4e223b</td>\n      <td>die ärzte</td>\n      <td>1099</td>\n    </tr>\n    <tr>\n      <th>2</th>\n      <td>00000c289a1829a808ac09c00daf10bc3c4e223b</td>\n      <td>melissa etheridge</td>\n      <td>897</td>\n    </tr>\n    <tr>\n      <th>3</th>\n      <td>00000c289a1829a808ac09c00daf10bc3c4e223b</td>\n      <td>elvenking</td>\n      <td>717</td>\n    </tr>\n    <tr>\n      <th>4</th>\n      <td>00000c289a1829a808ac09c00daf10bc3c4e223b</td>\n      <td>juliette &amp; the licks</td>\n      <td>706</td>\n    </tr>\n    <tr>\n      <th>5</th>\n      <td>00000c289a1829a808ac09c00daf10bc3c4e223b</td>\n      <td>red hot chili peppers</td>\n      <td>691</td>\n    </tr>\n    <tr>\n      <th>6</th>\n      <td>00000c289a1829a808ac09c00daf10bc3c4e223b</td>\n      <td>magica</td>\n      <td>545</td>\n    </tr>\n    <tr>\n      <th>7</th>\n      <td>00000c289a1829a808ac09c00daf10bc3c4e223b</td>\n      <td>the black dahlia murder</td>\n      <td>507</td>\n    </tr>\n    <tr>\n      <th>8</th>\n      <td>00000c289a1829a808ac09c00daf10bc3c4e223b</td>\n      <td>the murmurs</td>\n      <td>424</td>\n    </tr>\n    <tr>\n      <th>9</th>\n      <td>00000c289a1829a808ac09c00daf10bc3c4e223b</td>\n      <td>lunachicks</td>\n      <td>403</td>\n    </tr>\n  </tbody>\n</table>\n</div>"
     },
     "execution_count": 31,
     "metadata": {},
     "output_type": "execute_result"
    }
   ],
   "source": [
    "data['artist'] = data['artist'].str.lower() # 검색을 쉽게하기 위해 아티스트 문자열을 소문자로 바꿔줍시다.\n",
    "data.head(10)"
   ],
   "metadata": {
    "collapsed": false,
    "pycharm": {
     "name": "#%%\n"
    }
   }
  },
  {
   "cell_type": "code",
   "execution_count": 32,
   "outputs": [
    {
     "data": {
      "text/plain": "                                     user_id                   artist  play\n0   00000c289a1829a808ac09c00daf10bc3c4e223b          betty blowtorch  2137\n1   00000c289a1829a808ac09c00daf10bc3c4e223b                die ärzte  1099\n2   00000c289a1829a808ac09c00daf10bc3c4e223b        melissa etheridge   897\n3   00000c289a1829a808ac09c00daf10bc3c4e223b                elvenking   717\n4   00000c289a1829a808ac09c00daf10bc3c4e223b     juliette & the licks   706\n5   00000c289a1829a808ac09c00daf10bc3c4e223b    red hot chili peppers   691\n6   00000c289a1829a808ac09c00daf10bc3c4e223b                   magica   545\n7   00000c289a1829a808ac09c00daf10bc3c4e223b  the black dahlia murder   507\n8   00000c289a1829a808ac09c00daf10bc3c4e223b              the murmurs   424\n9   00000c289a1829a808ac09c00daf10bc3c4e223b               lunachicks   403\n10  00000c289a1829a808ac09c00daf10bc3c4e223b         walls of jericho   393\n11  00000c289a1829a808ac09c00daf10bc3c4e223b           letzte instanz   387\n12  00000c289a1829a808ac09c00daf10bc3c4e223b                goldfrapp   361\n13  00000c289a1829a808ac09c00daf10bc3c4e223b               horrorpops   358\n14  00000c289a1829a808ac09c00daf10bc3c4e223b             the butchies   329\n15  00000c289a1829a808ac09c00daf10bc3c4e223b            jack off jill   316\n16  00000c289a1829a808ac09c00daf10bc3c4e223b         babes in toyland   310\n17  00000c289a1829a808ac09c00daf10bc3c4e223b         dropkick murphys   302\n18  00000c289a1829a808ac09c00daf10bc3c4e223b            all:my:faults   288\n19  00000c289a1829a808ac09c00daf10bc3c4e223b                 le tigre   281\n20  00000c289a1829a808ac09c00daf10bc3c4e223b               schandmaul   244\n21  00000c289a1829a808ac09c00daf10bc3c4e223b                    edguy   232\n22  00000c289a1829a808ac09c00daf10bc3c4e223b      maximum the hormone   231\n23  00000c289a1829a808ac09c00daf10bc3c4e223b                 all ends   229\n24  00000c289a1829a808ac09c00daf10bc3c4e223b             jack johnson   227\n25  00000c289a1829a808ac09c00daf10bc3c4e223b                eluveitie   222\n26  00000c289a1829a808ac09c00daf10bc3c4e223b                rasputina   220\n27  00000c289a1829a808ac09c00daf10bc3c4e223b    london after midnight   210\n28  00000c289a1829a808ac09c00daf10bc3c4e223b              the killers   208\n29  00000c289a1829a808ac09c00daf10bc3c4e223b                  mutyumu   205\n30  00000c289a1829a808ac09c00daf10bc3c4e223b             judas priest   198\n31  00000c289a1829a808ac09c00daf10bc3c4e223b               rob zombie   198\n32  00000c289a1829a808ac09c00daf10bc3c4e223b             the bosshoss   189\n33  00000c289a1829a808ac09c00daf10bc3c4e223b         blue öyster cult   185\n34  00000c289a1829a808ac09c00daf10bc3c4e223b             sandra nasic   183\n35  00000c289a1829a808ac09c00daf10bc3c4e223b               john mayer   182\n36  00000c289a1829a808ac09c00daf10bc3c4e223b           sleater-kinney   175\n37  00000c289a1829a808ac09c00daf10bc3c4e223b                  the who   168\n38  00000c289a1829a808ac09c00daf10bc3c4e223b                 disciple   154\n39  00000c289a1829a808ac09c00daf10bc3c4e223b                  tanzwut   153\n40  00000c289a1829a808ac09c00daf10bc3c4e223b               guano apes   151\n41  00000c289a1829a808ac09c00daf10bc3c4e223b       the rolling stones   150\n42  00000c289a1829a808ac09c00daf10bc3c4e223b          little big town   145\n43  00000c289a1829a808ac09c00daf10bc3c4e223b              team dresch   137\n44  00000c289a1829a808ac09c00daf10bc3c4e223b                    betty   135\n45  00000c289a1829a808ac09c00daf10bc3c4e223b                       l7   135\n46  00000c289a1829a808ac09c00daf10bc3c4e223b                bif naked   134\n47  00000c289a1829a808ac09c00daf10bc3c4e223b               girlschool   134\n48  00000c289a1829a808ac09c00daf10bc3c4e223b          the wallflowers   131",
      "text/html": "<div>\n<style scoped>\n    .dataframe tbody tr th:only-of-type {\n        vertical-align: middle;\n    }\n\n    .dataframe tbody tr th {\n        vertical-align: top;\n    }\n\n    .dataframe thead th {\n        text-align: right;\n    }\n</style>\n<table border=\"1\" class=\"dataframe\">\n  <thead>\n    <tr style=\"text-align: right;\">\n      <th></th>\n      <th>user_id</th>\n      <th>artist</th>\n      <th>play</th>\n    </tr>\n  </thead>\n  <tbody>\n    <tr>\n      <th>0</th>\n      <td>00000c289a1829a808ac09c00daf10bc3c4e223b</td>\n      <td>betty blowtorch</td>\n      <td>2137</td>\n    </tr>\n    <tr>\n      <th>1</th>\n      <td>00000c289a1829a808ac09c00daf10bc3c4e223b</td>\n      <td>die ärzte</td>\n      <td>1099</td>\n    </tr>\n    <tr>\n      <th>2</th>\n      <td>00000c289a1829a808ac09c00daf10bc3c4e223b</td>\n      <td>melissa etheridge</td>\n      <td>897</td>\n    </tr>\n    <tr>\n      <th>3</th>\n      <td>00000c289a1829a808ac09c00daf10bc3c4e223b</td>\n      <td>elvenking</td>\n      <td>717</td>\n    </tr>\n    <tr>\n      <th>4</th>\n      <td>00000c289a1829a808ac09c00daf10bc3c4e223b</td>\n      <td>juliette &amp; the licks</td>\n      <td>706</td>\n    </tr>\n    <tr>\n      <th>5</th>\n      <td>00000c289a1829a808ac09c00daf10bc3c4e223b</td>\n      <td>red hot chili peppers</td>\n      <td>691</td>\n    </tr>\n    <tr>\n      <th>6</th>\n      <td>00000c289a1829a808ac09c00daf10bc3c4e223b</td>\n      <td>magica</td>\n      <td>545</td>\n    </tr>\n    <tr>\n      <th>7</th>\n      <td>00000c289a1829a808ac09c00daf10bc3c4e223b</td>\n      <td>the black dahlia murder</td>\n      <td>507</td>\n    </tr>\n    <tr>\n      <th>8</th>\n      <td>00000c289a1829a808ac09c00daf10bc3c4e223b</td>\n      <td>the murmurs</td>\n      <td>424</td>\n    </tr>\n    <tr>\n      <th>9</th>\n      <td>00000c289a1829a808ac09c00daf10bc3c4e223b</td>\n      <td>lunachicks</td>\n      <td>403</td>\n    </tr>\n    <tr>\n      <th>10</th>\n      <td>00000c289a1829a808ac09c00daf10bc3c4e223b</td>\n      <td>walls of jericho</td>\n      <td>393</td>\n    </tr>\n    <tr>\n      <th>11</th>\n      <td>00000c289a1829a808ac09c00daf10bc3c4e223b</td>\n      <td>letzte instanz</td>\n      <td>387</td>\n    </tr>\n    <tr>\n      <th>12</th>\n      <td>00000c289a1829a808ac09c00daf10bc3c4e223b</td>\n      <td>goldfrapp</td>\n      <td>361</td>\n    </tr>\n    <tr>\n      <th>13</th>\n      <td>00000c289a1829a808ac09c00daf10bc3c4e223b</td>\n      <td>horrorpops</td>\n      <td>358</td>\n    </tr>\n    <tr>\n      <th>14</th>\n      <td>00000c289a1829a808ac09c00daf10bc3c4e223b</td>\n      <td>the butchies</td>\n      <td>329</td>\n    </tr>\n    <tr>\n      <th>15</th>\n      <td>00000c289a1829a808ac09c00daf10bc3c4e223b</td>\n      <td>jack off jill</td>\n      <td>316</td>\n    </tr>\n    <tr>\n      <th>16</th>\n      <td>00000c289a1829a808ac09c00daf10bc3c4e223b</td>\n      <td>babes in toyland</td>\n      <td>310</td>\n    </tr>\n    <tr>\n      <th>17</th>\n      <td>00000c289a1829a808ac09c00daf10bc3c4e223b</td>\n      <td>dropkick murphys</td>\n      <td>302</td>\n    </tr>\n    <tr>\n      <th>18</th>\n      <td>00000c289a1829a808ac09c00daf10bc3c4e223b</td>\n      <td>all:my:faults</td>\n      <td>288</td>\n    </tr>\n    <tr>\n      <th>19</th>\n      <td>00000c289a1829a808ac09c00daf10bc3c4e223b</td>\n      <td>le tigre</td>\n      <td>281</td>\n    </tr>\n    <tr>\n      <th>20</th>\n      <td>00000c289a1829a808ac09c00daf10bc3c4e223b</td>\n      <td>schandmaul</td>\n      <td>244</td>\n    </tr>\n    <tr>\n      <th>21</th>\n      <td>00000c289a1829a808ac09c00daf10bc3c4e223b</td>\n      <td>edguy</td>\n      <td>232</td>\n    </tr>\n    <tr>\n      <th>22</th>\n      <td>00000c289a1829a808ac09c00daf10bc3c4e223b</td>\n      <td>maximum the hormone</td>\n      <td>231</td>\n    </tr>\n    <tr>\n      <th>23</th>\n      <td>00000c289a1829a808ac09c00daf10bc3c4e223b</td>\n      <td>all ends</td>\n      <td>229</td>\n    </tr>\n    <tr>\n      <th>24</th>\n      <td>00000c289a1829a808ac09c00daf10bc3c4e223b</td>\n      <td>jack johnson</td>\n      <td>227</td>\n    </tr>\n    <tr>\n      <th>25</th>\n      <td>00000c289a1829a808ac09c00daf10bc3c4e223b</td>\n      <td>eluveitie</td>\n      <td>222</td>\n    </tr>\n    <tr>\n      <th>26</th>\n      <td>00000c289a1829a808ac09c00daf10bc3c4e223b</td>\n      <td>rasputina</td>\n      <td>220</td>\n    </tr>\n    <tr>\n      <th>27</th>\n      <td>00000c289a1829a808ac09c00daf10bc3c4e223b</td>\n      <td>london after midnight</td>\n      <td>210</td>\n    </tr>\n    <tr>\n      <th>28</th>\n      <td>00000c289a1829a808ac09c00daf10bc3c4e223b</td>\n      <td>the killers</td>\n      <td>208</td>\n    </tr>\n    <tr>\n      <th>29</th>\n      <td>00000c289a1829a808ac09c00daf10bc3c4e223b</td>\n      <td>mutyumu</td>\n      <td>205</td>\n    </tr>\n    <tr>\n      <th>30</th>\n      <td>00000c289a1829a808ac09c00daf10bc3c4e223b</td>\n      <td>judas priest</td>\n      <td>198</td>\n    </tr>\n    <tr>\n      <th>31</th>\n      <td>00000c289a1829a808ac09c00daf10bc3c4e223b</td>\n      <td>rob zombie</td>\n      <td>198</td>\n    </tr>\n    <tr>\n      <th>32</th>\n      <td>00000c289a1829a808ac09c00daf10bc3c4e223b</td>\n      <td>the bosshoss</td>\n      <td>189</td>\n    </tr>\n    <tr>\n      <th>33</th>\n      <td>00000c289a1829a808ac09c00daf10bc3c4e223b</td>\n      <td>blue öyster cult</td>\n      <td>185</td>\n    </tr>\n    <tr>\n      <th>34</th>\n      <td>00000c289a1829a808ac09c00daf10bc3c4e223b</td>\n      <td>sandra nasic</td>\n      <td>183</td>\n    </tr>\n    <tr>\n      <th>35</th>\n      <td>00000c289a1829a808ac09c00daf10bc3c4e223b</td>\n      <td>john mayer</td>\n      <td>182</td>\n    </tr>\n    <tr>\n      <th>36</th>\n      <td>00000c289a1829a808ac09c00daf10bc3c4e223b</td>\n      <td>sleater-kinney</td>\n      <td>175</td>\n    </tr>\n    <tr>\n      <th>37</th>\n      <td>00000c289a1829a808ac09c00daf10bc3c4e223b</td>\n      <td>the who</td>\n      <td>168</td>\n    </tr>\n    <tr>\n      <th>38</th>\n      <td>00000c289a1829a808ac09c00daf10bc3c4e223b</td>\n      <td>disciple</td>\n      <td>154</td>\n    </tr>\n    <tr>\n      <th>39</th>\n      <td>00000c289a1829a808ac09c00daf10bc3c4e223b</td>\n      <td>tanzwut</td>\n      <td>153</td>\n    </tr>\n    <tr>\n      <th>40</th>\n      <td>00000c289a1829a808ac09c00daf10bc3c4e223b</td>\n      <td>guano apes</td>\n      <td>151</td>\n    </tr>\n    <tr>\n      <th>41</th>\n      <td>00000c289a1829a808ac09c00daf10bc3c4e223b</td>\n      <td>the rolling stones</td>\n      <td>150</td>\n    </tr>\n    <tr>\n      <th>42</th>\n      <td>00000c289a1829a808ac09c00daf10bc3c4e223b</td>\n      <td>little big town</td>\n      <td>145</td>\n    </tr>\n    <tr>\n      <th>43</th>\n      <td>00000c289a1829a808ac09c00daf10bc3c4e223b</td>\n      <td>team dresch</td>\n      <td>137</td>\n    </tr>\n    <tr>\n      <th>44</th>\n      <td>00000c289a1829a808ac09c00daf10bc3c4e223b</td>\n      <td>betty</td>\n      <td>135</td>\n    </tr>\n    <tr>\n      <th>45</th>\n      <td>00000c289a1829a808ac09c00daf10bc3c4e223b</td>\n      <td>l7</td>\n      <td>135</td>\n    </tr>\n    <tr>\n      <th>46</th>\n      <td>00000c289a1829a808ac09c00daf10bc3c4e223b</td>\n      <td>bif naked</td>\n      <td>134</td>\n    </tr>\n    <tr>\n      <th>47</th>\n      <td>00000c289a1829a808ac09c00daf10bc3c4e223b</td>\n      <td>girlschool</td>\n      <td>134</td>\n    </tr>\n    <tr>\n      <th>48</th>\n      <td>00000c289a1829a808ac09c00daf10bc3c4e223b</td>\n      <td>the wallflowers</td>\n      <td>131</td>\n    </tr>\n  </tbody>\n</table>\n</div>"
     },
     "execution_count": 32,
     "metadata": {},
     "output_type": "execute_result"
    }
   ],
   "source": [
    "condition = (data['user_id']== data.loc[0, 'user_id'])\n",
    "data.loc[condition]"
   ],
   "metadata": {
    "collapsed": false,
    "pycharm": {
     "name": "#%%\n"
    }
   }
  },
  {
   "cell_type": "code",
   "execution_count": 33,
   "outputs": [
    {
     "data": {
      "text/plain": "358868"
     },
     "execution_count": 33,
     "metadata": {},
     "output_type": "execute_result"
    }
   ],
   "source": [
    "# 유저 수\n",
    "data['user_id'].nunique()"
   ],
   "metadata": {
    "collapsed": false,
    "pycharm": {
     "name": "#%%\n"
    }
   }
  },
  {
   "cell_type": "code",
   "execution_count": 34,
   "outputs": [
    {
     "data": {
      "text/plain": "291346"
     },
     "execution_count": 34,
     "metadata": {},
     "output_type": "execute_result"
    }
   ],
   "source": [
    "# 아티스트 수\n",
    "data['artist'].nunique()"
   ],
   "metadata": {
    "collapsed": false,
    "pycharm": {
     "name": "#%%\n"
    }
   }
  },
  {
   "cell_type": "code",
   "execution_count": 35,
   "outputs": [
    {
     "data": {
      "text/plain": "artist\nradiohead                77254\nthe beatles              76245\ncoldplay                 66658\nred hot chili peppers    48924\nmuse                     46954\nmetallica                45233\npink floyd               44443\nthe killers              41229\nlinkin park              39773\nnirvana                  39479\nsystem of a down         37267\nqueen                    34174\nu2                       33206\ndaft punk                33001\nthe cure                 32624\nled zeppelin             32295\nplacebo                  32072\ndepeche mode             31916\ndavid bowie              31862\nbob dylan                31799\ndeath cab for cutie      31482\narctic monkeys           30348\nfoo fighters             30144\nair                      29795\nthe rolling stones       29754\nnine inch nails          28946\nsigur rós                28901\ngreen day                28732\nmassive attack           28691\nmoby                     28232\nName: user_id, dtype: int64"
     },
     "execution_count": 35,
     "metadata": {},
     "output_type": "execute_result"
    }
   ],
   "source": [
    "# 인기많은 아티스트\n",
    "artist_count = data.groupby('artist')['user_id'].count()\n",
    "artist_count.sort_values(ascending=False).head(30)"
   ],
   "metadata": {
    "collapsed": false,
    "pycharm": {
     "name": "#%%\n"
    }
   }
  },
  {
   "cell_type": "code",
   "execution_count": 36,
   "outputs": [
    {
     "data": {
      "text/plain": "count    358868.000000\nmean         48.863234\nstd           8.524272\nmin           1.000000\n25%          46.000000\n50%          49.000000\n75%          51.000000\nmax         166.000000\nName: artist, dtype: float64"
     },
     "execution_count": 36,
     "metadata": {},
     "output_type": "execute_result"
    }
   ],
   "source": [
    "# 유저별 몇 명의 아티스트를 듣고 있는지에 대한 통계\n",
    "user_count = data.groupby('user_id')['artist'].count()\n",
    "user_count.describe()"
   ],
   "metadata": {
    "collapsed": false,
    "pycharm": {
     "name": "#%%\n"
    }
   }
  },
  {
   "cell_type": "code",
   "execution_count": 37,
   "outputs": [
    {
     "data": {
      "text/plain": "count    358868.000000\nmean        142.187676\nstd         213.089902\nmin           1.000000\n25%          32.000000\n50%          83.000000\n75%         180.000000\nmax       50142.000000\nName: play, dtype: float64"
     },
     "execution_count": 37,
     "metadata": {},
     "output_type": "execute_result"
    }
   ],
   "source": [
    "# 유저별 play횟수 중앙값에 대한 통계\n",
    "user_median = data.groupby('user_id')['play'].median()\n",
    "user_median.describe()"
   ],
   "metadata": {
    "collapsed": false,
    "pycharm": {
     "name": "#%%\n"
    }
   }
  },
  {
   "cell_type": "code",
   "execution_count": 38,
   "outputs": [
    {
     "data": {
      "text/plain": "               user_id           artist  play\n17535650  sep 20, 2008       turbostaat    12\n17535651  sep 20, 2008    cuba missouri    11\n17535652  sep 20, 2008  little man tate    11\n17535653  sep 20, 2008        sigur rós    10\n17535654  sep 20, 2008       the smiths    10\n0              taekyun  black eyed peas    30\n1              taekyun          maroon5    30\n2              taekyun       jason mraz    30\n3              taekyun         coldplay    30\n4              taekyun          beyoncé    30",
      "text/html": "<div>\n<style scoped>\n    .dataframe tbody tr th:only-of-type {\n        vertical-align: middle;\n    }\n\n    .dataframe tbody tr th {\n        vertical-align: top;\n    }\n\n    .dataframe thead th {\n        text-align: right;\n    }\n</style>\n<table border=\"1\" class=\"dataframe\">\n  <thead>\n    <tr style=\"text-align: right;\">\n      <th></th>\n      <th>user_id</th>\n      <th>artist</th>\n      <th>play</th>\n    </tr>\n  </thead>\n  <tbody>\n    <tr>\n      <th>17535650</th>\n      <td>sep 20, 2008</td>\n      <td>turbostaat</td>\n      <td>12</td>\n    </tr>\n    <tr>\n      <th>17535651</th>\n      <td>sep 20, 2008</td>\n      <td>cuba missouri</td>\n      <td>11</td>\n    </tr>\n    <tr>\n      <th>17535652</th>\n      <td>sep 20, 2008</td>\n      <td>little man tate</td>\n      <td>11</td>\n    </tr>\n    <tr>\n      <th>17535653</th>\n      <td>sep 20, 2008</td>\n      <td>sigur rós</td>\n      <td>10</td>\n    </tr>\n    <tr>\n      <th>17535654</th>\n      <td>sep 20, 2008</td>\n      <td>the smiths</td>\n      <td>10</td>\n    </tr>\n    <tr>\n      <th>0</th>\n      <td>taekyun</td>\n      <td>black eyed peas</td>\n      <td>30</td>\n    </tr>\n    <tr>\n      <th>1</th>\n      <td>taekyun</td>\n      <td>maroon5</td>\n      <td>30</td>\n    </tr>\n    <tr>\n      <th>2</th>\n      <td>taekyun</td>\n      <td>jason mraz</td>\n      <td>30</td>\n    </tr>\n    <tr>\n      <th>3</th>\n      <td>taekyun</td>\n      <td>coldplay</td>\n      <td>30</td>\n    </tr>\n    <tr>\n      <th>4</th>\n      <td>taekyun</td>\n      <td>beyoncé</td>\n      <td>30</td>\n    </tr>\n  </tbody>\n</table>\n</div>"
     },
     "execution_count": 38,
     "metadata": {},
     "output_type": "execute_result"
    }
   ],
   "source": [
    "# 본인이 좋아하시는 아티스트 데이터로 바꿔서 추가하셔도 됩니다! 단, 이름은 꼭 데이터셋에 있는 것과 동일하게 맞춰주세요.\n",
    "my_favorite = ['black eyed peas' , 'maroon5' ,'jason mraz' ,'coldplay' ,'beyoncé']\n",
    "\n",
    "# 'taekyun'이라는 user_id가 위 아티스트의 노래를 30회씩 들었다고 가정하겠습니다.\n",
    "my_playlist = pd.DataFrame({'user_id': ['taekyun']*5, 'artist': my_favorite, 'play':[30]*5})\n",
    "\n",
    "if not data.isin({'user_id':['taekyun']})['user_id'].any():  # user_id에 'taekyun'이라는 데이터가 없다면\n",
    "    data = data.append(my_playlist)                           # 위에 임의로 만든 my_favorite 데이터를 추가해 줍니다.\n",
    "\n",
    "data.tail(10)       # 잘 추가되었는지 확인해 봅시다."
   ],
   "metadata": {
    "collapsed": false,
    "pycharm": {
     "name": "#%%\n"
    }
   }
  },
  {
   "cell_type": "code",
   "execution_count": 39,
   "outputs": [],
   "source": [
    "# 고유한 유저, 아티스트를 찾아내는 코드\n",
    "user_unique = data['user_id'].unique()\n",
    "artist_unique = data['artist'].unique()\n",
    "\n",
    "# 유저, 아티스트 indexing 하는 코드 idx는 index의 약자입니다.\n",
    "user_to_idx = {v:k for k,v in enumerate(user_unique)}\n",
    "artist_to_idx = {v:k for k,v in enumerate(artist_unique)}"
   ],
   "metadata": {
    "collapsed": false,
    "pycharm": {
     "name": "#%%\n"
    }
   }
  },
  {
   "cell_type": "code",
   "execution_count": 40,
   "outputs": [
    {
     "name": "stdout",
     "output_type": "stream",
     "text": [
      "358868\n",
      "376\n"
     ]
    }
   ],
   "source": [
    "# 인덱싱이 잘 되었는지 확인해 봅니다.\n",
    "print(user_to_idx['taekyun'])    # 358869명의 유저 중 마지막으로 추가된 유저이니 358868이 나와야 합니다.\n",
    "print(artist_to_idx['black eyed peas'])"
   ],
   "metadata": {
    "collapsed": false,
    "pycharm": {
     "name": "#%%\n"
    }
   }
  },
  {
   "cell_type": "code",
   "execution_count": 41,
   "outputs": [
    {
     "data": {
      "text/plain": "<function dict.get(key, default=None, /)>"
     },
     "execution_count": 41,
     "metadata": {},
     "output_type": "execute_result"
    }
   ],
   "source": [
    "user_to_idx.get"
   ],
   "metadata": {
    "collapsed": false,
    "pycharm": {
     "name": "#%%\n"
    }
   }
  },
  {
   "cell_type": "code",
   "execution_count": 42,
   "outputs": [],
   "source": [
    "# indexing을 통해 데이터 컬럼 내 값을 바꾸는 코드\n",
    "# dictionary 자료형의 get 함수는 https://wikidocs.net/16 을 참고하세요.\n",
    "\n",
    "# user_to_idx.get을 통해 user_id 컬럼의 모든 값을 인덱싱한 Series를 구해 봅시다.\n",
    "# 혹시 정상적으로 인덱싱되지 않은 row가 있다면 인덱스가 NaN이 될 테니 dropna()로 제거합니다."
   ],
   "metadata": {
    "collapsed": false,
    "pycharm": {
     "name": "#%%\n"
    }
   }
  },
  {
   "cell_type": "code",
   "execution_count": 43,
   "outputs": [
    {
     "data": {
      "text/plain": "0         0\n1         0\n2         0\n3         0\n4         0\n      ...  \n0    358868\n1    358868\n2    358868\n3    358868\n4    358868\nName: user_id, Length: 17535660, dtype: int64"
     },
     "execution_count": 43,
     "metadata": {},
     "output_type": "execute_result"
    }
   ],
   "source": [
    "temp_user_data = data['user_id'].map(user_to_idx.get).dropna()\n",
    "temp_user_data"
   ],
   "metadata": {
    "collapsed": false,
    "pycharm": {
     "name": "#%%\n"
    }
   }
  },
  {
   "cell_type": "code",
   "execution_count": 44,
   "outputs": [
    {
     "name": "stdout",
     "output_type": "stream",
     "text": [
      "user_id column indexing OK!!\n",
      "artist column indexing OK!!\n"
     ]
    }
   ],
   "source": [
    "if len(temp_user_data) == len(data):   # 모든 row가 정상적으로 인덱싱되었다면\n",
    "    print('user_id column indexing OK!!')\n",
    "    data['user_id'] = temp_user_data   # data['user_id']을 인덱싱된 Series로 교체해 줍니다.\n",
    "else:\n",
    "    print('user_id column indexing Fail!!')\n",
    "\n",
    "# artist_to_idx을 통해 artist 컬럼도 동일한 방식으로 인덱싱해 줍니다.\n",
    "temp_artist_data = data['artist'].map(artist_to_idx.get).dropna()\n",
    "if len(temp_artist_data) == len(data):\n",
    "    print('artist column indexing OK!!')\n",
    "    data['artist'] = temp_artist_data\n",
    "else:\n",
    "    print('artist column indexing Fail!!')"
   ],
   "metadata": {
    "collapsed": false,
    "pycharm": {
     "name": "#%%\n"
    }
   }
  },
  {
   "cell_type": "code",
   "execution_count": 45,
   "outputs": [
    {
     "name": "stdout",
     "output_type": "stream",
     "text": [
      "147739,17535660\n",
      "Ratio of only_one over all data is 0.84%\n"
     ]
    }
   ],
   "source": [
    "# 1회만 play한 데이터의 비율을 보는 코드\n",
    "only_one = data[data['play']==1]\n",
    "one, all_data = len(only_one), len(data)\n",
    "print(f'{one},{all_data}')\n",
    "print(f'Ratio of only_one over all data is {one/all_data:.2%}')  # f-format에 대한 설명은 https://bit.ly/2DTLqYU"
   ],
   "metadata": {
    "collapsed": false,
    "pycharm": {
     "name": "#%%\n"
    }
   }
  },
  {
   "cell_type": "code",
   "execution_count": 48,
   "outputs": [
    {
     "data": {
      "text/plain": "0    2137\n1    1099\n2     897\n3     717\n4     706\n     ... \n0      30\n1      30\n2      30\n3      30\n4      30\nName: play, Length: 17535660, dtype: int64"
     },
     "execution_count": 48,
     "metadata": {},
     "output_type": "execute_result"
    }
   ],
   "source": [
    "data['play']"
   ],
   "metadata": {
    "collapsed": false,
    "pycharm": {
     "name": "#%%\n"
    }
   }
  },
  {
   "cell_type": "code",
   "execution_count": 49,
   "outputs": [
    {
     "data": {
      "text/plain": "17535660"
     },
     "execution_count": 49,
     "metadata": {},
     "output_type": "execute_result"
    }
   ],
   "source": [
    "len(data.user_id)"
   ],
   "metadata": {
    "collapsed": false,
    "pycharm": {
     "name": "#%%\n"
    }
   }
  },
  {
   "cell_type": "code",
   "execution_count": 50,
   "outputs": [
    {
     "data": {
      "text/plain": "17535660"
     },
     "execution_count": 50,
     "metadata": {},
     "output_type": "execute_result"
    }
   ],
   "source": [
    "len(data.artist)"
   ],
   "metadata": {
    "collapsed": false,
    "pycharm": {
     "name": "#%%\n"
    }
   }
  },
  {
   "cell_type": "code",
   "execution_count": 52,
   "outputs": [
    {
     "data": {
      "text/plain": "358869"
     },
     "execution_count": 52,
     "metadata": {},
     "output_type": "execute_result"
    }
   ],
   "source": [
    "num_user"
   ],
   "metadata": {
    "collapsed": false,
    "pycharm": {
     "name": "#%%\n"
    }
   }
  },
  {
   "cell_type": "code",
   "execution_count": 53,
   "outputs": [
    {
     "data": {
      "text/plain": "291347"
     },
     "execution_count": 53,
     "metadata": {},
     "output_type": "execute_result"
    }
   ],
   "source": [
    "num_artist"
   ],
   "metadata": {
    "collapsed": false,
    "pycharm": {
     "name": "#%%\n"
    }
   }
  },
  {
   "cell_type": "code",
   "execution_count": 56,
   "outputs": [
    {
     "ename": "TypeError",
     "evalue": "len() of unsized object",
     "output_type": "error",
     "traceback": [
      "\u001B[0;31m---------------------------------------------------------------------------\u001B[0m",
      "\u001B[0;31mTypeError\u001B[0m                                 Traceback (most recent call last)",
      "\u001B[0;32m<ipython-input-56-a95571ff1df2>\u001B[0m in \u001B[0;36m<module>\u001B[0;34m\u001B[0m\n\u001B[1;32m      5\u001B[0m \u001B[0mnum_artist\u001B[0m \u001B[0;34m=\u001B[0m \u001B[0mdata\u001B[0m\u001B[0;34m[\u001B[0m\u001B[0;34m'artist'\u001B[0m\u001B[0;34m]\u001B[0m\u001B[0;34m.\u001B[0m\u001B[0mnunique\u001B[0m\u001B[0;34m(\u001B[0m\u001B[0;34m)\u001B[0m\u001B[0;34m\u001B[0m\u001B[0;34m\u001B[0m\u001B[0m\n\u001B[1;32m      6\u001B[0m \u001B[0;34m\u001B[0m\u001B[0m\n\u001B[0;32m----> 7\u001B[0;31m \u001B[0mcsr_data\u001B[0m \u001B[0;34m=\u001B[0m \u001B[0mcsr_matrix\u001B[0m\u001B[0;34m(\u001B[0m\u001B[0;34m(\u001B[0m\u001B[0mdata\u001B[0m\u001B[0;34m.\u001B[0m\u001B[0mcount\u001B[0m\u001B[0;34m,\u001B[0m \u001B[0;34m(\u001B[0m\u001B[0mdata\u001B[0m\u001B[0;34m.\u001B[0m\u001B[0muser_id\u001B[0m\u001B[0;34m,\u001B[0m \u001B[0mdata\u001B[0m\u001B[0;34m.\u001B[0m\u001B[0martist\u001B[0m\u001B[0;34m)\u001B[0m\u001B[0;34m)\u001B[0m\u001B[0;34m,\u001B[0m \u001B[0mshape\u001B[0m\u001B[0;34m=\u001B[0m \u001B[0;34m(\u001B[0m\u001B[0mnum_user\u001B[0m \u001B[0;34m-\u001B[0m\u001B[0;36m1\u001B[0m\u001B[0;34m,\u001B[0m \u001B[0mnum_artist\u001B[0m\u001B[0;34m)\u001B[0m\u001B[0;34m)\u001B[0m\u001B[0;34m\u001B[0m\u001B[0;34m\u001B[0m\u001B[0m\n\u001B[0m\u001B[1;32m      8\u001B[0m \u001B[0mcsr_data\u001B[0m\u001B[0;34m\u001B[0m\u001B[0;34m\u001B[0m\u001B[0m\n\u001B[1;32m      9\u001B[0m \u001B[0;34m\u001B[0m\u001B[0m\n",
      "\u001B[0;32m/opt/conda/lib/python3.7/site-packages/scipy/sparse/compressed.py\u001B[0m in \u001B[0;36m__init__\u001B[0;34m(self, arg1, shape, dtype, copy)\u001B[0m\n\u001B[1;32m     55\u001B[0m                     \u001B[0;31m# (data, ij) format\u001B[0m\u001B[0;34m\u001B[0m\u001B[0;34m\u001B[0m\u001B[0;34m\u001B[0m\u001B[0m\n\u001B[1;32m     56\u001B[0m                     \u001B[0;32mfrom\u001B[0m \u001B[0;34m.\u001B[0m\u001B[0mcoo\u001B[0m \u001B[0;32mimport\u001B[0m \u001B[0mcoo_matrix\u001B[0m\u001B[0;34m\u001B[0m\u001B[0;34m\u001B[0m\u001B[0m\n\u001B[0;32m---> 57\u001B[0;31m                     \u001B[0mother\u001B[0m \u001B[0;34m=\u001B[0m \u001B[0mself\u001B[0m\u001B[0;34m.\u001B[0m\u001B[0m__class__\u001B[0m\u001B[0;34m(\u001B[0m\u001B[0mcoo_matrix\u001B[0m\u001B[0;34m(\u001B[0m\u001B[0marg1\u001B[0m\u001B[0;34m,\u001B[0m \u001B[0mshape\u001B[0m\u001B[0;34m=\u001B[0m\u001B[0mshape\u001B[0m\u001B[0;34m)\u001B[0m\u001B[0;34m)\u001B[0m\u001B[0;34m\u001B[0m\u001B[0;34m\u001B[0m\u001B[0m\n\u001B[0m\u001B[1;32m     58\u001B[0m                     \u001B[0mself\u001B[0m\u001B[0;34m.\u001B[0m\u001B[0m_set_self\u001B[0m\u001B[0;34m(\u001B[0m\u001B[0mother\u001B[0m\u001B[0;34m)\u001B[0m\u001B[0;34m\u001B[0m\u001B[0;34m\u001B[0m\u001B[0m\n\u001B[1;32m     59\u001B[0m                 \u001B[0;32melif\u001B[0m \u001B[0mlen\u001B[0m\u001B[0;34m(\u001B[0m\u001B[0marg1\u001B[0m\u001B[0;34m)\u001B[0m \u001B[0;34m==\u001B[0m \u001B[0;36m3\u001B[0m\u001B[0;34m:\u001B[0m\u001B[0;34m\u001B[0m\u001B[0;34m\u001B[0m\u001B[0m\n",
      "\u001B[0;32m/opt/conda/lib/python3.7/site-packages/scipy/sparse/coo.py\u001B[0m in \u001B[0;36m__init__\u001B[0;34m(self, arg1, shape, dtype, copy)\u001B[0m\n\u001B[1;32m    196\u001B[0m             \u001B[0mself\u001B[0m\u001B[0;34m.\u001B[0m\u001B[0mdata\u001B[0m \u001B[0;34m=\u001B[0m \u001B[0mself\u001B[0m\u001B[0;34m.\u001B[0m\u001B[0mdata\u001B[0m\u001B[0;34m.\u001B[0m\u001B[0mastype\u001B[0m\u001B[0;34m(\u001B[0m\u001B[0mdtype\u001B[0m\u001B[0;34m,\u001B[0m \u001B[0mcopy\u001B[0m\u001B[0;34m=\u001B[0m\u001B[0;32mFalse\u001B[0m\u001B[0;34m)\u001B[0m\u001B[0;34m\u001B[0m\u001B[0;34m\u001B[0m\u001B[0m\n\u001B[1;32m    197\u001B[0m \u001B[0;34m\u001B[0m\u001B[0m\n\u001B[0;32m--> 198\u001B[0;31m         \u001B[0mself\u001B[0m\u001B[0;34m.\u001B[0m\u001B[0m_check\u001B[0m\u001B[0;34m(\u001B[0m\u001B[0;34m)\u001B[0m\u001B[0;34m\u001B[0m\u001B[0;34m\u001B[0m\u001B[0m\n\u001B[0m\u001B[1;32m    199\u001B[0m \u001B[0;34m\u001B[0m\u001B[0m\n\u001B[1;32m    200\u001B[0m     \u001B[0;32mdef\u001B[0m \u001B[0mreshape\u001B[0m\u001B[0;34m(\u001B[0m\u001B[0mself\u001B[0m\u001B[0;34m,\u001B[0m \u001B[0;34m*\u001B[0m\u001B[0margs\u001B[0m\u001B[0;34m,\u001B[0m \u001B[0;34m**\u001B[0m\u001B[0mkwargs\u001B[0m\u001B[0;34m)\u001B[0m\u001B[0;34m:\u001B[0m\u001B[0;34m\u001B[0m\u001B[0;34m\u001B[0m\u001B[0m\n",
      "\u001B[0;32m/opt/conda/lib/python3.7/site-packages/scipy/sparse/coo.py\u001B[0m in \u001B[0;36m_check\u001B[0;34m(self)\u001B[0m\n\u001B[1;32m    281\u001B[0m         \u001B[0mself\u001B[0m\u001B[0;34m.\u001B[0m\u001B[0mdata\u001B[0m \u001B[0;34m=\u001B[0m \u001B[0mto_native\u001B[0m\u001B[0;34m(\u001B[0m\u001B[0mself\u001B[0m\u001B[0;34m.\u001B[0m\u001B[0mdata\u001B[0m\u001B[0;34m)\u001B[0m\u001B[0;34m\u001B[0m\u001B[0;34m\u001B[0m\u001B[0m\n\u001B[1;32m    282\u001B[0m \u001B[0;34m\u001B[0m\u001B[0m\n\u001B[0;32m--> 283\u001B[0;31m         \u001B[0;32mif\u001B[0m \u001B[0mself\u001B[0m\u001B[0;34m.\u001B[0m\u001B[0mnnz\u001B[0m \u001B[0;34m>\u001B[0m \u001B[0;36m0\u001B[0m\u001B[0;34m:\u001B[0m\u001B[0;34m\u001B[0m\u001B[0;34m\u001B[0m\u001B[0m\n\u001B[0m\u001B[1;32m    284\u001B[0m             \u001B[0;32mif\u001B[0m \u001B[0mself\u001B[0m\u001B[0;34m.\u001B[0m\u001B[0mrow\u001B[0m\u001B[0;34m.\u001B[0m\u001B[0mmax\u001B[0m\u001B[0;34m(\u001B[0m\u001B[0;34m)\u001B[0m \u001B[0;34m>=\u001B[0m \u001B[0mself\u001B[0m\u001B[0;34m.\u001B[0m\u001B[0mshape\u001B[0m\u001B[0;34m[\u001B[0m\u001B[0;36m0\u001B[0m\u001B[0;34m]\u001B[0m\u001B[0;34m:\u001B[0m\u001B[0;34m\u001B[0m\u001B[0;34m\u001B[0m\u001B[0m\n\u001B[1;32m    285\u001B[0m                 \u001B[0;32mraise\u001B[0m \u001B[0mValueError\u001B[0m\u001B[0;34m(\u001B[0m\u001B[0;34m'row index exceeds matrix dimensions'\u001B[0m\u001B[0;34m)\u001B[0m\u001B[0;34m\u001B[0m\u001B[0;34m\u001B[0m\u001B[0m\n",
      "\u001B[0;32m/opt/conda/lib/python3.7/site-packages/scipy/sparse/base.py\u001B[0m in \u001B[0;36mnnz\u001B[0;34m(self)\u001B[0m\n\u001B[1;32m    248\u001B[0m         \u001B[0mcount_nonzero\u001B[0m \u001B[0;34m:\u001B[0m \u001B[0mNumber\u001B[0m \u001B[0mof\u001B[0m \u001B[0mnon\u001B[0m\u001B[0;34m-\u001B[0m\u001B[0mzero\u001B[0m \u001B[0mentries\u001B[0m\u001B[0;34m\u001B[0m\u001B[0;34m\u001B[0m\u001B[0m\n\u001B[1;32m    249\u001B[0m         \"\"\"\n\u001B[0;32m--> 250\u001B[0;31m         \u001B[0;32mreturn\u001B[0m \u001B[0mself\u001B[0m\u001B[0;34m.\u001B[0m\u001B[0mgetnnz\u001B[0m\u001B[0;34m(\u001B[0m\u001B[0;34m)\u001B[0m\u001B[0;34m\u001B[0m\u001B[0;34m\u001B[0m\u001B[0m\n\u001B[0m\u001B[1;32m    251\u001B[0m \u001B[0;34m\u001B[0m\u001B[0m\n\u001B[1;32m    252\u001B[0m     \u001B[0;32mdef\u001B[0m \u001B[0mgetformat\u001B[0m\u001B[0;34m(\u001B[0m\u001B[0mself\u001B[0m\u001B[0;34m)\u001B[0m\u001B[0;34m:\u001B[0m\u001B[0;34m\u001B[0m\u001B[0;34m\u001B[0m\u001B[0m\n",
      "\u001B[0;32m/opt/conda/lib/python3.7/site-packages/scipy/sparse/coo.py\u001B[0m in \u001B[0;36mgetnnz\u001B[0;34m(self, axis)\u001B[0m\n\u001B[1;32m    241\u001B[0m     \u001B[0;32mdef\u001B[0m \u001B[0mgetnnz\u001B[0m\u001B[0;34m(\u001B[0m\u001B[0mself\u001B[0m\u001B[0;34m,\u001B[0m \u001B[0maxis\u001B[0m\u001B[0;34m=\u001B[0m\u001B[0;32mNone\u001B[0m\u001B[0;34m)\u001B[0m\u001B[0;34m:\u001B[0m\u001B[0;34m\u001B[0m\u001B[0;34m\u001B[0m\u001B[0m\n\u001B[1;32m    242\u001B[0m         \u001B[0;32mif\u001B[0m \u001B[0maxis\u001B[0m \u001B[0;32mis\u001B[0m \u001B[0;32mNone\u001B[0m\u001B[0;34m:\u001B[0m\u001B[0;34m\u001B[0m\u001B[0;34m\u001B[0m\u001B[0m\n\u001B[0;32m--> 243\u001B[0;31m             \u001B[0mnnz\u001B[0m \u001B[0;34m=\u001B[0m \u001B[0mlen\u001B[0m\u001B[0;34m(\u001B[0m\u001B[0mself\u001B[0m\u001B[0;34m.\u001B[0m\u001B[0mdata\u001B[0m\u001B[0;34m)\u001B[0m\u001B[0;34m\u001B[0m\u001B[0;34m\u001B[0m\u001B[0m\n\u001B[0m\u001B[1;32m    244\u001B[0m             \u001B[0;32mif\u001B[0m \u001B[0mnnz\u001B[0m \u001B[0;34m!=\u001B[0m \u001B[0mlen\u001B[0m\u001B[0;34m(\u001B[0m\u001B[0mself\u001B[0m\u001B[0;34m.\u001B[0m\u001B[0mrow\u001B[0m\u001B[0;34m)\u001B[0m \u001B[0;32mor\u001B[0m \u001B[0mnnz\u001B[0m \u001B[0;34m!=\u001B[0m \u001B[0mlen\u001B[0m\u001B[0;34m(\u001B[0m\u001B[0mself\u001B[0m\u001B[0;34m.\u001B[0m\u001B[0mcol\u001B[0m\u001B[0;34m)\u001B[0m\u001B[0;34m:\u001B[0m\u001B[0;34m\u001B[0m\u001B[0;34m\u001B[0m\u001B[0m\n\u001B[1;32m    245\u001B[0m                 raise ValueError('row, column, and data array must all be the '\n",
      "\u001B[0;31mTypeError\u001B[0m: len() of unsized object"
     ]
    }
   ],
   "source": [
    "# 실습 위에 설명보고 이해해서 만들어보기\n",
    "from scipy.sparse import csr_matrix\n",
    "\n",
    "num_user = data['user_id'].nunique()\n",
    "num_artist = data['artist'].nunique()\n",
    "\n",
    "csr_data = csr_matrix((data.count, (data.user_id, data.artist)), shape= (num_user -1, num_artist))\n",
    "csr_data"
   ],
   "metadata": {
    "collapsed": false,
    "pycharm": {
     "name": "#%%\n"
    }
   }
  },
  {
   "cell_type": "code",
   "execution_count": 57,
   "outputs": [
    {
     "data": {
      "text/plain": "method"
     },
     "execution_count": 57,
     "metadata": {},
     "output_type": "execute_result"
    }
   ],
   "source": [
    "type(data.count)"
   ],
   "metadata": {
    "collapsed": false,
    "pycharm": {
     "name": "#%%\n"
    }
   }
  },
  {
   "cell_type": "code",
   "execution_count": 54,
   "outputs": [
    {
     "name": "stdout",
     "output_type": "stream",
     "text": [
      "358868 291346 358869 291347\n"
     ]
    }
   ],
   "source": [
    "print(max(data.user_id), max(data.artist), num_user, num_artist)"
   ],
   "metadata": {
    "collapsed": false,
    "pycharm": {
     "name": "#%%\n"
    }
   }
  },
  {
   "cell_type": "code",
   "execution_count": 41,
   "outputs": [],
   "source": [
    "from implicit.als import AlternatingLeastSquares\n",
    "import os\n",
    "import numpy as np\n",
    "\n",
    "# implicit 라이브러리에서 권장하고 있는 부분입니다. 학습 내용과는 무관합니다.\n",
    "os.environ['OPENBLAS_NUM_THREADS']='1'\n",
    "os.environ['KMP_DUPLICATE_LIB_OK']='True'\n",
    "os.environ['MKL_NUM_THREADS']='1'"
   ],
   "metadata": {
    "collapsed": false,
    "pycharm": {
     "name": "#%%\n"
    }
   }
  },
  {
   "cell_type": "code",
   "execution_count": 42,
   "outputs": [],
   "source": [
    "# Implicit AlternatingLeastSquares 모델의 선언\n",
    "# use_gpu True로 하면 안되나? 설정이 많아지나\n",
    "# factors 와 iterations(epoch)를 늘릴 수록 학습데이터는 잘 학습 but 과적ㅎ합\n",
    "als_model = AlternatingLeastSquares(factors=100, regularization=0.01, use_gpu=False, iterations=15, dtype=np.float32)"
   ],
   "metadata": {
    "collapsed": false,
    "pycharm": {
     "name": "#%%\n"
    }
   }
  },
  {
   "cell_type": "code",
   "execution_count": 43,
   "outputs": [
    {
     "data": {
      "text/plain": "<291347x358869 sparse matrix of type '<class 'numpy.longlong'>'\n\twith 17535578 stored elements in Compressed Sparse Column format>"
     },
     "execution_count": 43,
     "metadata": {},
     "output_type": "execute_result"
    }
   ],
   "source": [
    "# als 모델은 input으로 (item X user 꼴의 matrix를 받기 때문에 Transpose해줍니다.)\n",
    "csr_data_transpose = csr_data.T\n",
    "csr_data_transpose"
   ],
   "metadata": {
    "collapsed": false,
    "pycharm": {
     "name": "#%%\n"
    }
   }
  },
  {
   "cell_type": "code",
   "execution_count": 44,
   "outputs": [
    {
     "data": {
      "text/plain": "  0%|          | 0/15 [00:00<?, ?it/s]",
      "application/vnd.jupyter.widget-view+json": {
       "version_major": 2,
       "version_minor": 0,
       "model_id": "25a0af3dceb24dd79c0f820ac4dd74f8"
      }
     },
     "metadata": {},
     "output_type": "display_data"
    }
   ],
   "source": [
    "# 모델 훈련\n",
    "als_model.fit(csr_data_transpose)"
   ],
   "metadata": {
    "collapsed": false,
    "pycharm": {
     "name": "#%%\n"
    }
   }
  },
  {
   "cell_type": "code",
   "execution_count": 46,
   "outputs": [
    {
     "name": "stdout",
     "output_type": "stream",
     "text": [
      "슝=3\n"
     ]
    }
   ],
   "source": [
    "taekyun, black_eyed_peas = user_to_idx['taekyun'], artist_to_idx['black eyed peas']\n",
    "taekyun_vector, black_eyed_peas_vector = als_model.user_factors[taekyun], als_model.item_factors[black_eyed_peas]\n",
    "\n",
    "print('슝=3')"
   ],
   "metadata": {
    "collapsed": false,
    "pycharm": {
     "name": "#%%\n"
    }
   }
  },
  {
   "cell_type": "code",
   "execution_count": 47,
   "outputs": [
    {
     "data": {
      "text/plain": "array([-0.8776182 ,  0.42779297, -0.5746784 ,  1.3084913 , -0.25686246,\n       -0.2524382 ,  0.02902643,  0.784021  ,  1.5756989 ,  0.19477482,\n        1.4093498 ,  0.27240357,  0.420858  ,  1.1311789 , -0.28508225,\n       -0.39418912, -1.2332054 , -0.36557204, -0.24829894, -0.48274642,\n        1.1673754 ,  0.17206192, -0.04023851,  0.08110336, -0.31301275,\n        0.10558708, -0.08842378, -0.29654583, -0.54093385, -0.16671173,\n        1.3208916 ,  0.38893792, -0.3509355 ,  0.22922604,  1.606096  ,\n        0.3960774 , -1.3685299 , -0.22887135, -0.01764172,  0.61248505,\n       -0.8487519 ,  1.2348031 , -0.1358404 ,  0.62805504,  0.0633089 ,\n        0.5868764 ,  0.32344285,  0.24289393, -0.8364844 , -0.5920186 ,\n       -0.20678474,  0.11522226, -0.0231466 ,  1.3878034 ,  0.6107974 ,\n       -1.2040099 , -0.00613098, -0.6044928 ,  0.298623  , -0.9519054 ,\n        0.5146912 , -0.03287004,  0.31353968,  0.8676228 ,  0.7061082 ,\n        0.43421337,  1.194315  , -0.8914277 , -0.79095024, -0.02354633,\n        0.97637296, -0.22534074, -0.61927956, -0.51859325,  0.5708594 ,\n        0.3227121 , -0.4717519 , -1.2632234 ,  0.01982794,  0.31471646,\n       -1.0505347 ,  0.19539653, -0.0800319 , -1.3956579 , -0.21711099,\n        0.47899684, -0.7397985 , -0.539806  , -0.27321976,  0.48038274,\n        0.7863312 , -0.3872481 , -0.50603294,  0.05734378, -0.46155968,\n       -0.36263835,  0.48298487,  0.00867595, -0.5592586 ,  0.44039267],\n      dtype=float32)"
     },
     "execution_count": 47,
     "metadata": {},
     "output_type": "execute_result"
    }
   ],
   "source": [
    "taekyun_vector"
   ],
   "metadata": {
    "collapsed": false,
    "pycharm": {
     "name": "#%%\n"
    }
   }
  },
  {
   "cell_type": "code",
   "execution_count": 48,
   "outputs": [
    {
     "data": {
      "text/plain": "array([ 0.00386315,  0.01981611, -0.00933936,  0.02710324,  0.01707234,\n       -0.01184891,  0.01171476,  0.01914156,  0.02612418,  0.00920235,\n        0.01950599,  0.01641376,  0.01418621,  0.00318054,  0.00763637,\n        0.00684197, -0.00307508,  0.00344809,  0.01024078,  0.00049744,\n       -0.00032674,  0.00503798,  0.00646601,  0.00094047,  0.00883796,\n        0.01157191,  0.00467308, -0.01217971, -0.00606034,  0.01025564,\n        0.03055115,  0.02101321,  0.00510868,  0.00822208,  0.01869   ,\n        0.0309421 , -0.00474102,  0.00793383, -0.00200074,  0.0050388 ,\n        0.00231169,  0.03793387,  0.00297056,  0.01146195,  0.00698397,\n        0.01905879,  0.00483526,  0.01186512,  0.00098914,  0.00401787,\n        0.00884024,  0.00406688, -0.00549593,  0.03238922,  0.01410925,\n       -0.00531186,  0.00247573, -0.00231406,  0.00500322, -0.00806046,\n        0.00573158,  0.01091629,  0.01539984,  0.02023745,  0.01686721,\n        0.01912278,  0.01943354,  0.01328101,  0.00205905,  0.01021207,\n        0.01714948,  0.00301204,  0.01996257, -0.00654589,  0.01442231,\n        0.00036181,  0.00388978,  0.01368348,  0.01085609,  0.00819197,\n       -0.00063923,  0.02103419, -0.00839063, -0.01354672, -0.00154689,\n        0.0175091 ,  0.0022202 , -0.00962481,  0.00862581,  0.00318246,\n        0.01237197, -0.00737781,  0.00853318,  0.00413733, -0.0114044 ,\n       -0.00558584,  0.00215038,  0.01608435,  0.00237636,  0.02366009],\n      dtype=float32)"
     },
     "execution_count": 48,
     "metadata": {},
     "output_type": "execute_result"
    }
   ],
   "source": [
    "black_eyed_peas_vector"
   ],
   "metadata": {
    "collapsed": false,
    "pycharm": {
     "name": "#%%\n"
    }
   }
  },
  {
   "cell_type": "code",
   "execution_count": 49,
   "outputs": [
    {
     "data": {
      "text/plain": "0.49095064"
     },
     "execution_count": 49,
     "metadata": {},
     "output_type": "execute_result"
    }
   ],
   "source": [
    "# zimin과 black_eyed_peas를 내적하는 코드\n",
    "np.dot(taekyun_vector, black_eyed_peas_vector)"
   ],
   "metadata": {
    "collapsed": false,
    "pycharm": {
     "name": "#%%\n"
    }
   }
  },
  {
   "cell_type": "markdown",
   "source": [
    "1이 나와야하는데 0.49가 나옴 features나 iterations조정"
   ],
   "metadata": {
    "collapsed": false,
    "pycharm": {
     "name": "#%% md\n"
    }
   }
  },
  {
   "cell_type": "code",
   "execution_count": 50,
   "outputs": [
    {
     "data": {
      "text/plain": "0.31324345"
     },
     "execution_count": 50,
     "metadata": {},
     "output_type": "execute_result"
    }
   ],
   "source": [
    "queen = artist_to_idx['queen']\n",
    "queen_vector = als_model.item_factors[queen]\n",
    "np.dot(taekyun_vector, queen_vector)"
   ],
   "metadata": {
    "collapsed": false,
    "pycharm": {
     "name": "#%%\n"
    }
   }
  },
  {
   "cell_type": "code",
   "execution_count": 51,
   "outputs": [
    {
     "data": {
      "text/plain": "[(62, 0.99999994),\n (277, 0.98854315),\n (5, 0.9775895),\n (28, 0.97628796),\n (217, 0.9686939),\n (473, 0.96854556),\n (418, 0.95843446),\n (490, 0.9567887),\n (247, 0.94952965),\n (910, 0.9456494),\n (694, 0.94485545),\n (1018, 0.9390957),\n (55, 0.9370024),\n (268, 0.93167526),\n (782, 0.9297473)]"
     },
     "execution_count": 51,
     "metadata": {},
     "output_type": "execute_result"
    }
   ],
   "source": [
    "favorite_artist = 'coldplay'\n",
    "artist_id = artist_to_idx[favorite_artist]\n",
    "similar_artist = als_model.similar_items(artist_id, N=15)\n",
    "similar_artist"
   ],
   "metadata": {
    "collapsed": false,
    "pycharm": {
     "name": "#%%\n"
    }
   }
  },
  {
   "cell_type": "code",
   "execution_count": 52,
   "outputs": [
    {
     "data": {
      "text/plain": "['coldplay',\n 'muse',\n 'red hot chili peppers',\n 'the killers',\n 'radiohead',\n 'placebo',\n 'u2',\n 'oasis',\n 'the beatles',\n 'nirvana',\n 'foo fighters',\n 'the smashing pumpkins',\n 'arctic monkeys',\n 'pink floyd',\n 'the white stripes']"
     },
     "execution_count": 52,
     "metadata": {},
     "output_type": "execute_result"
    }
   ],
   "source": [
    "#artist_to_idx 를 뒤집어, index로부터 artist 이름을 얻는 dict를 생성합니다.\n",
    "idx_to_artist = {v:k for k,v in artist_to_idx.items()}\n",
    "[idx_to_artist[i[0]] for i in similar_artist]"
   ],
   "metadata": {
    "collapsed": false,
    "pycharm": {
     "name": "#%%\n"
    }
   }
  },
  {
   "cell_type": "code",
   "execution_count": 53,
   "outputs": [
    {
     "name": "stdout",
     "output_type": "stream",
     "text": [
      "슝=3\n"
     ]
    }
   ],
   "source": [
    "def get_similar_artist(artist_name: str):\n",
    "    artist_id = artist_to_idx[artist_name]\n",
    "    similar_artist = als_model.similar_items(artist_id)\n",
    "    similar_artist = [idx_to_artist[i[0]] for i in similar_artist]\n",
    "    return similar_artist\n",
    "\n",
    "print(\"슝=3\")"
   ],
   "metadata": {
    "collapsed": false,
    "pycharm": {
     "name": "#%%\n"
    }
   }
  },
  {
   "cell_type": "code",
   "execution_count": 54,
   "outputs": [
    {
     "data": {
      "text/plain": "['2pac',\n 'dr. dre',\n 'notorious b.i.g.',\n 'snoop dogg',\n '50 cent',\n 'nas',\n 'the game',\n 'jay-z',\n 'ludacris',\n 'ice cube']"
     },
     "execution_count": 54,
     "metadata": {},
     "output_type": "execute_result"
    }
   ],
   "source": [
    "get_similar_artist('2pac')"
   ],
   "metadata": {
    "collapsed": false,
    "pycharm": {
     "name": "#%%\n"
    }
   }
  },
  {
   "cell_type": "code",
   "execution_count": 55,
   "outputs": [
    {
     "data": {
      "text/plain": "['lady gaga',\n 'britney spears',\n 'rihanna',\n 'katy perry',\n 'the pussycat dolls',\n 'beyoncé',\n 'christina aguilera',\n 'justin timberlake',\n 'kelly clarkson',\n 'leona lewis']"
     },
     "execution_count": 55,
     "metadata": {},
     "output_type": "execute_result"
    }
   ],
   "source": [
    "get_similar_artist('lady gaga')"
   ],
   "metadata": {
    "collapsed": false,
    "pycharm": {
     "name": "#%%\n"
    }
   }
  },
  {
   "cell_type": "code",
   "execution_count": 56,
   "outputs": [
    {
     "data": {
      "text/plain": "[(350, 0.47146195),\n (369, 0.45504493),\n (550, 0.45485282),\n (627, 0.44223115),\n (1800, 0.43343216),\n (354, 0.42352954),\n (274, 0.41836023),\n (355, 0.41011786),\n (391, 0.40463623),\n (409, 0.39588124),\n (382, 0.3863845),\n (2249, 0.38220537),\n (901, 0.37130475),\n (724, 0.37062758),\n (618, 0.3684374),\n (24, 0.36729202),\n (1777, 0.35295027),\n (621, 0.35025832),\n (534, 0.34893626),\n (2902, 0.34728152)]"
     },
     "execution_count": 56,
     "metadata": {},
     "output_type": "execute_result"
    }
   ],
   "source": [
    "# 유저에게 아티스트 추천하기\n",
    "user = user_to_idx['taekyun']\n",
    "# recommend에서는 user*item CSR Matrix를 받습니다.\n",
    "artist_recommended = als_model.recommend(user, csr_data, N=20, filter_already_liked_items=True)\n",
    "artist_recommended"
   ],
   "metadata": {
    "collapsed": false,
    "pycharm": {
     "name": "#%%\n"
    }
   }
  },
  {
   "cell_type": "code",
   "execution_count": 57,
   "outputs": [
    {
     "data": {
      "text/plain": "['rihanna',\n 'justin timberlake',\n 'britney spears',\n 'maroon 5',\n 'lady gaga',\n 'nelly furtado',\n 'michael jackson',\n 'madonna',\n 'christina aguilera',\n 'amy winehouse',\n 'mika',\n 'katy perry',\n 'pink',\n 'lily allen',\n 'the pussycat dolls',\n 'jack johnson',\n 'mariah carey',\n 'alicia keys',\n 'gwen stefani',\n 'james blunt']"
     },
     "execution_count": 57,
     "metadata": {},
     "output_type": "execute_result"
    }
   ],
   "source": [
    "[idx_to_artist[i[0]] for i in artist_recommended]"
   ],
   "metadata": {
    "collapsed": false,
    "pycharm": {
     "name": "#%%\n"
    }
   }
  },
  {
   "cell_type": "code",
   "execution_count": 58,
   "outputs": [],
   "source": [
    "# 내가 추천에 기여한 정도 알아보기\n",
    "rihanna = artist_to_idx['rihanna']\n",
    "explain = als_model.explain(user, csr_data, itemid=rihanna)"
   ],
   "metadata": {
    "collapsed": false,
    "pycharm": {
     "name": "#%%\n"
    }
   }
  },
  {
   "cell_type": "code",
   "execution_count": 59,
   "outputs": [
    {
     "data": {
      "text/plain": "(0.47280086887756423,\n [(396, 0.21495766278968936),\n  (376, 0.15115528733973016),\n  (3746, 0.0625985081212617),\n  (62, 0.04385219396320249),\n  (270115, 0.00023721666368048421)],\n (array([[ 2.6323516 ,  1.85911376,  2.67718327, ...,  1.84179452,\n           2.63663584,  2.3204664 ],\n         [ 4.8938411 ,  1.11906707,  0.63349666, ...,  0.46001312,\n           0.59878189,  0.5562486 ],\n         [ 7.04728768,  5.68611353,  1.2082653 , ...,  0.25781181,\n           0.61975933,  0.42705975],\n         ...,\n         [ 4.84825076,  3.93889108,  5.53374333, ...,  0.8648626 ,\n          -0.0385679 ,  0.0527563 ],\n         [ 6.94055257,  5.57188307,  8.18691737, ...,  5.41851922,\n           0.90922039,  0.01926506],\n         [ 6.10828344,  4.93649052,  7.08069694, ...,  4.88926226,\n           7.02138793,  0.85482751]]),\n  False))"
     },
     "execution_count": 59,
     "metadata": {},
     "output_type": "execute_result"
    }
   ],
   "source": [
    "explain"
   ],
   "metadata": {
    "collapsed": false,
    "pycharm": {
     "name": "#%%\n"
    }
   }
  },
  {
   "cell_type": "code",
   "execution_count": 60,
   "outputs": [
    {
     "data": {
      "text/plain": "[('beyoncé', 0.21495766278968936),\n ('black eyed peas', 0.15115528733973016),\n ('jason mraz', 0.0625985081212617),\n ('coldplay', 0.04385219396320249),\n ('maroon5', 0.00023721666368048421)]"
     },
     "execution_count": 60,
     "metadata": {},
     "output_type": "execute_result"
    }
   ],
   "source": [
    "[(idx_to_artist[i[0]], i[1]) for i in explain[1]]"
   ],
   "metadata": {
    "collapsed": false,
    "pycharm": {
     "name": "#%%\n"
    }
   }
  },
  {
   "cell_type": "markdown",
   "source": [
    "아쉬운 점\n",
    "    1. 유저, 아티스트에 대한 Meta 정보를 반영.\n",
    "        - 연령대별 다른 음악 취향\n",
    "    2. 유저가 언제 play 했는지에 반영x\n",
    "\n",
    "\n"
   ],
   "metadata": {
    "collapsed": false,
    "pycharm": {
     "name": "#%% md\n"
    }
   }
  }
 ],
 "metadata": {
  "kernelspec": {
   "display_name": "Python 3",
   "language": "python",
   "name": "python3"
  },
  "language_info": {
   "codemirror_mode": {
    "name": "ipython",
    "version": 2
   },
   "file_extension": ".py",
   "mimetype": "text/x-python",
   "name": "python",
   "nbconvert_exporter": "python",
   "pygments_lexer": "ipython2",
   "version": "2.7.6"
  }
 },
 "nbformat": 4,
 "nbformat_minor": 0
}