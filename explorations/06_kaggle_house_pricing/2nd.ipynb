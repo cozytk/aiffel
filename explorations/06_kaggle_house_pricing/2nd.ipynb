{
 "cells": [
  {
   "cell_type": "code",
   "execution_count": 88,
   "outputs": [],
   "source": [
    "import warnings\n",
    "warnings.filterwarnings(\"ignore\")\n",
    "\n",
    "import os\n",
    "from os.path import join\n",
    "\n",
    "import pandas as pd\n",
    "import numpy as np\n",
    "\n",
    "import missingno as msno\n",
    "\n",
    "from sklearn.ensemble import GradientBoostingRegressor\n",
    "from sklearn.model_selection import KFold, cross_val_score\n",
    "import xgboost as xgb\n",
    "import lightgbm as lgb\n",
    "\n",
    "import seaborn as sns"
   ],
   "metadata": {
    "collapsed": false,
    "pycharm": {
     "name": "#%%\n"
    }
   }
  },
  {
   "cell_type": "code",
   "execution_count": 89,
   "outputs": [],
   "source": [
    "import matplotlib.pyplot as plt\n",
    "%matplotlib inline\n",
    "%config InlineBackend.figure_format = 'retina'"
   ],
   "metadata": {
    "collapsed": false,
    "pycharm": {
     "name": "#%%\n"
    }
   }
  },
  {
   "cell_type": "markdown",
   "source": [
    "LMS 클라우드 서버 내 나의 폴더 지정"
   ],
   "metadata": {
    "collapsed": false,
    "pycharm": {
     "name": "#%% md\n"
    }
   }
  },
  {
   "cell_type": "code",
   "execution_count": 90,
   "outputs": [],
   "source": [
    "PATH = \"/aiffel/aiffel/aiffel/explorations/06_kaggle/data\""
   ],
   "metadata": {
    "collapsed": false,
    "pycharm": {
     "name": "#%%\n"
    }
   }
  },
  {
   "cell_type": "code",
   "execution_count": 91,
   "outputs": [
    {
     "name": "stdout",
     "output_type": "stream",
     "text": [
      "/aiffel/aiffel/aiffel/explorations/06_kaggle/data/train.csv /aiffel/aiffel/aiffel/explorations/06_kaggle/data/test.csv\n"
     ]
    }
   ],
   "source": [
    "train_data_path = join(PATH, 'train.csv')\n",
    "test_data_path = join(PATH, 'test.csv')\n",
    "\n",
    "print(train_data_path, test_data_path)"
   ],
   "metadata": {
    "collapsed": false,
    "pycharm": {
     "name": "#%%\n"
    }
   }
  },
  {
   "cell_type": "markdown",
   "source": [
    "## 1. 데이터 살펴보기\n",
    "pandas의 read_csv 함수를 사용해 데이터를 읽어오고, 각 변수들이 나타내는 의미를 살펴보겠습니다.\n",
    "1. ID : 집을 구분하는 번호\n",
    "2. date : 집을 구매한 날짜\n",
    "3. price : 타겟 변수인 집의 가격\n",
    "4. bedrooms : 침실의 수\n",
    "5. bathrooms : 침실당 화장실 개수\n",
    "6. sqft_living : 주거 공간의 평방 피트\n",
    "7. sqft_lot : 부지의 평방 피트\n",
    "8. floors : 집의 층 수\n",
    "9. waterfront : 집의 전방에 강이 흐르는지 유무 (a.k.a. 리버뷰)\n",
    "10. view : 집이 얼마나 좋아 보이는지의 정도\n",
    "11. condition : 집의 전반적인 상태\n",
    "12. grade : King County grading 시스템 기준으로 매긴 집의 등급\n",
    "13. sqft_above : 지하실을 제외한 평방 피트\n",
    "14. sqft_basement : 지하실의 평방 피트\n",
    "15. yr_built : 집을 지은 년도\n",
    "16. yr_renovated : 집을 재건축한 년도\n",
    "17. zipcode : 우편번호\n",
    "18. lat : 위도\n",
    "19. long : 경도\n",
    "20. sqft_living15 : 2015년 기준 주거 공간의 평방 피트(집을 재건축했다면, 변화가 있을 수 있음)\n",
    "21. sqft_lot15 : 2015년 기준 부지의 평방 피트(집을 재건축했다면, 변화가 있을 수 있음)"
   ],
   "metadata": {
    "collapsed": false
   }
  },
  {
   "cell_type": "code",
   "execution_count": 92,
   "outputs": [
    {
     "name": "stdout",
     "output_type": "stream",
     "text": [
      "train data dim : (15035, 21)\n",
      "sub data dim : (6468, 20)\n"
     ]
    }
   ],
   "source": [
    "train = pd.read_csv(train_data_path)\n",
    "test = pd.read_csv(test_data_path)\n",
    "print('train data dim : {}'.format(train.shape))\n",
    "print('sub data dim : {}'.format(test.shape))"
   ],
   "metadata": {
    "collapsed": false,
    "pycharm": {
     "name": "#%%\n"
    }
   }
  },
  {
   "cell_type": "code",
   "execution_count": 93,
   "outputs": [
    {
     "data": {
      "text/plain": "   id             date     price  bedrooms  bathrooms  sqft_living  sqft_lot  \\\n0   0  20141013T000000  221900.0         3       1.00         1180      5650   \n1   1  20150225T000000  180000.0         2       1.00          770     10000   \n2   2  20150218T000000  510000.0         3       2.00         1680      8080   \n3   3  20140627T000000  257500.0         3       2.25         1715      6819   \n4   4  20150115T000000  291850.0         3       1.50         1060      9711   \n\n   floors  waterfront  view  ...  grade  sqft_above  sqft_basement  yr_built  \\\n0     1.0           0     0  ...      7        1180              0      1955   \n1     1.0           0     0  ...      6         770              0      1933   \n2     1.0           0     0  ...      8        1680              0      1987   \n3     2.0           0     0  ...      7        1715              0      1995   \n4     1.0           0     0  ...      7        1060              0      1963   \n\n   yr_renovated  zipcode      lat     long  sqft_living15  sqft_lot15  \n0             0    98178  47.5112 -122.257           1340        5650  \n1             0    98028  47.7379 -122.233           2720        8062  \n2             0    98074  47.6168 -122.045           1800        7503  \n3             0    98003  47.3097 -122.327           2238        6819  \n4             0    98198  47.4095 -122.315           1650        9711  \n\n[5 rows x 21 columns]",
      "text/html": "<div>\n<style scoped>\n    .dataframe tbody tr th:only-of-type {\n        vertical-align: middle;\n    }\n\n    .dataframe tbody tr th {\n        vertical-align: top;\n    }\n\n    .dataframe thead th {\n        text-align: right;\n    }\n</style>\n<table border=\"1\" class=\"dataframe\">\n  <thead>\n    <tr style=\"text-align: right;\">\n      <th></th>\n      <th>id</th>\n      <th>date</th>\n      <th>price</th>\n      <th>bedrooms</th>\n      <th>bathrooms</th>\n      <th>sqft_living</th>\n      <th>sqft_lot</th>\n      <th>floors</th>\n      <th>waterfront</th>\n      <th>view</th>\n      <th>...</th>\n      <th>grade</th>\n      <th>sqft_above</th>\n      <th>sqft_basement</th>\n      <th>yr_built</th>\n      <th>yr_renovated</th>\n      <th>zipcode</th>\n      <th>lat</th>\n      <th>long</th>\n      <th>sqft_living15</th>\n      <th>sqft_lot15</th>\n    </tr>\n  </thead>\n  <tbody>\n    <tr>\n      <th>0</th>\n      <td>0</td>\n      <td>20141013T000000</td>\n      <td>221900.0</td>\n      <td>3</td>\n      <td>1.00</td>\n      <td>1180</td>\n      <td>5650</td>\n      <td>1.0</td>\n      <td>0</td>\n      <td>0</td>\n      <td>...</td>\n      <td>7</td>\n      <td>1180</td>\n      <td>0</td>\n      <td>1955</td>\n      <td>0</td>\n      <td>98178</td>\n      <td>47.5112</td>\n      <td>-122.257</td>\n      <td>1340</td>\n      <td>5650</td>\n    </tr>\n    <tr>\n      <th>1</th>\n      <td>1</td>\n      <td>20150225T000000</td>\n      <td>180000.0</td>\n      <td>2</td>\n      <td>1.00</td>\n      <td>770</td>\n      <td>10000</td>\n      <td>1.0</td>\n      <td>0</td>\n      <td>0</td>\n      <td>...</td>\n      <td>6</td>\n      <td>770</td>\n      <td>0</td>\n      <td>1933</td>\n      <td>0</td>\n      <td>98028</td>\n      <td>47.7379</td>\n      <td>-122.233</td>\n      <td>2720</td>\n      <td>8062</td>\n    </tr>\n    <tr>\n      <th>2</th>\n      <td>2</td>\n      <td>20150218T000000</td>\n      <td>510000.0</td>\n      <td>3</td>\n      <td>2.00</td>\n      <td>1680</td>\n      <td>8080</td>\n      <td>1.0</td>\n      <td>0</td>\n      <td>0</td>\n      <td>...</td>\n      <td>8</td>\n      <td>1680</td>\n      <td>0</td>\n      <td>1987</td>\n      <td>0</td>\n      <td>98074</td>\n      <td>47.6168</td>\n      <td>-122.045</td>\n      <td>1800</td>\n      <td>7503</td>\n    </tr>\n    <tr>\n      <th>3</th>\n      <td>3</td>\n      <td>20140627T000000</td>\n      <td>257500.0</td>\n      <td>3</td>\n      <td>2.25</td>\n      <td>1715</td>\n      <td>6819</td>\n      <td>2.0</td>\n      <td>0</td>\n      <td>0</td>\n      <td>...</td>\n      <td>7</td>\n      <td>1715</td>\n      <td>0</td>\n      <td>1995</td>\n      <td>0</td>\n      <td>98003</td>\n      <td>47.3097</td>\n      <td>-122.327</td>\n      <td>2238</td>\n      <td>6819</td>\n    </tr>\n    <tr>\n      <th>4</th>\n      <td>4</td>\n      <td>20150115T000000</td>\n      <td>291850.0</td>\n      <td>3</td>\n      <td>1.50</td>\n      <td>1060</td>\n      <td>9711</td>\n      <td>1.0</td>\n      <td>0</td>\n      <td>0</td>\n      <td>...</td>\n      <td>7</td>\n      <td>1060</td>\n      <td>0</td>\n      <td>1963</td>\n      <td>0</td>\n      <td>98198</td>\n      <td>47.4095</td>\n      <td>-122.315</td>\n      <td>1650</td>\n      <td>9711</td>\n    </tr>\n  </tbody>\n</table>\n<p>5 rows × 21 columns</p>\n</div>"
     },
     "execution_count": 93,
     "metadata": {},
     "output_type": "execute_result"
    }
   ],
   "source": [
    "train.head()"
   ],
   "metadata": {
    "collapsed": false,
    "pycharm": {
     "name": "#%%\n"
    }
   }
  },
  {
   "cell_type": "code",
   "execution_count": 94,
   "outputs": [
    {
     "data": {
      "text/plain": "   id    date     price  bedrooms  bathrooms  sqft_living  sqft_lot  floors  \\\n0   0  201410  221900.0         3       1.00         1180      5650     1.0   \n1   1  201502  180000.0         2       1.00          770     10000     1.0   \n2   2  201502  510000.0         3       2.00         1680      8080     1.0   \n3   3  201406  257500.0         3       2.25         1715      6819     2.0   \n4   4  201501  291850.0         3       1.50         1060      9711     1.0   \n\n   waterfront  view  ...  grade  sqft_above  sqft_basement  yr_built  \\\n0           0     0  ...      7        1180              0      1955   \n1           0     0  ...      6         770              0      1933   \n2           0     0  ...      8        1680              0      1987   \n3           0     0  ...      7        1715              0      1995   \n4           0     0  ...      7        1060              0      1963   \n\n   yr_renovated  zipcode      lat     long  sqft_living15  sqft_lot15  \n0             0    98178  47.5112 -122.257           1340        5650  \n1             0    98028  47.7379 -122.233           2720        8062  \n2             0    98074  47.6168 -122.045           1800        7503  \n3             0    98003  47.3097 -122.327           2238        6819  \n4             0    98198  47.4095 -122.315           1650        9711  \n\n[5 rows x 21 columns]",
      "text/html": "<div>\n<style scoped>\n    .dataframe tbody tr th:only-of-type {\n        vertical-align: middle;\n    }\n\n    .dataframe tbody tr th {\n        vertical-align: top;\n    }\n\n    .dataframe thead th {\n        text-align: right;\n    }\n</style>\n<table border=\"1\" class=\"dataframe\">\n  <thead>\n    <tr style=\"text-align: right;\">\n      <th></th>\n      <th>id</th>\n      <th>date</th>\n      <th>price</th>\n      <th>bedrooms</th>\n      <th>bathrooms</th>\n      <th>sqft_living</th>\n      <th>sqft_lot</th>\n      <th>floors</th>\n      <th>waterfront</th>\n      <th>view</th>\n      <th>...</th>\n      <th>grade</th>\n      <th>sqft_above</th>\n      <th>sqft_basement</th>\n      <th>yr_built</th>\n      <th>yr_renovated</th>\n      <th>zipcode</th>\n      <th>lat</th>\n      <th>long</th>\n      <th>sqft_living15</th>\n      <th>sqft_lot15</th>\n    </tr>\n  </thead>\n  <tbody>\n    <tr>\n      <th>0</th>\n      <td>0</td>\n      <td>201410</td>\n      <td>221900.0</td>\n      <td>3</td>\n      <td>1.00</td>\n      <td>1180</td>\n      <td>5650</td>\n      <td>1.0</td>\n      <td>0</td>\n      <td>0</td>\n      <td>...</td>\n      <td>7</td>\n      <td>1180</td>\n      <td>0</td>\n      <td>1955</td>\n      <td>0</td>\n      <td>98178</td>\n      <td>47.5112</td>\n      <td>-122.257</td>\n      <td>1340</td>\n      <td>5650</td>\n    </tr>\n    <tr>\n      <th>1</th>\n      <td>1</td>\n      <td>201502</td>\n      <td>180000.0</td>\n      <td>2</td>\n      <td>1.00</td>\n      <td>770</td>\n      <td>10000</td>\n      <td>1.0</td>\n      <td>0</td>\n      <td>0</td>\n      <td>...</td>\n      <td>6</td>\n      <td>770</td>\n      <td>0</td>\n      <td>1933</td>\n      <td>0</td>\n      <td>98028</td>\n      <td>47.7379</td>\n      <td>-122.233</td>\n      <td>2720</td>\n      <td>8062</td>\n    </tr>\n    <tr>\n      <th>2</th>\n      <td>2</td>\n      <td>201502</td>\n      <td>510000.0</td>\n      <td>3</td>\n      <td>2.00</td>\n      <td>1680</td>\n      <td>8080</td>\n      <td>1.0</td>\n      <td>0</td>\n      <td>0</td>\n      <td>...</td>\n      <td>8</td>\n      <td>1680</td>\n      <td>0</td>\n      <td>1987</td>\n      <td>0</td>\n      <td>98074</td>\n      <td>47.6168</td>\n      <td>-122.045</td>\n      <td>1800</td>\n      <td>7503</td>\n    </tr>\n    <tr>\n      <th>3</th>\n      <td>3</td>\n      <td>201406</td>\n      <td>257500.0</td>\n      <td>3</td>\n      <td>2.25</td>\n      <td>1715</td>\n      <td>6819</td>\n      <td>2.0</td>\n      <td>0</td>\n      <td>0</td>\n      <td>...</td>\n      <td>7</td>\n      <td>1715</td>\n      <td>0</td>\n      <td>1995</td>\n      <td>0</td>\n      <td>98003</td>\n      <td>47.3097</td>\n      <td>-122.327</td>\n      <td>2238</td>\n      <td>6819</td>\n    </tr>\n    <tr>\n      <th>4</th>\n      <td>4</td>\n      <td>201501</td>\n      <td>291850.0</td>\n      <td>3</td>\n      <td>1.50</td>\n      <td>1060</td>\n      <td>9711</td>\n      <td>1.0</td>\n      <td>0</td>\n      <td>0</td>\n      <td>...</td>\n      <td>7</td>\n      <td>1060</td>\n      <td>0</td>\n      <td>1963</td>\n      <td>0</td>\n      <td>98198</td>\n      <td>47.4095</td>\n      <td>-122.315</td>\n      <td>1650</td>\n      <td>9711</td>\n    </tr>\n  </tbody>\n</table>\n<p>5 rows × 21 columns</p>\n</div>"
     },
     "execution_count": 94,
     "metadata": {},
     "output_type": "execute_result"
    }
   ],
   "source": [
    "train['date'] = train['date'].apply(lambda i: i[:6]).astype(int)\n",
    "train.head()"
   ],
   "metadata": {
    "collapsed": false,
    "pycharm": {
     "name": "#%%\n"
    }
   }
  },
  {
   "cell_type": "markdown",
   "source": [
    "## corrwith 함수로 상관계수 구하기\n",
    "pearson"
   ],
   "metadata": {
    "collapsed": false,
    "pycharm": {
     "name": "#%% md\n"
    }
   }
  },
  {
   "cell_type": "code",
   "execution_count": 99,
   "outputs": [
    {
     "data": {
      "text/plain": "zipcode         -0.051498\ndate             0.007717\nid               0.020899\nlong             0.023547\ncondition        0.039740\nyr_built         0.047290\nsqft_lot15       0.086384\nsqft_lot         0.096793\nyr_renovated     0.140808\nfloors           0.262588\nwaterfront       0.265738\nlat              0.301604\nsqft_basement    0.322218\nbedrooms         0.323672\nview             0.400806\nbathrooms        0.525479\nsqft_living15    0.586419\nsqft_above       0.608577\ngrade            0.667211\nsqft_living      0.702899\nprice            1.000000\ndtype: float64"
     },
     "execution_count": 99,
     "metadata": {},
     "output_type": "execute_result"
    }
   ],
   "source": [
    "train.corrwith(train['price']).sort_values()"
   ],
   "metadata": {
    "collapsed": false,
    "pycharm": {
     "name": "#%%\n"
    }
   }
  },
  {
   "cell_type": "markdown",
   "source": [
    "kendall"
   ],
   "metadata": {
    "collapsed": false,
    "pycharm": {
     "name": "#%% md\n"
    }
   }
  },
  {
   "cell_type": "code",
   "execution_count": 100,
   "outputs": [
    {
     "data": {
      "text/plain": "zipcode         -0.010303\ndate            -0.001219\ncondition        0.016905\nid               0.024601\nsqft_lot15       0.040103\nlong             0.045224\nsqft_lot         0.050527\nyr_built         0.067704\nyr_renovated     0.090879\nwaterfront       0.092508\nsqft_basement    0.185629\nview             0.235770\nfloors           0.256619\nbedrooms         0.269782\nlat              0.288923\nbathrooms        0.370594\nsqft_above       0.382732\nsqft_living15    0.406098\nsqft_living      0.465533\ngrade            0.531341\nprice            1.000000\ndtype: float64"
     },
     "execution_count": 100,
     "metadata": {},
     "output_type": "execute_result"
    }
   ],
   "source": [
    "train.corrwith(train['price'], method='kendall').sort_values()"
   ],
   "metadata": {
    "collapsed": false,
    "pycharm": {
     "name": "#%%\n"
    }
   }
  },
  {
   "cell_type": "markdown",
   "source": [
    "spearman"
   ],
   "metadata": {
    "collapsed": false,
    "pycharm": {
     "name": "#%% md\n"
    }
   }
  },
  {
   "cell_type": "code",
   "execution_count": 101,
   "outputs": [
    {
     "data": {
      "text/plain": "zipcode         -0.009266\ndate            -0.001679\ncondition        0.021520\nid               0.036892\nsqft_lot15       0.065771\nlong             0.071757\nsqft_lot         0.080554\nyr_built         0.097844\nyr_renovated     0.112381\nwaterfront       0.113179\nsqft_basement    0.245304\nview             0.291720\nfloors           0.328674\nbedrooms         0.350185\nlat              0.450692\nbathrooms        0.498989\nsqft_above       0.547868\nsqft_living15    0.573777\nsqft_living      0.646482\ngrade            0.662125\nprice            1.000000\ndtype: float64"
     },
     "execution_count": 101,
     "metadata": {},
     "output_type": "execute_result"
    }
   ],
   "source": [
    "train.corrwith(train['price'], method='spearman').sort_values()"
   ],
   "metadata": {
    "collapsed": false,
    "pycharm": {
     "name": "#%%\n"
    }
   }
  },
  {
   "cell_type": "code",
   "execution_count": 32,
   "outputs": [],
   "source": [
    "y = train['price']\n",
    "del train['price']\n",
    "del train['id']"
   ],
   "metadata": {
    "collapsed": false,
    "pycharm": {
     "name": "#%%\n"
    }
   }
  },
  {
   "cell_type": "code",
   "execution_count": 33,
   "outputs": [
    {
     "data": {
      "text/plain": "Index(['date', 'bedrooms', 'bathrooms', 'sqft_living', 'sqft_lot', 'floors',\n       'waterfront', 'view', 'condition', 'grade', 'sqft_above',\n       'sqft_basement', 'yr_built', 'yr_renovated', 'zipcode', 'lat', 'long',\n       'sqft_living15', 'sqft_lot15'],\n      dtype='object')"
     },
     "execution_count": 33,
     "metadata": {},
     "output_type": "execute_result"
    }
   ],
   "source": [
    "train.columns"
   ],
   "metadata": {
    "collapsed": false,
    "pycharm": {
     "name": "#%%\n"
    }
   }
  },
  {
   "cell_type": "code",
   "execution_count": 34,
   "outputs": [],
   "source": [
    "test['date'] = test['date'].apply(lambda i: i[:6]).astype(int)\n",
    "del test['id']"
   ],
   "metadata": {
    "collapsed": false,
    "pycharm": {
     "name": "#%%\n"
    }
   }
  },
  {
   "cell_type": "code",
   "execution_count": null,
   "outputs": [],
   "source": [
    "test.columns"
   ],
   "metadata": {
    "collapsed": false,
    "pycharm": {
     "name": "#%%\n"
    }
   }
  },
  {
   "cell_type": "code",
   "execution_count": 87,
   "outputs": [
    {
     "data": {
      "text/plain": "                   date  bedrooms  bathrooms  sqft_living  sqft_lot    floors  \\\ndate           1.000000 -0.002696  -0.022810    -0.022119  0.007500 -0.020891   \nbedrooms      -0.002696  1.000000   0.530548     0.596974  0.033475  0.189532   \nbathrooms     -0.022810  0.530548   1.000000     0.755853  0.089308  0.508649   \nsqft_living   -0.022119  0.596974   0.755853     1.000000  0.176500  0.363193   \nsqft_lot       0.007500  0.033475   0.089308     0.176500  1.000000  0.001535   \nfloors        -0.020891  0.189532   0.508649     0.363193  0.001535  1.000000   \nwaterfront    -0.001742 -0.004819   0.075452     0.108137  0.025584  0.031159   \nview           0.013986  0.085703   0.187488     0.282821  0.080441  0.034511   \ncondition     -0.047028  0.034885  -0.125907    -0.054213 -0.002099 -0.261016   \ngrade         -0.023233  0.375286   0.666278     0.762543  0.119906  0.462598   \nsqft_above    -0.019422  0.494867   0.688255     0.878736  0.186242  0.529476   \nsqft_basement -0.009627  0.315183   0.282642     0.434017  0.017818 -0.239350   \nyr_built       0.004517  0.158799   0.503964     0.315927  0.058686  0.490436   \nyr_renovated  -0.019625  0.022729   0.065423     0.064893 -0.001451  0.009752   \nzipcode       -0.000763 -0.162081  -0.207500    -0.200745 -0.127709 -0.059107   \nlat           -0.031683 -0.011190   0.018110     0.051609 -0.082234  0.049004   \nlong           0.002894  0.135802   0.227669     0.245429  0.227451  0.126983   \nsqft_living15 -0.014327  0.407394   0.573541     0.760271  0.147562  0.287125   \nsqft_lot15     0.003511  0.027242   0.088120     0.184176  0.728458 -0.010287   \n\n               waterfront      view  condition     grade  sqft_above  \\\ndate            -0.001742  0.013986  -0.047028 -0.023233   -0.019422   \nbedrooms        -0.004819  0.085703   0.034885  0.375286    0.494867   \nbathrooms        0.075452  0.187488  -0.125907  0.666278    0.688255   \nsqft_living      0.108137  0.282821  -0.054213  0.762543    0.878736   \nsqft_lot         0.025584  0.080441  -0.002099  0.119906    0.186242   \nfloors           0.031159  0.034511  -0.261016  0.462598    0.529476   \nwaterfront       1.000000  0.389669   0.011613  0.088061    0.081968   \nview             0.389669  1.000000   0.045255  0.247924    0.172693   \ncondition        0.011613  0.045255   1.000000 -0.143599   -0.152856   \ngrade            0.088061  0.247924  -0.143599  1.000000    0.759240   \nsqft_above       0.081968  0.172693  -0.152856  0.759240    1.000000   \nsqft_basement    0.071576  0.265880   0.175064  0.162657   -0.048623   \nyr_built        -0.026523 -0.061670  -0.366590  0.440608    0.422431   \nyr_renovated     0.104168  0.107605  -0.062342  0.030155    0.031441   \nzipcode          0.028632  0.089247   0.001106 -0.186541   -0.258474   \nlat             -0.014772  0.005285  -0.015974  0.112319    0.001074   \nlong            -0.037922 -0.073151  -0.110742  0.202130    0.347226   \nsqft_living15    0.091810  0.278267  -0.091407  0.715321    0.737795   \nsqft_lot15       0.028255  0.076501  -0.003873  0.119734    0.194226   \n\n               sqft_basement  yr_built  yr_renovated   zipcode       lat  \\\ndate               -0.009627  0.004517     -0.019625 -0.000763 -0.031683   \nbedrooms            0.315183  0.158799      0.022729 -0.162081 -0.011190   \nbathrooms           0.282642  0.503964      0.065423 -0.207500  0.018110   \nsqft_living         0.434017  0.315927      0.064893 -0.200745  0.051609   \nsqft_lot            0.017818  0.058686     -0.001451 -0.127709 -0.082234   \nfloors             -0.239350  0.490436      0.009752 -0.059107  0.049004   \nwaterfront          0.071576 -0.026523      0.104168  0.028632 -0.014772   \nview                0.265880 -0.061670      0.107605  0.089247  0.005285   \ncondition           0.175064 -0.366590     -0.062342  0.001106 -0.015974   \ngrade               0.162657  0.440608      0.030155 -0.186541  0.112319   \nsqft_above         -0.048623  0.422431      0.031441 -0.258474  0.001074   \nsqft_basement       1.000000 -0.136214      0.076452  0.067782  0.105969   \nyr_built           -0.136214  1.000000     -0.215760 -0.354280 -0.156563   \nyr_renovated        0.076452 -0.215760      1.000000  0.068307  0.034844   \nzipcode             0.067782 -0.354280      0.068307  1.000000  0.261312   \nlat                 0.105969 -0.156563      0.034844  0.261312  1.000000   \nlong               -0.141792  0.414565     -0.070134 -0.563455 -0.133460   \nsqft_living15       0.198380  0.324221      0.007995 -0.274176  0.048924   \nsqft_lot15          0.018813  0.076009     -0.000348 -0.145710 -0.081725   \n\n                   long  sqft_living15  sqft_lot15  \ndate           0.002894      -0.014327    0.003511  \nbedrooms       0.135802       0.407394    0.027242  \nbathrooms      0.227669       0.573541    0.088120  \nsqft_living    0.245429       0.760271    0.184176  \nsqft_lot       0.227451       0.147562    0.728458  \nfloors         0.126983       0.287125   -0.010287  \nwaterfront    -0.037922       0.091810    0.028255  \nview          -0.073151       0.278267    0.076501  \ncondition     -0.110742      -0.091407   -0.003873  \ngrade          0.202130       0.715321    0.119734  \nsqft_above     0.347226       0.737795    0.194226  \nsqft_basement -0.141792       0.198380    0.018813  \nyr_built       0.414565       0.324221    0.076009  \nyr_renovated  -0.070134       0.007995   -0.000348  \nzipcode       -0.563455      -0.274176   -0.145710  \nlat           -0.133460       0.048924   -0.081725  \nlong           1.000000       0.333673    0.256201  \nsqft_living15  0.333673       1.000000    0.183599  \nsqft_lot15     0.256201       0.183599    1.000000  ",
      "text/html": "<div>\n<style scoped>\n    .dataframe tbody tr th:only-of-type {\n        vertical-align: middle;\n    }\n\n    .dataframe tbody tr th {\n        vertical-align: top;\n    }\n\n    .dataframe thead th {\n        text-align: right;\n    }\n</style>\n<table border=\"1\" class=\"dataframe\">\n  <thead>\n    <tr style=\"text-align: right;\">\n      <th></th>\n      <th>date</th>\n      <th>bedrooms</th>\n      <th>bathrooms</th>\n      <th>sqft_living</th>\n      <th>sqft_lot</th>\n      <th>floors</th>\n      <th>waterfront</th>\n      <th>view</th>\n      <th>condition</th>\n      <th>grade</th>\n      <th>sqft_above</th>\n      <th>sqft_basement</th>\n      <th>yr_built</th>\n      <th>yr_renovated</th>\n      <th>zipcode</th>\n      <th>lat</th>\n      <th>long</th>\n      <th>sqft_living15</th>\n      <th>sqft_lot15</th>\n    </tr>\n  </thead>\n  <tbody>\n    <tr>\n      <th>date</th>\n      <td>1.000000</td>\n      <td>-0.002696</td>\n      <td>-0.022810</td>\n      <td>-0.022119</td>\n      <td>0.007500</td>\n      <td>-0.020891</td>\n      <td>-0.001742</td>\n      <td>0.013986</td>\n      <td>-0.047028</td>\n      <td>-0.023233</td>\n      <td>-0.019422</td>\n      <td>-0.009627</td>\n      <td>0.004517</td>\n      <td>-0.019625</td>\n      <td>-0.000763</td>\n      <td>-0.031683</td>\n      <td>0.002894</td>\n      <td>-0.014327</td>\n      <td>0.003511</td>\n    </tr>\n    <tr>\n      <th>bedrooms</th>\n      <td>-0.002696</td>\n      <td>1.000000</td>\n      <td>0.530548</td>\n      <td>0.596974</td>\n      <td>0.033475</td>\n      <td>0.189532</td>\n      <td>-0.004819</td>\n      <td>0.085703</td>\n      <td>0.034885</td>\n      <td>0.375286</td>\n      <td>0.494867</td>\n      <td>0.315183</td>\n      <td>0.158799</td>\n      <td>0.022729</td>\n      <td>-0.162081</td>\n      <td>-0.011190</td>\n      <td>0.135802</td>\n      <td>0.407394</td>\n      <td>0.027242</td>\n    </tr>\n    <tr>\n      <th>bathrooms</th>\n      <td>-0.022810</td>\n      <td>0.530548</td>\n      <td>1.000000</td>\n      <td>0.755853</td>\n      <td>0.089308</td>\n      <td>0.508649</td>\n      <td>0.075452</td>\n      <td>0.187488</td>\n      <td>-0.125907</td>\n      <td>0.666278</td>\n      <td>0.688255</td>\n      <td>0.282642</td>\n      <td>0.503964</td>\n      <td>0.065423</td>\n      <td>-0.207500</td>\n      <td>0.018110</td>\n      <td>0.227669</td>\n      <td>0.573541</td>\n      <td>0.088120</td>\n    </tr>\n    <tr>\n      <th>sqft_living</th>\n      <td>-0.022119</td>\n      <td>0.596974</td>\n      <td>0.755853</td>\n      <td>1.000000</td>\n      <td>0.176500</td>\n      <td>0.363193</td>\n      <td>0.108137</td>\n      <td>0.282821</td>\n      <td>-0.054213</td>\n      <td>0.762543</td>\n      <td>0.878736</td>\n      <td>0.434017</td>\n      <td>0.315927</td>\n      <td>0.064893</td>\n      <td>-0.200745</td>\n      <td>0.051609</td>\n      <td>0.245429</td>\n      <td>0.760271</td>\n      <td>0.184176</td>\n    </tr>\n    <tr>\n      <th>sqft_lot</th>\n      <td>0.007500</td>\n      <td>0.033475</td>\n      <td>0.089308</td>\n      <td>0.176500</td>\n      <td>1.000000</td>\n      <td>0.001535</td>\n      <td>0.025584</td>\n      <td>0.080441</td>\n      <td>-0.002099</td>\n      <td>0.119906</td>\n      <td>0.186242</td>\n      <td>0.017818</td>\n      <td>0.058686</td>\n      <td>-0.001451</td>\n      <td>-0.127709</td>\n      <td>-0.082234</td>\n      <td>0.227451</td>\n      <td>0.147562</td>\n      <td>0.728458</td>\n    </tr>\n    <tr>\n      <th>floors</th>\n      <td>-0.020891</td>\n      <td>0.189532</td>\n      <td>0.508649</td>\n      <td>0.363193</td>\n      <td>0.001535</td>\n      <td>1.000000</td>\n      <td>0.031159</td>\n      <td>0.034511</td>\n      <td>-0.261016</td>\n      <td>0.462598</td>\n      <td>0.529476</td>\n      <td>-0.239350</td>\n      <td>0.490436</td>\n      <td>0.009752</td>\n      <td>-0.059107</td>\n      <td>0.049004</td>\n      <td>0.126983</td>\n      <td>0.287125</td>\n      <td>-0.010287</td>\n    </tr>\n    <tr>\n      <th>waterfront</th>\n      <td>-0.001742</td>\n      <td>-0.004819</td>\n      <td>0.075452</td>\n      <td>0.108137</td>\n      <td>0.025584</td>\n      <td>0.031159</td>\n      <td>1.000000</td>\n      <td>0.389669</td>\n      <td>0.011613</td>\n      <td>0.088061</td>\n      <td>0.081968</td>\n      <td>0.071576</td>\n      <td>-0.026523</td>\n      <td>0.104168</td>\n      <td>0.028632</td>\n      <td>-0.014772</td>\n      <td>-0.037922</td>\n      <td>0.091810</td>\n      <td>0.028255</td>\n    </tr>\n    <tr>\n      <th>view</th>\n      <td>0.013986</td>\n      <td>0.085703</td>\n      <td>0.187488</td>\n      <td>0.282821</td>\n      <td>0.080441</td>\n      <td>0.034511</td>\n      <td>0.389669</td>\n      <td>1.000000</td>\n      <td>0.045255</td>\n      <td>0.247924</td>\n      <td>0.172693</td>\n      <td>0.265880</td>\n      <td>-0.061670</td>\n      <td>0.107605</td>\n      <td>0.089247</td>\n      <td>0.005285</td>\n      <td>-0.073151</td>\n      <td>0.278267</td>\n      <td>0.076501</td>\n    </tr>\n    <tr>\n      <th>condition</th>\n      <td>-0.047028</td>\n      <td>0.034885</td>\n      <td>-0.125907</td>\n      <td>-0.054213</td>\n      <td>-0.002099</td>\n      <td>-0.261016</td>\n      <td>0.011613</td>\n      <td>0.045255</td>\n      <td>1.000000</td>\n      <td>-0.143599</td>\n      <td>-0.152856</td>\n      <td>0.175064</td>\n      <td>-0.366590</td>\n      <td>-0.062342</td>\n      <td>0.001106</td>\n      <td>-0.015974</td>\n      <td>-0.110742</td>\n      <td>-0.091407</td>\n      <td>-0.003873</td>\n    </tr>\n    <tr>\n      <th>grade</th>\n      <td>-0.023233</td>\n      <td>0.375286</td>\n      <td>0.666278</td>\n      <td>0.762543</td>\n      <td>0.119906</td>\n      <td>0.462598</td>\n      <td>0.088061</td>\n      <td>0.247924</td>\n      <td>-0.143599</td>\n      <td>1.000000</td>\n      <td>0.759240</td>\n      <td>0.162657</td>\n      <td>0.440608</td>\n      <td>0.030155</td>\n      <td>-0.186541</td>\n      <td>0.112319</td>\n      <td>0.202130</td>\n      <td>0.715321</td>\n      <td>0.119734</td>\n    </tr>\n    <tr>\n      <th>sqft_above</th>\n      <td>-0.019422</td>\n      <td>0.494867</td>\n      <td>0.688255</td>\n      <td>0.878736</td>\n      <td>0.186242</td>\n      <td>0.529476</td>\n      <td>0.081968</td>\n      <td>0.172693</td>\n      <td>-0.152856</td>\n      <td>0.759240</td>\n      <td>1.000000</td>\n      <td>-0.048623</td>\n      <td>0.422431</td>\n      <td>0.031441</td>\n      <td>-0.258474</td>\n      <td>0.001074</td>\n      <td>0.347226</td>\n      <td>0.737795</td>\n      <td>0.194226</td>\n    </tr>\n    <tr>\n      <th>sqft_basement</th>\n      <td>-0.009627</td>\n      <td>0.315183</td>\n      <td>0.282642</td>\n      <td>0.434017</td>\n      <td>0.017818</td>\n      <td>-0.239350</td>\n      <td>0.071576</td>\n      <td>0.265880</td>\n      <td>0.175064</td>\n      <td>0.162657</td>\n      <td>-0.048623</td>\n      <td>1.000000</td>\n      <td>-0.136214</td>\n      <td>0.076452</td>\n      <td>0.067782</td>\n      <td>0.105969</td>\n      <td>-0.141792</td>\n      <td>0.198380</td>\n      <td>0.018813</td>\n    </tr>\n    <tr>\n      <th>yr_built</th>\n      <td>0.004517</td>\n      <td>0.158799</td>\n      <td>0.503964</td>\n      <td>0.315927</td>\n      <td>0.058686</td>\n      <td>0.490436</td>\n      <td>-0.026523</td>\n      <td>-0.061670</td>\n      <td>-0.366590</td>\n      <td>0.440608</td>\n      <td>0.422431</td>\n      <td>-0.136214</td>\n      <td>1.000000</td>\n      <td>-0.215760</td>\n      <td>-0.354280</td>\n      <td>-0.156563</td>\n      <td>0.414565</td>\n      <td>0.324221</td>\n      <td>0.076009</td>\n    </tr>\n    <tr>\n      <th>yr_renovated</th>\n      <td>-0.019625</td>\n      <td>0.022729</td>\n      <td>0.065423</td>\n      <td>0.064893</td>\n      <td>-0.001451</td>\n      <td>0.009752</td>\n      <td>0.104168</td>\n      <td>0.107605</td>\n      <td>-0.062342</td>\n      <td>0.030155</td>\n      <td>0.031441</td>\n      <td>0.076452</td>\n      <td>-0.215760</td>\n      <td>1.000000</td>\n      <td>0.068307</td>\n      <td>0.034844</td>\n      <td>-0.070134</td>\n      <td>0.007995</td>\n      <td>-0.000348</td>\n    </tr>\n    <tr>\n      <th>zipcode</th>\n      <td>-0.000763</td>\n      <td>-0.162081</td>\n      <td>-0.207500</td>\n      <td>-0.200745</td>\n      <td>-0.127709</td>\n      <td>-0.059107</td>\n      <td>0.028632</td>\n      <td>0.089247</td>\n      <td>0.001106</td>\n      <td>-0.186541</td>\n      <td>-0.258474</td>\n      <td>0.067782</td>\n      <td>-0.354280</td>\n      <td>0.068307</td>\n      <td>1.000000</td>\n      <td>0.261312</td>\n      <td>-0.563455</td>\n      <td>-0.274176</td>\n      <td>-0.145710</td>\n    </tr>\n    <tr>\n      <th>lat</th>\n      <td>-0.031683</td>\n      <td>-0.011190</td>\n      <td>0.018110</td>\n      <td>0.051609</td>\n      <td>-0.082234</td>\n      <td>0.049004</td>\n      <td>-0.014772</td>\n      <td>0.005285</td>\n      <td>-0.015974</td>\n      <td>0.112319</td>\n      <td>0.001074</td>\n      <td>0.105969</td>\n      <td>-0.156563</td>\n      <td>0.034844</td>\n      <td>0.261312</td>\n      <td>1.000000</td>\n      <td>-0.133460</td>\n      <td>0.048924</td>\n      <td>-0.081725</td>\n    </tr>\n    <tr>\n      <th>long</th>\n      <td>0.002894</td>\n      <td>0.135802</td>\n      <td>0.227669</td>\n      <td>0.245429</td>\n      <td>0.227451</td>\n      <td>0.126983</td>\n      <td>-0.037922</td>\n      <td>-0.073151</td>\n      <td>-0.110742</td>\n      <td>0.202130</td>\n      <td>0.347226</td>\n      <td>-0.141792</td>\n      <td>0.414565</td>\n      <td>-0.070134</td>\n      <td>-0.563455</td>\n      <td>-0.133460</td>\n      <td>1.000000</td>\n      <td>0.333673</td>\n      <td>0.256201</td>\n    </tr>\n    <tr>\n      <th>sqft_living15</th>\n      <td>-0.014327</td>\n      <td>0.407394</td>\n      <td>0.573541</td>\n      <td>0.760271</td>\n      <td>0.147562</td>\n      <td>0.287125</td>\n      <td>0.091810</td>\n      <td>0.278267</td>\n      <td>-0.091407</td>\n      <td>0.715321</td>\n      <td>0.737795</td>\n      <td>0.198380</td>\n      <td>0.324221</td>\n      <td>0.007995</td>\n      <td>-0.274176</td>\n      <td>0.048924</td>\n      <td>0.333673</td>\n      <td>1.000000</td>\n      <td>0.183599</td>\n    </tr>\n    <tr>\n      <th>sqft_lot15</th>\n      <td>0.003511</td>\n      <td>0.027242</td>\n      <td>0.088120</td>\n      <td>0.184176</td>\n      <td>0.728458</td>\n      <td>-0.010287</td>\n      <td>0.028255</td>\n      <td>0.076501</td>\n      <td>-0.003873</td>\n      <td>0.119734</td>\n      <td>0.194226</td>\n      <td>0.018813</td>\n      <td>0.076009</td>\n      <td>-0.000348</td>\n      <td>-0.145710</td>\n      <td>-0.081725</td>\n      <td>0.256201</td>\n      <td>0.183599</td>\n      <td>1.000000</td>\n    </tr>\n  </tbody>\n</table>\n</div>"
     },
     "execution_count": 87,
     "metadata": {},
     "output_type": "execute_result"
    }
   ],
   "source": [],
   "metadata": {
    "collapsed": false,
    "pycharm": {
     "name": "#%%\n"
    }
   }
  },
  {
   "cell_type": "code",
   "execution_count": null,
   "outputs": [],
   "source": [
    "y"
   ],
   "metadata": {
    "collapsed": false,
    "pycharm": {
     "name": "#%%\n"
    }
   }
  },
  {
   "cell_type": "code",
   "execution_count": 38,
   "outputs": [
    {
     "data": {
      "text/plain": "<Figure size 432x288 with 1 Axes>",
      "image/png": "[encoded data removed]"
     },
     "metadata": {
      "image/png": {
       "width": 392,
       "height": 272
      },
      "needs_background": "light"
     },
     "output_type": "display_data"
    }
   ],
   "source": [
    "sns.kdeplot(y)\n",
    "plt.show()"
   ],
   "metadata": {
    "collapsed": false,
    "pycharm": {
     "name": "#%%\n"
    }
   }
  },
  {
   "cell_type": "code",
   "execution_count": 39,
   "outputs": [
    {
     "data": {
      "text/plain": "0        12.309987\n1        12.100718\n2        13.142168\n3        12.458779\n4        12.583999\n           ...    \n15030    13.322338\n15031    13.822984\n15032    12.793862\n15033    12.899222\n15034    12.691584\nName: price, Length: 15035, dtype: float64"
     },
     "execution_count": 39,
     "metadata": {},
     "output_type": "execute_result"
    }
   ],
   "source": [
    "y = np.log1p(y)\n",
    "y"
   ],
   "metadata": {
    "collapsed": false,
    "pycharm": {
     "name": "#%%\n"
    }
   }
  },
  {
   "cell_type": "code",
   "execution_count": 40,
   "outputs": [
    {
     "data": {
      "text/plain": "<Figure size 432x288 with 1 Axes>",
      "image/png": "[encoded data removed]"
     },
     "metadata": {
      "image/png": {
       "width": 385,
       "height": 262
      },
      "needs_background": "light"
     },
     "output_type": "display_data"
    }
   ],
   "source": [
    "sns.kdeplot(y)\n",
    "plt.show()"
   ],
   "metadata": {
    "collapsed": false,
    "pycharm": {
     "name": "#%%\n"
    }
   }
  },
  {
   "cell_type": "code",
   "execution_count": 41,
   "outputs": [
    {
     "name": "stdout",
     "output_type": "stream",
     "text": [
      "<class 'pandas.core.frame.DataFrame'>\n",
      "RangeIndex: 15035 entries, 0 to 15034\n",
      "Data columns (total 19 columns):\n",
      " #   Column         Non-Null Count  Dtype  \n",
      "---  ------         --------------  -----  \n",
      " 0   date           15035 non-null  int64  \n",
      " 1   bedrooms       15035 non-null  int64  \n",
      " 2   bathrooms      15035 non-null  float64\n",
      " 3   sqft_living    15035 non-null  int64  \n",
      " 4   sqft_lot       15035 non-null  int64  \n",
      " 5   floors         15035 non-null  float64\n",
      " 6   waterfront     15035 non-null  int64  \n",
      " 7   view           15035 non-null  int64  \n",
      " 8   condition      15035 non-null  int64  \n",
      " 9   grade          15035 non-null  int64  \n",
      " 10  sqft_above     15035 non-null  int64  \n",
      " 11  sqft_basement  15035 non-null  int64  \n",
      " 12  yr_built       15035 non-null  int64  \n",
      " 13  yr_renovated   15035 non-null  int64  \n",
      " 14  zipcode        15035 non-null  int64  \n",
      " 15  lat            15035 non-null  float64\n",
      " 16  long           15035 non-null  float64\n",
      " 17  sqft_living15  15035 non-null  int64  \n",
      " 18  sqft_lot15     15035 non-null  int64  \n",
      "dtypes: float64(4), int64(15)\n",
      "memory usage: 2.2 MB\n"
     ]
    }
   ],
   "source": [
    "train.info()"
   ],
   "metadata": {
    "collapsed": false,
    "pycharm": {
     "name": "#%%\n"
    }
   }
  },
  {
   "cell_type": "markdown",
   "source": [
    "## 3. 모델링\n",
    "### Average Blending\n",
    "여러가지 모델의 결과를 산술 평균을 통해 Blending 모델을 만들겠습니다."
   ],
   "metadata": {
    "collapsed": false
   }
  },
  {
   "cell_type": "code",
   "execution_count": 42,
   "outputs": [
    {
     "name": "stdout",
     "output_type": "stream",
     "text": [
      "얍💢\n"
     ]
    }
   ],
   "source": [
    "from sklearn.model_selection import train_test_split\n",
    "from sklearn.metrics import mean_squared_error"
   ],
   "metadata": {
    "collapsed": false,
    "pycharm": {
     "name": "#%%\n"
    }
   }
  },
  {
   "cell_type": "code",
   "execution_count": 43,
   "outputs": [],
   "source": [
    "def rmse(y_test, y_pred):\n",
    "    return np.sqrt(mean_squared_error(np.expm1(y_test), np.expm1(y_pred)))"
   ],
   "metadata": {
    "collapsed": false,
    "pycharm": {
     "name": "#%%\n"
    }
   }
  },
  {
   "cell_type": "code",
   "execution_count": 111,
   "outputs": [],
   "source": [
    "from xgboost import XGBRegressor\n",
    "from lightgbm import LGBMRegressor\n",
    "from sklearn.ensemble import GradientBoostingRegressor, RandomForestRegressor"
   ],
   "metadata": {
    "collapsed": false,
    "pycharm": {
     "name": "#%%\n"
    }
   }
  },
  {
   "cell_type": "code",
   "execution_count": 112,
   "outputs": [],
   "source": [
    "xgboost = XGBRegressor(random_state=42)"
   ],
   "metadata": {
    "collapsed": false,
    "pycharm": {
     "name": "#%%\n"
    }
   }
  },
  {
   "cell_type": "code",
   "execution_count": null,
   "outputs": [],
   "source": [
    "for k, v in params.items():\n",
    "    if k not in init_params or (\n",
    "            repr(v) != repr(init_params[k])\n",
    "            and not (is_scalar_nan(init_params[k]) and is_scalar_nan(v))):\n",
    "        filtered_params[k] = v"
   ],
   "metadata": {
    "collapsed": false,
    "pycharm": {
     "name": "#%%\n"
    }
   }
  },
  {
   "cell_type": "code",
   "execution_count": 113,
   "outputs": [
    {
     "ename": "KeyError",
     "evalue": "'base_score'",
     "output_type": "error",
     "traceback": [
      "\u001B[0;31m---------------------------------------------------------------------------\u001B[0m",
      "\u001B[0;31mKeyError\u001B[0m                                  Traceback (most recent call last)",
      "\u001B[0;32m/opt/conda/lib/python3.7/site-packages/IPython/core/formatters.py\u001B[0m in \u001B[0;36m__call__\u001B[0;34m(self, obj, include, exclude)\u001B[0m\n\u001B[1;32m    968\u001B[0m \u001B[0;34m\u001B[0m\u001B[0m\n\u001B[1;32m    969\u001B[0m             \u001B[0;32mif\u001B[0m \u001B[0mmethod\u001B[0m \u001B[0;32mis\u001B[0m \u001B[0;32mnot\u001B[0m \u001B[0;32mNone\u001B[0m\u001B[0;34m:\u001B[0m\u001B[0;34m\u001B[0m\u001B[0;34m\u001B[0m\u001B[0m\n\u001B[0;32m--> 970\u001B[0;31m                 \u001B[0;32mreturn\u001B[0m \u001B[0mmethod\u001B[0m\u001B[0;34m(\u001B[0m\u001B[0minclude\u001B[0m\u001B[0;34m=\u001B[0m\u001B[0minclude\u001B[0m\u001B[0;34m,\u001B[0m \u001B[0mexclude\u001B[0m\u001B[0;34m=\u001B[0m\u001B[0mexclude\u001B[0m\u001B[0;34m)\u001B[0m\u001B[0;34m\u001B[0m\u001B[0;34m\u001B[0m\u001B[0m\n\u001B[0m\u001B[1;32m    971\u001B[0m             \u001B[0;32mreturn\u001B[0m \u001B[0;32mNone\u001B[0m\u001B[0;34m\u001B[0m\u001B[0;34m\u001B[0m\u001B[0m\n\u001B[1;32m    972\u001B[0m         \u001B[0;32melse\u001B[0m\u001B[0;34m:\u001B[0m\u001B[0;34m\u001B[0m\u001B[0;34m\u001B[0m\u001B[0m\n",
      "\u001B[0;32m/opt/conda/lib/python3.7/site-packages/sklearn/base.py\u001B[0m in \u001B[0;36m_repr_mimebundle_\u001B[0;34m(self, **kwargs)\u001B[0m\n\u001B[1;32m    461\u001B[0m     \u001B[0;32mdef\u001B[0m \u001B[0m_repr_mimebundle_\u001B[0m\u001B[0;34m(\u001B[0m\u001B[0mself\u001B[0m\u001B[0;34m,\u001B[0m \u001B[0;34m**\u001B[0m\u001B[0mkwargs\u001B[0m\u001B[0;34m)\u001B[0m\u001B[0;34m:\u001B[0m\u001B[0;34m\u001B[0m\u001B[0;34m\u001B[0m\u001B[0m\n\u001B[1;32m    462\u001B[0m         \u001B[0;34m\"\"\"Mime bundle used by jupyter kernels to display estimator\"\"\"\u001B[0m\u001B[0;34m\u001B[0m\u001B[0;34m\u001B[0m\u001B[0m\n\u001B[0;32m--> 463\u001B[0;31m         \u001B[0moutput\u001B[0m \u001B[0;34m=\u001B[0m \u001B[0;34m{\u001B[0m\u001B[0;34m\"text/plain\"\u001B[0m\u001B[0;34m:\u001B[0m \u001B[0mrepr\u001B[0m\u001B[0;34m(\u001B[0m\u001B[0mself\u001B[0m\u001B[0;34m)\u001B[0m\u001B[0;34m}\u001B[0m\u001B[0;34m\u001B[0m\u001B[0;34m\u001B[0m\u001B[0m\n\u001B[0m\u001B[1;32m    464\u001B[0m         \u001B[0;32mif\u001B[0m \u001B[0mget_config\u001B[0m\u001B[0;34m(\u001B[0m\u001B[0;34m)\u001B[0m\u001B[0;34m[\u001B[0m\u001B[0;34m\"display\"\u001B[0m\u001B[0;34m]\u001B[0m \u001B[0;34m==\u001B[0m \u001B[0;34m'diagram'\u001B[0m\u001B[0;34m:\u001B[0m\u001B[0;34m\u001B[0m\u001B[0;34m\u001B[0m\u001B[0m\n\u001B[1;32m    465\u001B[0m             \u001B[0moutput\u001B[0m\u001B[0;34m[\u001B[0m\u001B[0;34m\"text/html\"\u001B[0m\u001B[0;34m]\u001B[0m \u001B[0;34m=\u001B[0m \u001B[0mestimator_html_repr\u001B[0m\u001B[0;34m(\u001B[0m\u001B[0mself\u001B[0m\u001B[0;34m)\u001B[0m\u001B[0;34m\u001B[0m\u001B[0;34m\u001B[0m\u001B[0m\n",
      "\u001B[0;32m/opt/conda/lib/python3.7/site-packages/sklearn/base.py\u001B[0m in \u001B[0;36m__repr__\u001B[0;34m(self, N_CHAR_MAX)\u001B[0m\n\u001B[1;32m    277\u001B[0m             n_max_elements_to_show=N_MAX_ELEMENTS_TO_SHOW)\n\u001B[1;32m    278\u001B[0m \u001B[0;34m\u001B[0m\u001B[0m\n\u001B[0;32m--> 279\u001B[0;31m         \u001B[0mrepr_\u001B[0m \u001B[0;34m=\u001B[0m \u001B[0mpp\u001B[0m\u001B[0;34m.\u001B[0m\u001B[0mpformat\u001B[0m\u001B[0;34m(\u001B[0m\u001B[0mself\u001B[0m\u001B[0;34m)\u001B[0m\u001B[0;34m\u001B[0m\u001B[0;34m\u001B[0m\u001B[0m\n\u001B[0m\u001B[1;32m    280\u001B[0m \u001B[0;34m\u001B[0m\u001B[0m\n\u001B[1;32m    281\u001B[0m         \u001B[0;31m# Use bruteforce ellipsis when there are a lot of non-blank characters\u001B[0m\u001B[0;34m\u001B[0m\u001B[0;34m\u001B[0m\u001B[0;34m\u001B[0m\u001B[0m\n",
      "\u001B[0;32m/opt/conda/lib/python3.7/pprint.py\u001B[0m in \u001B[0;36mpformat\u001B[0;34m(self, object)\u001B[0m\n\u001B[1;32m    142\u001B[0m     \u001B[0;32mdef\u001B[0m \u001B[0mpformat\u001B[0m\u001B[0;34m(\u001B[0m\u001B[0mself\u001B[0m\u001B[0;34m,\u001B[0m \u001B[0mobject\u001B[0m\u001B[0;34m)\u001B[0m\u001B[0;34m:\u001B[0m\u001B[0;34m\u001B[0m\u001B[0;34m\u001B[0m\u001B[0m\n\u001B[1;32m    143\u001B[0m         \u001B[0msio\u001B[0m \u001B[0;34m=\u001B[0m \u001B[0m_StringIO\u001B[0m\u001B[0;34m(\u001B[0m\u001B[0;34m)\u001B[0m\u001B[0;34m\u001B[0m\u001B[0;34m\u001B[0m\u001B[0m\n\u001B[0;32m--> 144\u001B[0;31m         \u001B[0mself\u001B[0m\u001B[0;34m.\u001B[0m\u001B[0m_format\u001B[0m\u001B[0;34m(\u001B[0m\u001B[0mobject\u001B[0m\u001B[0;34m,\u001B[0m \u001B[0msio\u001B[0m\u001B[0;34m,\u001B[0m \u001B[0;36m0\u001B[0m\u001B[0;34m,\u001B[0m \u001B[0;36m0\u001B[0m\u001B[0;34m,\u001B[0m \u001B[0;34m{\u001B[0m\u001B[0;34m}\u001B[0m\u001B[0;34m,\u001B[0m \u001B[0;36m0\u001B[0m\u001B[0;34m)\u001B[0m\u001B[0;34m\u001B[0m\u001B[0;34m\u001B[0m\u001B[0m\n\u001B[0m\u001B[1;32m    145\u001B[0m         \u001B[0;32mreturn\u001B[0m \u001B[0msio\u001B[0m\u001B[0;34m.\u001B[0m\u001B[0mgetvalue\u001B[0m\u001B[0;34m(\u001B[0m\u001B[0;34m)\u001B[0m\u001B[0;34m\u001B[0m\u001B[0;34m\u001B[0m\u001B[0m\n\u001B[1;32m    146\u001B[0m \u001B[0;34m\u001B[0m\u001B[0m\n",
      "\u001B[0;32m/opt/conda/lib/python3.7/pprint.py\u001B[0m in \u001B[0;36m_format\u001B[0;34m(self, object, stream, indent, allowance, context, level)\u001B[0m\n\u001B[1;32m    159\u001B[0m             \u001B[0mself\u001B[0m\u001B[0;34m.\u001B[0m\u001B[0m_readable\u001B[0m \u001B[0;34m=\u001B[0m \u001B[0;32mFalse\u001B[0m\u001B[0;34m\u001B[0m\u001B[0;34m\u001B[0m\u001B[0m\n\u001B[1;32m    160\u001B[0m             \u001B[0;32mreturn\u001B[0m\u001B[0;34m\u001B[0m\u001B[0;34m\u001B[0m\u001B[0m\n\u001B[0;32m--> 161\u001B[0;31m         \u001B[0mrep\u001B[0m \u001B[0;34m=\u001B[0m \u001B[0mself\u001B[0m\u001B[0;34m.\u001B[0m\u001B[0m_repr\u001B[0m\u001B[0;34m(\u001B[0m\u001B[0mobject\u001B[0m\u001B[0;34m,\u001B[0m \u001B[0mcontext\u001B[0m\u001B[0;34m,\u001B[0m \u001B[0mlevel\u001B[0m\u001B[0;34m)\u001B[0m\u001B[0;34m\u001B[0m\u001B[0;34m\u001B[0m\u001B[0m\n\u001B[0m\u001B[1;32m    162\u001B[0m         \u001B[0mmax_width\u001B[0m \u001B[0;34m=\u001B[0m \u001B[0mself\u001B[0m\u001B[0;34m.\u001B[0m\u001B[0m_width\u001B[0m \u001B[0;34m-\u001B[0m \u001B[0mindent\u001B[0m \u001B[0;34m-\u001B[0m \u001B[0mallowance\u001B[0m\u001B[0;34m\u001B[0m\u001B[0;34m\u001B[0m\u001B[0m\n\u001B[1;32m    163\u001B[0m         \u001B[0;32mif\u001B[0m \u001B[0mlen\u001B[0m\u001B[0;34m(\u001B[0m\u001B[0mrep\u001B[0m\u001B[0;34m)\u001B[0m \u001B[0;34m>\u001B[0m \u001B[0mmax_width\u001B[0m\u001B[0;34m:\u001B[0m\u001B[0;34m\u001B[0m\u001B[0;34m\u001B[0m\u001B[0m\n",
      "\u001B[0;32m/opt/conda/lib/python3.7/pprint.py\u001B[0m in \u001B[0;36m_repr\u001B[0;34m(self, object, context, level)\u001B[0m\n\u001B[1;32m    391\u001B[0m     \u001B[0;32mdef\u001B[0m \u001B[0m_repr\u001B[0m\u001B[0;34m(\u001B[0m\u001B[0mself\u001B[0m\u001B[0;34m,\u001B[0m \u001B[0mobject\u001B[0m\u001B[0;34m,\u001B[0m \u001B[0mcontext\u001B[0m\u001B[0;34m,\u001B[0m \u001B[0mlevel\u001B[0m\u001B[0;34m)\u001B[0m\u001B[0;34m:\u001B[0m\u001B[0;34m\u001B[0m\u001B[0;34m\u001B[0m\u001B[0m\n\u001B[1;32m    392\u001B[0m         repr, readable, recursive = self.format(object, context.copy(),\n\u001B[0;32m--> 393\u001B[0;31m                                                 self._depth, level)\n\u001B[0m\u001B[1;32m    394\u001B[0m         \u001B[0;32mif\u001B[0m \u001B[0;32mnot\u001B[0m \u001B[0mreadable\u001B[0m\u001B[0;34m:\u001B[0m\u001B[0;34m\u001B[0m\u001B[0;34m\u001B[0m\u001B[0m\n\u001B[1;32m    395\u001B[0m             \u001B[0mself\u001B[0m\u001B[0;34m.\u001B[0m\u001B[0m_readable\u001B[0m \u001B[0;34m=\u001B[0m \u001B[0;32mFalse\u001B[0m\u001B[0;34m\u001B[0m\u001B[0;34m\u001B[0m\u001B[0m\n",
      "\u001B[0;32m/opt/conda/lib/python3.7/site-packages/sklearn/utils/_pprint.py\u001B[0m in \u001B[0;36mformat\u001B[0;34m(self, object, context, maxlevels, level)\u001B[0m\n\u001B[1;32m    168\u001B[0m     \u001B[0;32mdef\u001B[0m \u001B[0mformat\u001B[0m\u001B[0;34m(\u001B[0m\u001B[0mself\u001B[0m\u001B[0;34m,\u001B[0m \u001B[0mobject\u001B[0m\u001B[0;34m,\u001B[0m \u001B[0mcontext\u001B[0m\u001B[0;34m,\u001B[0m \u001B[0mmaxlevels\u001B[0m\u001B[0;34m,\u001B[0m \u001B[0mlevel\u001B[0m\u001B[0;34m)\u001B[0m\u001B[0;34m:\u001B[0m\u001B[0;34m\u001B[0m\u001B[0;34m\u001B[0m\u001B[0m\n\u001B[1;32m    169\u001B[0m         return _safe_repr(object, context, maxlevels, level,\n\u001B[0;32m--> 170\u001B[0;31m                           changed_only=self._changed_only)\n\u001B[0m\u001B[1;32m    171\u001B[0m \u001B[0;34m\u001B[0m\u001B[0m\n\u001B[1;32m    172\u001B[0m     def _pprint_estimator(self, object, stream, indent, allowance, context,\n",
      "\u001B[0;32m/opt/conda/lib/python3.7/site-packages/sklearn/utils/_pprint.py\u001B[0m in \u001B[0;36m_safe_repr\u001B[0;34m(object, context, maxlevels, level, changed_only)\u001B[0m\n\u001B[1;32m    412\u001B[0m         \u001B[0mrecursive\u001B[0m \u001B[0;34m=\u001B[0m \u001B[0;32mFalse\u001B[0m\u001B[0;34m\u001B[0m\u001B[0;34m\u001B[0m\u001B[0m\n\u001B[1;32m    413\u001B[0m         \u001B[0;32mif\u001B[0m \u001B[0mchanged_only\u001B[0m\u001B[0;34m:\u001B[0m\u001B[0;34m\u001B[0m\u001B[0;34m\u001B[0m\u001B[0m\n\u001B[0;32m--> 414\u001B[0;31m             \u001B[0mparams\u001B[0m \u001B[0;34m=\u001B[0m \u001B[0m_changed_params\u001B[0m\u001B[0;34m(\u001B[0m\u001B[0mobject\u001B[0m\u001B[0;34m)\u001B[0m\u001B[0;34m\u001B[0m\u001B[0;34m\u001B[0m\u001B[0m\n\u001B[0m\u001B[1;32m    415\u001B[0m         \u001B[0;32melse\u001B[0m\u001B[0;34m:\u001B[0m\u001B[0;34m\u001B[0m\u001B[0;34m\u001B[0m\u001B[0m\n\u001B[1;32m    416\u001B[0m             \u001B[0mparams\u001B[0m \u001B[0;34m=\u001B[0m \u001B[0mobject\u001B[0m\u001B[0;34m.\u001B[0m\u001B[0mget_params\u001B[0m\u001B[0;34m(\u001B[0m\u001B[0mdeep\u001B[0m\u001B[0;34m=\u001B[0m\u001B[0;32mFalse\u001B[0m\u001B[0;34m)\u001B[0m\u001B[0;34m\u001B[0m\u001B[0;34m\u001B[0m\u001B[0m\n",
      "\u001B[0;32m/opt/conda/lib/python3.7/site-packages/sklearn/utils/_pprint.py\u001B[0m in \u001B[0;36m_changed_params\u001B[0;34m(estimator)\u001B[0m\n\u001B[1;32m     96\u001B[0m     \u001B[0minit_params\u001B[0m \u001B[0;34m=\u001B[0m \u001B[0;34m{\u001B[0m\u001B[0mname\u001B[0m\u001B[0;34m:\u001B[0m \u001B[0mparam\u001B[0m\u001B[0;34m.\u001B[0m\u001B[0mdefault\u001B[0m \u001B[0;32mfor\u001B[0m \u001B[0mname\u001B[0m\u001B[0;34m,\u001B[0m \u001B[0mparam\u001B[0m \u001B[0;32min\u001B[0m \u001B[0minit_params\u001B[0m\u001B[0;34m.\u001B[0m\u001B[0mitems\u001B[0m\u001B[0;34m(\u001B[0m\u001B[0;34m)\u001B[0m\u001B[0;34m}\u001B[0m\u001B[0;34m\u001B[0m\u001B[0;34m\u001B[0m\u001B[0m\n\u001B[1;32m     97\u001B[0m     \u001B[0;32mfor\u001B[0m \u001B[0mk\u001B[0m\u001B[0;34m,\u001B[0m \u001B[0mv\u001B[0m \u001B[0;32min\u001B[0m \u001B[0mparams\u001B[0m\u001B[0;34m.\u001B[0m\u001B[0mitems\u001B[0m\u001B[0;34m(\u001B[0m\u001B[0;34m)\u001B[0m\u001B[0;34m:\u001B[0m\u001B[0;34m\u001B[0m\u001B[0;34m\u001B[0m\u001B[0m\n\u001B[0;32m---> 98\u001B[0;31m         if (repr(v) != repr(init_params[k]) and\n\u001B[0m\u001B[1;32m     99\u001B[0m                 not (is_scalar_nan(init_params[k]) and is_scalar_nan(v))):\n\u001B[1;32m    100\u001B[0m             \u001B[0mfiltered_params\u001B[0m\u001B[0;34m[\u001B[0m\u001B[0mk\u001B[0m\u001B[0;34m]\u001B[0m \u001B[0;34m=\u001B[0m \u001B[0mv\u001B[0m\u001B[0;34m\u001B[0m\u001B[0;34m\u001B[0m\u001B[0m\n",
      "\u001B[0;31mKeyError\u001B[0m: 'base_score'"
     ]
    },
    {
     "ename": "KeyError",
     "evalue": "'base_score'",
     "output_type": "error",
     "traceback": [
      "\u001B[0;31m---------------------------------------------------------------------------\u001B[0m",
      "\u001B[0;31mKeyError\u001B[0m                                  Traceback (most recent call last)",
      "\u001B[0;32m/opt/conda/lib/python3.7/site-packages/IPython/core/formatters.py\u001B[0m in \u001B[0;36m__call__\u001B[0;34m(self, obj)\u001B[0m\n\u001B[1;32m    700\u001B[0m                 \u001B[0mtype_pprinters\u001B[0m\u001B[0;34m=\u001B[0m\u001B[0mself\u001B[0m\u001B[0;34m.\u001B[0m\u001B[0mtype_printers\u001B[0m\u001B[0;34m,\u001B[0m\u001B[0;34m\u001B[0m\u001B[0;34m\u001B[0m\u001B[0m\n\u001B[1;32m    701\u001B[0m                 deferred_pprinters=self.deferred_printers)\n\u001B[0;32m--> 702\u001B[0;31m             \u001B[0mprinter\u001B[0m\u001B[0;34m.\u001B[0m\u001B[0mpretty\u001B[0m\u001B[0;34m(\u001B[0m\u001B[0mobj\u001B[0m\u001B[0;34m)\u001B[0m\u001B[0;34m\u001B[0m\u001B[0;34m\u001B[0m\u001B[0m\n\u001B[0m\u001B[1;32m    703\u001B[0m             \u001B[0mprinter\u001B[0m\u001B[0;34m.\u001B[0m\u001B[0mflush\u001B[0m\u001B[0;34m(\u001B[0m\u001B[0;34m)\u001B[0m\u001B[0;34m\u001B[0m\u001B[0;34m\u001B[0m\u001B[0m\n\u001B[1;32m    704\u001B[0m             \u001B[0;32mreturn\u001B[0m \u001B[0mstream\u001B[0m\u001B[0;34m.\u001B[0m\u001B[0mgetvalue\u001B[0m\u001B[0;34m(\u001B[0m\u001B[0;34m)\u001B[0m\u001B[0;34m\u001B[0m\u001B[0;34m\u001B[0m\u001B[0m\n",
      "\u001B[0;32m/opt/conda/lib/python3.7/site-packages/IPython/lib/pretty.py\u001B[0m in \u001B[0;36mpretty\u001B[0;34m(self, obj)\u001B[0m\n\u001B[1;32m    392\u001B[0m                         \u001B[0;32mif\u001B[0m \u001B[0mcls\u001B[0m \u001B[0;32mis\u001B[0m \u001B[0;32mnot\u001B[0m \u001B[0mobject\u001B[0m\u001B[0;31m \u001B[0m\u001B[0;31m\\\u001B[0m\u001B[0;34m\u001B[0m\u001B[0;34m\u001B[0m\u001B[0m\n\u001B[1;32m    393\u001B[0m                                 \u001B[0;32mand\u001B[0m \u001B[0mcallable\u001B[0m\u001B[0;34m(\u001B[0m\u001B[0mcls\u001B[0m\u001B[0;34m.\u001B[0m\u001B[0m__dict__\u001B[0m\u001B[0;34m.\u001B[0m\u001B[0mget\u001B[0m\u001B[0;34m(\u001B[0m\u001B[0;34m'__repr__'\u001B[0m\u001B[0;34m)\u001B[0m\u001B[0;34m)\u001B[0m\u001B[0;34m:\u001B[0m\u001B[0;34m\u001B[0m\u001B[0;34m\u001B[0m\u001B[0m\n\u001B[0;32m--> 394\u001B[0;31m                             \u001B[0;32mreturn\u001B[0m \u001B[0m_repr_pprint\u001B[0m\u001B[0;34m(\u001B[0m\u001B[0mobj\u001B[0m\u001B[0;34m,\u001B[0m \u001B[0mself\u001B[0m\u001B[0;34m,\u001B[0m \u001B[0mcycle\u001B[0m\u001B[0;34m)\u001B[0m\u001B[0;34m\u001B[0m\u001B[0;34m\u001B[0m\u001B[0m\n\u001B[0m\u001B[1;32m    395\u001B[0m \u001B[0;34m\u001B[0m\u001B[0m\n\u001B[1;32m    396\u001B[0m             \u001B[0;32mreturn\u001B[0m \u001B[0m_default_pprint\u001B[0m\u001B[0;34m(\u001B[0m\u001B[0mobj\u001B[0m\u001B[0;34m,\u001B[0m \u001B[0mself\u001B[0m\u001B[0;34m,\u001B[0m \u001B[0mcycle\u001B[0m\u001B[0;34m)\u001B[0m\u001B[0;34m\u001B[0m\u001B[0;34m\u001B[0m\u001B[0m\n",
      "\u001B[0;32m/opt/conda/lib/python3.7/site-packages/IPython/lib/pretty.py\u001B[0m in \u001B[0;36m_repr_pprint\u001B[0;34m(obj, p, cycle)\u001B[0m\n\u001B[1;32m    698\u001B[0m     \u001B[0;34m\"\"\"A pprint that just redirects to the normal repr function.\"\"\"\u001B[0m\u001B[0;34m\u001B[0m\u001B[0;34m\u001B[0m\u001B[0m\n\u001B[1;32m    699\u001B[0m     \u001B[0;31m# Find newlines and replace them with p.break_()\u001B[0m\u001B[0;34m\u001B[0m\u001B[0;34m\u001B[0m\u001B[0;34m\u001B[0m\u001B[0m\n\u001B[0;32m--> 700\u001B[0;31m     \u001B[0moutput\u001B[0m \u001B[0;34m=\u001B[0m \u001B[0mrepr\u001B[0m\u001B[0;34m(\u001B[0m\u001B[0mobj\u001B[0m\u001B[0;34m)\u001B[0m\u001B[0;34m\u001B[0m\u001B[0;34m\u001B[0m\u001B[0m\n\u001B[0m\u001B[1;32m    701\u001B[0m     \u001B[0mlines\u001B[0m \u001B[0;34m=\u001B[0m \u001B[0moutput\u001B[0m\u001B[0;34m.\u001B[0m\u001B[0msplitlines\u001B[0m\u001B[0;34m(\u001B[0m\u001B[0;34m)\u001B[0m\u001B[0;34m\u001B[0m\u001B[0;34m\u001B[0m\u001B[0m\n\u001B[1;32m    702\u001B[0m     \u001B[0;32mwith\u001B[0m \u001B[0mp\u001B[0m\u001B[0;34m.\u001B[0m\u001B[0mgroup\u001B[0m\u001B[0;34m(\u001B[0m\u001B[0;34m)\u001B[0m\u001B[0;34m:\u001B[0m\u001B[0;34m\u001B[0m\u001B[0;34m\u001B[0m\u001B[0m\n",
      "\u001B[0;32m/opt/conda/lib/python3.7/site-packages/sklearn/base.py\u001B[0m in \u001B[0;36m__repr__\u001B[0;34m(self, N_CHAR_MAX)\u001B[0m\n\u001B[1;32m    277\u001B[0m             n_max_elements_to_show=N_MAX_ELEMENTS_TO_SHOW)\n\u001B[1;32m    278\u001B[0m \u001B[0;34m\u001B[0m\u001B[0m\n\u001B[0;32m--> 279\u001B[0;31m         \u001B[0mrepr_\u001B[0m \u001B[0;34m=\u001B[0m \u001B[0mpp\u001B[0m\u001B[0;34m.\u001B[0m\u001B[0mpformat\u001B[0m\u001B[0;34m(\u001B[0m\u001B[0mself\u001B[0m\u001B[0;34m)\u001B[0m\u001B[0;34m\u001B[0m\u001B[0;34m\u001B[0m\u001B[0m\n\u001B[0m\u001B[1;32m    280\u001B[0m \u001B[0;34m\u001B[0m\u001B[0m\n\u001B[1;32m    281\u001B[0m         \u001B[0;31m# Use bruteforce ellipsis when there are a lot of non-blank characters\u001B[0m\u001B[0;34m\u001B[0m\u001B[0;34m\u001B[0m\u001B[0;34m\u001B[0m\u001B[0m\n",
      "\u001B[0;32m/opt/conda/lib/python3.7/pprint.py\u001B[0m in \u001B[0;36mpformat\u001B[0;34m(self, object)\u001B[0m\n\u001B[1;32m    142\u001B[0m     \u001B[0;32mdef\u001B[0m \u001B[0mpformat\u001B[0m\u001B[0;34m(\u001B[0m\u001B[0mself\u001B[0m\u001B[0;34m,\u001B[0m \u001B[0mobject\u001B[0m\u001B[0;34m)\u001B[0m\u001B[0;34m:\u001B[0m\u001B[0;34m\u001B[0m\u001B[0;34m\u001B[0m\u001B[0m\n\u001B[1;32m    143\u001B[0m         \u001B[0msio\u001B[0m \u001B[0;34m=\u001B[0m \u001B[0m_StringIO\u001B[0m\u001B[0;34m(\u001B[0m\u001B[0;34m)\u001B[0m\u001B[0;34m\u001B[0m\u001B[0;34m\u001B[0m\u001B[0m\n\u001B[0;32m--> 144\u001B[0;31m         \u001B[0mself\u001B[0m\u001B[0;34m.\u001B[0m\u001B[0m_format\u001B[0m\u001B[0;34m(\u001B[0m\u001B[0mobject\u001B[0m\u001B[0;34m,\u001B[0m \u001B[0msio\u001B[0m\u001B[0;34m,\u001B[0m \u001B[0;36m0\u001B[0m\u001B[0;34m,\u001B[0m \u001B[0;36m0\u001B[0m\u001B[0;34m,\u001B[0m \u001B[0;34m{\u001B[0m\u001B[0;34m}\u001B[0m\u001B[0;34m,\u001B[0m \u001B[0;36m0\u001B[0m\u001B[0;34m)\u001B[0m\u001B[0;34m\u001B[0m\u001B[0;34m\u001B[0m\u001B[0m\n\u001B[0m\u001B[1;32m    145\u001B[0m         \u001B[0;32mreturn\u001B[0m \u001B[0msio\u001B[0m\u001B[0;34m.\u001B[0m\u001B[0mgetvalue\u001B[0m\u001B[0;34m(\u001B[0m\u001B[0;34m)\u001B[0m\u001B[0;34m\u001B[0m\u001B[0;34m\u001B[0m\u001B[0m\n\u001B[1;32m    146\u001B[0m \u001B[0;34m\u001B[0m\u001B[0m\n",
      "\u001B[0;32m/opt/conda/lib/python3.7/pprint.py\u001B[0m in \u001B[0;36m_format\u001B[0;34m(self, object, stream, indent, allowance, context, level)\u001B[0m\n\u001B[1;32m    159\u001B[0m             \u001B[0mself\u001B[0m\u001B[0;34m.\u001B[0m\u001B[0m_readable\u001B[0m \u001B[0;34m=\u001B[0m \u001B[0;32mFalse\u001B[0m\u001B[0;34m\u001B[0m\u001B[0;34m\u001B[0m\u001B[0m\n\u001B[1;32m    160\u001B[0m             \u001B[0;32mreturn\u001B[0m\u001B[0;34m\u001B[0m\u001B[0;34m\u001B[0m\u001B[0m\n\u001B[0;32m--> 161\u001B[0;31m         \u001B[0mrep\u001B[0m \u001B[0;34m=\u001B[0m \u001B[0mself\u001B[0m\u001B[0;34m.\u001B[0m\u001B[0m_repr\u001B[0m\u001B[0;34m(\u001B[0m\u001B[0mobject\u001B[0m\u001B[0;34m,\u001B[0m \u001B[0mcontext\u001B[0m\u001B[0;34m,\u001B[0m \u001B[0mlevel\u001B[0m\u001B[0;34m)\u001B[0m\u001B[0;34m\u001B[0m\u001B[0;34m\u001B[0m\u001B[0m\n\u001B[0m\u001B[1;32m    162\u001B[0m         \u001B[0mmax_width\u001B[0m \u001B[0;34m=\u001B[0m \u001B[0mself\u001B[0m\u001B[0;34m.\u001B[0m\u001B[0m_width\u001B[0m \u001B[0;34m-\u001B[0m \u001B[0mindent\u001B[0m \u001B[0;34m-\u001B[0m \u001B[0mallowance\u001B[0m\u001B[0;34m\u001B[0m\u001B[0;34m\u001B[0m\u001B[0m\n\u001B[1;32m    163\u001B[0m         \u001B[0;32mif\u001B[0m \u001B[0mlen\u001B[0m\u001B[0;34m(\u001B[0m\u001B[0mrep\u001B[0m\u001B[0;34m)\u001B[0m \u001B[0;34m>\u001B[0m \u001B[0mmax_width\u001B[0m\u001B[0;34m:\u001B[0m\u001B[0;34m\u001B[0m\u001B[0;34m\u001B[0m\u001B[0m\n",
      "\u001B[0;32m/opt/conda/lib/python3.7/pprint.py\u001B[0m in \u001B[0;36m_repr\u001B[0;34m(self, object, context, level)\u001B[0m\n\u001B[1;32m    391\u001B[0m     \u001B[0;32mdef\u001B[0m \u001B[0m_repr\u001B[0m\u001B[0;34m(\u001B[0m\u001B[0mself\u001B[0m\u001B[0;34m,\u001B[0m \u001B[0mobject\u001B[0m\u001B[0;34m,\u001B[0m \u001B[0mcontext\u001B[0m\u001B[0;34m,\u001B[0m \u001B[0mlevel\u001B[0m\u001B[0;34m)\u001B[0m\u001B[0;34m:\u001B[0m\u001B[0;34m\u001B[0m\u001B[0;34m\u001B[0m\u001B[0m\n\u001B[1;32m    392\u001B[0m         repr, readable, recursive = self.format(object, context.copy(),\n\u001B[0;32m--> 393\u001B[0;31m                                                 self._depth, level)\n\u001B[0m\u001B[1;32m    394\u001B[0m         \u001B[0;32mif\u001B[0m \u001B[0;32mnot\u001B[0m \u001B[0mreadable\u001B[0m\u001B[0;34m:\u001B[0m\u001B[0;34m\u001B[0m\u001B[0;34m\u001B[0m\u001B[0m\n\u001B[1;32m    395\u001B[0m             \u001B[0mself\u001B[0m\u001B[0;34m.\u001B[0m\u001B[0m_readable\u001B[0m \u001B[0;34m=\u001B[0m \u001B[0;32mFalse\u001B[0m\u001B[0;34m\u001B[0m\u001B[0;34m\u001B[0m\u001B[0m\n",
      "\u001B[0;32m/opt/conda/lib/python3.7/site-packages/sklearn/utils/_pprint.py\u001B[0m in \u001B[0;36mformat\u001B[0;34m(self, object, context, maxlevels, level)\u001B[0m\n\u001B[1;32m    168\u001B[0m     \u001B[0;32mdef\u001B[0m \u001B[0mformat\u001B[0m\u001B[0;34m(\u001B[0m\u001B[0mself\u001B[0m\u001B[0;34m,\u001B[0m \u001B[0mobject\u001B[0m\u001B[0;34m,\u001B[0m \u001B[0mcontext\u001B[0m\u001B[0;34m,\u001B[0m \u001B[0mmaxlevels\u001B[0m\u001B[0;34m,\u001B[0m \u001B[0mlevel\u001B[0m\u001B[0;34m)\u001B[0m\u001B[0;34m:\u001B[0m\u001B[0;34m\u001B[0m\u001B[0;34m\u001B[0m\u001B[0m\n\u001B[1;32m    169\u001B[0m         return _safe_repr(object, context, maxlevels, level,\n\u001B[0;32m--> 170\u001B[0;31m                           changed_only=self._changed_only)\n\u001B[0m\u001B[1;32m    171\u001B[0m \u001B[0;34m\u001B[0m\u001B[0m\n\u001B[1;32m    172\u001B[0m     def _pprint_estimator(self, object, stream, indent, allowance, context,\n",
      "\u001B[0;32m/opt/conda/lib/python3.7/site-packages/sklearn/utils/_pprint.py\u001B[0m in \u001B[0;36m_safe_repr\u001B[0;34m(object, context, maxlevels, level, changed_only)\u001B[0m\n\u001B[1;32m    412\u001B[0m         \u001B[0mrecursive\u001B[0m \u001B[0;34m=\u001B[0m \u001B[0;32mFalse\u001B[0m\u001B[0;34m\u001B[0m\u001B[0;34m\u001B[0m\u001B[0m\n\u001B[1;32m    413\u001B[0m         \u001B[0;32mif\u001B[0m \u001B[0mchanged_only\u001B[0m\u001B[0;34m:\u001B[0m\u001B[0;34m\u001B[0m\u001B[0;34m\u001B[0m\u001B[0m\n\u001B[0;32m--> 414\u001B[0;31m             \u001B[0mparams\u001B[0m \u001B[0;34m=\u001B[0m \u001B[0m_changed_params\u001B[0m\u001B[0;34m(\u001B[0m\u001B[0mobject\u001B[0m\u001B[0;34m)\u001B[0m\u001B[0;34m\u001B[0m\u001B[0;34m\u001B[0m\u001B[0m\n\u001B[0m\u001B[1;32m    415\u001B[0m         \u001B[0;32melse\u001B[0m\u001B[0;34m:\u001B[0m\u001B[0;34m\u001B[0m\u001B[0;34m\u001B[0m\u001B[0m\n\u001B[1;32m    416\u001B[0m             \u001B[0mparams\u001B[0m \u001B[0;34m=\u001B[0m \u001B[0mobject\u001B[0m\u001B[0;34m.\u001B[0m\u001B[0mget_params\u001B[0m\u001B[0;34m(\u001B[0m\u001B[0mdeep\u001B[0m\u001B[0;34m=\u001B[0m\u001B[0;32mFalse\u001B[0m\u001B[0;34m)\u001B[0m\u001B[0;34m\u001B[0m\u001B[0;34m\u001B[0m\u001B[0m\n",
      "\u001B[0;32m/opt/conda/lib/python3.7/site-packages/sklearn/utils/_pprint.py\u001B[0m in \u001B[0;36m_changed_params\u001B[0;34m(estimator)\u001B[0m\n\u001B[1;32m     96\u001B[0m     \u001B[0minit_params\u001B[0m \u001B[0;34m=\u001B[0m \u001B[0;34m{\u001B[0m\u001B[0mname\u001B[0m\u001B[0;34m:\u001B[0m \u001B[0mparam\u001B[0m\u001B[0;34m.\u001B[0m\u001B[0mdefault\u001B[0m \u001B[0;32mfor\u001B[0m \u001B[0mname\u001B[0m\u001B[0;34m,\u001B[0m \u001B[0mparam\u001B[0m \u001B[0;32min\u001B[0m \u001B[0minit_params\u001B[0m\u001B[0;34m.\u001B[0m\u001B[0mitems\u001B[0m\u001B[0;34m(\u001B[0m\u001B[0;34m)\u001B[0m\u001B[0;34m}\u001B[0m\u001B[0;34m\u001B[0m\u001B[0;34m\u001B[0m\u001B[0m\n\u001B[1;32m     97\u001B[0m     \u001B[0;32mfor\u001B[0m \u001B[0mk\u001B[0m\u001B[0;34m,\u001B[0m \u001B[0mv\u001B[0m \u001B[0;32min\u001B[0m \u001B[0mparams\u001B[0m\u001B[0;34m.\u001B[0m\u001B[0mitems\u001B[0m\u001B[0;34m(\u001B[0m\u001B[0;34m)\u001B[0m\u001B[0;34m:\u001B[0m\u001B[0;34m\u001B[0m\u001B[0;34m\u001B[0m\u001B[0m\n\u001B[0;32m---> 98\u001B[0;31m         if (repr(v) != repr(init_params[k]) and\n\u001B[0m\u001B[1;32m     99\u001B[0m                 not (is_scalar_nan(init_params[k]) and is_scalar_nan(v))):\n\u001B[1;32m    100\u001B[0m             \u001B[0mfiltered_params\u001B[0m\u001B[0;34m[\u001B[0m\u001B[0mk\u001B[0m\u001B[0;34m]\u001B[0m \u001B[0;34m=\u001B[0m \u001B[0mv\u001B[0m\u001B[0;34m\u001B[0m\u001B[0;34m\u001B[0m\u001B[0m\n",
      "\u001B[0;31mKeyError\u001B[0m: 'base_score'"
     ]
    }
   ],
   "source": [
    "xgboost"
   ],
   "metadata": {
    "collapsed": false,
    "pycharm": {
     "name": "#%%\n"
    }
   }
  },
  {
   "cell_type": "code",
   "execution_count": 104,
   "outputs": [],
   "source": [
    "# random_state는 모델초기화나 데이터셋 구성에 사용되는 랜덤 시드값입니다.\n",
    "#random_state=None    # 이게 초기값입니다. 아무것도 지정하지 않고 None을 넘겨주면 모델 내부에서 임의로 선택합니다.\n",
    "random_state=2020        # 하지만 우리는 이렇게 고정값을 세팅해 두겠습니다.\n",
    "\n",
    "gboost = GradientBoostingRegressor(random_state=random_state)\n",
    "xgboost = XGBRegressor(random_state=random_state)\n",
    "lightgbm = LGBMRegressor(random_state=random_state)\n",
    "rdforest = RandomForestRegressor(random_state=random_state)\n",
    "\n",
    "models = [gboost, xgboost, lightgbm, rdforest]"
   ],
   "metadata": {
    "collapsed": false,
    "pycharm": {
     "name": "#%%\n"
    }
   }
  },
  {
   "cell_type": "code",
   "execution_count": 47,
   "outputs": [
    {
     "data": {
      "text/plain": "'GradientBoostingRegressor'"
     },
     "execution_count": 47,
     "metadata": {},
     "output_type": "execute_result"
    }
   ],
   "source": [
    "gboost.__class__.__name__"
   ],
   "metadata": {
    "collapsed": false,
    "pycharm": {
     "name": "#%%\n"
    }
   }
  },
  {
   "cell_type": "code",
   "execution_count": null,
   "outputs": [],
   "source": [
    "def get_scores(models, train, y):\n",
    "    df = {}\n",
    "\n",
    "    for model in models:\n",
    "        model_name = model.__class__.__name__\n",
    "\n",
    "        X_train, X_test, y_train, y_test = train_test_split(train, y, random_state=random_state, test_size=0.2)\n",
    "        model.fit(X_train, y_train)\n",
    "        y_pred = model.predict(X_test)\n",
    "\n",
    "        df[model_name] = rmse(y_test, y_pred)\n",
    "        score_df = pd.DataFrame(df, index=['RMSE']).T.sort_values('RMSE', ascending=False)\n",
    "\n",
    "    return score_df"
   ],
   "metadata": {
    "collapsed": false,
    "pycharm": {
     "name": "#%%\n"
    }
   }
  },
  {
   "cell_type": "code",
   "execution_count": 50,
   "outputs": [
    {
     "data": {
      "text/plain": "                                    RMSE\nGradientBoostingRegressor  128360.196497\nRandomForestRegressor      125487.071025\nLGBMRegressor              111920.367359\nXGBRegressor               110318.669566",
      "text/html": "<div>\n<style scoped>\n    .dataframe tbody tr th:only-of-type {\n        vertical-align: middle;\n    }\n\n    .dataframe tbody tr th {\n        vertical-align: top;\n    }\n\n    .dataframe thead th {\n        text-align: right;\n    }\n</style>\n<table border=\"1\" class=\"dataframe\">\n  <thead>\n    <tr style=\"text-align: right;\">\n      <th></th>\n      <th>RMSE</th>\n    </tr>\n  </thead>\n  <tbody>\n    <tr>\n      <th>GradientBoostingRegressor</th>\n      <td>128360.196497</td>\n    </tr>\n    <tr>\n      <th>RandomForestRegressor</th>\n      <td>125487.071025</td>\n    </tr>\n    <tr>\n      <th>LGBMRegressor</th>\n      <td>111920.367359</td>\n    </tr>\n    <tr>\n      <th>XGBRegressor</th>\n      <td>110318.669566</td>\n    </tr>\n  </tbody>\n</table>\n</div>"
     },
     "execution_count": 50,
     "metadata": {},
     "output_type": "execute_result"
    }
   ],
   "source": [
    "get_scores(models, train, y)"
   ],
   "metadata": {
    "collapsed": false,
    "pycharm": {
     "name": "#%%\n"
    }
   }
  },
  {
   "cell_type": "code",
   "execution_count": 51,
   "outputs": [
    {
     "name": "stdout",
     "output_type": "stream",
     "text": [
      "얍💢\n"
     ]
    }
   ],
   "source": [
    "from sklearn.model_selection import GridSearchCV"
   ],
   "metadata": {
    "collapsed": false,
    "pycharm": {
     "name": "#%%\n"
    }
   }
  },
  {
   "cell_type": "code",
   "execution_count": 62,
   "outputs": [],
   "source": [
    "def my_GridSearch(model, train, y, param_grid, verbose=2, n_jobs=5):\n",
    "    grid_model = GridSearchCV(model, param_grid=param_grid, scoring='neg_mean_squared_error', \\\n",
    "                              cv=5, verbose=verbose, n_jobs=n_jobs)\n",
    "    grid_model.fit(train, y)\n",
    "    params = grid_model.cv_results_['params']\n",
    "    score = grid_model.cv_results_['mean_test_score']\n",
    "    results = pd.DataFrame(params)\n",
    "    results['score'] = score\n",
    "    results['RMSLE'] = np.sqrt(-1 * results['score'])\n",
    "    results = results.sort_values('RMSLE')\n",
    "\n",
    "    return results"
   ],
   "metadata": {
    "collapsed": false,
    "pycharm": {
     "name": "#%%\n"
    }
   }
  },
  {
   "cell_type": "code",
   "execution_count": 110,
   "outputs": [
    {
     "data": {
      "text/plain": "RandomForestRegressor(random_state=2020)"
     },
     "execution_count": 110,
     "metadata": {},
     "output_type": "execute_result"
    }
   ],
   "source": [
    "models[3]"
   ],
   "metadata": {
    "collapsed": false,
    "pycharm": {
     "name": "#%%\n"
    }
   }
  },
  {
   "cell_type": "code",
   "execution_count": 102,
   "outputs": [
    {
     "ename": "TypeError",
     "evalue": "estimator should be an estimator implementing 'fit' method, 'GradientBoostingRegressor' was passed",
     "output_type": "error",
     "traceback": [
      "\u001B[0;31m---------------------------------------------------------------------------\u001B[0m",
      "\u001B[0;31mTypeError\u001B[0m                                 Traceback (most recent call last)",
      "\u001B[0;32m<ipython-input-102-6315604cd01d>\u001B[0m in \u001B[0;36m<module>\u001B[0;34m\u001B[0m\n\u001B[1;32m      7\u001B[0m \u001B[0;32mfor\u001B[0m \u001B[0mmodel\u001B[0m \u001B[0;32min\u001B[0m \u001B[0mmodels\u001B[0m\u001B[0;34m:\u001B[0m\u001B[0;34m\u001B[0m\u001B[0;34m\u001B[0m\u001B[0m\n\u001B[1;32m      8\u001B[0m     \u001B[0mmodel_name\u001B[0m \u001B[0;34m=\u001B[0m \u001B[0mmodel\u001B[0m\u001B[0;34m.\u001B[0m\u001B[0m__class__\u001B[0m\u001B[0;34m.\u001B[0m\u001B[0m__name__\u001B[0m\u001B[0;34m\u001B[0m\u001B[0;34m\u001B[0m\u001B[0m\n\u001B[0;32m----> 9\u001B[0;31m     \u001B[0mmy_GridSearch\u001B[0m\u001B[0;34m(\u001B[0m\u001B[0mmodel_name\u001B[0m\u001B[0;34m,\u001B[0m \u001B[0mtrain\u001B[0m\u001B[0;34m,\u001B[0m \u001B[0my\u001B[0m\u001B[0;34m,\u001B[0m \u001B[0mparam_grid\u001B[0m\u001B[0;34m,\u001B[0m \u001B[0mverbose\u001B[0m\u001B[0;34m=\u001B[0m\u001B[0;36m2\u001B[0m\u001B[0;34m,\u001B[0m \u001B[0mn_jobs\u001B[0m\u001B[0;34m=\u001B[0m\u001B[0;36m5\u001B[0m\u001B[0;34m)\u001B[0m\u001B[0;34m\u001B[0m\u001B[0;34m\u001B[0m\u001B[0m\n\u001B[0m",
      "\u001B[0;32m<ipython-input-62-88583700919e>\u001B[0m in \u001B[0;36mmy_GridSearch\u001B[0;34m(model, train, y, param_grid, verbose, n_jobs)\u001B[0m\n\u001B[1;32m      5\u001B[0m \u001B[0;34m\u001B[0m\u001B[0m\n\u001B[1;32m      6\u001B[0m     \u001B[0;31m# 모델 fitting\u001B[0m\u001B[0;34m\u001B[0m\u001B[0;34m\u001B[0m\u001B[0;34m\u001B[0m\u001B[0m\n\u001B[0;32m----> 7\u001B[0;31m     \u001B[0mgrid_model\u001B[0m\u001B[0;34m.\u001B[0m\u001B[0mfit\u001B[0m\u001B[0;34m(\u001B[0m\u001B[0mtrain\u001B[0m\u001B[0;34m,\u001B[0m \u001B[0my\u001B[0m\u001B[0;34m)\u001B[0m\u001B[0;34m\u001B[0m\u001B[0;34m\u001B[0m\u001B[0m\n\u001B[0m\u001B[1;32m      8\u001B[0m \u001B[0;34m\u001B[0m\u001B[0m\n\u001B[1;32m      9\u001B[0m     \u001B[0;31m# 결과값 저장\u001B[0m\u001B[0;34m\u001B[0m\u001B[0;34m\u001B[0m\u001B[0;34m\u001B[0m\u001B[0m\n",
      "\u001B[0;32m/opt/conda/lib/python3.7/site-packages/sklearn/utils/validation.py\u001B[0m in \u001B[0;36minner_f\u001B[0;34m(*args, **kwargs)\u001B[0m\n\u001B[1;32m     71\u001B[0m                           FutureWarning)\n\u001B[1;32m     72\u001B[0m         \u001B[0mkwargs\u001B[0m\u001B[0;34m.\u001B[0m\u001B[0mupdate\u001B[0m\u001B[0;34m(\u001B[0m\u001B[0;34m{\u001B[0m\u001B[0mk\u001B[0m\u001B[0;34m:\u001B[0m \u001B[0marg\u001B[0m \u001B[0;32mfor\u001B[0m \u001B[0mk\u001B[0m\u001B[0;34m,\u001B[0m \u001B[0marg\u001B[0m \u001B[0;32min\u001B[0m \u001B[0mzip\u001B[0m\u001B[0;34m(\u001B[0m\u001B[0msig\u001B[0m\u001B[0;34m.\u001B[0m\u001B[0mparameters\u001B[0m\u001B[0;34m,\u001B[0m \u001B[0margs\u001B[0m\u001B[0;34m)\u001B[0m\u001B[0;34m}\u001B[0m\u001B[0;34m)\u001B[0m\u001B[0;34m\u001B[0m\u001B[0;34m\u001B[0m\u001B[0m\n\u001B[0;32m---> 73\u001B[0;31m         \u001B[0;32mreturn\u001B[0m \u001B[0mf\u001B[0m\u001B[0;34m(\u001B[0m\u001B[0;34m**\u001B[0m\u001B[0mkwargs\u001B[0m\u001B[0;34m)\u001B[0m\u001B[0;34m\u001B[0m\u001B[0;34m\u001B[0m\u001B[0m\n\u001B[0m\u001B[1;32m     74\u001B[0m     \u001B[0;32mreturn\u001B[0m \u001B[0minner_f\u001B[0m\u001B[0;34m\u001B[0m\u001B[0;34m\u001B[0m\u001B[0m\n\u001B[1;32m     75\u001B[0m \u001B[0;34m\u001B[0m\u001B[0m\n",
      "\u001B[0;32m/opt/conda/lib/python3.7/site-packages/sklearn/model_selection/_search.py\u001B[0m in \u001B[0;36mfit\u001B[0;34m(self, X, y, groups, **fit_params)\u001B[0m\n\u001B[1;32m    653\u001B[0m \u001B[0;34m\u001B[0m\u001B[0m\n\u001B[1;32m    654\u001B[0m         scorers, self.multimetric_ = _check_multimetric_scoring(\n\u001B[0;32m--> 655\u001B[0;31m             self.estimator, scoring=self.scoring)\n\u001B[0m\u001B[1;32m    656\u001B[0m \u001B[0;34m\u001B[0m\u001B[0m\n\u001B[1;32m    657\u001B[0m         \u001B[0;32mif\u001B[0m \u001B[0mself\u001B[0m\u001B[0;34m.\u001B[0m\u001B[0mmultimetric_\u001B[0m\u001B[0;34m:\u001B[0m\u001B[0;34m\u001B[0m\u001B[0;34m\u001B[0m\u001B[0m\n",
      "\u001B[0;32m/opt/conda/lib/python3.7/site-packages/sklearn/metrics/_scorer.py\u001B[0m in \u001B[0;36m_check_multimetric_scoring\u001B[0;34m(estimator, scoring)\u001B[0m\n\u001B[1;32m    473\u001B[0m     if callable(scoring) or scoring is None or isinstance(scoring,\n\u001B[1;32m    474\u001B[0m                                                           str):\n\u001B[0;32m--> 475\u001B[0;31m         \u001B[0mscorers\u001B[0m \u001B[0;34m=\u001B[0m \u001B[0;34m{\u001B[0m\u001B[0;34m\"score\"\u001B[0m\u001B[0;34m:\u001B[0m \u001B[0mcheck_scoring\u001B[0m\u001B[0;34m(\u001B[0m\u001B[0mestimator\u001B[0m\u001B[0;34m,\u001B[0m \u001B[0mscoring\u001B[0m\u001B[0;34m=\u001B[0m\u001B[0mscoring\u001B[0m\u001B[0;34m)\u001B[0m\u001B[0;34m}\u001B[0m\u001B[0;34m\u001B[0m\u001B[0;34m\u001B[0m\u001B[0m\n\u001B[0m\u001B[1;32m    476\u001B[0m         \u001B[0;32mreturn\u001B[0m \u001B[0mscorers\u001B[0m\u001B[0;34m,\u001B[0m \u001B[0;32mFalse\u001B[0m\u001B[0;34m\u001B[0m\u001B[0;34m\u001B[0m\u001B[0m\n\u001B[1;32m    477\u001B[0m     \u001B[0;32melse\u001B[0m\u001B[0;34m:\u001B[0m\u001B[0;34m\u001B[0m\u001B[0;34m\u001B[0m\u001B[0m\n",
      "\u001B[0;32m/opt/conda/lib/python3.7/site-packages/sklearn/utils/validation.py\u001B[0m in \u001B[0;36minner_f\u001B[0;34m(*args, **kwargs)\u001B[0m\n\u001B[1;32m     71\u001B[0m                           FutureWarning)\n\u001B[1;32m     72\u001B[0m         \u001B[0mkwargs\u001B[0m\u001B[0;34m.\u001B[0m\u001B[0mupdate\u001B[0m\u001B[0;34m(\u001B[0m\u001B[0;34m{\u001B[0m\u001B[0mk\u001B[0m\u001B[0;34m:\u001B[0m \u001B[0marg\u001B[0m \u001B[0;32mfor\u001B[0m \u001B[0mk\u001B[0m\u001B[0;34m,\u001B[0m \u001B[0marg\u001B[0m \u001B[0;32min\u001B[0m \u001B[0mzip\u001B[0m\u001B[0;34m(\u001B[0m\u001B[0msig\u001B[0m\u001B[0;34m.\u001B[0m\u001B[0mparameters\u001B[0m\u001B[0;34m,\u001B[0m \u001B[0margs\u001B[0m\u001B[0;34m)\u001B[0m\u001B[0;34m}\u001B[0m\u001B[0;34m)\u001B[0m\u001B[0;34m\u001B[0m\u001B[0;34m\u001B[0m\u001B[0m\n\u001B[0;32m---> 73\u001B[0;31m         \u001B[0;32mreturn\u001B[0m \u001B[0mf\u001B[0m\u001B[0;34m(\u001B[0m\u001B[0;34m**\u001B[0m\u001B[0mkwargs\u001B[0m\u001B[0;34m)\u001B[0m\u001B[0;34m\u001B[0m\u001B[0;34m\u001B[0m\u001B[0m\n\u001B[0m\u001B[1;32m     74\u001B[0m     \u001B[0;32mreturn\u001B[0m \u001B[0minner_f\u001B[0m\u001B[0;34m\u001B[0m\u001B[0;34m\u001B[0m\u001B[0m\n\u001B[1;32m     75\u001B[0m \u001B[0;34m\u001B[0m\u001B[0m\n",
      "\u001B[0;32m/opt/conda/lib/python3.7/site-packages/sklearn/metrics/_scorer.py\u001B[0m in \u001B[0;36mcheck_scoring\u001B[0;34m(estimator, scoring, allow_none)\u001B[0m\n\u001B[1;32m    401\u001B[0m     \u001B[0;32mif\u001B[0m \u001B[0;32mnot\u001B[0m \u001B[0mhasattr\u001B[0m\u001B[0;34m(\u001B[0m\u001B[0mestimator\u001B[0m\u001B[0;34m,\u001B[0m \u001B[0;34m'fit'\u001B[0m\u001B[0;34m)\u001B[0m\u001B[0;34m:\u001B[0m\u001B[0;34m\u001B[0m\u001B[0;34m\u001B[0m\u001B[0m\n\u001B[1;32m    402\u001B[0m         raise TypeError(\"estimator should be an estimator implementing \"\n\u001B[0;32m--> 403\u001B[0;31m                         \"'fit' method, %r was passed\" % estimator)\n\u001B[0m\u001B[1;32m    404\u001B[0m     \u001B[0;32mif\u001B[0m \u001B[0misinstance\u001B[0m\u001B[0;34m(\u001B[0m\u001B[0mscoring\u001B[0m\u001B[0;34m,\u001B[0m \u001B[0mstr\u001B[0m\u001B[0;34m)\u001B[0m\u001B[0;34m:\u001B[0m\u001B[0;34m\u001B[0m\u001B[0;34m\u001B[0m\u001B[0m\n\u001B[1;32m    405\u001B[0m         \u001B[0;32mreturn\u001B[0m \u001B[0mget_scorer\u001B[0m\u001B[0;34m(\u001B[0m\u001B[0mscoring\u001B[0m\u001B[0;34m)\u001B[0m\u001B[0;34m\u001B[0m\u001B[0;34m\u001B[0m\u001B[0m\n",
      "\u001B[0;31mTypeError\u001B[0m: estimator should be an estimator implementing 'fit' method, 'GradientBoostingRegressor' was passed"
     ]
    }
   ],
   "source": [
    "param_grid = {\n",
    "    'max_depth': [1, 10, -1],\n",
    "    'learning_rate' : [0.0001, 0.001, 0.01, 0.1],\n",
    "    'n_estimators': [50, 60, 70, 80, 90, 100],\n",
    "}\n",
    "\n",
    "for model in models:\n",
    "    model_name = model.__class__.__name__\n",
    "    my_GridSearch(model_name, train, y, param_grid, verbose=2, n_jobs=5)"
   ],
   "metadata": {
    "collapsed": false,
    "pycharm": {
     "name": "#%%\n"
    }
   }
  },
  {
   "cell_type": "code",
   "execution_count": 82,
   "outputs": [],
   "source": [
    "def save_submission(model, train, y, test, model_name, rmsle=None):\n",
    "    model.fit(train, y)\n",
    "    prediction = model.predict(test)\n",
    "    prediction = np.expm1(prediction)\n",
    "    submission_path = join(PATH, 'sample_submission.csv')\n",
    "    submission = pd.read_csv(submission_path)\n",
    "    submission['price'] = prediction\n",
    "    submission_csv_path = '{}/submission_{}_RMSLE_{}.csv'.format(PATH, model_name, rmsle)\n",
    "    submission.to_csv(submission_csv_path, index=False)\n",
    "    print('{} saved!'.format(submission_csv_path))"
   ],
   "metadata": {
    "collapsed": false,
    "pycharm": {
     "name": "#%%\n"
    }
   }
  },
  {
   "cell_type": "code",
   "execution_count": 75,
   "outputs": [
    {
     "data": {
      "text/plain": "'/aiffel/aiffel/aiffel/explorations/06_kaggle/data'"
     },
     "execution_count": 75,
     "metadata": {},
     "output_type": "execute_result"
    }
   ],
   "source": [
    "PATH"
   ],
   "metadata": {
    "collapsed": false,
    "pycharm": {
     "name": "#%%\n"
    }
   }
  },
  {
   "cell_type": "code",
   "execution_count": 76,
   "outputs": [
    {
     "name": "stdout",
     "output_type": "stream",
     "text": [
      "[LightGBM] [Warning] Accuracy may be bad since you didn't explicitly set num_leaves OR 2^max_depth > num_leaves. (num_leaves=31).\n",
      "/aiffel/aiffel/aiffel/explorations/06_kaggle/data/submission_lgbm_RMSLE_0.0168.csv saved!\n"
     ]
    }
   ],
   "source": [
    "save_submission(model, train, y, test, 'lgbm', rmsle='0.0168')"
   ],
   "metadata": {
    "collapsed": false,
    "pycharm": {
     "name": "#%%\n"
    }
   }
  },
  {
   "cell_type": "code",
   "execution_count": null,
   "outputs": [],
   "source": [],
   "metadata": {
    "collapsed": false,
    "pycharm": {
     "name": "#%%\n"
    }
   }
  }
 ],
 "metadata": {
  "kernelspec": {
   "display_name": "Python 3",
   "language": "python",
   "name": "python3"
  },
  "language_info": {
   "codemirror_mode": {
    "name": "ipython",
    "version": 2
   },
   "file_extension": ".py",
   "mimetype": "text/x-python",
   "name": "python",
   "nbconvert_exporter": "python",
   "pygments_lexer": "ipython2",
   "version": "2.7.6"
  }
 },
 "nbformat": 4,
 "nbformat_minor": 0
}