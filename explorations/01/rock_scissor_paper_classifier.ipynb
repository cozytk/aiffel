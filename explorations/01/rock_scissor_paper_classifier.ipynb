{
 "cells": [
  {
   "cell_type": "code",
   "execution_count": 7,
   "id": "intensive-chosen",
   "metadata": {},
   "outputs": [
    {
     "name": "stdout",
     "output_type": "stream",
     "text": [
      "PIL 라이브러리 import 완료!\n"
     ]
    }
   ],
   "source": [
    "from PIL import Image\n",
    "from tensorflow import keras\n",
    "import os, glob\n",
    "\n",
    "print(\"PIL 라이브러리 import 완료!\")"
   ]
  },
  {
   "cell_type": "code",
   "execution_count": 8,
   "id": "defined-prototype",
   "metadata": {},
   "outputs": [
    {
     "name": "stdout",
     "output_type": "stream",
     "text": [
      "/aiffel/aiffel/aiffel/explorations/01/datasets/train/scissor\n",
      "100 images to be resized\n",
      "100  images resized\n",
      "/aiffel/aiffel/aiffel/explorations/01/datasets/train/paper\n",
      "100 images to be resized\n",
      "100  images resized\n",
      "/aiffel/aiffel/aiffel/explorations/01/datasets/train/rock\n",
      "100 images to be resized\n",
      "100  images resized\n",
      "/aiffel/aiffel/aiffel/explorations/01/datasets/test/scissor\n",
      "100 images to be resized\n",
      "100  images resized\n",
      "/aiffel/aiffel/aiffel/explorations/01/datasets/test/paper\n",
      "100 images to be resized\n",
      "100  images resized\n",
      "/aiffel/aiffel/aiffel/explorations/01/datasets/test/rock\n",
      "100 images to be resized\n",
      "100  images resized\n"
     ]
    }
   ],
   "source": [
    "PATH = os.getenv(\"HOME\") + \"/aiffel/aiffel/explorations/01/datasets/\"\n",
    "\n",
    "def resize_images(img_path):\n",
    "    images=glob.glob(img_path + \"/*.jpg\")\n",
    "    \n",
    "    print(img_path)\n",
    "    print(len(images), \"images to be resized\")\n",
    "    \n",
    "    target_size = (28, 28)\n",
    "    for img in images:\n",
    "        old_img = Image.open(img)\n",
    "        new_img = old_img.resize(target_size, Image.ANTIALIAS)\n",
    "        new_img.save(img, \"JPEG\")    \n",
    "    print(len(images), \" images resized\")\n",
    "    \n",
    "resize_images(PATH + \"train/scissor\")\n",
    "resize_images(PATH + \"train/paper\")\n",
    "resize_images(PATH + \"train/rock\")\n",
    "resize_images(PATH + \"test/scissor\")\n",
    "resize_images(PATH + \"test/paper\")\n",
    "resize_images(PATH + \"test/rock\")"
   ]
  },
  {
   "cell_type": "code",
   "execution_count": 9,
   "id": "numerical-garlic",
   "metadata": {},
   "outputs": [
    {
     "name": "stdout",
     "output_type": "stream",
     "text": [
      "학습데이터(x_train)의 이미지 개수는 300 입니다.\n",
      "학습데이터(x_train)의 이미지 개수는 300 입니다.\n",
      "x_train shape: (300, 28, 28, 3)\n",
      "y_train shape: (300,)\n",
      "x_test shape: (300, 28, 28, 3)\n",
      "y_test shape: (300,)\n"
     ]
    }
   ],
   "source": [
    "import numpy as np\n",
    "\n",
    "def load_data(img_path, number_of_data=300):  # 가위바위보 이미지 개수 총합에 주의하세요.\n",
    "    # 가위 : 0, 바위 : 1, 보 : 2\n",
    "    img_size=28\n",
    "    color=3\n",
    "    #이미지 데이터와 라벨(가위 : 0, 바위 : 1, 보 : 2) 데이터를 담을 행렬(matrix) 영역을 생성합니다.\n",
    "    imgs=np.zeros(number_of_data*img_size*img_size*color,dtype=np.int32).reshape(number_of_data,img_size,img_size,color)\n",
    "    labels=np.zeros(number_of_data,dtype=np.int32)\n",
    "\n",
    "    idx=0\n",
    "    for file in glob.iglob(img_path+'/scissor/*.jpg'):\n",
    "        img = np.array(Image.open(file),dtype=np.int32)\n",
    "        imgs[idx,:,:,:]=img    # 데이터 영역에 이미지 행렬을 복사\n",
    "        labels[idx]=0   # 가위 : 0\n",
    "        idx=idx+1\n",
    "\n",
    "    for file in glob.iglob(img_path+'/rock/*.jpg'):\n",
    "        img = np.array(Image.open(file),dtype=np.int32)\n",
    "        imgs[idx,:,:,:]=img    # 데이터 영역에 이미지 행렬을 복사\n",
    "        labels[idx]=1   # 바위 : 1\n",
    "        idx=idx+1  \n",
    "    \n",
    "    for file in glob.iglob(img_path+'/paper/*.jpg'):\n",
    "        img = np.array(Image.open(file),dtype=np.int32)\n",
    "        imgs[idx,:,:,:]=img    # 데이터 영역에 이미지 행렬을 복사\n",
    "        labels[idx]=2   # 보 : 2\n",
    "        idx=idx+1\n",
    "        \n",
    "    print(\"학습데이터(x_train)의 이미지 개수는\", idx,\"입니다.\")\n",
    "    return imgs, labels\n",
    "\n",
    "(x_train, y_train)=load_data(PATH + \"train\")\n",
    "x_train_norm = x_train/255.0   # 입력은 0~1 사이의 값으로 정규화\n",
    "(x_test, y_test)=load_data(PATH + \"test\")\n",
    "x_test_norm = x_test/255.0   # 입력은 0~1 사이의 값으로 정규화\n",
    "\n",
    "print(\"x_train shape: {}\".format(x_train.shape))\n",
    "print(\"y_train shape: {}\".format(y_train.shape))\n",
    "print(\"x_test shape: {}\".format(x_train.shape))\n",
    "print(\"y_test shape: {}\".format(y_train.shape))"
   ]
  },
  {
   "cell_type": "code",
   "execution_count": 13,
   "id": "formal-houston",
   "metadata": {},
   "outputs": [],
   "source": [
    "from keras.preprocessing.image import ImageDataGenerator, array_to_img, img_to_array, load_img\n",
    "\n",
    "datagen = ImageDataGenerator(\n",
    "    rotation_range=40,\n",
    "    width_shift_range=0.2,\n",
    "    height_shift_range=0.2,\n",
    "    rescale=1./255,\n",
    "    shear_range=0.2,\n",
    "    zoom_range=0.2,\n",
    "    horizontal_flip=True,\n",
    "    fill_mode='nearest')\n",
    "\n",
    "img = load_img(PATH + 'train/scissor/0.jpg')\n",
    "x = img_to_array(img)\n",
    "x = x.reshape((1,) + x.shape)\n",
    "\n",
    "i = 0\n",
    "for batch in datagen.flow(x, batch_size=1,\n",
    "                         save_to_dir= PATH + 'augm', save_prefix='rsp', save_format='jpeg'):\n",
    "    i+=1\n",
    "    if i > 20:\n",
    "        break"
   ]
  },
  {
   "cell_type": "code",
   "execution_count": 14,
   "id": "destroyed-glucose",
   "metadata": {},
   "outputs": [],
   "source": [
    "from IPython.display import Image"
   ]
  },
  {
   "cell_type": "code",
   "execution_count": 19,
   "id": "civilian-missouri",
   "metadata": {},
   "outputs": [
    {
     "data": {
      "image/jpeg": "[encoded data removed]",
      "text/plain": [
       "<IPython.core.display.Image object>"
      ]
     },
     "execution_count": 19,
     "metadata": {},
     "output_type": "execute_result"
    }
   ],
   "source": [
    "Image(PATH+'augm/rsp_0_1053.jpeg')\n",
    "Image(PATH+'augm/rsp_0_1438.jpeg')"
   ]
  },
  {
   "cell_type": "code",
   "execution_count": 383,
   "id": "artificial-america",
   "metadata": {},
   "outputs": [
    {
     "name": "stdout",
     "output_type": "stream",
     "text": [
      "Epoch 1/10\n",
      "10/10 [==============================] - 1s 7ms/step - loss: 1.1030 - accuracy: 0.3604\n",
      "Epoch 2/10\n",
      "10/10 [==============================] - 0s 6ms/step - loss: 1.1141 - accuracy: 0.3173\n",
      "Epoch 3/10\n",
      "10/10 [==============================] - 0s 6ms/step - loss: 1.0634 - accuracy: 0.4739\n",
      "Epoch 4/10\n",
      "10/10 [==============================] - 0s 7ms/step - loss: 0.9957 - accuracy: 0.6111\n",
      "Epoch 5/10\n",
      "10/10 [==============================] - 0s 7ms/step - loss: 0.8199 - accuracy: 0.6270\n",
      "Epoch 6/10\n",
      "10/10 [==============================] - 0s 7ms/step - loss: 0.5863 - accuracy: 0.7845\n",
      "Epoch 7/10\n",
      "10/10 [==============================] - 0s 7ms/step - loss: 0.4822 - accuracy: 0.8286\n",
      "Epoch 8/10\n",
      "10/10 [==============================] - 0s 7ms/step - loss: 0.2483 - accuracy: 0.9093\n",
      "Epoch 9/10\n",
      "10/10 [==============================] - 0s 6ms/step - loss: 0.1714 - accuracy: 0.9497\n",
      "Epoch 10/10\n",
      "10/10 [==============================] - 0s 7ms/step - loss: 0.1238 - accuracy: 0.9696\n"
     ]
    },
    {
     "data": {
      "text/plain": [
       "<tensorflow.python.keras.callbacks.History at 0x7f383825c0d0>"
      ]
     },
     "execution_count": 383,
     "metadata": {},
     "output_type": "execute_result"
    }
   ],
   "source": [
    "n_channel_1=64\n",
    "n_channel_2=128\n",
    "n_channel_3=128\n",
    "n_dense_1=256\n",
    "n_dense_2=256\n",
    "n_train_epoch=10\n",
    "\n",
    "model=keras.models.Sequential()\n",
    "'''\n",
    "model.add(keras.layers.experimental.preprocessing.RandomFlip(\"horizontal\", \n",
    "                                                 input_shape=(28, \n",
    "                                                              28,\n",
    "                                                              3)))\n",
    "'''\n",
    "#model.add(keras.layers.experimental.preprocessing.RandomRotation(0.1))\n",
    "#model.add(keras.layers.experimental.preprocessing.RandomZoom(0.1))\n",
    "#model.add(keras.layers.experimental.preprocessing.Rescaling(1./255))\n",
    "model.add(keras.layers.Conv2D(n_channel_1, (3,3), activation='relu', input_shape=(28,28,3)))\n",
    "model.add(keras.layers.MaxPool2D(2,2))\n",
    "model.add(keras.layers.Conv2D(n_channel_2, (3,3), activation='relu'))\n",
    "model.add(keras.layers.MaxPooling2D((2,2)))\n",
    "model.add(keras.layers.Dropout(0.3))\n",
    "model.add(keras.layers.Conv2D(n_channel_3, (3,3), activation='relu'))\n",
    "model.add(keras.layers.Flatten())\n",
    "#model.add(keras.layers.Dense(n_dense_1, activation='relu'))\n",
    "#model.add(keras.layers.Dropout(0.3))\n",
    "model.add(keras.layers.Dense(n_dense_2, activation='relu'))\n",
    "model.add(keras.layers.Dense(3, activation='softmax'))\n",
    "                                  \n",
    "model.compile(optimizer='adam',\n",
    "             loss='sparse_categorical_crossentropy',\n",
    "             metrics=['accuracy'])\n",
    "\n",
    "model.fit(x_train_norm, y_train, epochs=n_train_epoch)"
   ]
  },
  {
   "cell_type": "code",
   "execution_count": 384,
   "id": "expressed-fruit",
   "metadata": {},
   "outputs": [
    {
     "name": "stdout",
     "output_type": "stream",
     "text": [
      "10/10 - 0s - loss: 1.0328 - accuracy: 0.5433\n",
      "test_loss: 1.032807469367981 \n",
      "test_accuracy: 0.5433333516120911\n"
     ]
    }
   ],
   "source": [
    "test_loss, test_accuracy = model.evaluate(x_test_norm ,y_test, verbose=2)\n",
    "print(\"test_loss: {} \".format(test_loss))\n",
    "print(\"test_accuracy: {}\".format(test_accuracy))"
   ]
  },
  {
   "cell_type": "code",
   "execution_count": 6,
   "id": "minus-identifier",
   "metadata": {},
   "outputs": [
    {
     "name": "stdout",
     "output_type": "stream",
     "text": [
      "model.predict() 결과 :  [0.33547202 0.3340845  0.33044353]\n",
      "model이 추론한 가장 가능성이 높은 결과 :  0\n",
      "실제 데이터의 라벨 :  1\n"
     ]
    }
   ],
   "source": [
    "predicted_result = model.predict(x_test_norm)  # model이 추론한 확률값. \n",
    "predicted_labels = np.argmax(predicted_result, axis=1)\n",
    "\n",
    "idx=140  #1번째 x_test를 살펴보자. \n",
    "print('model.predict() 결과 : ', predicted_result[idx])\n",
    "print('model이 추론한 가장 가능성이 높은 결과 : ', predicted_labels[idx])\n",
    "print('실제 데이터의 라벨 : ', y_test[idx])"
   ]
  },
  {
   "cell_type": "code",
   "execution_count": 7,
   "id": "applied-universal",
   "metadata": {},
   "outputs": [],
   "source": [
    "import matplotlib.pyplot as plt"
   ]
  },
  {
   "cell_type": "code",
   "execution_count": 8,
   "id": "brave-bulgaria",
   "metadata": {},
   "outputs": [
    {
     "data": {
      "image/png": "[encoded data removed]",
      "text/plain": [
       "<Figure size 432x288 with 1 Axes>"
      ]
     },
     "metadata": {
      "needs_background": "light"
     },
     "output_type": "display_data"
    }
   ],
   "source": [
    "plt.imshow(x_test[idx],cmap=plt.cm.binary)\n",
    "plt.show()"
   ]
  },
  {
   "cell_type": "code",
   "execution_count": 9,
   "id": "italian-showcase",
   "metadata": {},
   "outputs": [
    {
     "name": "stdout",
     "output_type": "stream",
     "text": [
      "예측확률분포: [0.3354726  0.33408445 0.33044294]\n",
      "라벨: 1, 예측결과: 0\n"
     ]
    },
    {
     "data": {
      "image/png": "[encoded data removed]",
      "text/plain": [
       "<Figure size 432x288 with 1 Axes>"
      ]
     },
     "metadata": {
      "needs_background": "light"
     },
     "output_type": "display_data"
    },
    {
     "name": "stdout",
     "output_type": "stream",
     "text": [
      "예측확률분포: [0.3354721  0.33408493 0.33044294]\n",
      "라벨: 2, 예측결과: 0\n"
     ]
    },
    {
     "data": {
      "image/png": "[encoded data removed]",
      "text/plain": [
       "<Figure size 432x288 with 1 Axes>"
      ]
     },
     "metadata": {
      "needs_background": "light"
     },
     "output_type": "display_data"
    },
    {
     "name": "stdout",
     "output_type": "stream",
     "text": [
      "예측확률분포: [0.33547294 0.3340843  0.33044276]\n",
      "라벨: 1, 예측결과: 0\n"
     ]
    },
    {
     "data": {
      "image/png": "[encoded data removed]",
      "text/plain": [
       "<Figure size 432x288 with 1 Axes>"
      ]
     },
     "metadata": {
      "needs_background": "light"
     },
     "output_type": "display_data"
    },
    {
     "name": "stdout",
     "output_type": "stream",
     "text": [
      "예측확률분포: [0.3354721  0.33408484 0.33044308]\n",
      "라벨: 2, 예측결과: 0\n"
     ]
    },
    {
     "data": {
      "image/png": "[encoded data removed]",
      "text/plain": [
       "<Figure size 432x288 with 1 Axes>"
      ]
     },
     "metadata": {
      "needs_background": "light"
     },
     "output_type": "display_data"
    },
    {
     "name": "stdout",
     "output_type": "stream",
     "text": [
      "예측확률분포: [0.33547217 0.33408475 0.33044305]\n",
      "라벨: 2, 예측결과: 0\n"
     ]
    },
    {
     "data": {
      "image/png": "[encoded data removed]",
      "text/plain": [
       "<Figure size 432x288 with 1 Axes>"
      ]
     },
     "metadata": {
      "needs_background": "light"
     },
     "output_type": "display_data"
    }
   ],
   "source": [
    "import random\n",
    "wrong_predict_list=[]\n",
    "for i, _ in enumerate(predicted_labels):\n",
    "    # i번째 test_labels과 y_test이 다른 경우만 모아 봅시다. \n",
    "    if predicted_labels[i] != y_test[i]:\n",
    "        wrong_predict_list.append(i)\n",
    "\n",
    "# wrong_predict_list 에서 랜덤하게 5개만 뽑아봅시다.\n",
    "samples = random.choices(population=wrong_predict_list, k=5)\n",
    "\n",
    "for n in samples:\n",
    "    print(\"예측확률분포: \" + str(predicted_result[n]))\n",
    "    print(\"라벨: \" + str(y_test[n]) + \", 예측결과: \" + str(predicted_labels[n]))\n",
    "    plt.imshow(x_test[n], cmap=plt.cm.binary)\n",
    "    plt.show()"
   ]
  },
  {
   "cell_type": "markdown",
   "id": "successful-constitution",
   "metadata": {},
   "source": [
    "# 더 좋은 모델 만들기\n",
    "\n",
    "지금의 모델은 엉망 진창이다... 개선사항들을 적어보자\n",
    "\n",
    "1. 데이터셋을 다양한 사람들 것을 섞는다.\n",
    "2. 하이퍼파라미터를 조정해보자\n",
    "3. 이미지가 너무 불분명하다. resize가 잘못된건 아닌지 확인해보고, 28*28에서 더 늘려보자"
   ]
  },
  {
   "cell_type": "markdown",
   "id": "structural-horizontal",
   "metadata": {},
   "source": [
    "baseline_model = keras.Sequential([\n",
    "    # `.summary` 메서드 때문에 `input_shape`가 필요합니다\n",
    "    keras.layers.experimental.preprocessing.RandomFlip(\"horizontal\", \n",
    "                                                 input_shape=(28, \n",
    "                                                              28,\n",
    "                                                              3)),\n",
    "    keras.layers.experimental.preprocessing.RandomRotation(0.1),\n",
    "    keras.layers.experimental.preprocessing.RandomZoom(0.1),\n",
    "    keras.layers.experimental.preprocessing.Rescaling(1./255),\n",
    "    keras.layers.Conv2D(16, 3, padding='same', activation='relu'),\n",
    "    keras.layers.MaxPooling2D(),\n",
    "    keras.layers.Conv2D(32, 3, padding='same', activation='relu'),\n",
    "    keras.layers.MaxPooling2D(),\n",
    "    keras.layers.Conv2D(64, 3, padding='same', activation='relu'),\n",
    "    keras.layers.Dropout(0.2),\n",
    "    keras.layers.Flatten(),\n",
    "    keras.layers.Dense(128, activation='relu'),\n",
    "    keras.layers.Dense(3, activation='softmax')\n",
    "])\n",
    "\n",
    "baseline_model.compile(optimizer='adam',\n",
    "                       loss='sparse_categorical_crossentropy',\n",
    "                       metrics=['accuracy'])\n",
    "\n",
    "\n",
    "\n",
    "baseline_history = baseline_model.fit(x_train_norm, y_train, epochs=30,\n",
    "                                      batch_size=512,\n",
    "                                      #validation_data=(test_data, test_labels),\n",
    "                                      verbose=2)\n",
    "\n",
    "baseline_model.summary()\n"
   ]
  },
  {
   "cell_type": "markdown",
   "id": "express-sauce",
   "metadata": {},
   "source": [
    "smaller_model = keras.Sequential([\n",
    "    # `.summary` 메서드 때문에 `input_shape`가 필요합니다\n",
    "    keras.layers.Flatten(),\n",
    "    keras.layers.Dense(4, activation='relu', input_shape=(28,28,3)),\n",
    "    keras.layers.Dense(4, activation='relu'),\n",
    "    keras.layers.Dense(3, activation='softmax')\n",
    "])\n",
    "\n",
    "smaller_model.compile(optimizer='adam',\n",
    "                       loss='sparse_categorical_crossentropy',\n",
    "                       metrics=['accuracy'])\n",
    "\n",
    "#baseline_model.summary()\n",
    "\n",
    "\n",
    "smaller_history = baseline_model.fit(x_train_norm, y_train, epochs=30,\n",
    "                                      batch_size=512,\n",
    "                                      #validation_data=(test_data, test_labels),\n",
    "                                      verbose=2)"
   ]
  },
  {
   "cell_type": "markdown",
   "id": "clinical-unemployment",
   "metadata": {},
   "source": []
  },
  {
   "cell_type": "markdown",
   "id": "thorough-rwanda",
   "metadata": {},
   "source": [
    "bigger_model = keras.Sequential([\n",
    "    # `.summary` 메서드 때문에 `input_shape`가 필요합니다\n",
    "    keras.layers.Flatten(),\n",
    "    keras.layers.Dense(512, activation='relu', input_shape=(28,28,3)),\n",
    "    keras.layers.Dense(512, activation='relu'),\n",
    "    keras.layers.Dense(3, activation='softmax')\n",
    "])\n",
    "\n",
    "bigger_model.compile(optimizer='adam',\n",
    "                       loss='sparse_categorical_crossentropy',\n",
    "                       metrics=['accuracy'])\n",
    "\n",
    "#baseline_model.summary()\n",
    "\n",
    "\n",
    "bigger_history = baseline_model.fit(x_train_norm, y_train, epochs=30,\n",
    "                                      batch_size=512,\n",
    "                                      #validation_data=(test_data, test_labels),\n",
    "                                      verbose=2)"
   ]
  },
  {
   "cell_type": "markdown",
   "id": "floppy-afghanistan",
   "metadata": {},
   "source": [
    "def plot_history(histories, key='sparse_categorical_crossentropy'):\n",
    "  plt.figure(figsize=(16,10))\n",
    "\n",
    "  for name, history in histories:\n",
    "    val = plt.plot(history.epoch, history.history['val_'+key],\n",
    "                   '--', label=name.title()+' Val')\n",
    "    plt.plot(history.epoch, history.history[key], color=val[0].get_color(),\n",
    "             label=name.title()+' Train')\n",
    "\n",
    "  plt.xlabel('Epochs')\n",
    "  plt.ylabel(key.replace('_',' ').title())\n",
    "  plt.legend()\n",
    "\n",
    "  plt.xlim([0,max(history.epoch)])\n",
    "\n",
    "\n",
    "plot_history([('baseline', baseline_history),\n",
    "              ('smaller', smaller_history),\n",
    "              ('bigger', bigger_history)])\n"
   ]
  },
  {
   "cell_type": "markdown",
   "id": "sapphire-appeal",
   "metadata": {},
   "source": [
    "# 내가 생각한 성능 높이는 방법\n",
    "\n",
    "1. dataset 크기 늘리기\n",
    "2. train과 test 데이터 조건 비슷하게!\n",
    "    - train은 배경 없는 주먹 가위 보 데이터, test는 여러사람들걸로 구성해서 평가받아보자\n",
    "3. data augumentaion 기법 상용\n",
    "4. dropout과 L2규제 사용하기\n",
    "5. layer를 늘리기\n",
    "\n",
    "# 궁금증\n",
    "1. data augumentation 을 시도했을때 성능이 급격히 나빠지는 이슈가 생김\n",
    "2. dropout과 L2규제를 사용해서 오버피팅문제 해결하지 못함\n",
    "3. train, valid, test 다 다른 조건인게 좋나?"
   ]
  }
 ],
 "metadata": {
  "kernelspec": {
   "display_name": "Python 3",
   "language": "python",
   "name": "python3"
  },
  "language_info": {
   "codemirror_mode": {
    "name": "ipython",
    "version": 3
   },
   "file_extension": ".py",
   "mimetype": "text/x-python",
   "name": "python",
   "nbconvert_exporter": "python",
   "pygments_lexer": "ipython3",
   "version": "3.7.9"
  }
 },
 "nbformat": 4,
 "nbformat_minor": 5
}
