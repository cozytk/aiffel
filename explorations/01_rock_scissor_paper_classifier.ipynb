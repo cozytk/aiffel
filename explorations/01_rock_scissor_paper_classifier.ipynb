{
 "cells": [
  {
   "cell_type": "code",
   "execution_count": 301,
   "id": "challenging-hometown",
   "metadata": {},
   "outputs": [
    {
     "name": "stdout",
     "output_type": "stream",
     "text": [
      "PIL 라이브러리 import 완료!\n"
     ]
    }
   ],
   "source": [
    "from PIL import Image\n",
    "import tensorflow as tf\n",
    "from tensorflow import keras\n",
    "import os, glob\n",
    "import random\n",
    "\n",
    "random.seed(70)\n",
    "np.random.seed(70)\n",
    "tf.random.set_seed(70)\n",
    "\n",
    "print(\"PIL 라이브러리 import 완료!\")"
   ]
  },
  {
   "cell_type": "code",
   "execution_count": 302,
   "id": "genuine-crawford",
   "metadata": {},
   "outputs": [
    {
     "name": "stdout",
     "output_type": "stream",
     "text": [
      "/aiffel/aiffel/aiffel/explorations/01/datasets/large_train/scissor\n",
      "516 images to be resized\n",
      "516  images resized\n",
      "/aiffel/aiffel/aiffel/explorations/01/datasets/large_train/paper\n",
      "368 images to be resized\n",
      "368  images resized\n",
      "/aiffel/aiffel/aiffel/explorations/01/datasets/large_train/rock\n",
      "429 images to be resized\n",
      "429  images resized\n",
      "/aiffel/aiffel/aiffel/explorations/01/datasets/test/scissor\n",
      "100 images to be resized\n",
      "100  images resized\n",
      "/aiffel/aiffel/aiffel/explorations/01/datasets/test/paper\n",
      "100 images to be resized\n",
      "100  images resized\n",
      "/aiffel/aiffel/aiffel/explorations/01/datasets/test/rock\n",
      "100 images to be resized\n",
      "100  images resized\n"
     ]
    }
   ],
   "source": [
    "PATH = os.getenv(\"HOME\") + \"/aiffel/aiffel/explorations/01/datasets/\"\n",
    "\n",
    "def resize_images(img_path):\n",
    "    images=glob.glob(img_path + \"/*.jpg\")\n",
    "    \n",
    "    print(img_path)\n",
    "    print(len(images), \"images to be resized\")\n",
    "    \n",
    "    target_size = (28, 28)\n",
    "    for img in images:\n",
    "        old_img = Image.open(img)\n",
    "        new_img = old_img.resize(target_size, Image.ANTIALIAS)\n",
    "        new_img.save(img, \"JPEG\")    \n",
    "    print(len(images), \" images resized\")\n",
    "    \n",
    "resize_images(PATH + \"large_train/scissor\")\n",
    "resize_images(PATH + \"large_train/paper\")\n",
    "resize_images(PATH + \"large_train/rock\")\n",
    "resize_images(PATH + \"test/scissor\")\n",
    "resize_images(PATH + \"test/paper\")\n",
    "resize_images(PATH + \"test/rock\")"
   ]
  },
  {
   "cell_type": "code",
   "execution_count": 303,
   "id": "fancy-sleeping",
   "metadata": {},
   "outputs": [
    {
     "name": "stdout",
     "output_type": "stream",
     "text": [
      "516\n",
      "945\n",
      "학습데이터(x_train)의 이미지 개수는 1313 입니다.\n",
      "100\n",
      "200\n",
      "학습데이터(x_train)의 이미지 개수는 300 입니다.\n",
      "x_train shape: (1313, 28, 28, 3)\n",
      "y_train shape: (1313,)\n",
      "x_test shape: (300, 28, 28, 3)\n",
      "y_test shape: (300,)\n"
     ]
    }
   ],
   "source": [
    "import numpy as np\n",
    "\n",
    "def load_data(img_path, number_of_data=300):  # 가위바위보 이미지 개수 총합에 주의하세요.\n",
    "    # 가위 : 0, 바위 : 1, 보 : 2\n",
    "    img_size=28\n",
    "    color=3\n",
    "    #이미지 데이터와 라벨(가위 : 0, 바위 : 1, 보 : 2) 데이터를 담을 행렬(matrix) 영역을 생성합니다.\n",
    "    imgs=np.zeros(number_of_data*img_size*img_size*color,dtype=np.int32).reshape(number_of_data,img_size,img_size,color)\n",
    "    labels=np.zeros(number_of_data,dtype=np.int32)\n",
    "\n",
    "    idx=0\n",
    "    for file in glob.iglob(img_path+'/scissor/*.jpg'):\n",
    "        img = np.array(Image.open(file),dtype=np.int32)\n",
    "        imgs[idx,:,:,:]=img    # 데이터 영역에 이미지 행렬을 복사\n",
    "        labels[idx]=0   # 가위 : 0\n",
    "        idx=idx+1\n",
    "\n",
    "    print(idx)    \n",
    "        \n",
    "    for file in glob.iglob(img_path+'/rock/*.jpg'):\n",
    "        img = np.array(Image.open(file),dtype=np.int32)\n",
    "        imgs[idx,:,:,:]=img    # 데이터 영역에 이미지 행렬을 복사\n",
    "        labels[idx]=1   # 바위 : 1\n",
    "        idx=idx+1  \n",
    "\n",
    "    print(idx)    \n",
    "        \n",
    "    for file in glob.iglob(img_path+'/paper/*.jpg'):\n",
    "        img = np.array(Image.open(file),dtype=np.int32)\n",
    "        imgs[idx,:,:,:]=img    # 데이터 영역에 이미지 행렬을 복사\n",
    "        labels[idx]=2   # 보 : 2\n",
    "        idx=idx+1\n",
    "        \n",
    "    print(\"학습데이터(x_train)의 이미지 개수는\", idx,\"입니다.\")\n",
    "    return imgs, labels\n",
    "\n",
    "(x_train, y_train)=load_data(PATH + \"large_train\", 1313)\n",
    "x_train_norm = x_train/255.0   # 입력은 0~1 사이의 값으로 정규화\n",
    "(x_test, y_test)=load_data(PATH + \"test\")\n",
    "x_test_norm = x_test/255.0   # 입력은 0~1 사이의 값으로 정규화\n",
    "\n",
    "print(\"x_train shape: {}\".format(x_train.shape))\n",
    "print(\"y_train shape: {}\".format(y_train.shape))\n",
    "print(\"x_test shape: {}\".format(x_test.shape))\n",
    "print(\"y_test shape: {}\".format(y_test.shape))"
   ]
  },
  {
   "cell_type": "code",
   "execution_count": 87,
   "id": "spare-greensboro",
   "metadata": {},
   "outputs": [],
   "source": [
    "from keras.preprocessing.image import ImageDataGenerator, array_to_img, img_to_array, load_img\n",
    "\n",
    "datagen = ImageDataGenerator(\n",
    "    rotation_range=40,\n",
    "    width_shift_range=0.2,\n",
    "    height_shift_range=0.2,\n",
    "    rescale=1./255,\n",
    "    shear_range=0.2,\n",
    "    zoom_range=0.2,\n",
    "    horizontal_flip=True,\n",
    "    fill_mode='nearest')\n",
    "\n",
    "img = load_img(PATH + 'train/scissor/0.jpg')\n",
    "x = img_to_array(img)\n",
    "x = x.reshape((1,) + x.shape)\n",
    "\n",
    "i = 0\n",
    "for batch in datagen.flow(x, batch_size=1,\n",
    "                         save_to_dir= PATH + 'augm', save_prefix='rsp', save_format='jpeg'):\n",
    "    i+=1\n",
    "    if i > 20:\n",
    "        break"
   ]
  },
  {
   "cell_type": "code",
   "execution_count": 14,
   "id": "veterinary-collect",
   "metadata": {},
   "outputs": [],
   "source": [
    "from IPython.display import Image"
   ]
  },
  {
   "cell_type": "code",
   "execution_count": 19,
   "id": "broad-portable",
   "metadata": {},
   "outputs": [
    {
     "data": {
      "image/jpeg": "[encoded data removed]",
      "text/plain": [
       "<IPython.core.display.Image object>"
      ]
     },
     "execution_count": 19,
     "metadata": {},
     "output_type": "execute_result"
    }
   ],
   "source": [
    "Image(PATH+'augm/rsp_0_1053.jpeg')\n",
    "Image(PATH+'augm/rsp_0_1438.jpeg')"
   ]
  },
  {
   "cell_type": "code",
   "execution_count": 324,
   "id": "computational-meter",
   "metadata": {},
   "outputs": [],
   "source": [
    "import keras_tuner as kt"
   ]
  },
  {
   "cell_type": "code",
   "execution_count": 321,
   "id": "regulation-trainer",
   "metadata": {},
   "outputs": [
    {
     "ename": "SyntaxError",
     "evalue": "invalid syntax (<ipython-input-321-6ac188b74f68>, line 29)",
     "output_type": "error",
     "traceback": [
      "\u001b[0;36m  File \u001b[0;32m\"<ipython-input-321-6ac188b74f68>\"\u001b[0;36m, line \u001b[0;32m29\u001b[0m\n\u001b[0;31m    tuner = Tuner(model_fn, 'val_accuracy' epoch_budget=500, max_epochs=5)\u001b[0m\n\u001b[0m                                                      ^\u001b[0m\n\u001b[0;31mSyntaxError\u001b[0m\u001b[0;31m:\u001b[0m invalid syntax\n"
     ]
    }
   ],
   "source": [
    "LR = Choice('learning_rate', [0.001, 0.0005, 0.0001], group='optimizer')\n",
    "DROPOUT_RATE = Linear('dropout_rate', 0.0, 0.5, 5, group='dense')\n",
    "NUM_DIMS = Range('num_dims', 8, 32, 8, group='dense')\n",
    "NUM_LAYERS = Range('num_layers', 1, 3, group='dense')\n",
    "L2_NUM_FILTERS = Range('l2_num_filters', 8, 64, 8, group='cnn')\n",
    "L1_NUM_FILTERS = Range('l1_num_filters', 8, 64, 8, group='cnn')\n",
    "\n",
    "def model_fn():\n",
    "\n",
    "    LR = Choice('learning_rate', [0.001, 0.0005, 0.0001], group='optimizer')\n",
    "    DROPOUT_RATE = Linear('dropout_rate', 0.0, 0.5, 5, group='dense')\n",
    "    NUM_DIMS = Range('num_dims', 8, 32, 8, group='dense')\n",
    "    NUM_LAYERS = Range('num_layers', 1, 3, group='dense')\n",
    "    L2_NUM_FILTERS = Range('l2_num_filters', 8, 64, 8, group='cnn')\n",
    "    L1_NUM_FILTERS = Range('l1_num_filters', 8, 64, 8, group='cnn')\n",
    "\n",
    "    model = Sequential()\n",
    "    model.add(Conv2D(L1_NUM_FILTERS, kernel_size=(3, 3), activation='relu'))\n",
    "    model.add(Conv2D(L2_NUM_FILTERS, kernel_size=(3, 3), activation='relu'))\n",
    "    model.add(Flatten())\n",
    "    for _ in range(NUM_LAYERS):\n",
    "        model.add(Dense(NUM_DIMS, activation='relu'))\n",
    "        model.add(Dropout(DROPOUT_RATE))\n",
    "    model.add(Dense(10, activation='softmax'))\n",
    "    model.compile(loss='categorical_crossentropy', optimizer=Adam(LR))\n",
    "\n",
    "    return model\n",
    "\n",
    "tuner = Tuner(model_fn, 'val_accuracy' epoch_budget=500, max_epochs=5)\n",
    "tuner.search(train_data,validation_data=validation_data)"
   ]
  },
  {
   "cell_type": "code",
   "execution_count": 314,
   "id": "structured-deviation",
   "metadata": {},
   "outputs": [
    {
     "name": "stdout",
     "output_type": "stream",
     "text": [
      "Epoch 1/10\n",
      "42/42 [==============================] - 1s 4ms/step - loss: 1.0760 - accuracy: 0.4080\n",
      "Epoch 2/10\n",
      "42/42 [==============================] - 0s 4ms/step - loss: 0.9369 - accuracy: 0.5552\n",
      "Epoch 3/10\n",
      "42/42 [==============================] - 0s 4ms/step - loss: 0.6901 - accuracy: 0.6984\n",
      "Epoch 4/10\n",
      "42/42 [==============================] - 0s 4ms/step - loss: 0.3607 - accuracy: 0.8720\n",
      "Epoch 5/10\n",
      "42/42 [==============================] - 0s 4ms/step - loss: 0.2500 - accuracy: 0.9098\n",
      "Epoch 6/10\n",
      "42/42 [==============================] - 0s 4ms/step - loss: 0.2545 - accuracy: 0.9154\n",
      "Epoch 7/10\n",
      "42/42 [==============================] - 0s 4ms/step - loss: 0.1134 - accuracy: 0.9617\n",
      "Epoch 8/10\n",
      "42/42 [==============================] - 0s 4ms/step - loss: 0.1081 - accuracy: 0.9660\n",
      "Epoch 9/10\n",
      "42/42 [==============================] - 0s 4ms/step - loss: 0.0794 - accuracy: 0.9740\n",
      "Epoch 10/10\n",
      "42/42 [==============================] - 0s 4ms/step - loss: 0.0563 - accuracy: 0.9843\n"
     ]
    },
    {
     "data": {
      "text/plain": [
       "<tensorflow.python.keras.callbacks.History at 0x7f4465ecb7d0>"
      ]
     },
     "execution_count": 314,
     "metadata": {},
     "output_type": "execute_result"
    }
   ],
   "source": [
    "n_channel_1=32\n",
    "n_channel_2=64\n",
    "n_channel_3=128\n",
    "n_dense_1=256\n",
    "n_dense_2=64\n",
    "n_train_epoch=10\n",
    "\n",
    "model=keras.models.Sequential()\n",
    "'''\n",
    "model.add(keras.layers.experimental.preprocessing.RandomFlip(\"horizontal\", \n",
    "                                                 input_shape=(28, \n",
    "                                                              28,\n",
    "                                                              3)))\n",
    "'''\n",
    "#model.add(keras.layers.experimental.preprocessing.RandomRotation(0.1))\n",
    "#model.add(keras.layers.experimental.preprocessing.RandomZoom(0.1))|\n",
    "#model.add(keras.layers.experimental.preprocessing.Rescaling(1./255))\n",
    "model.add(keras.layers.Conv2D(n_channel_1, (3,3), activation='relu', input_shape=(28,28,3)))\n",
    "model.add(keras.layers.MaxPool2D(2,2))\n",
    "model.add(keras.layers.Conv2D(n_channel_2, (3,3), activation='relu'))\n",
    "model.add(keras.layers.MaxPooling2D((2,2)))\n",
    "#model.add(keras.layers.Dropout(0.3))\n",
    "model.add(keras.layers.Conv2D(n_channel_3, (3,3), activation='relu'))\n",
    "model.add(keras.layers.MaxPooling2D((2,2)))\n",
    "model.add(keras.layers.Flatten())\n",
    "#model.add(keras.layers.Dense(n_dense_1, activation='relu'))\n",
    "model.add(keras.layers.Dense(n_dense_2, activation='relu'))\n",
    "model.add(keras.layers.Dropout(0.3))\n",
    "model.add(keras.layers.Dense(3, activation='softmax'))\n",
    "                                  \n",
    "model.compile(optimizer='adam',\n",
    "             loss='sparse_categorical_crossentropy',\n",
    "             metrics=['accuracy'])\n",
    "\n",
    "model.fit(x_train_norm, y_train, epochs=n_train_epoch)"
   ]
  },
  {
   "cell_type": "code",
   "execution_count": 315,
   "id": "aerial-mistress",
   "metadata": {},
   "outputs": [
    {
     "name": "stdout",
     "output_type": "stream",
     "text": [
      "10/10 - 0s - loss: 1.0918 - accuracy: 0.5767\n",
      "test_loss: 1.0918492078781128 \n",
      "test_accuracy: 0.5766666531562805\n"
     ]
    }
   ],
   "source": [
    "test_loss, test_accuracy = model.evaluate(x_test_norm ,y_test, verbose=2)\n",
    "print(\"test_loss: {} \".format(test_loss))\n",
    "print(\"test_accuracy: {}\".format(test_accuracy))"
   ]
  },
  {
   "cell_type": "code",
   "execution_count": 77,
   "id": "administrative-furniture",
   "metadata": {},
   "outputs": [
    {
     "name": "stdout",
     "output_type": "stream",
     "text": [
      "model.predict() 결과 :  [0.50178736 0.14923769 0.34897497]\n",
      "model이 추론한 가장 가능성이 높은 결과 :  0\n",
      "실제 데이터의 라벨 :  1\n"
     ]
    }
   ],
   "source": [
    "predicted_result = model.predict(x_test_norm)  # model이 추론한 확률값. \n",
    "predicted_labels = np.argmax(predicted_result, axis=1)\n",
    "\n",
    "idx=140  #1번째 x_test를 살펴보자. \n",
    "print('model.predict() 결과 : ', predicted_result[idx])\n",
    "print('model이 추론한 가장 가능성이 높은 결과 : ', predicted_labels[idx])\n",
    "print('실제 데이터의 라벨 : ', y_test[idx])"
   ]
  },
  {
   "cell_type": "code",
   "execution_count": 298,
   "id": "technical-comparative",
   "metadata": {},
   "outputs": [],
   "source": [
    "import matplotlib.pyplot as plt"
   ]
  },
  {
   "cell_type": "code",
   "execution_count": 299,
   "id": "compressed-mayor",
   "metadata": {},
   "outputs": [
    {
     "data": {
      "image/png": "[encoded data removed]",
      "text/plain": [
       "<Figure size 432x288 with 1 Axes>"
      ]
     },
     "metadata": {
      "needs_background": "light"
     },
     "output_type": "display_data"
    }
   ],
   "source": [
    "plt.imshow(x_test[idx],cmap=plt.cm.binary)\n",
    "plt.show()"
   ]
  },
  {
   "cell_type": "code",
   "execution_count": 300,
   "id": "lovely-regard",
   "metadata": {},
   "outputs": [
    {
     "name": "stdout",
     "output_type": "stream",
     "text": [
      "예측확률분포: [0.31061956 0.14052121 0.54885924]\n",
      "라벨: 0, 예측결과: 2\n"
     ]
    },
    {
     "data": {
      "image/png": "[encoded data removed]",
      "text/plain": [
       "<Figure size 432x288 with 1 Axes>"
      ]
     },
     "metadata": {
      "needs_background": "light"
     },
     "output_type": "display_data"
    },
    {
     "name": "stdout",
     "output_type": "stream",
     "text": [
      "예측확률분포: [0.38883096 0.1346464  0.47652256]\n",
      "라벨: 1, 예측결과: 2\n"
     ]
    },
    {
     "data": {
      "image/png": "[encoded data removed]",
      "text/plain": [
       "<Figure size 432x288 with 1 Axes>"
      ]
     },
     "metadata": {
      "needs_background": "light"
     },
     "output_type": "display_data"
    },
    {
     "name": "stdout",
     "output_type": "stream",
     "text": [
      "예측확률분포: [0.3886292  0.14101279 0.47035804]\n",
      "라벨: 1, 예측결과: 2\n"
     ]
    },
    {
     "data": {
      "image/png": "[encoded data removed]",
      "text/plain": [
       "<Figure size 432x288 with 1 Axes>"
      ]
     },
     "metadata": {
      "needs_background": "light"
     },
     "output_type": "display_data"
    },
    {
     "name": "stdout",
     "output_type": "stream",
     "text": [
      "예측확률분포: [0.47441453 0.08429246 0.44129303]\n",
      "라벨: 1, 예측결과: 0\n"
     ]
    },
    {
     "data": {
      "image/png": "[encoded data removed]",
      "text/plain": [
       "<Figure size 432x288 with 1 Axes>"
      ]
     },
     "metadata": {
      "needs_background": "light"
     },
     "output_type": "display_data"
    },
    {
     "name": "stdout",
     "output_type": "stream",
     "text": [
      "예측확률분포: [0.39041382 0.12477213 0.48481402]\n",
      "라벨: 1, 예측결과: 2\n"
     ]
    },
    {
     "data": {
      "image/png": "[encoded data removed]",
      "text/plain": [
       "<Figure size 432x288 with 1 Axes>"
      ]
     },
     "metadata": {
      "needs_background": "light"
     },
     "output_type": "display_data"
    }
   ],
   "source": [
    "import random\n",
    "wrong_predict_list=[]\n",
    "for i, _ in enumerate(predicted_labels):\n",
    "    # i번째 test_labels과 y_test이 다른 경우만 모아 봅시다. \n",
    "    if predicted_labels[i] != y_test[i]:\n",
    "        wrong_predict_list.append(i)\n",
    "\n",
    "# wrong_predict_list 에서 랜덤하게 5개만 뽑아봅시다.\n",
    "samples = random.choices(population=wrong_predict_list, k=5)\n",
    "\n",
    "for n in samples:\n",
    "    print(\"예측확률분포: \" + str(predicted_result[n]))\n",
    "    print(\"라벨: \" + str(y_test[n]) + \", 예측결과: \" + str(predicted_labels[n]))\n",
    "    plt.imshow(x_test[n], cmap=plt.cm.binary)\n",
    "    plt.show()"
   ]
  },
  {
   "cell_type": "markdown",
   "id": "exotic-reporter",
   "metadata": {},
   "source": [
    "# 더 좋은 모델 만들기\n",
    "\n",
    "지금의 모델은 엉망 진창이다... 개선사항들을 적어보자\n",
    "\n",
    "1. 데이터셋을 다양한 사람들 것을 섞는다.\n",
    "2. 하이퍼파라미터를 조정해보자\n",
    "3. 이미지가 너무 불분명하다. resize가 잘못된건 아닌지 확인해보고, 28*28에서 더 늘려보자"
   ]
  },
  {
   "cell_type": "markdown",
   "id": "based-blake",
   "metadata": {},
   "source": [
    "baseline_model = keras.Sequential([\n",
    "    # `.summary` 메서드 때문에 `input_shape`가 필요합니다\n",
    "    keras.layers.experimental.preprocessing.RandomFlip(\"horizontal\", \n",
    "                                                 input_shape=(28, \n",
    "                                                              28,\n",
    "                                                              3)),\n",
    "    keras.layers.experimental.preprocessing.RandomRotation(0.1),\n",
    "    keras.layers.experimental.preprocessing.RandomZoom(0.1),\n",
    "    keras.layers.experimental.preprocessing.Rescaling(1./255),\n",
    "    keras.layers.Conv2D(16, 3, padding='same', activation='relu'),\n",
    "    keras.layers.MaxPooling2D(),\n",
    "    keras.layers.Conv2D(32, 3, padding='same', activation='relu'),\n",
    "    keras.layers.MaxPooling2D(),\n",
    "    keras.layers.Conv2D(64, 3, padding='same', activation='relu'),\n",
    "    keras.layers.Dropout(0.2),\n",
    "    keras.layers.Flatten(),\n",
    "    keras.layers.Dense(128, activation='relu'),\n",
    "    keras.layers.Dense(3, activation='softmax')\n",
    "])\n",
    "\n",
    "baseline_model.compile(optimizer='adam',\n",
    "                       loss='sparse_categorical_crossentropy',\n",
    "                       metrics=['accuracy'])\n",
    "\n",
    "\n",
    "\n",
    "baseline_history = baseline_model.fit(x_train_norm, y_train, epochs=30,\n",
    "                                      batch_size=512,\n",
    "                                      #validation_data=(test_data, test_labels),\n",
    "                                      verbose=2)\n",
    "\n",
    "baseline_model.summary()\n"
   ]
  },
  {
   "cell_type": "markdown",
   "id": "designing-brighton",
   "metadata": {},
   "source": [
    "smaller_model = keras.Sequential([\n",
    "    # `.summary` 메서드 때문에 `input_shape`가 필요합니다\n",
    "    keras.layers.Flatten(),\n",
    "    keras.layers.Dense(4, activation='relu', input_shape=(28,28,3)),\n",
    "    keras.layers.Dense(4, activation='relu'),\n",
    "    keras.layers.Dense(3, activation='softmax')\n",
    "])\n",
    "\n",
    "smaller_model.compile(optimizer='adam',\n",
    "                       loss='sparse_categorical_crossentropy',\n",
    "                       metrics=['accuracy'])\n",
    "\n",
    "#baseline_model.summary()\n",
    "\n",
    "\n",
    "smaller_history = baseline_model.fit(x_train_norm, y_train, epochs=30,\n",
    "                                      batch_size=512,\n",
    "                                      #validation_data=(test_data, test_labels),\n",
    "                                      verbose=2)"
   ]
  },
  {
   "cell_type": "markdown",
   "id": "english-houston",
   "metadata": {},
   "source": []
  },
  {
   "cell_type": "markdown",
   "id": "judicial-weekly",
   "metadata": {},
   "source": [
    "bigger_model = keras.Sequential([\n",
    "    # `.summary` 메서드 때문에 `input_shape`가 필요합니다\n",
    "    keras.layers.Flatten(),\n",
    "    keras.layers.Dense(512, activation='relu', input_shape=(28,28,3)),\n",
    "    keras.layers.Dense(512, activation='relu'),\n",
    "    keras.layers.Dense(3, activation='softmax')\n",
    "])\n",
    "\n",
    "bigger_model.compile(optimizer='adam',\n",
    "                       loss='sparse_categorical_crossentropy',\n",
    "                       metrics=['accuracy'])\n",
    "\n",
    "#baseline_model.summary()\n",
    "\n",
    "\n",
    "bigger_history = baseline_model.fit(x_train_norm, y_train, epochs=30,\n",
    "                                      batch_size=512,\n",
    "                                      #validation_data=(test_data, test_labels),\n",
    "                                      verbose=2)"
   ]
  },
  {
   "cell_type": "markdown",
   "id": "surgical-persian",
   "metadata": {},
   "source": [
    "def plot_history(histories, key='sparse_categorical_crossentropy'):\n",
    "  plt.figure(figsize=(16,10))\n",
    "\n",
    "  for name, history in histories:\n",
    "    val = plt.plot(history.epoch, history.history['val_'+key],\n",
    "                   '--', label=name.title()+' Val')\n",
    "    plt.plot(history.epoch, history.history[key], color=val[0].get_color(),\n",
    "             label=name.title()+' Train')\n",
    "\n",
    "  plt.xlabel('Epochs')\n",
    "  plt.ylabel(key.replace('_',' ').title())\n",
    "  plt.legend()\n",
    "\n",
    "  plt.xlim([0,max(history.epoch)])\n",
    "\n",
    "\n",
    "plot_history([('baseline', baseline_history),\n",
    "              ('smaller', smaller_history),\n",
    "              ('bigger', bigger_history)])\n"
   ]
  },
  {
   "cell_type": "markdown",
   "id": "conventional-arctic",
   "metadata": {},
   "source": [
    "# 내가 생각한 성능 높이는 방법\n",
    "\n",
    "1. dataset 크기 늘리기\n",
    "2. train과 test 데이터 조건 비슷하게!\n",
    "    - train은 배경 없는 주먹 가위 보 데이터, test는 여러사람들걸로 구성해서 평가받아보자\n",
    "3. data augumentaion 기법 상용\n",
    "4. dropout과 L2규제 사용하기\n",
    "5. layer를 늘리기\n",
    "\n",
    "# 궁금증\n",
    "1. data augumentation 을 시도했을때 성능이 급격히 나빠지는 이슈가 생김\n",
    "2. dropout과 L2규제를 사용해서 오버피팅문제 해결하지 못함\n",
    "3. train, valid, test 다 다른 조건인게 좋나?"
   ]
  }
 ],
 "metadata": {
  "kernelspec": {
   "display_name": "Python 3",
   "language": "python",
   "name": "python3"
  },
  "language_info": {
   "codemirror_mode": {
    "name": "ipython",
    "version": 3
   },
   "file_extension": ".py",
   "mimetype": "text/x-python",
   "name": "python",
   "nbconvert_exporter": "python",
   "pygments_lexer": "ipython3",
   "version": "3.7.9"
  }
 },
 "nbformat": 4,
 "nbformat_minor": 5
}
