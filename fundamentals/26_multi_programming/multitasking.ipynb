{
 "cells": [
  {
   "cell_type": "markdown",
   "metadata": {},
   "source": [
    "### Check PID, UID, GID, Current Directory"
   ]
  },
  {
   "cell_type": "code",
   "execution_count": 3,
   "metadata": {},
   "outputs": [
    {
     "name": "stdout",
     "output_type": "stream",
     "text": [
      "process ID: 29\n",
      "user ID: 0\n",
      "group ID: 0\n",
      "current Directory: /aiffel\n"
     ]
    }
   ],
   "source": [
    "import os\n",
    "\n",
    "# process ID\n",
    "print(\"process ID:\", os.getpid())\n",
    "\n",
    "# user ID\n",
    "print(\"user ID:\", os.getuid())\n",
    "\n",
    "# group ID\n",
    "print(\"group ID:\", os.getgid())\n",
    "\n",
    "# 현재 작업중인 디렉토리\n",
    "print(\"current Directory:\", os.getcwd())"
   ]
  },
  {
   "cell_type": "markdown",
   "metadata": {},
   "source": [
    "### Profiling"
   ]
  },
  {
   "cell_type": "code",
   "execution_count": 4,
   "metadata": {},
   "outputs": [
    {
     "name": "stdout",
     "output_type": "stream",
     "text": [
      "set               : 2.091982064768672 [ms]\n",
      "list              : 1.0119573483243585 [ms]\n",
      "tuple             : 0.9272339548915625 [ms]\n",
      "string            : 0.6220739958807826 [ms]\n",
      "set_add           : 7.170860071666539 [ms]\n",
      "list_append       : 6.074421318247914 [ms]\n",
      "set_comprehension : 7.138095056638122 [ms]\n",
      "list_comprehension: 6.113303780555725 [ms]\n"
     ]
    }
   ],
   "source": [
    "import timeit\n",
    "        \n",
    "def f1():\n",
    "    s = set(range(100))\n",
    "\n",
    "    \n",
    "def f2():\n",
    "    l = list(range(100))\n",
    "\n",
    "    \n",
    "def f3():\n",
    "    t = tuple(range(100))\n",
    "\n",
    "\n",
    "def f4():\n",
    "    s = str(range(100))\n",
    "\n",
    "    \n",
    "def f5():\n",
    "    s = set()\n",
    "    for i in range(100):\n",
    "        s.add(i)\n",
    "\n",
    "def f6():\n",
    "    l = []\n",
    "    for i in range(100):\n",
    "        l.append(i)\n",
    "    \n",
    "def f7():\n",
    "    s_comp = {i for i in range(100)}\n",
    "\n",
    "    \n",
    "def f8():\n",
    "    l_comp = [i for i in range(100)]\n",
    "    \n",
    "\n",
    "if __name__ == \"__main__\":\n",
    "    t1 = timeit.Timer(\"f1()\", \"from __main__ import f1\")\n",
    "    t2 = timeit.Timer(\"f2()\", \"from __main__ import f2\")\n",
    "    t3 = timeit.Timer(\"f3()\", \"from __main__ import f3\")\n",
    "    t4 = timeit.Timer(\"f4()\", \"from __main__ import f4\")\n",
    "    t5 = timeit.Timer(\"f5()\", \"from __main__ import f5\")\n",
    "    t6 = timeit.Timer(\"f6()\", \"from __main__ import f6\")\n",
    "    t7 = timeit.Timer(\"f7()\", \"from __main__ import f7\")\n",
    "    t8 = timeit.Timer(\"f8()\", \"from __main__ import f8\")\n",
    "    print(\"set               :\", t1.timeit(), '[ms]')\n",
    "    print(\"list              :\", t2.timeit(), '[ms]')\n",
    "    print(\"tuple             :\", t3.timeit(), '[ms]')\n",
    "    print(\"string            :\", t4.timeit(), '[ms]')\n",
    "    print(\"set_add           :\", t5.timeit(), '[ms]')\n",
    "    print(\"list_append       :\", t6.timeit(), '[ms]')\n",
    "    print(\"set_comprehension :\", t5.timeit(), '[ms]')\n",
    "    print(\"list_comprehension:\", t6.timeit(), '[ms]')"
   ]
  },
  {
   "cell_type": "markdown",
   "metadata": {},
   "source": [
    "### Procedual"
   ]
  },
  {
   "cell_type": "code",
   "execution_count": 5,
   "metadata": {},
   "outputs": [
    {
     "name": "stdout",
     "output_type": "stream",
     "text": [
      "delivery\n",
      "Retriving Dish\n"
     ]
    }
   ],
   "source": [
    "class Delivery:\n",
    "\tdef run(self):\n",
    "\t\tprint(\"delivery\")\n",
    "\n",
    "class RetriveDish:\n",
    "\tdef run(self):\n",
    "\t\tprint(\"Retriving Dish\")\t\t\t\t\t\t\t\n",
    "\n",
    "work1 = Delivery()\n",
    "work2 = RetriveDish()\n",
    "\n",
    "def main():\n",
    "\twork1.run()\n",
    "\twork2.run()\n",
    "\n",
    "if __name__ == '__main__':\n",
    "    main()"
   ]
  },
  {
   "cell_type": "markdown",
   "metadata": {},
   "source": [
    "### Multithreading"
   ]
  },
  {
   "cell_type": "code",
   "execution_count": 14,
   "metadata": {},
   "outputs": [
    {
     "name": "stdout",
     "output_type": "stream",
     "text": [
      "delivery\n",
      "Retriving Dish\n"
     ]
    }
   ],
   "source": [
    "from threading import *\n",
    "\n",
    "class Delivery(Thread):\n",
    "\tdef run(self):\n",
    "\t\tprint(\"delivery\")\n",
    "\n",
    "class RetriveDish(Thread):\n",
    "\tdef run(self):\n",
    "\t\tprint(\"Retriving Dish\")\n",
    "\n",
    "work1 = Delivery()\n",
    "work2 = RetriveDish()\n",
    "\n",
    "def main():\n",
    "\twork1.run()\n",
    "\twork2.run()\n",
    "\n",
    "if __name__ == '__main__':\n",
    "    main()"
   ]
  },
  {
   "cell_type": "markdown",
   "metadata": {},
   "source": [
    "### Check thread creating"
   ]
  },
  {
   "cell_type": "code",
   "execution_count": 15,
   "metadata": {},
   "outputs": [
    {
     "name": "stdout",
     "output_type": "stream",
     "text": [
      "<bound method Delivery.run of <__main__.Delivery object at 0x7f1cb4dd1310>>\n",
      "<bound method Delivery.run of <Delivery(Thread-6, initial)>>\n"
     ]
    }
   ],
   "source": [
    "from threading import *\n",
    "\n",
    "class Delivery:\n",
    "    def run(self):\n",
    "        print(\"delivering\")\n",
    "\n",
    "work1 = Delivery()\n",
    "print(work1.run)\n",
    "\n",
    "class Delivery(Thread):\n",
    "    def run(self):\n",
    "        print(\"delivering\")\n",
    "\n",
    "work2 = Delivery()\n",
    "print(work2.run)"
   ]
  },
  {
   "cell_type": "code",
   "execution_count": 19,
   "metadata": {},
   "outputs": [
    {
     "name": "stdout",
     "output_type": "stream",
     "text": [
      "do  Overwork\n"
     ]
    }
   ],
   "source": [
    "from threading import *\n",
    "from time import sleep\n",
    "\n",
    "Stopped = False\n",
    "\n",
    "def worker(work, sleep_sec):    # 일꾼 스레드입니다.\n",
    "    while not Stopped:          # 그만 하라고 할때까지\n",
    "        print('do ', work)      # 시키는 일을 하고\n",
    "        sleep(sleep_sec)        # 잠깐 쉽니다.\n",
    "    print('retired..')          # 언젠가 이 굴레를 벗어나면, 은퇴할 때가 오겠지요?\n",
    "        \n",
    "t = Thread(target=worker, args=('Overwork', 3))    # 일꾼 스레드를 하나 생성합니다. 열심히 일하고 3초간 쉽니다.\n",
    "t.start()    # 일꾼, 이제 일을 해야지? 😈"
   ]
  },
  {
   "cell_type": "code",
   "execution_count": 22,
   "metadata": {},
   "outputs": [
    {
     "name": "stdout",
     "output_type": "stream",
     "text": [
      "worker is gone.\n"
     ]
    }
   ],
   "source": [
    "# 이 코드 블럭을 실행하기 전까지는 일꾼 스레드는 종료하지 않습니다. \n",
    "Stopped = True    # 일꾼 일 그만하라고 세팅해 줍시다. \n",
    "t.join()          # 일꾼 스레드가 종료할때까지 기다립니다. \n",
    "print('worker is gone.')"
   ]
  },
  {
   "cell_type": "code",
   "execution_count": 25,
   "metadata": {},
   "outputs": [],
   "source": [
    "import multiprocessing as mp\n",
    "\n",
    "def delivery():\n",
    "    print('delivering...')\n",
    "\n",
    "#p = mp.Process(target=delivery, args=())\n",
    "#p.start()"
   ]
  },
  {
   "cell_type": "code",
   "execution_count": 26,
   "metadata": {},
   "outputs": [
    {
     "name": "stdout",
     "output_type": "stream",
     "text": [
      "delivering...\n"
     ]
    }
   ],
   "source": [
    "p = mp.Process(target=delivery, args=())\n",
    "p.start() # 프로세스 시작\n",
    "p.join() # 실제 종료까지 기다림 (필요시에만 사용)\n",
    "p.terminate() # 프로세스 종료"
   ]
  },
  {
   "cell_type": "code",
   "execution_count": 28,
   "metadata": {},
   "outputs": [
    {
     "name": "stdout",
     "output_type": "stream",
     "text": [
      "delivering\n"
     ]
    }
   ],
   "source": [
    "from concurrent.futures import ThreadPoolExecutor\n",
    "\n",
    "class Delivery:\n",
    "    def run(self):\n",
    "        print(\"delivering\")\n",
    "w = Delivery()\n",
    "\n",
    "with ThreadPoolExecutor() as executor:\n",
    "    future = executor.submit(w.run)"
   ]
  },
  {
   "cell_type": "code",
   "execution_count": 29,
   "metadata": {},
   "outputs": [
    {
     "name": "stdout",
     "output_type": "stream",
     "text": [
      "I'm processing I'm processing I'm processing I'm processing  533  531\n",
      " 532\n",
      "I'm processing  \n",
      "531530\n",
      "\n",
      "[2, 4, 6, 8, 10]\n"
     ]
    }
   ],
   "source": [
    "from multiprocessing import Pool\n",
    "from os import getpid\n",
    "\n",
    "def double(i):\n",
    "    print(\"I'm processing \", getpid())    # pool 안에서 이 메소드가 실행될 때 pid를 확인해 봅시다.\n",
    "    return i * 2\n",
    "\n",
    "with Pool() as pool:\n",
    "      result = pool.map(double, [1, 2, 3, 4, 5])\n",
    "      print(result)"
   ]
  },
  {
   "cell_type": "code",
   "execution_count": null,
   "metadata": {},
   "outputs": [],
   "source": []
  }
 ],
 "metadata": {
  "interpreter": {
   "hash": "392f141e95f6d210b85fee77cfa7dc506ba0040fd5abc0e8f1f34b655a3af7c0"
  },
  "kernelspec": {
   "display_name": "Python 3",
   "language": "python",
   "name": "python3"
  },
  "language_info": {
   "codemirror_mode": {
    "name": "ipython",
    "version": 3
   },
   "file_extension": ".py",
   "mimetype": "text/x-python",
   "name": "python",
   "nbconvert_exporter": "python",
   "pygments_lexer": "ipython3",
   "version": "3.7.9"
  },
  "orig_nbformat": 4
 },
 "nbformat": 4,
 "nbformat_minor": 2
}
